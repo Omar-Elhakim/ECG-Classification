{
 "cells": [
  {
   "cell_type": "markdown",
   "id": "33e80f5f",
   "metadata": {
    "papermill": {
     "duration": 0.007629,
     "end_time": "2024-12-22T18:17:10.479897",
     "exception": false,
     "start_time": "2024-12-22T18:17:10.472268",
     "status": "completed"
    },
    "tags": []
   },
   "source": [
    "* Imports and definitions"
   ]
  },
  {
   "cell_type": "code",
   "execution_count": 1,
   "id": "867fbf6d",
   "metadata": {
    "execution": {
     "iopub.execute_input": "2024-12-22T18:17:10.495240Z",
     "iopub.status.busy": "2024-12-22T18:17:10.494899Z",
     "iopub.status.idle": "2024-12-22T18:17:12.881695Z",
     "shell.execute_reply": "2024-12-22T18:17:12.880657Z"
    },
    "papermill": {
     "duration": 2.396494,
     "end_time": "2024-12-22T18:17:12.883672",
     "exception": false,
     "start_time": "2024-12-22T18:17:10.487178",
     "status": "completed"
    },
    "tags": []
   },
   "outputs": [],
   "source": [
    "import plotly.graph_objects as go\n",
    "from scipy import *\n",
    "import numpy as np\n",
    "import pywt\n",
    "import pandas as pd\n",
    "from sklearn.utils import shuffle\n",
    "from sklearn.neighbors import KNeighborsClassifier\n",
    "from sklearn.metrics import accuracy_score, classification_report, confusion_matrix, ConfusionMatrixDisplay\n",
    "\n",
    "\n",
    "samplingRate = 360  # Hz (given in the doc)"
   ]
  },
  {
   "cell_type": "code",
   "execution_count": 2,
   "id": "a31ee98f",
   "metadata": {
    "execution": {
     "iopub.execute_input": "2024-12-22T18:17:12.899724Z",
     "iopub.status.busy": "2024-12-22T18:17:12.899204Z",
     "iopub.status.idle": "2024-12-22T18:17:12.904887Z",
     "shell.execute_reply": "2024-12-22T18:17:12.903973Z"
    },
    "papermill": {
     "duration": 0.015638,
     "end_time": "2024-12-22T18:17:12.906496",
     "exception": false,
     "start_time": "2024-12-22T18:17:12.890858",
     "status": "completed"
    },
    "tags": []
   },
   "outputs": [],
   "source": [
    "def draw(amplitudes, indices=None):\n",
    "    if type(indices) == \"list\":  # if we have certain indices or not\n",
    "        fig_cont = go.Figure()\n",
    "        fig_cont.add_trace(\n",
    "            go.Scatter(x=indices, y=amplitudes, mode=\"lines\", name=\"Continuous Signal\")\n",
    "        )\n",
    "    else:\n",
    "        fig_cont = go.Figure()\n",
    "        fig_cont.add_trace(\n",
    "            go.Scatter(y=amplitudes, mode=\"lines\", name=\"Continuous Signal\")\n",
    "        )\n",
    "    fig_cont.update_layout(\n",
    "        title=\"Continuous Signal\",\n",
    "        xaxis_title=\"Index\",\n",
    "        yaxis_title=\"Amplitude\",\n",
    "        width=1000,\n",
    "        height=500,\n",
    "    )\n",
    "\n",
    "    fig_cont.show()  # For notebooks"
   ]
  },
  {
   "cell_type": "code",
   "execution_count": 3,
   "id": "fc48770e",
   "metadata": {
    "execution": {
     "iopub.execute_input": "2024-12-22T18:17:12.921866Z",
     "iopub.status.busy": "2024-12-22T18:17:12.921450Z",
     "iopub.status.idle": "2024-12-22T18:17:12.926485Z",
     "shell.execute_reply": "2024-12-22T18:17:12.925565Z"
    },
    "papermill": {
     "duration": 0.014618,
     "end_time": "2024-12-22T18:17:12.928372",
     "exception": false,
     "start_time": "2024-12-22T18:17:12.913754",
     "status": "completed"
    },
    "tags": []
   },
   "outputs": [],
   "source": [
    "# HB means HeartBeat\n",
    "def readHB(fileName):\n",
    "    signals = []\n",
    "    with open(fileName) as l:\n",
    "        line = l.readline()\n",
    "        while line:\n",
    "            signal = line.split(\"|\")\n",
    "            signals.append([float(value) for value in signal[:-1]])\n",
    "            line = l.readline()\n",
    "    return signals"
   ]
  },
  {
   "cell_type": "code",
   "execution_count": 4,
   "id": "fdb07080",
   "metadata": {
    "execution": {
     "iopub.execute_input": "2024-12-22T18:17:12.943946Z",
     "iopub.status.busy": "2024-12-22T18:17:12.943505Z",
     "iopub.status.idle": "2024-12-22T18:17:12.947597Z",
     "shell.execute_reply": "2024-12-22T18:17:12.946639Z"
    },
    "papermill": {
     "duration": 0.014034,
     "end_time": "2024-12-22T18:17:12.949398",
     "exception": false,
     "start_time": "2024-12-22T18:17:12.935364",
     "status": "completed"
    },
    "tags": []
   },
   "outputs": [],
   "source": [
    "dirPath = \"/kaggle/input/ecg-signals/Data\""
   ]
  },
  {
   "cell_type": "code",
   "execution_count": 5,
   "id": "7c448fab",
   "metadata": {
    "execution": {
     "iopub.execute_input": "2024-12-22T18:17:12.965231Z",
     "iopub.status.busy": "2024-12-22T18:17:12.964808Z",
     "iopub.status.idle": "2024-12-22T18:17:13.003214Z",
     "shell.execute_reply": "2024-12-22T18:17:13.001661Z"
    },
    "papermill": {
     "duration": 0.048669,
     "end_time": "2024-12-22T18:17:13.005434",
     "exception": false,
     "start_time": "2024-12-22T18:17:12.956765",
     "status": "completed"
    },
    "tags": []
   },
   "outputs": [],
   "source": [
    "healthySignals = readHB(f\"{dirPath}/Normal_Train.txt\")"
   ]
  },
  {
   "cell_type": "code",
   "execution_count": 6,
   "id": "c0334386",
   "metadata": {
    "execution": {
     "iopub.execute_input": "2024-12-22T18:17:13.021634Z",
     "iopub.status.busy": "2024-12-22T18:17:13.021214Z",
     "iopub.status.idle": "2024-12-22T18:17:13.053256Z",
     "shell.execute_reply": "2024-12-22T18:17:13.052129Z"
    },
    "papermill": {
     "duration": 0.042926,
     "end_time": "2024-12-22T18:17:13.055384",
     "exception": false,
     "start_time": "2024-12-22T18:17:13.012458",
     "status": "completed"
    },
    "tags": []
   },
   "outputs": [],
   "source": [
    "PVCSignals = readHB(f\"{dirPath}/PVC_Train.txt\")"
   ]
  },
  {
   "cell_type": "markdown",
   "id": "cec77857",
   "metadata": {
    "papermill": {
     "duration": 0.006517,
     "end_time": "2024-12-22T18:17:13.069156",
     "exception": false,
     "start_time": "2024-12-22T18:17:13.062639",
     "status": "completed"
    },
    "tags": []
   },
   "source": [
    "## After some investigating , I noticed the following:\n",
    "* healthySignals and PVCSignals each contain 200 signals\n",
    "* Each signal has 300 points\n",
    "* Max amplitude is 1.6692\n",
    "* Min amplitude is -2.1939"
   ]
  },
  {
   "cell_type": "code",
   "execution_count": 7,
   "id": "4c9d6548",
   "metadata": {
    "execution": {
     "iopub.execute_input": "2024-12-22T18:17:13.084032Z",
     "iopub.status.busy": "2024-12-22T18:17:13.083601Z",
     "iopub.status.idle": "2024-12-22T18:17:13.368133Z",
     "shell.execute_reply": "2024-12-22T18:17:13.367119Z"
    },
    "papermill": {
     "duration": 0.293763,
     "end_time": "2024-12-22T18:17:13.369718",
     "exception": false,
     "start_time": "2024-12-22T18:17:13.075955",
     "status": "completed"
    },
    "tags": []
   },
   "outputs": [
    {
     "data": {
      "text/html": [
       "<html>\n",
       "<head><meta charset=\"utf-8\" /></head>\n",
       "<body>\n",
       "    <div>            <script src=\"https://cdnjs.cloudflare.com/ajax/libs/mathjax/2.7.5/MathJax.js?config=TeX-AMS-MML_SVG\"></script><script type=\"text/javascript\">if (window.MathJax && window.MathJax.Hub && window.MathJax.Hub.Config) {window.MathJax.Hub.Config({SVG: {font: \"STIX-Web\"}});}</script>                <script type=\"text/javascript\">window.PlotlyConfig = {MathJaxConfig: 'local'};</script>\n",
       "        <script charset=\"utf-8\" src=\"https://cdn.plot.ly/plotly-2.35.2.min.js\"></script>                <div id=\"11b0e15a-ae79-4979-aef1-e6493fdd0880\" class=\"plotly-graph-div\" style=\"height:500px; width:1000px;\"></div>            <script type=\"text/javascript\">                                    window.PLOTLYENV=window.PLOTLYENV || {};                                    if (document.getElementById(\"11b0e15a-ae79-4979-aef1-e6493fdd0880\")) {                    Plotly.newPlot(                        \"11b0e15a-ae79-4979-aef1-e6493fdd0880\",                        [{\"mode\":\"lines\",\"name\":\"Continuous Signal\",\"y\":[-0.28578,-0.28078,-0.27578,-0.27078,-0.28578,-0.29578,-0.28578,-0.28078,-0.28578,-0.27578,-0.29078,-0.30078,-0.29078,-0.27578,-0.26578,-0.26078,-0.27578,-0.28078,-0.28578,-0.28078,-0.27578,-0.27578,-0.27078,-0.28078,-0.27578,-0.26578,-0.26078,-0.27078,-0.28078,-0.28578,-0.27578,-0.26078,-0.25078,-0.24078,-0.24578,-0.25578,-0.24078,-0.25078,-0.23078,-0.25078,-0.24578,-0.23578,-0.20078,-0.16578,-0.14078,-0.10578,-0.10078,-0.10078,-0.11078,-0.11078,-0.11578,-0.12078,-0.13078,-0.13578,-0.14078,-0.14078,-0.15578,-0.16578,-0.17578,-0.20578,-0.22078,-0.23078,-0.24578,-0.26578,-0.28078,-0.29578,-0.30078,-0.28578,-0.28578,-0.28078,-0.29078,-0.30078,-0.30578,-0.29078,-0.30578,-0.32078,-0.33078,-0.34078,-0.32578,-0.32078,-0.32078,-0.31578,-0.32078,-0.32578,-0.32578,-0.34078,-0.35578,-0.37078,-0.37078,-0.35578,-0.25578,-0.065778,0.17922,0.44922,0.74922,1.0592,1.2242,1.1542,0.84922,0.49422,0.17922,-0.025778,-0.10578,-0.15578,-0.22078,-0.25578,-0.27578,-0.29078,-0.30578,-0.31078,-0.33078,-0.36578,-0.38578,-0.38578,-0.37578,-0.38078,-0.37078,-0.37578,-0.38078,-0.39078,-0.39078,-0.38578,-0.37078,-0.38578,-0.38578,-0.39078,-0.39578,-0.38578,-0.39078,-0.38578,-0.39078,-0.40078,-0.39078,-0.37078,-0.36578,-0.37578,-0.39578,-0.41578,-0.40578,-0.39078,-0.37078,-0.37578,-0.36578,-0.37578,-0.37578,-0.38078,-0.36078,-0.36078,-0.36578,-0.38078,-0.38078,-0.37078,-0.34578,-0.34578,-0.35578,-0.36578,-0.36078,-0.35078,-0.34578,-0.34078,-0.33578,-0.34578,-0.34078,-0.33078,-0.32078,-0.32078,-0.32578,-0.32078,-0.29578,-0.28078,-0.28078,-0.28578,-0.28078,-0.27078,-0.26578,-0.25078,-0.24578,-0.23578,-0.23578,-0.23078,-0.22078,-0.20078,-0.18078,-0.17078,-0.16578,-0.17078,-0.16078,-0.14578,-0.12078,-0.11078,-0.10578,-0.11578,-0.090778,-0.075778,-0.060778,-0.055778,-0.060778,-0.065778,-0.050778,-0.045778,-0.035778,-0.035778,-0.045778,-0.055778,-0.065778,-0.060778,-0.065778,-0.075778,-0.085778,-0.10578,-0.10578,-0.11078,-0.11578,-0.13578,-0.15078,-0.16578,-0.18078,-0.19078,-0.18078,-0.19078,-0.22578,-0.23078,-0.22078,-0.21078,-0.20078,-0.23078,-0.23578,-0.24578,-0.23578,-0.23078,-0.23078,-0.24078,-0.24578,-0.26078,-0.25078,-0.23078,-0.23578,-0.23578,-0.24078,-0.24578,-0.24078,-0.22578,-0.23078,-0.23078,-0.25078,-0.25578,-0.25578,-0.24578,-0.23078,-0.23578,-0.24578,-0.24578,-0.25078,-0.23078,-0.22078,-0.22078,-0.22578,-0.24078,-0.22578,-0.22578,-0.22078,-0.22078,-0.23078,-0.22578,-0.22578,-0.21078,-0.20578,-0.20078,-0.21078,-0.22078,-0.22078,-0.22078,-0.19578,-0.19578,-0.20078,-0.22078,-0.21578,-0.20578,-0.21078,-0.21078,-0.21578,-0.22578,-0.21578,-0.20578,-0.19578,-0.19578,-0.20078,-0.22578,-0.21078,-0.19078,-0.18578,-0.20078,-0.21578,-0.21078,-0.20578,-0.20078,-0.18578,-0.18578,-0.19578,-0.19578],\"type\":\"scatter\"}],                        {\"template\":{\"data\":{\"histogram2dcontour\":[{\"type\":\"histogram2dcontour\",\"colorbar\":{\"outlinewidth\":0,\"ticks\":\"\"},\"colorscale\":[[0.0,\"#0d0887\"],[0.1111111111111111,\"#46039f\"],[0.2222222222222222,\"#7201a8\"],[0.3333333333333333,\"#9c179e\"],[0.4444444444444444,\"#bd3786\"],[0.5555555555555556,\"#d8576b\"],[0.6666666666666666,\"#ed7953\"],[0.7777777777777778,\"#fb9f3a\"],[0.8888888888888888,\"#fdca26\"],[1.0,\"#f0f921\"]]}],\"choropleth\":[{\"type\":\"choropleth\",\"colorbar\":{\"outlinewidth\":0,\"ticks\":\"\"}}],\"histogram2d\":[{\"type\":\"histogram2d\",\"colorbar\":{\"outlinewidth\":0,\"ticks\":\"\"},\"colorscale\":[[0.0,\"#0d0887\"],[0.1111111111111111,\"#46039f\"],[0.2222222222222222,\"#7201a8\"],[0.3333333333333333,\"#9c179e\"],[0.4444444444444444,\"#bd3786\"],[0.5555555555555556,\"#d8576b\"],[0.6666666666666666,\"#ed7953\"],[0.7777777777777778,\"#fb9f3a\"],[0.8888888888888888,\"#fdca26\"],[1.0,\"#f0f921\"]]}],\"heatmap\":[{\"type\":\"heatmap\",\"colorbar\":{\"outlinewidth\":0,\"ticks\":\"\"},\"colorscale\":[[0.0,\"#0d0887\"],[0.1111111111111111,\"#46039f\"],[0.2222222222222222,\"#7201a8\"],[0.3333333333333333,\"#9c179e\"],[0.4444444444444444,\"#bd3786\"],[0.5555555555555556,\"#d8576b\"],[0.6666666666666666,\"#ed7953\"],[0.7777777777777778,\"#fb9f3a\"],[0.8888888888888888,\"#fdca26\"],[1.0,\"#f0f921\"]]}],\"heatmapgl\":[{\"type\":\"heatmapgl\",\"colorbar\":{\"outlinewidth\":0,\"ticks\":\"\"},\"colorscale\":[[0.0,\"#0d0887\"],[0.1111111111111111,\"#46039f\"],[0.2222222222222222,\"#7201a8\"],[0.3333333333333333,\"#9c179e\"],[0.4444444444444444,\"#bd3786\"],[0.5555555555555556,\"#d8576b\"],[0.6666666666666666,\"#ed7953\"],[0.7777777777777778,\"#fb9f3a\"],[0.8888888888888888,\"#fdca26\"],[1.0,\"#f0f921\"]]}],\"contourcarpet\":[{\"type\":\"contourcarpet\",\"colorbar\":{\"outlinewidth\":0,\"ticks\":\"\"}}],\"contour\":[{\"type\":\"contour\",\"colorbar\":{\"outlinewidth\":0,\"ticks\":\"\"},\"colorscale\":[[0.0,\"#0d0887\"],[0.1111111111111111,\"#46039f\"],[0.2222222222222222,\"#7201a8\"],[0.3333333333333333,\"#9c179e\"],[0.4444444444444444,\"#bd3786\"],[0.5555555555555556,\"#d8576b\"],[0.6666666666666666,\"#ed7953\"],[0.7777777777777778,\"#fb9f3a\"],[0.8888888888888888,\"#fdca26\"],[1.0,\"#f0f921\"]]}],\"surface\":[{\"type\":\"surface\",\"colorbar\":{\"outlinewidth\":0,\"ticks\":\"\"},\"colorscale\":[[0.0,\"#0d0887\"],[0.1111111111111111,\"#46039f\"],[0.2222222222222222,\"#7201a8\"],[0.3333333333333333,\"#9c179e\"],[0.4444444444444444,\"#bd3786\"],[0.5555555555555556,\"#d8576b\"],[0.6666666666666666,\"#ed7953\"],[0.7777777777777778,\"#fb9f3a\"],[0.8888888888888888,\"#fdca26\"],[1.0,\"#f0f921\"]]}],\"mesh3d\":[{\"type\":\"mesh3d\",\"colorbar\":{\"outlinewidth\":0,\"ticks\":\"\"}}],\"scatter\":[{\"fillpattern\":{\"fillmode\":\"overlay\",\"size\":10,\"solidity\":0.2},\"type\":\"scatter\"}],\"parcoords\":[{\"type\":\"parcoords\",\"line\":{\"colorbar\":{\"outlinewidth\":0,\"ticks\":\"\"}}}],\"scatterpolargl\":[{\"type\":\"scatterpolargl\",\"marker\":{\"colorbar\":{\"outlinewidth\":0,\"ticks\":\"\"}}}],\"bar\":[{\"error_x\":{\"color\":\"#2a3f5f\"},\"error_y\":{\"color\":\"#2a3f5f\"},\"marker\":{\"line\":{\"color\":\"#E5ECF6\",\"width\":0.5},\"pattern\":{\"fillmode\":\"overlay\",\"size\":10,\"solidity\":0.2}},\"type\":\"bar\"}],\"scattergeo\":[{\"type\":\"scattergeo\",\"marker\":{\"colorbar\":{\"outlinewidth\":0,\"ticks\":\"\"}}}],\"scatterpolar\":[{\"type\":\"scatterpolar\",\"marker\":{\"colorbar\":{\"outlinewidth\":0,\"ticks\":\"\"}}}],\"histogram\":[{\"marker\":{\"pattern\":{\"fillmode\":\"overlay\",\"size\":10,\"solidity\":0.2}},\"type\":\"histogram\"}],\"scattergl\":[{\"type\":\"scattergl\",\"marker\":{\"colorbar\":{\"outlinewidth\":0,\"ticks\":\"\"}}}],\"scatter3d\":[{\"type\":\"scatter3d\",\"line\":{\"colorbar\":{\"outlinewidth\":0,\"ticks\":\"\"}},\"marker\":{\"colorbar\":{\"outlinewidth\":0,\"ticks\":\"\"}}}],\"scattermapbox\":[{\"type\":\"scattermapbox\",\"marker\":{\"colorbar\":{\"outlinewidth\":0,\"ticks\":\"\"}}}],\"scatterternary\":[{\"type\":\"scatterternary\",\"marker\":{\"colorbar\":{\"outlinewidth\":0,\"ticks\":\"\"}}}],\"scattercarpet\":[{\"type\":\"scattercarpet\",\"marker\":{\"colorbar\":{\"outlinewidth\":0,\"ticks\":\"\"}}}],\"carpet\":[{\"aaxis\":{\"endlinecolor\":\"#2a3f5f\",\"gridcolor\":\"white\",\"linecolor\":\"white\",\"minorgridcolor\":\"white\",\"startlinecolor\":\"#2a3f5f\"},\"baxis\":{\"endlinecolor\":\"#2a3f5f\",\"gridcolor\":\"white\",\"linecolor\":\"white\",\"minorgridcolor\":\"white\",\"startlinecolor\":\"#2a3f5f\"},\"type\":\"carpet\"}],\"table\":[{\"cells\":{\"fill\":{\"color\":\"#EBF0F8\"},\"line\":{\"color\":\"white\"}},\"header\":{\"fill\":{\"color\":\"#C8D4E3\"},\"line\":{\"color\":\"white\"}},\"type\":\"table\"}],\"barpolar\":[{\"marker\":{\"line\":{\"color\":\"#E5ECF6\",\"width\":0.5},\"pattern\":{\"fillmode\":\"overlay\",\"size\":10,\"solidity\":0.2}},\"type\":\"barpolar\"}],\"pie\":[{\"automargin\":true,\"type\":\"pie\"}]},\"layout\":{\"autotypenumbers\":\"strict\",\"colorway\":[\"#636efa\",\"#EF553B\",\"#00cc96\",\"#ab63fa\",\"#FFA15A\",\"#19d3f3\",\"#FF6692\",\"#B6E880\",\"#FF97FF\",\"#FECB52\"],\"font\":{\"color\":\"#2a3f5f\"},\"hovermode\":\"closest\",\"hoverlabel\":{\"align\":\"left\"},\"paper_bgcolor\":\"white\",\"plot_bgcolor\":\"#E5ECF6\",\"polar\":{\"bgcolor\":\"#E5ECF6\",\"angularaxis\":{\"gridcolor\":\"white\",\"linecolor\":\"white\",\"ticks\":\"\"},\"radialaxis\":{\"gridcolor\":\"white\",\"linecolor\":\"white\",\"ticks\":\"\"}},\"ternary\":{\"bgcolor\":\"#E5ECF6\",\"aaxis\":{\"gridcolor\":\"white\",\"linecolor\":\"white\",\"ticks\":\"\"},\"baxis\":{\"gridcolor\":\"white\",\"linecolor\":\"white\",\"ticks\":\"\"},\"caxis\":{\"gridcolor\":\"white\",\"linecolor\":\"white\",\"ticks\":\"\"}},\"coloraxis\":{\"colorbar\":{\"outlinewidth\":0,\"ticks\":\"\"}},\"colorscale\":{\"sequential\":[[0.0,\"#0d0887\"],[0.1111111111111111,\"#46039f\"],[0.2222222222222222,\"#7201a8\"],[0.3333333333333333,\"#9c179e\"],[0.4444444444444444,\"#bd3786\"],[0.5555555555555556,\"#d8576b\"],[0.6666666666666666,\"#ed7953\"],[0.7777777777777778,\"#fb9f3a\"],[0.8888888888888888,\"#fdca26\"],[1.0,\"#f0f921\"]],\"sequentialminus\":[[0.0,\"#0d0887\"],[0.1111111111111111,\"#46039f\"],[0.2222222222222222,\"#7201a8\"],[0.3333333333333333,\"#9c179e\"],[0.4444444444444444,\"#bd3786\"],[0.5555555555555556,\"#d8576b\"],[0.6666666666666666,\"#ed7953\"],[0.7777777777777778,\"#fb9f3a\"],[0.8888888888888888,\"#fdca26\"],[1.0,\"#f0f921\"]],\"diverging\":[[0,\"#8e0152\"],[0.1,\"#c51b7d\"],[0.2,\"#de77ae\"],[0.3,\"#f1b6da\"],[0.4,\"#fde0ef\"],[0.5,\"#f7f7f7\"],[0.6,\"#e6f5d0\"],[0.7,\"#b8e186\"],[0.8,\"#7fbc41\"],[0.9,\"#4d9221\"],[1,\"#276419\"]]},\"xaxis\":{\"gridcolor\":\"white\",\"linecolor\":\"white\",\"ticks\":\"\",\"title\":{\"standoff\":15},\"zerolinecolor\":\"white\",\"automargin\":true,\"zerolinewidth\":2},\"yaxis\":{\"gridcolor\":\"white\",\"linecolor\":\"white\",\"ticks\":\"\",\"title\":{\"standoff\":15},\"zerolinecolor\":\"white\",\"automargin\":true,\"zerolinewidth\":2},\"scene\":{\"xaxis\":{\"backgroundcolor\":\"#E5ECF6\",\"gridcolor\":\"white\",\"linecolor\":\"white\",\"showbackground\":true,\"ticks\":\"\",\"zerolinecolor\":\"white\",\"gridwidth\":2},\"yaxis\":{\"backgroundcolor\":\"#E5ECF6\",\"gridcolor\":\"white\",\"linecolor\":\"white\",\"showbackground\":true,\"ticks\":\"\",\"zerolinecolor\":\"white\",\"gridwidth\":2},\"zaxis\":{\"backgroundcolor\":\"#E5ECF6\",\"gridcolor\":\"white\",\"linecolor\":\"white\",\"showbackground\":true,\"ticks\":\"\",\"zerolinecolor\":\"white\",\"gridwidth\":2}},\"shapedefaults\":{\"line\":{\"color\":\"#2a3f5f\"}},\"annotationdefaults\":{\"arrowcolor\":\"#2a3f5f\",\"arrowhead\":0,\"arrowwidth\":1},\"geo\":{\"bgcolor\":\"white\",\"landcolor\":\"#E5ECF6\",\"subunitcolor\":\"white\",\"showland\":true,\"showlakes\":true,\"lakecolor\":\"white\"},\"title\":{\"x\":0.05},\"mapbox\":{\"style\":\"light\"}}},\"title\":{\"text\":\"Continuous Signal\"},\"xaxis\":{\"title\":{\"text\":\"Index\"}},\"yaxis\":{\"title\":{\"text\":\"Amplitude\"}},\"width\":1000,\"height\":500},                        {\"responsive\": true}                    ).then(function(){\n",
       "                            \n",
       "var gd = document.getElementById('11b0e15a-ae79-4979-aef1-e6493fdd0880');\n",
       "var x = new MutationObserver(function (mutations, observer) {{\n",
       "        var display = window.getComputedStyle(gd).display;\n",
       "        if (!display || display === 'none') {{\n",
       "            console.log([gd, 'removed!']);\n",
       "            Plotly.purge(gd);\n",
       "            observer.disconnect();\n",
       "        }}\n",
       "}});\n",
       "\n",
       "// Listen for the removal of the full notebook cells\n",
       "var notebookContainer = gd.closest('#notebook-container');\n",
       "if (notebookContainer) {{\n",
       "    x.observe(notebookContainer, {childList: true});\n",
       "}}\n",
       "\n",
       "// Listen for the clearing of the current output cell\n",
       "var outputEl = gd.closest('.output');\n",
       "if (outputEl) {{\n",
       "    x.observe(outputEl, {childList: true});\n",
       "}}\n",
       "\n",
       "                        })                };                            </script>        </div>\n",
       "</body>\n",
       "</html>"
      ]
     },
     "metadata": {},
     "output_type": "display_data"
    }
   ],
   "source": [
    "draw(healthySignals[104])  # drawing a random signal to see what we are working with"
   ]
  },
  {
   "cell_type": "code",
   "execution_count": 8,
   "id": "de1b5cf9",
   "metadata": {
    "execution": {
     "iopub.execute_input": "2024-12-22T18:17:13.386650Z",
     "iopub.status.busy": "2024-12-22T18:17:13.386254Z",
     "iopub.status.idle": "2024-12-22T18:17:13.399769Z",
     "shell.execute_reply": "2024-12-22T18:17:13.398630Z"
    },
    "papermill": {
     "duration": 0.023984,
     "end_time": "2024-12-22T18:17:13.401811",
     "exception": false,
     "start_time": "2024-12-22T18:17:13.377827",
     "status": "completed"
    },
    "tags": []
   },
   "outputs": [
    {
     "data": {
      "text/html": [
       "<html>\n",
       "<head><meta charset=\"utf-8\" /></head>\n",
       "<body>\n",
       "    <div>            <script src=\"https://cdnjs.cloudflare.com/ajax/libs/mathjax/2.7.5/MathJax.js?config=TeX-AMS-MML_SVG\"></script><script type=\"text/javascript\">if (window.MathJax && window.MathJax.Hub && window.MathJax.Hub.Config) {window.MathJax.Hub.Config({SVG: {font: \"STIX-Web\"}});}</script>                <script type=\"text/javascript\">window.PlotlyConfig = {MathJaxConfig: 'local'};</script>\n",
       "        <script charset=\"utf-8\" src=\"https://cdn.plot.ly/plotly-2.35.2.min.js\"></script>                <div id=\"e70803c5-9fc4-41e9-9af3-c4be4802fc03\" class=\"plotly-graph-div\" style=\"height:500px; width:1000px;\"></div>            <script type=\"text/javascript\">                                    window.PLOTLYENV=window.PLOTLYENV || {};                                    if (document.getElementById(\"e70803c5-9fc4-41e9-9af3-c4be4802fc03\")) {                    Plotly.newPlot(                        \"e70803c5-9fc4-41e9-9af3-c4be4802fc03\",                        [{\"mode\":\"lines\",\"name\":\"Continuous Signal\",\"y\":[-0.37385,-0.37385,-0.36885,-0.35385,-0.35885,-0.38385,-0.39885,-0.41385,-0.41385,-0.40385,-0.40385,-0.41885,-0.42885,-0.44385,-0.44885,-0.43885,-0.43885,-0.44385,-0.45885,-0.46885,-0.46885,-0.46885,-0.46885,-0.47885,-0.49885,-0.49885,-0.49385,-0.47885,-0.46385,-0.49385,-0.51385,-0.50385,-0.47385,-0.45385,-0.42385,-0.41885,-0.41385,-0.40885,-0.41385,-0.38885,-0.37385,-0.36385,-0.34885,-0.32885,-0.31385,-0.26885,-0.25885,-0.26385,-0.25385,-0.21385,-0.19885,-0.16885,-0.15885,-0.17385,-0.18885,-0.18385,-0.15885,-0.13385,-0.11385,-0.11885,-0.10385,-0.11885,-0.098853,-0.073853,-0.068853,-0.068853,-0.093853,-0.093853,-0.083853,-0.053853,-0.058853,-0.073853,-0.098853,-0.11385,-0.11385,-0.098853,-0.063853,-0.043853,-0.018853,0.011147,0.076147,0.17115,0.25115,0.36615,0.47615,0.58615,0.71615,0.86115,0.98115,1.0761,1.1761,1.2811,1.3911,1.5011,1.5911,1.6361,1.6311,1.5961,1.5411,1.4011,1.1711,0.87115,0.49615,0.13615,-0.21885,-0.54885,-0.79885,-0.98385,-1.1439,-1.2589,-1.3389,-1.4189,-1.5039,-1.5889,-1.6539,-1.7189,-1.7589,-1.7889,-1.8189,-1.8539,-1.8839,-1.9039,-1.9189,-1.9139,-1.9039,-1.8989,-1.8639,-1.8039,-1.7089,-1.5739,-1.4239,-1.2989,-1.1739,-1.0639,-0.95885,-0.85385,-0.78885,-0.74385,-0.73885,-0.71885,-0.70885,-0.66385,-0.64885,-0.62885,-0.62385,-0.60885,-0.57885,-0.49885,-0.43885,-0.40385,-0.36385,-0.28885,-0.22385,-0.16385,-0.10885,-0.098853,-0.098853,-0.093853,-0.043853,0.011147,0.051147,0.056147,0.036147,0.011147,0.026147,0.071147,0.081147,0.096147,0.11615,0.14115,0.18615,0.22115,0.24115,0.23615,0.25615,0.29115,0.33115,0.37615,0.39615,0.39115,0.40115,0.41115,0.41115,0.43615,0.46615,0.47115,0.47615,0.50115,0.52615,0.57615,0.61115,0.62615,0.64615,0.67115,0.70615,0.75115,0.78615,0.80115,0.82615,0.84115,0.89615,0.94615,0.95115,0.95115,0.95615,0.96115,0.97615,1.0111,1.0411,1.0661,1.0761,1.0711,1.0911,1.1211,1.1361,1.1461,1.1511,1.1311,1.1311,1.1311,1.1311,1.1111,1.0961,1.0661,1.0461,1.0361,1.0311,1.0011,0.95115,0.91115,0.88615,0.85115,0.83615,0.81615,0.76115,0.70615,0.63115,0.60115,0.58115,0.54615,0.51615,0.48615,0.46615,0.44115,0.40115,0.36115,0.31115,0.25615,0.23615,0.21615,0.19115,0.15615,0.12615,0.10115,0.091147,0.076147,0.061147,0.036147,0.0061474,-0.028853,-0.038853,-0.023853,-0.018853,-0.018853,-0.033853,-0.043853,-0.038853,-0.043853,-0.048853,-0.068853,-0.063853,-0.078853,-0.093853,-0.073853,-0.058853,-0.073853,-0.083853,-0.10385,-0.10385,-0.073853,-0.048853,-0.068853,-0.093853,-0.10885,-0.10385,-0.093853,-0.073853,-0.093853,-0.11885,-0.13385,-0.12385,-0.11385,-0.098853,-0.10385,-0.12385,-0.15885,-0.15885,-0.15385,-0.13385,-0.12885],\"type\":\"scatter\"}],                        {\"template\":{\"data\":{\"histogram2dcontour\":[{\"type\":\"histogram2dcontour\",\"colorbar\":{\"outlinewidth\":0,\"ticks\":\"\"},\"colorscale\":[[0.0,\"#0d0887\"],[0.1111111111111111,\"#46039f\"],[0.2222222222222222,\"#7201a8\"],[0.3333333333333333,\"#9c179e\"],[0.4444444444444444,\"#bd3786\"],[0.5555555555555556,\"#d8576b\"],[0.6666666666666666,\"#ed7953\"],[0.7777777777777778,\"#fb9f3a\"],[0.8888888888888888,\"#fdca26\"],[1.0,\"#f0f921\"]]}],\"choropleth\":[{\"type\":\"choropleth\",\"colorbar\":{\"outlinewidth\":0,\"ticks\":\"\"}}],\"histogram2d\":[{\"type\":\"histogram2d\",\"colorbar\":{\"outlinewidth\":0,\"ticks\":\"\"},\"colorscale\":[[0.0,\"#0d0887\"],[0.1111111111111111,\"#46039f\"],[0.2222222222222222,\"#7201a8\"],[0.3333333333333333,\"#9c179e\"],[0.4444444444444444,\"#bd3786\"],[0.5555555555555556,\"#d8576b\"],[0.6666666666666666,\"#ed7953\"],[0.7777777777777778,\"#fb9f3a\"],[0.8888888888888888,\"#fdca26\"],[1.0,\"#f0f921\"]]}],\"heatmap\":[{\"type\":\"heatmap\",\"colorbar\":{\"outlinewidth\":0,\"ticks\":\"\"},\"colorscale\":[[0.0,\"#0d0887\"],[0.1111111111111111,\"#46039f\"],[0.2222222222222222,\"#7201a8\"],[0.3333333333333333,\"#9c179e\"],[0.4444444444444444,\"#bd3786\"],[0.5555555555555556,\"#d8576b\"],[0.6666666666666666,\"#ed7953\"],[0.7777777777777778,\"#fb9f3a\"],[0.8888888888888888,\"#fdca26\"],[1.0,\"#f0f921\"]]}],\"heatmapgl\":[{\"type\":\"heatmapgl\",\"colorbar\":{\"outlinewidth\":0,\"ticks\":\"\"},\"colorscale\":[[0.0,\"#0d0887\"],[0.1111111111111111,\"#46039f\"],[0.2222222222222222,\"#7201a8\"],[0.3333333333333333,\"#9c179e\"],[0.4444444444444444,\"#bd3786\"],[0.5555555555555556,\"#d8576b\"],[0.6666666666666666,\"#ed7953\"],[0.7777777777777778,\"#fb9f3a\"],[0.8888888888888888,\"#fdca26\"],[1.0,\"#f0f921\"]]}],\"contourcarpet\":[{\"type\":\"contourcarpet\",\"colorbar\":{\"outlinewidth\":0,\"ticks\":\"\"}}],\"contour\":[{\"type\":\"contour\",\"colorbar\":{\"outlinewidth\":0,\"ticks\":\"\"},\"colorscale\":[[0.0,\"#0d0887\"],[0.1111111111111111,\"#46039f\"],[0.2222222222222222,\"#7201a8\"],[0.3333333333333333,\"#9c179e\"],[0.4444444444444444,\"#bd3786\"],[0.5555555555555556,\"#d8576b\"],[0.6666666666666666,\"#ed7953\"],[0.7777777777777778,\"#fb9f3a\"],[0.8888888888888888,\"#fdca26\"],[1.0,\"#f0f921\"]]}],\"surface\":[{\"type\":\"surface\",\"colorbar\":{\"outlinewidth\":0,\"ticks\":\"\"},\"colorscale\":[[0.0,\"#0d0887\"],[0.1111111111111111,\"#46039f\"],[0.2222222222222222,\"#7201a8\"],[0.3333333333333333,\"#9c179e\"],[0.4444444444444444,\"#bd3786\"],[0.5555555555555556,\"#d8576b\"],[0.6666666666666666,\"#ed7953\"],[0.7777777777777778,\"#fb9f3a\"],[0.8888888888888888,\"#fdca26\"],[1.0,\"#f0f921\"]]}],\"mesh3d\":[{\"type\":\"mesh3d\",\"colorbar\":{\"outlinewidth\":0,\"ticks\":\"\"}}],\"scatter\":[{\"fillpattern\":{\"fillmode\":\"overlay\",\"size\":10,\"solidity\":0.2},\"type\":\"scatter\"}],\"parcoords\":[{\"type\":\"parcoords\",\"line\":{\"colorbar\":{\"outlinewidth\":0,\"ticks\":\"\"}}}],\"scatterpolargl\":[{\"type\":\"scatterpolargl\",\"marker\":{\"colorbar\":{\"outlinewidth\":0,\"ticks\":\"\"}}}],\"bar\":[{\"error_x\":{\"color\":\"#2a3f5f\"},\"error_y\":{\"color\":\"#2a3f5f\"},\"marker\":{\"line\":{\"color\":\"#E5ECF6\",\"width\":0.5},\"pattern\":{\"fillmode\":\"overlay\",\"size\":10,\"solidity\":0.2}},\"type\":\"bar\"}],\"scattergeo\":[{\"type\":\"scattergeo\",\"marker\":{\"colorbar\":{\"outlinewidth\":0,\"ticks\":\"\"}}}],\"scatterpolar\":[{\"type\":\"scatterpolar\",\"marker\":{\"colorbar\":{\"outlinewidth\":0,\"ticks\":\"\"}}}],\"histogram\":[{\"marker\":{\"pattern\":{\"fillmode\":\"overlay\",\"size\":10,\"solidity\":0.2}},\"type\":\"histogram\"}],\"scattergl\":[{\"type\":\"scattergl\",\"marker\":{\"colorbar\":{\"outlinewidth\":0,\"ticks\":\"\"}}}],\"scatter3d\":[{\"type\":\"scatter3d\",\"line\":{\"colorbar\":{\"outlinewidth\":0,\"ticks\":\"\"}},\"marker\":{\"colorbar\":{\"outlinewidth\":0,\"ticks\":\"\"}}}],\"scattermapbox\":[{\"type\":\"scattermapbox\",\"marker\":{\"colorbar\":{\"outlinewidth\":0,\"ticks\":\"\"}}}],\"scatterternary\":[{\"type\":\"scatterternary\",\"marker\":{\"colorbar\":{\"outlinewidth\":0,\"ticks\":\"\"}}}],\"scattercarpet\":[{\"type\":\"scattercarpet\",\"marker\":{\"colorbar\":{\"outlinewidth\":0,\"ticks\":\"\"}}}],\"carpet\":[{\"aaxis\":{\"endlinecolor\":\"#2a3f5f\",\"gridcolor\":\"white\",\"linecolor\":\"white\",\"minorgridcolor\":\"white\",\"startlinecolor\":\"#2a3f5f\"},\"baxis\":{\"endlinecolor\":\"#2a3f5f\",\"gridcolor\":\"white\",\"linecolor\":\"white\",\"minorgridcolor\":\"white\",\"startlinecolor\":\"#2a3f5f\"},\"type\":\"carpet\"}],\"table\":[{\"cells\":{\"fill\":{\"color\":\"#EBF0F8\"},\"line\":{\"color\":\"white\"}},\"header\":{\"fill\":{\"color\":\"#C8D4E3\"},\"line\":{\"color\":\"white\"}},\"type\":\"table\"}],\"barpolar\":[{\"marker\":{\"line\":{\"color\":\"#E5ECF6\",\"width\":0.5},\"pattern\":{\"fillmode\":\"overlay\",\"size\":10,\"solidity\":0.2}},\"type\":\"barpolar\"}],\"pie\":[{\"automargin\":true,\"type\":\"pie\"}]},\"layout\":{\"autotypenumbers\":\"strict\",\"colorway\":[\"#636efa\",\"#EF553B\",\"#00cc96\",\"#ab63fa\",\"#FFA15A\",\"#19d3f3\",\"#FF6692\",\"#B6E880\",\"#FF97FF\",\"#FECB52\"],\"font\":{\"color\":\"#2a3f5f\"},\"hovermode\":\"closest\",\"hoverlabel\":{\"align\":\"left\"},\"paper_bgcolor\":\"white\",\"plot_bgcolor\":\"#E5ECF6\",\"polar\":{\"bgcolor\":\"#E5ECF6\",\"angularaxis\":{\"gridcolor\":\"white\",\"linecolor\":\"white\",\"ticks\":\"\"},\"radialaxis\":{\"gridcolor\":\"white\",\"linecolor\":\"white\",\"ticks\":\"\"}},\"ternary\":{\"bgcolor\":\"#E5ECF6\",\"aaxis\":{\"gridcolor\":\"white\",\"linecolor\":\"white\",\"ticks\":\"\"},\"baxis\":{\"gridcolor\":\"white\",\"linecolor\":\"white\",\"ticks\":\"\"},\"caxis\":{\"gridcolor\":\"white\",\"linecolor\":\"white\",\"ticks\":\"\"}},\"coloraxis\":{\"colorbar\":{\"outlinewidth\":0,\"ticks\":\"\"}},\"colorscale\":{\"sequential\":[[0.0,\"#0d0887\"],[0.1111111111111111,\"#46039f\"],[0.2222222222222222,\"#7201a8\"],[0.3333333333333333,\"#9c179e\"],[0.4444444444444444,\"#bd3786\"],[0.5555555555555556,\"#d8576b\"],[0.6666666666666666,\"#ed7953\"],[0.7777777777777778,\"#fb9f3a\"],[0.8888888888888888,\"#fdca26\"],[1.0,\"#f0f921\"]],\"sequentialminus\":[[0.0,\"#0d0887\"],[0.1111111111111111,\"#46039f\"],[0.2222222222222222,\"#7201a8\"],[0.3333333333333333,\"#9c179e\"],[0.4444444444444444,\"#bd3786\"],[0.5555555555555556,\"#d8576b\"],[0.6666666666666666,\"#ed7953\"],[0.7777777777777778,\"#fb9f3a\"],[0.8888888888888888,\"#fdca26\"],[1.0,\"#f0f921\"]],\"diverging\":[[0,\"#8e0152\"],[0.1,\"#c51b7d\"],[0.2,\"#de77ae\"],[0.3,\"#f1b6da\"],[0.4,\"#fde0ef\"],[0.5,\"#f7f7f7\"],[0.6,\"#e6f5d0\"],[0.7,\"#b8e186\"],[0.8,\"#7fbc41\"],[0.9,\"#4d9221\"],[1,\"#276419\"]]},\"xaxis\":{\"gridcolor\":\"white\",\"linecolor\":\"white\",\"ticks\":\"\",\"title\":{\"standoff\":15},\"zerolinecolor\":\"white\",\"automargin\":true,\"zerolinewidth\":2},\"yaxis\":{\"gridcolor\":\"white\",\"linecolor\":\"white\",\"ticks\":\"\",\"title\":{\"standoff\":15},\"zerolinecolor\":\"white\",\"automargin\":true,\"zerolinewidth\":2},\"scene\":{\"xaxis\":{\"backgroundcolor\":\"#E5ECF6\",\"gridcolor\":\"white\",\"linecolor\":\"white\",\"showbackground\":true,\"ticks\":\"\",\"zerolinecolor\":\"white\",\"gridwidth\":2},\"yaxis\":{\"backgroundcolor\":\"#E5ECF6\",\"gridcolor\":\"white\",\"linecolor\":\"white\",\"showbackground\":true,\"ticks\":\"\",\"zerolinecolor\":\"white\",\"gridwidth\":2},\"zaxis\":{\"backgroundcolor\":\"#E5ECF6\",\"gridcolor\":\"white\",\"linecolor\":\"white\",\"showbackground\":true,\"ticks\":\"\",\"zerolinecolor\":\"white\",\"gridwidth\":2}},\"shapedefaults\":{\"line\":{\"color\":\"#2a3f5f\"}},\"annotationdefaults\":{\"arrowcolor\":\"#2a3f5f\",\"arrowhead\":0,\"arrowwidth\":1},\"geo\":{\"bgcolor\":\"white\",\"landcolor\":\"#E5ECF6\",\"subunitcolor\":\"white\",\"showland\":true,\"showlakes\":true,\"lakecolor\":\"white\"},\"title\":{\"x\":0.05},\"mapbox\":{\"style\":\"light\"}}},\"title\":{\"text\":\"Continuous Signal\"},\"xaxis\":{\"title\":{\"text\":\"Index\"}},\"yaxis\":{\"title\":{\"text\":\"Amplitude\"}},\"width\":1000,\"height\":500},                        {\"responsive\": true}                    ).then(function(){\n",
       "                            \n",
       "var gd = document.getElementById('e70803c5-9fc4-41e9-9af3-c4be4802fc03');\n",
       "var x = new MutationObserver(function (mutations, observer) {{\n",
       "        var display = window.getComputedStyle(gd).display;\n",
       "        if (!display || display === 'none') {{\n",
       "            console.log([gd, 'removed!']);\n",
       "            Plotly.purge(gd);\n",
       "            observer.disconnect();\n",
       "        }}\n",
       "}});\n",
       "\n",
       "// Listen for the removal of the full notebook cells\n",
       "var notebookContainer = gd.closest('#notebook-container');\n",
       "if (notebookContainer) {{\n",
       "    x.observe(notebookContainer, {childList: true});\n",
       "}}\n",
       "\n",
       "// Listen for the clearing of the current output cell\n",
       "var outputEl = gd.closest('.output');\n",
       "if (outputEl) {{\n",
       "    x.observe(outputEl, {childList: true});\n",
       "}}\n",
       "\n",
       "                        })                };                            </script>        </div>\n",
       "</body>\n",
       "</html>"
      ]
     },
     "metadata": {},
     "output_type": "display_data"
    }
   ],
   "source": [
    "draw(PVCSignals[180])"
   ]
  },
  {
   "cell_type": "markdown",
   "id": "065948b7",
   "metadata": {
    "papermill": {
     "duration": 0.00704,
     "end_time": "2024-12-22T18:17:13.416759",
     "exception": false,
     "start_time": "2024-12-22T18:17:13.409719",
     "status": "completed"
    },
    "tags": []
   },
   "source": [
    "### There's a huge difference between the healthy and the PVC , hopefully the classification won't be hard"
   ]
  },
  {
   "cell_type": "markdown",
   "id": "7255f759",
   "metadata": {
    "papermill": {
     "duration": 0.007429,
     "end_time": "2024-12-22T18:17:13.432405",
     "exception": false,
     "start_time": "2024-12-22T18:17:13.424976",
     "status": "completed"
    },
    "tags": []
   },
   "source": [
    "### Applying the Band Pass filter with cutoffs = [0.5,40]"
   ]
  },
  {
   "cell_type": "code",
   "execution_count": 9,
   "id": "33b2d136",
   "metadata": {
    "execution": {
     "iopub.execute_input": "2024-12-22T18:17:13.449177Z",
     "iopub.status.busy": "2024-12-22T18:17:13.448770Z",
     "iopub.status.idle": "2024-12-22T18:17:13.459241Z",
     "shell.execute_reply": "2024-12-22T18:17:13.458014Z"
    },
    "papermill": {
     "duration": 0.020941,
     "end_time": "2024-12-22T18:17:13.461242",
     "exception": false,
     "start_time": "2024-12-22T18:17:13.440301",
     "status": "completed"
    },
    "tags": []
   },
   "outputs": [],
   "source": [
    "b, a = signal.butter(\n",
    "    N=4, Wn=[0.5, 40], btype=\"bandpass\", fs=samplingRate\n",
    ")  # getting the filter coofecients"
   ]
  },
  {
   "cell_type": "code",
   "execution_count": 10,
   "id": "e29a4255",
   "metadata": {
    "execution": {
     "iopub.execute_input": "2024-12-22T18:17:13.477479Z",
     "iopub.status.busy": "2024-12-22T18:17:13.477094Z",
     "iopub.status.idle": "2024-12-22T18:17:13.561442Z",
     "shell.execute_reply": "2024-12-22T18:17:13.560227Z"
    },
    "papermill": {
     "duration": 0.094521,
     "end_time": "2024-12-22T18:17:13.563430",
     "exception": false,
     "start_time": "2024-12-22T18:17:13.468909",
     "status": "completed"
    },
    "tags": []
   },
   "outputs": [],
   "source": [
    "filteredHealthy = [signal.lfilter(b, a, s) for s in healthySignals]\n",
    "filteredPVC = [signal.lfilter(b, a, s) for s in PVCSignals]\n",
    "filteredHealtyTest = [signal.lfilter(b, a, s) for s in readHB(f\"{dirPath}/Normal_Test.txt\")]\n",
    "filteredPVCTest = [signal.lfilter(b, a, s) for s in readHB(f\"{dirPath}/PVC_Test.txt\")]"
   ]
  },
  {
   "cell_type": "markdown",
   "id": "e00da58f",
   "metadata": {
    "papermill": {
     "duration": 0.007105,
     "end_time": "2024-12-22T18:17:13.578136",
     "exception": false,
     "start_time": "2024-12-22T18:17:13.571031",
     "status": "completed"
    },
    "tags": []
   },
   "source": [
    "### The effect of filtering is very clear. Removed all unneeded noise"
   ]
  },
  {
   "cell_type": "code",
   "execution_count": 11,
   "id": "2987574c",
   "metadata": {
    "execution": {
     "iopub.execute_input": "2024-12-22T18:17:13.594077Z",
     "iopub.status.busy": "2024-12-22T18:17:13.593635Z",
     "iopub.status.idle": "2024-12-22T18:17:13.608597Z",
     "shell.execute_reply": "2024-12-22T18:17:13.607420Z"
    },
    "papermill": {
     "duration": 0.024707,
     "end_time": "2024-12-22T18:17:13.610142",
     "exception": false,
     "start_time": "2024-12-22T18:17:13.585435",
     "status": "completed"
    },
    "tags": []
   },
   "outputs": [
    {
     "data": {
      "text/html": [
       "<html>\n",
       "<head><meta charset=\"utf-8\" /></head>\n",
       "<body>\n",
       "    <div>            <script src=\"https://cdnjs.cloudflare.com/ajax/libs/mathjax/2.7.5/MathJax.js?config=TeX-AMS-MML_SVG\"></script><script type=\"text/javascript\">if (window.MathJax && window.MathJax.Hub && window.MathJax.Hub.Config) {window.MathJax.Hub.Config({SVG: {font: \"STIX-Web\"}});}</script>                <script type=\"text/javascript\">window.PlotlyConfig = {MathJaxConfig: 'local'};</script>\n",
       "        <script charset=\"utf-8\" src=\"https://cdn.plot.ly/plotly-2.35.2.min.js\"></script>                <div id=\"eb278156-5ea0-4b70-a69a-702459350a25\" class=\"plotly-graph-div\" style=\"height:500px; width:1000px;\"></div>            <script type=\"text/javascript\">                                    window.PLOTLYENV=window.PLOTLYENV || {};                                    if (document.getElementById(\"eb278156-5ea0-4b70-a69a-702459350a25\")) {                    Plotly.newPlot(                        \"eb278156-5ea0-4b70-a69a-702459350a25\",                        [{\"mode\":\"lines\",\"name\":\"Continuous Signal\",\"y\":[-0.0018875413693472817,-0.013544929770749212,-0.046386280941783285,-0.10330306282479854,-0.17227316807772244,-0.23428090719238653,-0.27509991144821483,-0.2905924413162513,-0.28519545345812175,-0.2676894761102558,-0.24710729617630112,-0.2300765952869952,-0.21990168315829772,-0.21641190911939842,-0.21635263807927327,-0.21513952903176065,-0.20952080532069414,-0.199430238956994,-0.18770653649043975,-0.17789850617226047,-0.1719117654180121,-0.16917674394798907,-0.16755454958822993,-0.1649529084590631,-0.16049423491686263,-0.15454223755164206,-0.14774532046930094,-0.14038025432171122,-0.13281888717552384,-0.12613800868772782,-0.12162177939317739,-0.11943688372792764,-0.11792389189697566,-0.11442136842700808,-0.10701450651999789,-0.09591253568143042,-0.08343379967068594,-0.07242736007800793,-0.06447227736938622,-0.05937236971906901,-0.05602703084754679,-0.053469806546496204,-0.05071988542649524,-0.04581773236017687,-0.03581251139421183,-0.01825716630166384,0.0070963322252918706,0.0375812486905301,0.06808003917535939,0.09274603058153481,0.10744881078449883,0.11140561767216475,0.10691791918045539,0.09770909294594286,0.08723901433875753,0.0778608161188819,0.07067347262454284,0.06553504002887091,0.06126134217286581,0.056202036081353386,0.04877005158307282,0.037894441133906255,0.02368051712770974,0.007522324084876483,-0.008816149440009085,-0.024163003517401183,-0.03806200178197455,-0.050146615262985736,-0.05940526309264106,-0.06431312478750119,-0.06401335341017385,-0.05940873095400667,-0.05309564821551382,-0.047955267394236785,-0.04539665726837382,-0.04509353482569192,-0.04635924635881369,-0.04911272997415889,-0.05337240308359467,-0.05820770874818318,-0.061570543655301596,-0.0614726677816799,-0.05731854586854876,-0.05022034337955114,-0.0423698057238501,-0.036000345112951866,-0.032673965862595265,-0.033232052510902256,-0.0377838854219923,-0.045234356651751455,-0.05230842621633835,-0.05175603614188361,-0.030627631346578945,0.028271740450321724,0.14047977248220272,0.3131427418248026,0.541031033059673,0.8036693639990986,1.061787193380892,1.258830028555162,1.3358559727227626,1.257217707726308,1.0315141329797288,0.7128581212059757,0.3797702760697913,0.10302593408757,-0.07893998209612316,-0.16527065474720493,-0.18148815258154954,-0.1623867410539669,-0.13770141298132774,-0.12494139027426197,-0.12949334034196977,-0.1484104192456772,-0.17422633744553603,-0.1981588680664136,-0.2132887994772568,-0.21682153408257096,-0.21031551661259842,-0.19826566568932535,-0.1859363002793195,-0.17713422022638756,-0.17275480695167048,-0.17096146974039747,-0.16909479872209995,-0.16573574813965353,-0.16116925428956236,-0.15645395287475158,-0.15229410441723712,-0.14857283301865318,-0.14473163462535954,-0.14045587586513986,-0.13602054558478793,-0.1317589597857858,-0.12707776088170872,-0.12065215738965415,-0.11211465996757236,-0.10332617615764021,-0.0975245317576175,-0.09670290283100393,-0.09948722270651036,-0.10172868949590716,-0.09943602996678001,-0.09135739932675077,-0.07935149375762526,-0.06694878520309158,-0.05724140572038504,-0.0511732888642729,-0.04745987054042631,-0.044311252251762044,-0.041171386713685997,-0.038657283734971605,-0.03698411544213759,-0.03483297085350351,-0.030241246141507604,-0.0227410548370872,-0.014184108223546781,-0.007168316544046633,-0.002842107454488523,-0.0002971602446344068,0.0023307239369927133,0.0064014920046892385,0.0119368177582732,0.017898071622308186,0.023395454541475635,0.028517056618475114,0.033845263063695896,0.03946917601948349,0.04496913086521953,0.05048229993785306,0.057162213806359254,0.06596947003662122,0.07626392948059656,0.08611533117566009,0.09392117551312297,0.09950463795591141,0.10396186845751565,0.10878290889104801,0.11491062231566739,0.12223812305113861,0.1298344684807379,0.1368261173196833,0.1433288160799042,0.1505329801859757,0.15967037558407884,0.1707061684547345,0.18198880154669825,0.19135599885971122,0.19789652942554217,0.20276804605939827,0.2081920703235885,0.2154502585594875,0.223812115463015,0.23159595425604193,0.2380874684817631,0.24398469130548966,0.2501519927891027,0.25630354226255553,0.26097833455931874,0.2628954832230184,0.26222214000896565,0.26038749117284826,0.2587932503409039,0.2576001659762183,0.25551543610658395,0.25081600072594523,0.24280480835894344,0.23233769700463844,0.22094361657461134,0.20956309706629167,0.1981026725429183,0.1860729398544773,0.17353673932784439,0.1611759472203549,0.1494000496561559,0.13770635347167484,0.125055494748016,0.11073078160459936,0.09501118377865124,0.07941991531269098,0.06587754427913647,0.054904651583835874,0.04522486998952521,0.03575402789995165,0.027336427059898836,0.021920656246552518,0.020134612199890975,0.020112148710063,0.018988170930812925,0.015336102034058741,0.010096754269286823,0.005405101087279879,0.002640087708271022,0.0014464570131862177,0.00029174900390713525,-0.0019479474834212722,-0.0046630530644294396,-0.006033081744070221,-0.004922895404879988,-0.0019263774926013963,0.0012333460790404222,0.003134223426259467,0.003747274276752607,0.004135671903930769,0.00504662803648392,0.005899177124713309,0.005181241186489606,0.0019433245152542635,-0.0029656609610343894,-0.007138082286565702,-0.008352942920938005,-0.006367344214430827,-0.002973768517910186,-0.00034620258050234616,0.0007637235315292544,0.00148203999671241,0.003475909888069501,0.007119036999049334,0.011038621673699237,0.013481110099887717,0.013929685405857912,0.013258660825706021,0.012648073076720482,0.012565297148285474,0.01268165727373637,0.01264381853088388,0.01278902697283243,0.01404675005797543,0.017062794440066337,0.021271349295641808,0.024856421707747402,0.0258982975020377,0.02390252590462352,0.020477188477040217,0.018320508144573287,0.018974908463396844,0.021444784024064086,0.023290193916546863,0.02297135979807953,0.020786250166609274,0.017907539848376834,0.015153025908071178,0.012584565863103962,0.010069847988107348,0.008145231566026248,0.007988229516762866,0.010352097785533091,0.014474702585876135,0.018047393172222148,0.018894123467772007,0.01713960726095981,0.015101652401835367,0.01468027145839116,0.015434451017257017,0.015494734151907214,0.01378523619950205,0.01102744192420363,0.00909557132857701,0.00957303472215428,0.012437785233357817],\"type\":\"scatter\"}],                        {\"template\":{\"data\":{\"histogram2dcontour\":[{\"type\":\"histogram2dcontour\",\"colorbar\":{\"outlinewidth\":0,\"ticks\":\"\"},\"colorscale\":[[0.0,\"#0d0887\"],[0.1111111111111111,\"#46039f\"],[0.2222222222222222,\"#7201a8\"],[0.3333333333333333,\"#9c179e\"],[0.4444444444444444,\"#bd3786\"],[0.5555555555555556,\"#d8576b\"],[0.6666666666666666,\"#ed7953\"],[0.7777777777777778,\"#fb9f3a\"],[0.8888888888888888,\"#fdca26\"],[1.0,\"#f0f921\"]]}],\"choropleth\":[{\"type\":\"choropleth\",\"colorbar\":{\"outlinewidth\":0,\"ticks\":\"\"}}],\"histogram2d\":[{\"type\":\"histogram2d\",\"colorbar\":{\"outlinewidth\":0,\"ticks\":\"\"},\"colorscale\":[[0.0,\"#0d0887\"],[0.1111111111111111,\"#46039f\"],[0.2222222222222222,\"#7201a8\"],[0.3333333333333333,\"#9c179e\"],[0.4444444444444444,\"#bd3786\"],[0.5555555555555556,\"#d8576b\"],[0.6666666666666666,\"#ed7953\"],[0.7777777777777778,\"#fb9f3a\"],[0.8888888888888888,\"#fdca26\"],[1.0,\"#f0f921\"]]}],\"heatmap\":[{\"type\":\"heatmap\",\"colorbar\":{\"outlinewidth\":0,\"ticks\":\"\"},\"colorscale\":[[0.0,\"#0d0887\"],[0.1111111111111111,\"#46039f\"],[0.2222222222222222,\"#7201a8\"],[0.3333333333333333,\"#9c179e\"],[0.4444444444444444,\"#bd3786\"],[0.5555555555555556,\"#d8576b\"],[0.6666666666666666,\"#ed7953\"],[0.7777777777777778,\"#fb9f3a\"],[0.8888888888888888,\"#fdca26\"],[1.0,\"#f0f921\"]]}],\"heatmapgl\":[{\"type\":\"heatmapgl\",\"colorbar\":{\"outlinewidth\":0,\"ticks\":\"\"},\"colorscale\":[[0.0,\"#0d0887\"],[0.1111111111111111,\"#46039f\"],[0.2222222222222222,\"#7201a8\"],[0.3333333333333333,\"#9c179e\"],[0.4444444444444444,\"#bd3786\"],[0.5555555555555556,\"#d8576b\"],[0.6666666666666666,\"#ed7953\"],[0.7777777777777778,\"#fb9f3a\"],[0.8888888888888888,\"#fdca26\"],[1.0,\"#f0f921\"]]}],\"contourcarpet\":[{\"type\":\"contourcarpet\",\"colorbar\":{\"outlinewidth\":0,\"ticks\":\"\"}}],\"contour\":[{\"type\":\"contour\",\"colorbar\":{\"outlinewidth\":0,\"ticks\":\"\"},\"colorscale\":[[0.0,\"#0d0887\"],[0.1111111111111111,\"#46039f\"],[0.2222222222222222,\"#7201a8\"],[0.3333333333333333,\"#9c179e\"],[0.4444444444444444,\"#bd3786\"],[0.5555555555555556,\"#d8576b\"],[0.6666666666666666,\"#ed7953\"],[0.7777777777777778,\"#fb9f3a\"],[0.8888888888888888,\"#fdca26\"],[1.0,\"#f0f921\"]]}],\"surface\":[{\"type\":\"surface\",\"colorbar\":{\"outlinewidth\":0,\"ticks\":\"\"},\"colorscale\":[[0.0,\"#0d0887\"],[0.1111111111111111,\"#46039f\"],[0.2222222222222222,\"#7201a8\"],[0.3333333333333333,\"#9c179e\"],[0.4444444444444444,\"#bd3786\"],[0.5555555555555556,\"#d8576b\"],[0.6666666666666666,\"#ed7953\"],[0.7777777777777778,\"#fb9f3a\"],[0.8888888888888888,\"#fdca26\"],[1.0,\"#f0f921\"]]}],\"mesh3d\":[{\"type\":\"mesh3d\",\"colorbar\":{\"outlinewidth\":0,\"ticks\":\"\"}}],\"scatter\":[{\"fillpattern\":{\"fillmode\":\"overlay\",\"size\":10,\"solidity\":0.2},\"type\":\"scatter\"}],\"parcoords\":[{\"type\":\"parcoords\",\"line\":{\"colorbar\":{\"outlinewidth\":0,\"ticks\":\"\"}}}],\"scatterpolargl\":[{\"type\":\"scatterpolargl\",\"marker\":{\"colorbar\":{\"outlinewidth\":0,\"ticks\":\"\"}}}],\"bar\":[{\"error_x\":{\"color\":\"#2a3f5f\"},\"error_y\":{\"color\":\"#2a3f5f\"},\"marker\":{\"line\":{\"color\":\"#E5ECF6\",\"width\":0.5},\"pattern\":{\"fillmode\":\"overlay\",\"size\":10,\"solidity\":0.2}},\"type\":\"bar\"}],\"scattergeo\":[{\"type\":\"scattergeo\",\"marker\":{\"colorbar\":{\"outlinewidth\":0,\"ticks\":\"\"}}}],\"scatterpolar\":[{\"type\":\"scatterpolar\",\"marker\":{\"colorbar\":{\"outlinewidth\":0,\"ticks\":\"\"}}}],\"histogram\":[{\"marker\":{\"pattern\":{\"fillmode\":\"overlay\",\"size\":10,\"solidity\":0.2}},\"type\":\"histogram\"}],\"scattergl\":[{\"type\":\"scattergl\",\"marker\":{\"colorbar\":{\"outlinewidth\":0,\"ticks\":\"\"}}}],\"scatter3d\":[{\"type\":\"scatter3d\",\"line\":{\"colorbar\":{\"outlinewidth\":0,\"ticks\":\"\"}},\"marker\":{\"colorbar\":{\"outlinewidth\":0,\"ticks\":\"\"}}}],\"scattermapbox\":[{\"type\":\"scattermapbox\",\"marker\":{\"colorbar\":{\"outlinewidth\":0,\"ticks\":\"\"}}}],\"scatterternary\":[{\"type\":\"scatterternary\",\"marker\":{\"colorbar\":{\"outlinewidth\":0,\"ticks\":\"\"}}}],\"scattercarpet\":[{\"type\":\"scattercarpet\",\"marker\":{\"colorbar\":{\"outlinewidth\":0,\"ticks\":\"\"}}}],\"carpet\":[{\"aaxis\":{\"endlinecolor\":\"#2a3f5f\",\"gridcolor\":\"white\",\"linecolor\":\"white\",\"minorgridcolor\":\"white\",\"startlinecolor\":\"#2a3f5f\"},\"baxis\":{\"endlinecolor\":\"#2a3f5f\",\"gridcolor\":\"white\",\"linecolor\":\"white\",\"minorgridcolor\":\"white\",\"startlinecolor\":\"#2a3f5f\"},\"type\":\"carpet\"}],\"table\":[{\"cells\":{\"fill\":{\"color\":\"#EBF0F8\"},\"line\":{\"color\":\"white\"}},\"header\":{\"fill\":{\"color\":\"#C8D4E3\"},\"line\":{\"color\":\"white\"}},\"type\":\"table\"}],\"barpolar\":[{\"marker\":{\"line\":{\"color\":\"#E5ECF6\",\"width\":0.5},\"pattern\":{\"fillmode\":\"overlay\",\"size\":10,\"solidity\":0.2}},\"type\":\"barpolar\"}],\"pie\":[{\"automargin\":true,\"type\":\"pie\"}]},\"layout\":{\"autotypenumbers\":\"strict\",\"colorway\":[\"#636efa\",\"#EF553B\",\"#00cc96\",\"#ab63fa\",\"#FFA15A\",\"#19d3f3\",\"#FF6692\",\"#B6E880\",\"#FF97FF\",\"#FECB52\"],\"font\":{\"color\":\"#2a3f5f\"},\"hovermode\":\"closest\",\"hoverlabel\":{\"align\":\"left\"},\"paper_bgcolor\":\"white\",\"plot_bgcolor\":\"#E5ECF6\",\"polar\":{\"bgcolor\":\"#E5ECF6\",\"angularaxis\":{\"gridcolor\":\"white\",\"linecolor\":\"white\",\"ticks\":\"\"},\"radialaxis\":{\"gridcolor\":\"white\",\"linecolor\":\"white\",\"ticks\":\"\"}},\"ternary\":{\"bgcolor\":\"#E5ECF6\",\"aaxis\":{\"gridcolor\":\"white\",\"linecolor\":\"white\",\"ticks\":\"\"},\"baxis\":{\"gridcolor\":\"white\",\"linecolor\":\"white\",\"ticks\":\"\"},\"caxis\":{\"gridcolor\":\"white\",\"linecolor\":\"white\",\"ticks\":\"\"}},\"coloraxis\":{\"colorbar\":{\"outlinewidth\":0,\"ticks\":\"\"}},\"colorscale\":{\"sequential\":[[0.0,\"#0d0887\"],[0.1111111111111111,\"#46039f\"],[0.2222222222222222,\"#7201a8\"],[0.3333333333333333,\"#9c179e\"],[0.4444444444444444,\"#bd3786\"],[0.5555555555555556,\"#d8576b\"],[0.6666666666666666,\"#ed7953\"],[0.7777777777777778,\"#fb9f3a\"],[0.8888888888888888,\"#fdca26\"],[1.0,\"#f0f921\"]],\"sequentialminus\":[[0.0,\"#0d0887\"],[0.1111111111111111,\"#46039f\"],[0.2222222222222222,\"#7201a8\"],[0.3333333333333333,\"#9c179e\"],[0.4444444444444444,\"#bd3786\"],[0.5555555555555556,\"#d8576b\"],[0.6666666666666666,\"#ed7953\"],[0.7777777777777778,\"#fb9f3a\"],[0.8888888888888888,\"#fdca26\"],[1.0,\"#f0f921\"]],\"diverging\":[[0,\"#8e0152\"],[0.1,\"#c51b7d\"],[0.2,\"#de77ae\"],[0.3,\"#f1b6da\"],[0.4,\"#fde0ef\"],[0.5,\"#f7f7f7\"],[0.6,\"#e6f5d0\"],[0.7,\"#b8e186\"],[0.8,\"#7fbc41\"],[0.9,\"#4d9221\"],[1,\"#276419\"]]},\"xaxis\":{\"gridcolor\":\"white\",\"linecolor\":\"white\",\"ticks\":\"\",\"title\":{\"standoff\":15},\"zerolinecolor\":\"white\",\"automargin\":true,\"zerolinewidth\":2},\"yaxis\":{\"gridcolor\":\"white\",\"linecolor\":\"white\",\"ticks\":\"\",\"title\":{\"standoff\":15},\"zerolinecolor\":\"white\",\"automargin\":true,\"zerolinewidth\":2},\"scene\":{\"xaxis\":{\"backgroundcolor\":\"#E5ECF6\",\"gridcolor\":\"white\",\"linecolor\":\"white\",\"showbackground\":true,\"ticks\":\"\",\"zerolinecolor\":\"white\",\"gridwidth\":2},\"yaxis\":{\"backgroundcolor\":\"#E5ECF6\",\"gridcolor\":\"white\",\"linecolor\":\"white\",\"showbackground\":true,\"ticks\":\"\",\"zerolinecolor\":\"white\",\"gridwidth\":2},\"zaxis\":{\"backgroundcolor\":\"#E5ECF6\",\"gridcolor\":\"white\",\"linecolor\":\"white\",\"showbackground\":true,\"ticks\":\"\",\"zerolinecolor\":\"white\",\"gridwidth\":2}},\"shapedefaults\":{\"line\":{\"color\":\"#2a3f5f\"}},\"annotationdefaults\":{\"arrowcolor\":\"#2a3f5f\",\"arrowhead\":0,\"arrowwidth\":1},\"geo\":{\"bgcolor\":\"white\",\"landcolor\":\"#E5ECF6\",\"subunitcolor\":\"white\",\"showland\":true,\"showlakes\":true,\"lakecolor\":\"white\"},\"title\":{\"x\":0.05},\"mapbox\":{\"style\":\"light\"}}},\"title\":{\"text\":\"Continuous Signal\"},\"xaxis\":{\"title\":{\"text\":\"Index\"}},\"yaxis\":{\"title\":{\"text\":\"Amplitude\"}},\"width\":1000,\"height\":500},                        {\"responsive\": true}                    ).then(function(){\n",
       "                            \n",
       "var gd = document.getElementById('eb278156-5ea0-4b70-a69a-702459350a25');\n",
       "var x = new MutationObserver(function (mutations, observer) {{\n",
       "        var display = window.getComputedStyle(gd).display;\n",
       "        if (!display || display === 'none') {{\n",
       "            console.log([gd, 'removed!']);\n",
       "            Plotly.purge(gd);\n",
       "            observer.disconnect();\n",
       "        }}\n",
       "}});\n",
       "\n",
       "// Listen for the removal of the full notebook cells\n",
       "var notebookContainer = gd.closest('#notebook-container');\n",
       "if (notebookContainer) {{\n",
       "    x.observe(notebookContainer, {childList: true});\n",
       "}}\n",
       "\n",
       "// Listen for the clearing of the current output cell\n",
       "var outputEl = gd.closest('.output');\n",
       "if (outputEl) {{\n",
       "    x.observe(outputEl, {childList: true});\n",
       "}}\n",
       "\n",
       "                        })                };                            </script>        </div>\n",
       "</body>\n",
       "</html>"
      ]
     },
     "metadata": {},
     "output_type": "display_data"
    }
   ],
   "source": [
    "draw(filteredHealthy[104])"
   ]
  },
  {
   "cell_type": "markdown",
   "id": "eb1d11c0",
   "metadata": {
    "papermill": {
     "duration": 0.007056,
     "end_time": "2024-12-22T18:17:13.624972",
     "exception": false,
     "start_time": "2024-12-22T18:17:13.617916",
     "status": "completed"
    },
    "tags": []
   },
   "source": [
    "### Now will apply DWT and take the details coefficients because they contain the difference between normal and PVC signals"
   ]
  },
  {
   "cell_type": "code",
   "execution_count": 12,
   "id": "28619615",
   "metadata": {
    "execution": {
     "iopub.execute_input": "2024-12-22T18:17:13.641018Z",
     "iopub.status.busy": "2024-12-22T18:17:13.640664Z",
     "iopub.status.idle": "2024-12-22T18:17:13.656995Z",
     "shell.execute_reply": "2024-12-22T18:17:13.655900Z"
    },
    "papermill": {
     "duration": 0.026724,
     "end_time": "2024-12-22T18:17:13.659021",
     "exception": false,
     "start_time": "2024-12-22T18:17:13.632297",
     "status": "completed"
    },
    "tags": []
   },
   "outputs": [],
   "source": [
    "healthyDetails = [pywt.dwt(signal, \"db4\")[1] for signal in filteredHealthy]\n",
    "PVCDetails = [pywt.dwt(signal, \"db4\")[1] for signal in filteredPVC]\n",
    "healthyTestDetails = [pywt.dwt(signal, \"db4\")[1] for signal in filteredHealtyTest]\n",
    "PVCTestDetails = [pywt.dwt(signal, \"db4\")[1] for signal in filteredPVCTest]"
   ]
  },
  {
   "cell_type": "code",
   "execution_count": 13,
   "id": "07c1361d",
   "metadata": {
    "execution": {
     "iopub.execute_input": "2024-12-22T18:17:13.676280Z",
     "iopub.status.busy": "2024-12-22T18:17:13.675949Z",
     "iopub.status.idle": "2024-12-22T18:17:13.687788Z",
     "shell.execute_reply": "2024-12-22T18:17:13.686637Z"
    },
    "papermill": {
     "duration": 0.022716,
     "end_time": "2024-12-22T18:17:13.689631",
     "exception": false,
     "start_time": "2024-12-22T18:17:13.666915",
     "status": "completed"
    },
    "tags": []
   },
   "outputs": [
    {
     "data": {
      "text/html": [
       "<html>\n",
       "<head><meta charset=\"utf-8\" /></head>\n",
       "<body>\n",
       "    <div>            <script src=\"https://cdnjs.cloudflare.com/ajax/libs/mathjax/2.7.5/MathJax.js?config=TeX-AMS-MML_SVG\"></script><script type=\"text/javascript\">if (window.MathJax && window.MathJax.Hub && window.MathJax.Hub.Config) {window.MathJax.Hub.Config({SVG: {font: \"STIX-Web\"}});}</script>                <script type=\"text/javascript\">window.PlotlyConfig = {MathJaxConfig: 'local'};</script>\n",
       "        <script charset=\"utf-8\" src=\"https://cdn.plot.ly/plotly-2.35.2.min.js\"></script>                <div id=\"de31d311-9aa4-4ba3-870c-d66e784b3091\" class=\"plotly-graph-div\" style=\"height:500px; width:1000px;\"></div>            <script type=\"text/javascript\">                                    window.PLOTLYENV=window.PLOTLYENV || {};                                    if (document.getElementById(\"de31d311-9aa4-4ba3-870c-d66e784b3091\")) {                    Plotly.newPlot(                        \"de31d311-9aa4-4ba3-870c-d66e784b3091\",                        [{\"mode\":\"lines\",\"name\":\"Continuous Signal\",\"y\":[-0.00012714758040858017,0.0001330043737934864,-0.0008718178390775628,0.0007959070393848646,0.00015687530084471763,-0.00024244537157304706,0.000547129502418434,-0.0005537384693840437,-0.0005462766320986447,0.0011249487571866384,1.2180445650134507e-05,-0.0010998054596491568,0.0003606503381658921,0.00041968622568873556,-5.4782488377274756e-05,-8.551887375714512e-05,-0.0003925286142662349,0.00043265458772543866,0.00045545854865301744,-0.0008673684458277372,-0.0005086298666428971,0.001132959815396733,0.00017199333642012562,-0.00016600388202314944,0.0006766367684467049,-0.0013887818972627098,-0.001132871349253094,0.0015072990800332887,0.000957825690844009,-0.0011411866059678581,-6.147235239377152e-05,0.0006644053607348429,-0.0002685325209299901,-0.0005804742823824365,-8.003195369969847e-05,0.0008064394049639086,0.000659919858421361,-0.0008939752654557664,-0.001134963828815528,0.001074411492457315,0.0008020824286981064,-0.0010342287053519393,0.0006244096656111063,-7.722980472252077e-05,-0.001019114638172681,-0.0004275430616485327,-0.002488376676848004,0.0012530792468100583,0.007173410013583872,0.008817472590442419,-0.007077276055419854,-0.0182908083526635,-0.0023699631710595095,0.013011089767530388,0.008177213941576627,-0.002556428237711784,-0.005153130828997781,-0.0014585208949342298,0.0011895781364694759,0.0017906021507571373,0.0007170960957523032,-0.00162466020895127,-0.0012009821311419443,0.0012221998235797463,0.000462933742812499,-0.00017463301801610206,2.953470592456566e-05,-0.0007602396545428737,-0.00011543643877828845,0.0011344147809666267,-0.00035992217385020977,-0.0003763513575979261,0.00044650077305351255,-0.00030898297933281446,-0.0004325631658455317,0.0007432195938115776,-0.00010931521880892998,-0.0006423958954695889,0.0009091452939812247,-0.00021289179499407252,-0.000679399810427602,0.0007145724101867055,-6.358715964005827e-05,-0.0007019097553842205,0.0007061680560818262,0.00013685197556849156,-0.00041404238848779683,0.00014996972823105197,-0.00028928102441349907,-0.0003044930543399675,0.0008993702793886981,0.00043262534409643425,-0.001051309816728768,-8.110145268705622e-06,0.00023076380259970343,-0.0002836250506166552,0.0005266656896259056,0.0002546421237959412,-0.0004763489029104551,-3.267251450837566e-05,-0.00011029124380478993,-1.842001788595173e-05,0.00023255044779940236,8.456278381409289e-06,0.00012724139508600812,-4.2923324195238196e-05,-0.0005984073767155555,-7.627173346599057e-05,0.0011674360582408613,-0.00045605847841399783,-0.0007330963810632349,0.0007917836595347288,-0.00013721605650396173,-0.000439333076532147,0.0005982750511915417,-0.00021345785667047524,-0.00048679199773072484,0.0007118925992470063,-0.00013306452030201893,-0.000267385970498828,0.00033924212155053604,-0.0004599191057567363,9.67002244315078e-05,0.0004225680155456323,-0.0002015059751290728,-0.00017943807630235124,-5.973219958780749e-05,0.0001965438454841564,3.181246982374576e-05,0.00012766767308033196,-0.00010228112888531054,-0.00040577801232933425,0.0004230161692458743,-7.04170118967739e-05,-0.0004549302044874045,0.0006238785133039176,0.00018635188753100343,-0.0005075632898188787,0.00010228653380958549,1.5105266756155168e-05,-0.0004466311680244732,0.0007430795720160984,-0.00016743342873051857,-0.00043395792562177785,0.00043834575849987714,8.877450447492563e-05,-0.0003559884673261475,0.0002836942555104015,-0.0003417972027133828,-0.00019042352023266348,0.00026481038567848533,0.00023690144944397688,0.0001748456571950625],\"type\":\"scatter\"}],                        {\"template\":{\"data\":{\"histogram2dcontour\":[{\"type\":\"histogram2dcontour\",\"colorbar\":{\"outlinewidth\":0,\"ticks\":\"\"},\"colorscale\":[[0.0,\"#0d0887\"],[0.1111111111111111,\"#46039f\"],[0.2222222222222222,\"#7201a8\"],[0.3333333333333333,\"#9c179e\"],[0.4444444444444444,\"#bd3786\"],[0.5555555555555556,\"#d8576b\"],[0.6666666666666666,\"#ed7953\"],[0.7777777777777778,\"#fb9f3a\"],[0.8888888888888888,\"#fdca26\"],[1.0,\"#f0f921\"]]}],\"choropleth\":[{\"type\":\"choropleth\",\"colorbar\":{\"outlinewidth\":0,\"ticks\":\"\"}}],\"histogram2d\":[{\"type\":\"histogram2d\",\"colorbar\":{\"outlinewidth\":0,\"ticks\":\"\"},\"colorscale\":[[0.0,\"#0d0887\"],[0.1111111111111111,\"#46039f\"],[0.2222222222222222,\"#7201a8\"],[0.3333333333333333,\"#9c179e\"],[0.4444444444444444,\"#bd3786\"],[0.5555555555555556,\"#d8576b\"],[0.6666666666666666,\"#ed7953\"],[0.7777777777777778,\"#fb9f3a\"],[0.8888888888888888,\"#fdca26\"],[1.0,\"#f0f921\"]]}],\"heatmap\":[{\"type\":\"heatmap\",\"colorbar\":{\"outlinewidth\":0,\"ticks\":\"\"},\"colorscale\":[[0.0,\"#0d0887\"],[0.1111111111111111,\"#46039f\"],[0.2222222222222222,\"#7201a8\"],[0.3333333333333333,\"#9c179e\"],[0.4444444444444444,\"#bd3786\"],[0.5555555555555556,\"#d8576b\"],[0.6666666666666666,\"#ed7953\"],[0.7777777777777778,\"#fb9f3a\"],[0.8888888888888888,\"#fdca26\"],[1.0,\"#f0f921\"]]}],\"heatmapgl\":[{\"type\":\"heatmapgl\",\"colorbar\":{\"outlinewidth\":0,\"ticks\":\"\"},\"colorscale\":[[0.0,\"#0d0887\"],[0.1111111111111111,\"#46039f\"],[0.2222222222222222,\"#7201a8\"],[0.3333333333333333,\"#9c179e\"],[0.4444444444444444,\"#bd3786\"],[0.5555555555555556,\"#d8576b\"],[0.6666666666666666,\"#ed7953\"],[0.7777777777777778,\"#fb9f3a\"],[0.8888888888888888,\"#fdca26\"],[1.0,\"#f0f921\"]]}],\"contourcarpet\":[{\"type\":\"contourcarpet\",\"colorbar\":{\"outlinewidth\":0,\"ticks\":\"\"}}],\"contour\":[{\"type\":\"contour\",\"colorbar\":{\"outlinewidth\":0,\"ticks\":\"\"},\"colorscale\":[[0.0,\"#0d0887\"],[0.1111111111111111,\"#46039f\"],[0.2222222222222222,\"#7201a8\"],[0.3333333333333333,\"#9c179e\"],[0.4444444444444444,\"#bd3786\"],[0.5555555555555556,\"#d8576b\"],[0.6666666666666666,\"#ed7953\"],[0.7777777777777778,\"#fb9f3a\"],[0.8888888888888888,\"#fdca26\"],[1.0,\"#f0f921\"]]}],\"surface\":[{\"type\":\"surface\",\"colorbar\":{\"outlinewidth\":0,\"ticks\":\"\"},\"colorscale\":[[0.0,\"#0d0887\"],[0.1111111111111111,\"#46039f\"],[0.2222222222222222,\"#7201a8\"],[0.3333333333333333,\"#9c179e\"],[0.4444444444444444,\"#bd3786\"],[0.5555555555555556,\"#d8576b\"],[0.6666666666666666,\"#ed7953\"],[0.7777777777777778,\"#fb9f3a\"],[0.8888888888888888,\"#fdca26\"],[1.0,\"#f0f921\"]]}],\"mesh3d\":[{\"type\":\"mesh3d\",\"colorbar\":{\"outlinewidth\":0,\"ticks\":\"\"}}],\"scatter\":[{\"fillpattern\":{\"fillmode\":\"overlay\",\"size\":10,\"solidity\":0.2},\"type\":\"scatter\"}],\"parcoords\":[{\"type\":\"parcoords\",\"line\":{\"colorbar\":{\"outlinewidth\":0,\"ticks\":\"\"}}}],\"scatterpolargl\":[{\"type\":\"scatterpolargl\",\"marker\":{\"colorbar\":{\"outlinewidth\":0,\"ticks\":\"\"}}}],\"bar\":[{\"error_x\":{\"color\":\"#2a3f5f\"},\"error_y\":{\"color\":\"#2a3f5f\"},\"marker\":{\"line\":{\"color\":\"#E5ECF6\",\"width\":0.5},\"pattern\":{\"fillmode\":\"overlay\",\"size\":10,\"solidity\":0.2}},\"type\":\"bar\"}],\"scattergeo\":[{\"type\":\"scattergeo\",\"marker\":{\"colorbar\":{\"outlinewidth\":0,\"ticks\":\"\"}}}],\"scatterpolar\":[{\"type\":\"scatterpolar\",\"marker\":{\"colorbar\":{\"outlinewidth\":0,\"ticks\":\"\"}}}],\"histogram\":[{\"marker\":{\"pattern\":{\"fillmode\":\"overlay\",\"size\":10,\"solidity\":0.2}},\"type\":\"histogram\"}],\"scattergl\":[{\"type\":\"scattergl\",\"marker\":{\"colorbar\":{\"outlinewidth\":0,\"ticks\":\"\"}}}],\"scatter3d\":[{\"type\":\"scatter3d\",\"line\":{\"colorbar\":{\"outlinewidth\":0,\"ticks\":\"\"}},\"marker\":{\"colorbar\":{\"outlinewidth\":0,\"ticks\":\"\"}}}],\"scattermapbox\":[{\"type\":\"scattermapbox\",\"marker\":{\"colorbar\":{\"outlinewidth\":0,\"ticks\":\"\"}}}],\"scatterternary\":[{\"type\":\"scatterternary\",\"marker\":{\"colorbar\":{\"outlinewidth\":0,\"ticks\":\"\"}}}],\"scattercarpet\":[{\"type\":\"scattercarpet\",\"marker\":{\"colorbar\":{\"outlinewidth\":0,\"ticks\":\"\"}}}],\"carpet\":[{\"aaxis\":{\"endlinecolor\":\"#2a3f5f\",\"gridcolor\":\"white\",\"linecolor\":\"white\",\"minorgridcolor\":\"white\",\"startlinecolor\":\"#2a3f5f\"},\"baxis\":{\"endlinecolor\":\"#2a3f5f\",\"gridcolor\":\"white\",\"linecolor\":\"white\",\"minorgridcolor\":\"white\",\"startlinecolor\":\"#2a3f5f\"},\"type\":\"carpet\"}],\"table\":[{\"cells\":{\"fill\":{\"color\":\"#EBF0F8\"},\"line\":{\"color\":\"white\"}},\"header\":{\"fill\":{\"color\":\"#C8D4E3\"},\"line\":{\"color\":\"white\"}},\"type\":\"table\"}],\"barpolar\":[{\"marker\":{\"line\":{\"color\":\"#E5ECF6\",\"width\":0.5},\"pattern\":{\"fillmode\":\"overlay\",\"size\":10,\"solidity\":0.2}},\"type\":\"barpolar\"}],\"pie\":[{\"automargin\":true,\"type\":\"pie\"}]},\"layout\":{\"autotypenumbers\":\"strict\",\"colorway\":[\"#636efa\",\"#EF553B\",\"#00cc96\",\"#ab63fa\",\"#FFA15A\",\"#19d3f3\",\"#FF6692\",\"#B6E880\",\"#FF97FF\",\"#FECB52\"],\"font\":{\"color\":\"#2a3f5f\"},\"hovermode\":\"closest\",\"hoverlabel\":{\"align\":\"left\"},\"paper_bgcolor\":\"white\",\"plot_bgcolor\":\"#E5ECF6\",\"polar\":{\"bgcolor\":\"#E5ECF6\",\"angularaxis\":{\"gridcolor\":\"white\",\"linecolor\":\"white\",\"ticks\":\"\"},\"radialaxis\":{\"gridcolor\":\"white\",\"linecolor\":\"white\",\"ticks\":\"\"}},\"ternary\":{\"bgcolor\":\"#E5ECF6\",\"aaxis\":{\"gridcolor\":\"white\",\"linecolor\":\"white\",\"ticks\":\"\"},\"baxis\":{\"gridcolor\":\"white\",\"linecolor\":\"white\",\"ticks\":\"\"},\"caxis\":{\"gridcolor\":\"white\",\"linecolor\":\"white\",\"ticks\":\"\"}},\"coloraxis\":{\"colorbar\":{\"outlinewidth\":0,\"ticks\":\"\"}},\"colorscale\":{\"sequential\":[[0.0,\"#0d0887\"],[0.1111111111111111,\"#46039f\"],[0.2222222222222222,\"#7201a8\"],[0.3333333333333333,\"#9c179e\"],[0.4444444444444444,\"#bd3786\"],[0.5555555555555556,\"#d8576b\"],[0.6666666666666666,\"#ed7953\"],[0.7777777777777778,\"#fb9f3a\"],[0.8888888888888888,\"#fdca26\"],[1.0,\"#f0f921\"]],\"sequentialminus\":[[0.0,\"#0d0887\"],[0.1111111111111111,\"#46039f\"],[0.2222222222222222,\"#7201a8\"],[0.3333333333333333,\"#9c179e\"],[0.4444444444444444,\"#bd3786\"],[0.5555555555555556,\"#d8576b\"],[0.6666666666666666,\"#ed7953\"],[0.7777777777777778,\"#fb9f3a\"],[0.8888888888888888,\"#fdca26\"],[1.0,\"#f0f921\"]],\"diverging\":[[0,\"#8e0152\"],[0.1,\"#c51b7d\"],[0.2,\"#de77ae\"],[0.3,\"#f1b6da\"],[0.4,\"#fde0ef\"],[0.5,\"#f7f7f7\"],[0.6,\"#e6f5d0\"],[0.7,\"#b8e186\"],[0.8,\"#7fbc41\"],[0.9,\"#4d9221\"],[1,\"#276419\"]]},\"xaxis\":{\"gridcolor\":\"white\",\"linecolor\":\"white\",\"ticks\":\"\",\"title\":{\"standoff\":15},\"zerolinecolor\":\"white\",\"automargin\":true,\"zerolinewidth\":2},\"yaxis\":{\"gridcolor\":\"white\",\"linecolor\":\"white\",\"ticks\":\"\",\"title\":{\"standoff\":15},\"zerolinecolor\":\"white\",\"automargin\":true,\"zerolinewidth\":2},\"scene\":{\"xaxis\":{\"backgroundcolor\":\"#E5ECF6\",\"gridcolor\":\"white\",\"linecolor\":\"white\",\"showbackground\":true,\"ticks\":\"\",\"zerolinecolor\":\"white\",\"gridwidth\":2},\"yaxis\":{\"backgroundcolor\":\"#E5ECF6\",\"gridcolor\":\"white\",\"linecolor\":\"white\",\"showbackground\":true,\"ticks\":\"\",\"zerolinecolor\":\"white\",\"gridwidth\":2},\"zaxis\":{\"backgroundcolor\":\"#E5ECF6\",\"gridcolor\":\"white\",\"linecolor\":\"white\",\"showbackground\":true,\"ticks\":\"\",\"zerolinecolor\":\"white\",\"gridwidth\":2}},\"shapedefaults\":{\"line\":{\"color\":\"#2a3f5f\"}},\"annotationdefaults\":{\"arrowcolor\":\"#2a3f5f\",\"arrowhead\":0,\"arrowwidth\":1},\"geo\":{\"bgcolor\":\"white\",\"landcolor\":\"#E5ECF6\",\"subunitcolor\":\"white\",\"showland\":true,\"showlakes\":true,\"lakecolor\":\"white\"},\"title\":{\"x\":0.05},\"mapbox\":{\"style\":\"light\"}}},\"title\":{\"text\":\"Continuous Signal\"},\"xaxis\":{\"title\":{\"text\":\"Index\"}},\"yaxis\":{\"title\":{\"text\":\"Amplitude\"}},\"width\":1000,\"height\":500},                        {\"responsive\": true}                    ).then(function(){\n",
       "                            \n",
       "var gd = document.getElementById('de31d311-9aa4-4ba3-870c-d66e784b3091');\n",
       "var x = new MutationObserver(function (mutations, observer) {{\n",
       "        var display = window.getComputedStyle(gd).display;\n",
       "        if (!display || display === 'none') {{\n",
       "            console.log([gd, 'removed!']);\n",
       "            Plotly.purge(gd);\n",
       "            observer.disconnect();\n",
       "        }}\n",
       "}});\n",
       "\n",
       "// Listen for the removal of the full notebook cells\n",
       "var notebookContainer = gd.closest('#notebook-container');\n",
       "if (notebookContainer) {{\n",
       "    x.observe(notebookContainer, {childList: true});\n",
       "}}\n",
       "\n",
       "// Listen for the clearing of the current output cell\n",
       "var outputEl = gd.closest('.output');\n",
       "if (outputEl) {{\n",
       "    x.observe(outputEl, {childList: true});\n",
       "}}\n",
       "\n",
       "                        })                };                            </script>        </div>\n",
       "</body>\n",
       "</html>"
      ]
     },
     "metadata": {},
     "output_type": "display_data"
    }
   ],
   "source": [
    "draw(healthyDetails[0])"
   ]
  },
  {
   "cell_type": "code",
   "execution_count": 14,
   "id": "508ec238",
   "metadata": {
    "execution": {
     "iopub.execute_input": "2024-12-22T18:17:13.708386Z",
     "iopub.status.busy": "2024-12-22T18:17:13.708012Z",
     "iopub.status.idle": "2024-12-22T18:17:13.719490Z",
     "shell.execute_reply": "2024-12-22T18:17:13.718503Z"
    },
    "papermill": {
     "duration": 0.02283,
     "end_time": "2024-12-22T18:17:13.721266",
     "exception": false,
     "start_time": "2024-12-22T18:17:13.698436",
     "status": "completed"
    },
    "tags": []
   },
   "outputs": [
    {
     "data": {
      "text/html": [
       "<html>\n",
       "<head><meta charset=\"utf-8\" /></head>\n",
       "<body>\n",
       "    <div>            <script src=\"https://cdnjs.cloudflare.com/ajax/libs/mathjax/2.7.5/MathJax.js?config=TeX-AMS-MML_SVG\"></script><script type=\"text/javascript\">if (window.MathJax && window.MathJax.Hub && window.MathJax.Hub.Config) {window.MathJax.Hub.Config({SVG: {font: \"STIX-Web\"}});}</script>                <script type=\"text/javascript\">window.PlotlyConfig = {MathJaxConfig: 'local'};</script>\n",
       "        <script charset=\"utf-8\" src=\"https://cdn.plot.ly/plotly-2.35.2.min.js\"></script>                <div id=\"dea7cb56-cd43-45dd-b696-123b790416ec\" class=\"plotly-graph-div\" style=\"height:500px; width:1000px;\"></div>            <script type=\"text/javascript\">                                    window.PLOTLYENV=window.PLOTLYENV || {};                                    if (document.getElementById(\"dea7cb56-cd43-45dd-b696-123b790416ec\")) {                    Plotly.newPlot(                        \"dea7cb56-cd43-45dd-b696-123b790416ec\",                        [{\"mode\":\"lines\",\"name\":\"Continuous Signal\",\"y\":[0.00020301081913501906,7.230677335266146e-05,0.00040252641489426527,-0.0008830914500138228,0.0003397204083229242,0.0006039502180904977,-0.00098793387766474,-0.0001251911138222811,0.0013366832031166363,-0.00044788734401016264,-0.0012266796033647063,0.001207852754491049,2.29975344916892e-06,-0.0009126355595890979,0.0009052076598524699,-0.00014477044555020397,-0.00011524912510542994,0.00023854823356427496,-0.0008239112694711258,0.0004097873549621079,0.0007445988412512779,-0.0011268664276090597,0.00031216852537020024,0.0013276143764242385,-0.0012610058440694011,-0.00098306383601394,0.001324109376831918,0.00041240043533158653,-0.00085598199697076,0.0004721138262137884,-0.00017223095951537104,-0.0004618730855309545,0.00034488604294959335,2.1222162090459484e-05,0.00014963774978959713,0.00026965033543290803,-0.0007040819335526095,7.81406011256998e-05,0.00042026943833615646,-0.00019324841243994779,-0.0003652398116098879,0.0006159765278716474,-0.0008535618485332187,-0.00025046315395205036,0.0026460716351155798,0.00019791490390333758,-0.0027612009293028284,-0.00021068229371250073,0.0012888651958879432,0.0008227982657842171,0.00035089321655515544,0.001687147722376943,0.0017589825071954324,-0.008619593866601535,-0.010034760797172464,0.006409998765646499,0.011301337151987001,0.0026296221729792905,-0.0033037897155617606,-0.003213754812818711,0.0003593975382228283,-0.00019560771242890101,-0.0005274142591216342,-6.904007188834882e-05,0.0004746778330387228,0.0008264204243394867,-0.0014837643269953772,-0.001471211382242977,0.0012787744394172325,0.0013579250655960176,0.0004415973687238242,0.0004068345007981469,-0.00045820830963316534,-0.0016172876018730276,-0.0002905453904996035,0.0004862348650676645,0.00032595997233998133,0.00016114055318975935,-0.0003517747961140046,-7.478424248183631e-05,0.0009159002432630181,-0.00017580004795225614,-0.0009398887382065348,-0.00011806941300761004,0.0007288661814811625,0.0005426926620959605,-0.0003169144430630131,-0.0007586406265810306,0.000320176501623054,0.0006810139237500325,-0.0004847279037593867,-0.0004477576683495242,0.00046706899547137824,-1.7601093444568824e-05,-0.00023163734675780458,0.0008354631287598845,-0.0006819575247829883,-0.0004207278984458534,0.0011207845054073424,-0.0007630614874943511,-0.0008175524623616811,0.0015984882532923284,-0.00043615838687627827,-0.0009235416490107661,0.0009006457086422502,-0.00023680614154014852,-0.0006131117772627008,0.0011746314374701007,-0.0002523966322915249,-0.000816604332240138,0.0004660939072431919,-8.273509677711672e-05,-0.0003347815585536095,0.000688353053436419,0.0001270586296311274,-0.0009042904769929337,0.0007175700845467219,0.0002154192299757985,-0.00039549710620236534,0.00021705587656620142,-0.0005535313995415469,0.00017992546031128133,0.0008565008572280035,-0.0008927178360282487,-0.00017444738510391088,0.001142148870524478,-0.0009183839104152363,-0.0006655681791665462,0.0013458258197698606,-0.00017361927776700717,-0.0008926840197021873,0.0007567051951326044,-5.565109608937895e-05,-0.0006362015388848745,0.0009903512089836216,-5.2232146302668044e-05,-0.0011806139510530615,0.00026172714601125843,0.0008735912370421766,0.000154926021975396,-0.0007502914541120268,-0.00044362906162302143,0.0008578773695010022,0.00041983396506877326,-0.0013420438161717606,0.0003703934984164818,0.0012118457118138605,-0.0007327232932970522,-0.0008652400235358662,0.0008549765670499182,-0.00012912599262006113,-0.0004170130946090896,0.0010394993790299647],\"type\":\"scatter\"}],                        {\"template\":{\"data\":{\"histogram2dcontour\":[{\"type\":\"histogram2dcontour\",\"colorbar\":{\"outlinewidth\":0,\"ticks\":\"\"},\"colorscale\":[[0.0,\"#0d0887\"],[0.1111111111111111,\"#46039f\"],[0.2222222222222222,\"#7201a8\"],[0.3333333333333333,\"#9c179e\"],[0.4444444444444444,\"#bd3786\"],[0.5555555555555556,\"#d8576b\"],[0.6666666666666666,\"#ed7953\"],[0.7777777777777778,\"#fb9f3a\"],[0.8888888888888888,\"#fdca26\"],[1.0,\"#f0f921\"]]}],\"choropleth\":[{\"type\":\"choropleth\",\"colorbar\":{\"outlinewidth\":0,\"ticks\":\"\"}}],\"histogram2d\":[{\"type\":\"histogram2d\",\"colorbar\":{\"outlinewidth\":0,\"ticks\":\"\"},\"colorscale\":[[0.0,\"#0d0887\"],[0.1111111111111111,\"#46039f\"],[0.2222222222222222,\"#7201a8\"],[0.3333333333333333,\"#9c179e\"],[0.4444444444444444,\"#bd3786\"],[0.5555555555555556,\"#d8576b\"],[0.6666666666666666,\"#ed7953\"],[0.7777777777777778,\"#fb9f3a\"],[0.8888888888888888,\"#fdca26\"],[1.0,\"#f0f921\"]]}],\"heatmap\":[{\"type\":\"heatmap\",\"colorbar\":{\"outlinewidth\":0,\"ticks\":\"\"},\"colorscale\":[[0.0,\"#0d0887\"],[0.1111111111111111,\"#46039f\"],[0.2222222222222222,\"#7201a8\"],[0.3333333333333333,\"#9c179e\"],[0.4444444444444444,\"#bd3786\"],[0.5555555555555556,\"#d8576b\"],[0.6666666666666666,\"#ed7953\"],[0.7777777777777778,\"#fb9f3a\"],[0.8888888888888888,\"#fdca26\"],[1.0,\"#f0f921\"]]}],\"heatmapgl\":[{\"type\":\"heatmapgl\",\"colorbar\":{\"outlinewidth\":0,\"ticks\":\"\"},\"colorscale\":[[0.0,\"#0d0887\"],[0.1111111111111111,\"#46039f\"],[0.2222222222222222,\"#7201a8\"],[0.3333333333333333,\"#9c179e\"],[0.4444444444444444,\"#bd3786\"],[0.5555555555555556,\"#d8576b\"],[0.6666666666666666,\"#ed7953\"],[0.7777777777777778,\"#fb9f3a\"],[0.8888888888888888,\"#fdca26\"],[1.0,\"#f0f921\"]]}],\"contourcarpet\":[{\"type\":\"contourcarpet\",\"colorbar\":{\"outlinewidth\":0,\"ticks\":\"\"}}],\"contour\":[{\"type\":\"contour\",\"colorbar\":{\"outlinewidth\":0,\"ticks\":\"\"},\"colorscale\":[[0.0,\"#0d0887\"],[0.1111111111111111,\"#46039f\"],[0.2222222222222222,\"#7201a8\"],[0.3333333333333333,\"#9c179e\"],[0.4444444444444444,\"#bd3786\"],[0.5555555555555556,\"#d8576b\"],[0.6666666666666666,\"#ed7953\"],[0.7777777777777778,\"#fb9f3a\"],[0.8888888888888888,\"#fdca26\"],[1.0,\"#f0f921\"]]}],\"surface\":[{\"type\":\"surface\",\"colorbar\":{\"outlinewidth\":0,\"ticks\":\"\"},\"colorscale\":[[0.0,\"#0d0887\"],[0.1111111111111111,\"#46039f\"],[0.2222222222222222,\"#7201a8\"],[0.3333333333333333,\"#9c179e\"],[0.4444444444444444,\"#bd3786\"],[0.5555555555555556,\"#d8576b\"],[0.6666666666666666,\"#ed7953\"],[0.7777777777777778,\"#fb9f3a\"],[0.8888888888888888,\"#fdca26\"],[1.0,\"#f0f921\"]]}],\"mesh3d\":[{\"type\":\"mesh3d\",\"colorbar\":{\"outlinewidth\":0,\"ticks\":\"\"}}],\"scatter\":[{\"fillpattern\":{\"fillmode\":\"overlay\",\"size\":10,\"solidity\":0.2},\"type\":\"scatter\"}],\"parcoords\":[{\"type\":\"parcoords\",\"line\":{\"colorbar\":{\"outlinewidth\":0,\"ticks\":\"\"}}}],\"scatterpolargl\":[{\"type\":\"scatterpolargl\",\"marker\":{\"colorbar\":{\"outlinewidth\":0,\"ticks\":\"\"}}}],\"bar\":[{\"error_x\":{\"color\":\"#2a3f5f\"},\"error_y\":{\"color\":\"#2a3f5f\"},\"marker\":{\"line\":{\"color\":\"#E5ECF6\",\"width\":0.5},\"pattern\":{\"fillmode\":\"overlay\",\"size\":10,\"solidity\":0.2}},\"type\":\"bar\"}],\"scattergeo\":[{\"type\":\"scattergeo\",\"marker\":{\"colorbar\":{\"outlinewidth\":0,\"ticks\":\"\"}}}],\"scatterpolar\":[{\"type\":\"scatterpolar\",\"marker\":{\"colorbar\":{\"outlinewidth\":0,\"ticks\":\"\"}}}],\"histogram\":[{\"marker\":{\"pattern\":{\"fillmode\":\"overlay\",\"size\":10,\"solidity\":0.2}},\"type\":\"histogram\"}],\"scattergl\":[{\"type\":\"scattergl\",\"marker\":{\"colorbar\":{\"outlinewidth\":0,\"ticks\":\"\"}}}],\"scatter3d\":[{\"type\":\"scatter3d\",\"line\":{\"colorbar\":{\"outlinewidth\":0,\"ticks\":\"\"}},\"marker\":{\"colorbar\":{\"outlinewidth\":0,\"ticks\":\"\"}}}],\"scattermapbox\":[{\"type\":\"scattermapbox\",\"marker\":{\"colorbar\":{\"outlinewidth\":0,\"ticks\":\"\"}}}],\"scatterternary\":[{\"type\":\"scatterternary\",\"marker\":{\"colorbar\":{\"outlinewidth\":0,\"ticks\":\"\"}}}],\"scattercarpet\":[{\"type\":\"scattercarpet\",\"marker\":{\"colorbar\":{\"outlinewidth\":0,\"ticks\":\"\"}}}],\"carpet\":[{\"aaxis\":{\"endlinecolor\":\"#2a3f5f\",\"gridcolor\":\"white\",\"linecolor\":\"white\",\"minorgridcolor\":\"white\",\"startlinecolor\":\"#2a3f5f\"},\"baxis\":{\"endlinecolor\":\"#2a3f5f\",\"gridcolor\":\"white\",\"linecolor\":\"white\",\"minorgridcolor\":\"white\",\"startlinecolor\":\"#2a3f5f\"},\"type\":\"carpet\"}],\"table\":[{\"cells\":{\"fill\":{\"color\":\"#EBF0F8\"},\"line\":{\"color\":\"white\"}},\"header\":{\"fill\":{\"color\":\"#C8D4E3\"},\"line\":{\"color\":\"white\"}},\"type\":\"table\"}],\"barpolar\":[{\"marker\":{\"line\":{\"color\":\"#E5ECF6\",\"width\":0.5},\"pattern\":{\"fillmode\":\"overlay\",\"size\":10,\"solidity\":0.2}},\"type\":\"barpolar\"}],\"pie\":[{\"automargin\":true,\"type\":\"pie\"}]},\"layout\":{\"autotypenumbers\":\"strict\",\"colorway\":[\"#636efa\",\"#EF553B\",\"#00cc96\",\"#ab63fa\",\"#FFA15A\",\"#19d3f3\",\"#FF6692\",\"#B6E880\",\"#FF97FF\",\"#FECB52\"],\"font\":{\"color\":\"#2a3f5f\"},\"hovermode\":\"closest\",\"hoverlabel\":{\"align\":\"left\"},\"paper_bgcolor\":\"white\",\"plot_bgcolor\":\"#E5ECF6\",\"polar\":{\"bgcolor\":\"#E5ECF6\",\"angularaxis\":{\"gridcolor\":\"white\",\"linecolor\":\"white\",\"ticks\":\"\"},\"radialaxis\":{\"gridcolor\":\"white\",\"linecolor\":\"white\",\"ticks\":\"\"}},\"ternary\":{\"bgcolor\":\"#E5ECF6\",\"aaxis\":{\"gridcolor\":\"white\",\"linecolor\":\"white\",\"ticks\":\"\"},\"baxis\":{\"gridcolor\":\"white\",\"linecolor\":\"white\",\"ticks\":\"\"},\"caxis\":{\"gridcolor\":\"white\",\"linecolor\":\"white\",\"ticks\":\"\"}},\"coloraxis\":{\"colorbar\":{\"outlinewidth\":0,\"ticks\":\"\"}},\"colorscale\":{\"sequential\":[[0.0,\"#0d0887\"],[0.1111111111111111,\"#46039f\"],[0.2222222222222222,\"#7201a8\"],[0.3333333333333333,\"#9c179e\"],[0.4444444444444444,\"#bd3786\"],[0.5555555555555556,\"#d8576b\"],[0.6666666666666666,\"#ed7953\"],[0.7777777777777778,\"#fb9f3a\"],[0.8888888888888888,\"#fdca26\"],[1.0,\"#f0f921\"]],\"sequentialminus\":[[0.0,\"#0d0887\"],[0.1111111111111111,\"#46039f\"],[0.2222222222222222,\"#7201a8\"],[0.3333333333333333,\"#9c179e\"],[0.4444444444444444,\"#bd3786\"],[0.5555555555555556,\"#d8576b\"],[0.6666666666666666,\"#ed7953\"],[0.7777777777777778,\"#fb9f3a\"],[0.8888888888888888,\"#fdca26\"],[1.0,\"#f0f921\"]],\"diverging\":[[0,\"#8e0152\"],[0.1,\"#c51b7d\"],[0.2,\"#de77ae\"],[0.3,\"#f1b6da\"],[0.4,\"#fde0ef\"],[0.5,\"#f7f7f7\"],[0.6,\"#e6f5d0\"],[0.7,\"#b8e186\"],[0.8,\"#7fbc41\"],[0.9,\"#4d9221\"],[1,\"#276419\"]]},\"xaxis\":{\"gridcolor\":\"white\",\"linecolor\":\"white\",\"ticks\":\"\",\"title\":{\"standoff\":15},\"zerolinecolor\":\"white\",\"automargin\":true,\"zerolinewidth\":2},\"yaxis\":{\"gridcolor\":\"white\",\"linecolor\":\"white\",\"ticks\":\"\",\"title\":{\"standoff\":15},\"zerolinecolor\":\"white\",\"automargin\":true,\"zerolinewidth\":2},\"scene\":{\"xaxis\":{\"backgroundcolor\":\"#E5ECF6\",\"gridcolor\":\"white\",\"linecolor\":\"white\",\"showbackground\":true,\"ticks\":\"\",\"zerolinecolor\":\"white\",\"gridwidth\":2},\"yaxis\":{\"backgroundcolor\":\"#E5ECF6\",\"gridcolor\":\"white\",\"linecolor\":\"white\",\"showbackground\":true,\"ticks\":\"\",\"zerolinecolor\":\"white\",\"gridwidth\":2},\"zaxis\":{\"backgroundcolor\":\"#E5ECF6\",\"gridcolor\":\"white\",\"linecolor\":\"white\",\"showbackground\":true,\"ticks\":\"\",\"zerolinecolor\":\"white\",\"gridwidth\":2}},\"shapedefaults\":{\"line\":{\"color\":\"#2a3f5f\"}},\"annotationdefaults\":{\"arrowcolor\":\"#2a3f5f\",\"arrowhead\":0,\"arrowwidth\":1},\"geo\":{\"bgcolor\":\"white\",\"landcolor\":\"#E5ECF6\",\"subunitcolor\":\"white\",\"showland\":true,\"showlakes\":true,\"lakecolor\":\"white\"},\"title\":{\"x\":0.05},\"mapbox\":{\"style\":\"light\"}}},\"title\":{\"text\":\"Continuous Signal\"},\"xaxis\":{\"title\":{\"text\":\"Index\"}},\"yaxis\":{\"title\":{\"text\":\"Amplitude\"}},\"width\":1000,\"height\":500},                        {\"responsive\": true}                    ).then(function(){\n",
       "                            \n",
       "var gd = document.getElementById('dea7cb56-cd43-45dd-b696-123b790416ec');\n",
       "var x = new MutationObserver(function (mutations, observer) {{\n",
       "        var display = window.getComputedStyle(gd).display;\n",
       "        if (!display || display === 'none') {{\n",
       "            console.log([gd, 'removed!']);\n",
       "            Plotly.purge(gd);\n",
       "            observer.disconnect();\n",
       "        }}\n",
       "}});\n",
       "\n",
       "// Listen for the removal of the full notebook cells\n",
       "var notebookContainer = gd.closest('#notebook-container');\n",
       "if (notebookContainer) {{\n",
       "    x.observe(notebookContainer, {childList: true});\n",
       "}}\n",
       "\n",
       "// Listen for the clearing of the current output cell\n",
       "var outputEl = gd.closest('.output');\n",
       "if (outputEl) {{\n",
       "    x.observe(outputEl, {childList: true});\n",
       "}}\n",
       "\n",
       "                        })                };                            </script>        </div>\n",
       "</body>\n",
       "</html>"
      ]
     },
     "metadata": {},
     "output_type": "display_data"
    }
   ],
   "source": [
    "draw(PVCDetails[0])"
   ]
  },
  {
   "cell_type": "code",
   "execution_count": 15,
   "id": "26946b40",
   "metadata": {
    "execution": {
     "iopub.execute_input": "2024-12-22T18:17:13.739582Z",
     "iopub.status.busy": "2024-12-22T18:17:13.739214Z",
     "iopub.status.idle": "2024-12-22T18:17:13.750600Z",
     "shell.execute_reply": "2024-12-22T18:17:13.749353Z"
    },
    "papermill": {
     "duration": 0.022362,
     "end_time": "2024-12-22T18:17:13.752437",
     "exception": false,
     "start_time": "2024-12-22T18:17:13.730075",
     "status": "completed"
    },
    "tags": []
   },
   "outputs": [
    {
     "data": {
      "text/html": [
       "<html>\n",
       "<head><meta charset=\"utf-8\" /></head>\n",
       "<body>\n",
       "    <div>            <script src=\"https://cdnjs.cloudflare.com/ajax/libs/mathjax/2.7.5/MathJax.js?config=TeX-AMS-MML_SVG\"></script><script type=\"text/javascript\">if (window.MathJax && window.MathJax.Hub && window.MathJax.Hub.Config) {window.MathJax.Hub.Config({SVG: {font: \"STIX-Web\"}});}</script>                <script type=\"text/javascript\">window.PlotlyConfig = {MathJaxConfig: 'local'};</script>\n",
       "        <script charset=\"utf-8\" src=\"https://cdn.plot.ly/plotly-2.35.2.min.js\"></script>                <div id=\"b6aa60f9-b08d-48f5-9879-9380659ec0f1\" class=\"plotly-graph-div\" style=\"height:500px; width:1000px;\"></div>            <script type=\"text/javascript\">                                    window.PLOTLYENV=window.PLOTLYENV || {};                                    if (document.getElementById(\"b6aa60f9-b08d-48f5-9879-9380659ec0f1\")) {                    Plotly.newPlot(                        \"b6aa60f9-b08d-48f5-9879-9380659ec0f1\",                        [{\"mode\":\"lines\",\"name\":\"Continuous Signal\",\"y\":[-1.9287607732986026e-05,0.00011517053674752715,-0.0005253500190998615,0.0002954610086213592,0.0005489824217726205,-0.0002850897173535144,-0.00018072334452898353,7.551732312132655e-05,-0.00030587170038250355,0.0004638793510256324,0.00015666925891739896,-0.0008451467199115201,0.00020004420598430424,0.0007738769660240373,-0.00021007564340910691,-0.0004734808353440284,-1.3177175266743623e-06,0.00027163538559510754,0.0005393817908429118,-0.0003059885976078391,-0.0008859367098514571,0.0002213279039804722,0.0006064537261257124,-0.00023412403381356918,-0.0002122878291293263,0.0011455952765565241,-0.000572075375336828,-0.0013394004616965824,0.0002707828747204779,0.0006732536817634489,0.0007177646091592681,-3.577803724958057e-05,-0.0009554016045354594,-0.00012165860334117755,0.00037214579968352626,0.00011216335319101862,0.0003398755240101998,-6.469336891958368e-05,-0.0009226404593906517,0.0006134853996850191,0.0005944619619183968,-0.0004455434674430419,-0.00013967780065239892,-0.00046910232097000665,-0.001480212444638776,-0.0008178278752359853,0.0021912654882832016,0.0016539870891465053,0.0038906474299278937,0.003127291821679615,-0.00319610975341889,-0.010217069556205641,-0.007553460719729363,0.006227402316691577,0.009999429835405013,0.003295793325703739,-0.0035854802696082657,-0.004254732529992786,-0.0003287915360308657,0.0012003422474874451,0.0007751180982993574,7.019406279041652e-05,-0.0010327661848625051,7.557938443986025e-05,0.0006334350325225896,-4.624166330686715e-05,0.000193429468463349,-0.00040805702829900667,-0.0006414675534670779,0.0007571470362649339,0.00043809855048705247,-0.0006553065523564423,-4.6370901924734555e-05,0.00010086251099907092,3.3918681458638186e-05,0.0003089417260283829,-7.181989742474724e-05,-0.0005547728317630844,0.0004949776347355646,0.00011283786854492323,-0.0006953383368464919,0.0005535626519921314,0.00034492013263101996,-0.0008254617161613656,0.00026885505957122884,0.0005457274379589578,-0.0007596532613027756,0.00021789898645952822,0.00043385089965599917,-0.0004901922605722804,0.00012200834262626433,0.00016644587461088522,-0.00028609466014535144,0.0002524232799994414,0.00013806364117212994,-0.0006467728964685364,0.0004880929244442659,0.0002317968701370111,-0.0006017379443415932,0.00031267996619361573,0.00023109880393293205,-0.0006245164355180915,0.00033863261825589587,0.0002892017718806747,-0.0004920780178285267,0.00041167345662667797,0.00033725025336032424,-0.0007478312590106093,0.00030822173768546313,0.00012481039498605444,-0.0006754513651440232,0.0004872324506915741,0.0004136490655042831,-0.0007387259499280915,0.00022426005548421965,0.00041314308007253946,-0.000637309534331781,0.0003595296391937482,0.00028812352431388,-0.0006063476451286442,0.000223558757523437,0.00019763754256215717,-0.00031688346571375967,0.00043146117848001,7.934278975608696e-06,-0.0006779585505725086,0.00035554068508639137,0.00023854585962092842,-0.00027919625124440245,0.0002117211576392763,1.1269182807697314e-06,-0.0004295751613694129,0.00029953213285702966,0.00037360357264766217,-0.0006304445008630996,0.00022387860266860068,0.00036292918740548003,-0.000565009461524719,0.0003698543314564025,8.769516549601576e-05,-0.0005892251932874779,0.0005597641018046956,0.00015653714807164674,-0.0008134740998236754,0.0002868111885218676,0.0005347553817422559,-0.0003022061319786154,8.077433290817012e-05,2.3354181482458463e-05,-0.0005550425686457834,0.0003645778051404613,0.000567549433946197,-0.0005557079065020712],\"type\":\"scatter\"}],                        {\"template\":{\"data\":{\"histogram2dcontour\":[{\"type\":\"histogram2dcontour\",\"colorbar\":{\"outlinewidth\":0,\"ticks\":\"\"},\"colorscale\":[[0.0,\"#0d0887\"],[0.1111111111111111,\"#46039f\"],[0.2222222222222222,\"#7201a8\"],[0.3333333333333333,\"#9c179e\"],[0.4444444444444444,\"#bd3786\"],[0.5555555555555556,\"#d8576b\"],[0.6666666666666666,\"#ed7953\"],[0.7777777777777778,\"#fb9f3a\"],[0.8888888888888888,\"#fdca26\"],[1.0,\"#f0f921\"]]}],\"choropleth\":[{\"type\":\"choropleth\",\"colorbar\":{\"outlinewidth\":0,\"ticks\":\"\"}}],\"histogram2d\":[{\"type\":\"histogram2d\",\"colorbar\":{\"outlinewidth\":0,\"ticks\":\"\"},\"colorscale\":[[0.0,\"#0d0887\"],[0.1111111111111111,\"#46039f\"],[0.2222222222222222,\"#7201a8\"],[0.3333333333333333,\"#9c179e\"],[0.4444444444444444,\"#bd3786\"],[0.5555555555555556,\"#d8576b\"],[0.6666666666666666,\"#ed7953\"],[0.7777777777777778,\"#fb9f3a\"],[0.8888888888888888,\"#fdca26\"],[1.0,\"#f0f921\"]]}],\"heatmap\":[{\"type\":\"heatmap\",\"colorbar\":{\"outlinewidth\":0,\"ticks\":\"\"},\"colorscale\":[[0.0,\"#0d0887\"],[0.1111111111111111,\"#46039f\"],[0.2222222222222222,\"#7201a8\"],[0.3333333333333333,\"#9c179e\"],[0.4444444444444444,\"#bd3786\"],[0.5555555555555556,\"#d8576b\"],[0.6666666666666666,\"#ed7953\"],[0.7777777777777778,\"#fb9f3a\"],[0.8888888888888888,\"#fdca26\"],[1.0,\"#f0f921\"]]}],\"heatmapgl\":[{\"type\":\"heatmapgl\",\"colorbar\":{\"outlinewidth\":0,\"ticks\":\"\"},\"colorscale\":[[0.0,\"#0d0887\"],[0.1111111111111111,\"#46039f\"],[0.2222222222222222,\"#7201a8\"],[0.3333333333333333,\"#9c179e\"],[0.4444444444444444,\"#bd3786\"],[0.5555555555555556,\"#d8576b\"],[0.6666666666666666,\"#ed7953\"],[0.7777777777777778,\"#fb9f3a\"],[0.8888888888888888,\"#fdca26\"],[1.0,\"#f0f921\"]]}],\"contourcarpet\":[{\"type\":\"contourcarpet\",\"colorbar\":{\"outlinewidth\":0,\"ticks\":\"\"}}],\"contour\":[{\"type\":\"contour\",\"colorbar\":{\"outlinewidth\":0,\"ticks\":\"\"},\"colorscale\":[[0.0,\"#0d0887\"],[0.1111111111111111,\"#46039f\"],[0.2222222222222222,\"#7201a8\"],[0.3333333333333333,\"#9c179e\"],[0.4444444444444444,\"#bd3786\"],[0.5555555555555556,\"#d8576b\"],[0.6666666666666666,\"#ed7953\"],[0.7777777777777778,\"#fb9f3a\"],[0.8888888888888888,\"#fdca26\"],[1.0,\"#f0f921\"]]}],\"surface\":[{\"type\":\"surface\",\"colorbar\":{\"outlinewidth\":0,\"ticks\":\"\"},\"colorscale\":[[0.0,\"#0d0887\"],[0.1111111111111111,\"#46039f\"],[0.2222222222222222,\"#7201a8\"],[0.3333333333333333,\"#9c179e\"],[0.4444444444444444,\"#bd3786\"],[0.5555555555555556,\"#d8576b\"],[0.6666666666666666,\"#ed7953\"],[0.7777777777777778,\"#fb9f3a\"],[0.8888888888888888,\"#fdca26\"],[1.0,\"#f0f921\"]]}],\"mesh3d\":[{\"type\":\"mesh3d\",\"colorbar\":{\"outlinewidth\":0,\"ticks\":\"\"}}],\"scatter\":[{\"fillpattern\":{\"fillmode\":\"overlay\",\"size\":10,\"solidity\":0.2},\"type\":\"scatter\"}],\"parcoords\":[{\"type\":\"parcoords\",\"line\":{\"colorbar\":{\"outlinewidth\":0,\"ticks\":\"\"}}}],\"scatterpolargl\":[{\"type\":\"scatterpolargl\",\"marker\":{\"colorbar\":{\"outlinewidth\":0,\"ticks\":\"\"}}}],\"bar\":[{\"error_x\":{\"color\":\"#2a3f5f\"},\"error_y\":{\"color\":\"#2a3f5f\"},\"marker\":{\"line\":{\"color\":\"#E5ECF6\",\"width\":0.5},\"pattern\":{\"fillmode\":\"overlay\",\"size\":10,\"solidity\":0.2}},\"type\":\"bar\"}],\"scattergeo\":[{\"type\":\"scattergeo\",\"marker\":{\"colorbar\":{\"outlinewidth\":0,\"ticks\":\"\"}}}],\"scatterpolar\":[{\"type\":\"scatterpolar\",\"marker\":{\"colorbar\":{\"outlinewidth\":0,\"ticks\":\"\"}}}],\"histogram\":[{\"marker\":{\"pattern\":{\"fillmode\":\"overlay\",\"size\":10,\"solidity\":0.2}},\"type\":\"histogram\"}],\"scattergl\":[{\"type\":\"scattergl\",\"marker\":{\"colorbar\":{\"outlinewidth\":0,\"ticks\":\"\"}}}],\"scatter3d\":[{\"type\":\"scatter3d\",\"line\":{\"colorbar\":{\"outlinewidth\":0,\"ticks\":\"\"}},\"marker\":{\"colorbar\":{\"outlinewidth\":0,\"ticks\":\"\"}}}],\"scattermapbox\":[{\"type\":\"scattermapbox\",\"marker\":{\"colorbar\":{\"outlinewidth\":0,\"ticks\":\"\"}}}],\"scatterternary\":[{\"type\":\"scatterternary\",\"marker\":{\"colorbar\":{\"outlinewidth\":0,\"ticks\":\"\"}}}],\"scattercarpet\":[{\"type\":\"scattercarpet\",\"marker\":{\"colorbar\":{\"outlinewidth\":0,\"ticks\":\"\"}}}],\"carpet\":[{\"aaxis\":{\"endlinecolor\":\"#2a3f5f\",\"gridcolor\":\"white\",\"linecolor\":\"white\",\"minorgridcolor\":\"white\",\"startlinecolor\":\"#2a3f5f\"},\"baxis\":{\"endlinecolor\":\"#2a3f5f\",\"gridcolor\":\"white\",\"linecolor\":\"white\",\"minorgridcolor\":\"white\",\"startlinecolor\":\"#2a3f5f\"},\"type\":\"carpet\"}],\"table\":[{\"cells\":{\"fill\":{\"color\":\"#EBF0F8\"},\"line\":{\"color\":\"white\"}},\"header\":{\"fill\":{\"color\":\"#C8D4E3\"},\"line\":{\"color\":\"white\"}},\"type\":\"table\"}],\"barpolar\":[{\"marker\":{\"line\":{\"color\":\"#E5ECF6\",\"width\":0.5},\"pattern\":{\"fillmode\":\"overlay\",\"size\":10,\"solidity\":0.2}},\"type\":\"barpolar\"}],\"pie\":[{\"automargin\":true,\"type\":\"pie\"}]},\"layout\":{\"autotypenumbers\":\"strict\",\"colorway\":[\"#636efa\",\"#EF553B\",\"#00cc96\",\"#ab63fa\",\"#FFA15A\",\"#19d3f3\",\"#FF6692\",\"#B6E880\",\"#FF97FF\",\"#FECB52\"],\"font\":{\"color\":\"#2a3f5f\"},\"hovermode\":\"closest\",\"hoverlabel\":{\"align\":\"left\"},\"paper_bgcolor\":\"white\",\"plot_bgcolor\":\"#E5ECF6\",\"polar\":{\"bgcolor\":\"#E5ECF6\",\"angularaxis\":{\"gridcolor\":\"white\",\"linecolor\":\"white\",\"ticks\":\"\"},\"radialaxis\":{\"gridcolor\":\"white\",\"linecolor\":\"white\",\"ticks\":\"\"}},\"ternary\":{\"bgcolor\":\"#E5ECF6\",\"aaxis\":{\"gridcolor\":\"white\",\"linecolor\":\"white\",\"ticks\":\"\"},\"baxis\":{\"gridcolor\":\"white\",\"linecolor\":\"white\",\"ticks\":\"\"},\"caxis\":{\"gridcolor\":\"white\",\"linecolor\":\"white\",\"ticks\":\"\"}},\"coloraxis\":{\"colorbar\":{\"outlinewidth\":0,\"ticks\":\"\"}},\"colorscale\":{\"sequential\":[[0.0,\"#0d0887\"],[0.1111111111111111,\"#46039f\"],[0.2222222222222222,\"#7201a8\"],[0.3333333333333333,\"#9c179e\"],[0.4444444444444444,\"#bd3786\"],[0.5555555555555556,\"#d8576b\"],[0.6666666666666666,\"#ed7953\"],[0.7777777777777778,\"#fb9f3a\"],[0.8888888888888888,\"#fdca26\"],[1.0,\"#f0f921\"]],\"sequentialminus\":[[0.0,\"#0d0887\"],[0.1111111111111111,\"#46039f\"],[0.2222222222222222,\"#7201a8\"],[0.3333333333333333,\"#9c179e\"],[0.4444444444444444,\"#bd3786\"],[0.5555555555555556,\"#d8576b\"],[0.6666666666666666,\"#ed7953\"],[0.7777777777777778,\"#fb9f3a\"],[0.8888888888888888,\"#fdca26\"],[1.0,\"#f0f921\"]],\"diverging\":[[0,\"#8e0152\"],[0.1,\"#c51b7d\"],[0.2,\"#de77ae\"],[0.3,\"#f1b6da\"],[0.4,\"#fde0ef\"],[0.5,\"#f7f7f7\"],[0.6,\"#e6f5d0\"],[0.7,\"#b8e186\"],[0.8,\"#7fbc41\"],[0.9,\"#4d9221\"],[1,\"#276419\"]]},\"xaxis\":{\"gridcolor\":\"white\",\"linecolor\":\"white\",\"ticks\":\"\",\"title\":{\"standoff\":15},\"zerolinecolor\":\"white\",\"automargin\":true,\"zerolinewidth\":2},\"yaxis\":{\"gridcolor\":\"white\",\"linecolor\":\"white\",\"ticks\":\"\",\"title\":{\"standoff\":15},\"zerolinecolor\":\"white\",\"automargin\":true,\"zerolinewidth\":2},\"scene\":{\"xaxis\":{\"backgroundcolor\":\"#E5ECF6\",\"gridcolor\":\"white\",\"linecolor\":\"white\",\"showbackground\":true,\"ticks\":\"\",\"zerolinecolor\":\"white\",\"gridwidth\":2},\"yaxis\":{\"backgroundcolor\":\"#E5ECF6\",\"gridcolor\":\"white\",\"linecolor\":\"white\",\"showbackground\":true,\"ticks\":\"\",\"zerolinecolor\":\"white\",\"gridwidth\":2},\"zaxis\":{\"backgroundcolor\":\"#E5ECF6\",\"gridcolor\":\"white\",\"linecolor\":\"white\",\"showbackground\":true,\"ticks\":\"\",\"zerolinecolor\":\"white\",\"gridwidth\":2}},\"shapedefaults\":{\"line\":{\"color\":\"#2a3f5f\"}},\"annotationdefaults\":{\"arrowcolor\":\"#2a3f5f\",\"arrowhead\":0,\"arrowwidth\":1},\"geo\":{\"bgcolor\":\"white\",\"landcolor\":\"#E5ECF6\",\"subunitcolor\":\"white\",\"showland\":true,\"showlakes\":true,\"lakecolor\":\"white\"},\"title\":{\"x\":0.05},\"mapbox\":{\"style\":\"light\"}}},\"title\":{\"text\":\"Continuous Signal\"},\"xaxis\":{\"title\":{\"text\":\"Index\"}},\"yaxis\":{\"title\":{\"text\":\"Amplitude\"}},\"width\":1000,\"height\":500},                        {\"responsive\": true}                    ).then(function(){\n",
       "                            \n",
       "var gd = document.getElementById('b6aa60f9-b08d-48f5-9879-9380659ec0f1');\n",
       "var x = new MutationObserver(function (mutations, observer) {{\n",
       "        var display = window.getComputedStyle(gd).display;\n",
       "        if (!display || display === 'none') {{\n",
       "            console.log([gd, 'removed!']);\n",
       "            Plotly.purge(gd);\n",
       "            observer.disconnect();\n",
       "        }}\n",
       "}});\n",
       "\n",
       "// Listen for the removal of the full notebook cells\n",
       "var notebookContainer = gd.closest('#notebook-container');\n",
       "if (notebookContainer) {{\n",
       "    x.observe(notebookContainer, {childList: true});\n",
       "}}\n",
       "\n",
       "// Listen for the clearing of the current output cell\n",
       "var outputEl = gd.closest('.output');\n",
       "if (outputEl) {{\n",
       "    x.observe(outputEl, {childList: true});\n",
       "}}\n",
       "\n",
       "                        })                };                            </script>        </div>\n",
       "</body>\n",
       "</html>"
      ]
     },
     "metadata": {},
     "output_type": "display_data"
    }
   ],
   "source": [
    "draw(healthyTestDetails[0])"
   ]
  },
  {
   "cell_type": "markdown",
   "id": "325f6265",
   "metadata": {
    "papermill": {
     "duration": 0.007912,
     "end_time": "2024-12-22T18:17:13.768894",
     "exception": false,
     "start_time": "2024-12-22T18:17:13.760982",
     "status": "completed"
    },
    "tags": []
   },
   "source": [
    "### We can see that the difference between them is noticeable "
   ]
  },
  {
   "cell_type": "markdown",
   "id": "5de1dc57",
   "metadata": {
    "papermill": {
     "duration": 0.007888,
     "end_time": "2024-12-22T18:17:13.784999",
     "exception": false,
     "start_time": "2024-12-22T18:17:13.777111",
     "status": "completed"
    },
    "tags": []
   },
   "source": [
    "### We will use min-max scaling so the signal would range from [0,1]"
   ]
  },
  {
   "cell_type": "code",
   "execution_count": 16,
   "id": "d1756398",
   "metadata": {
    "execution": {
     "iopub.execute_input": "2024-12-22T18:17:13.802672Z",
     "iopub.status.busy": "2024-12-22T18:17:13.802245Z",
     "iopub.status.idle": "2024-12-22T18:17:13.807356Z",
     "shell.execute_reply": "2024-12-22T18:17:13.806144Z"
    },
    "papermill": {
     "duration": 0.015897,
     "end_time": "2024-12-22T18:17:13.809030",
     "exception": false,
     "start_time": "2024-12-22T18:17:13.793133",
     "status": "completed"
    },
    "tags": []
   },
   "outputs": [],
   "source": [
    "def normalize(signal):\n",
    "    return (signal - np.min(signal)) / (np.max(signal) - np.min(signal))"
   ]
  },
  {
   "cell_type": "code",
   "execution_count": 17,
   "id": "52ea9ed7",
   "metadata": {
    "execution": {
     "iopub.execute_input": "2024-12-22T18:17:13.827433Z",
     "iopub.status.busy": "2024-12-22T18:17:13.827099Z",
     "iopub.status.idle": "2024-12-22T18:17:13.848576Z",
     "shell.execute_reply": "2024-12-22T18:17:13.847712Z"
    },
    "papermill": {
     "duration": 0.032776,
     "end_time": "2024-12-22T18:17:13.850666",
     "exception": false,
     "start_time": "2024-12-22T18:17:13.817890",
     "status": "completed"
    },
    "tags": []
   },
   "outputs": [],
   "source": [
    "normalizedHealthy = [normalize(signal) for signal in healthyDetails]\n",
    "normalizedPVC = [normalize(signal) for signal in PVCDetails]\n",
    "normalizedHealthyTest = [normalize(signal) for signal in healthyTestDetails]\n",
    "normalizedPVCTest = [normalize(signal) for signal in PVCTestDetails]"
   ]
  },
  {
   "cell_type": "markdown",
   "id": "1468000b",
   "metadata": {
    "papermill": {
     "duration": 0.008031,
     "end_time": "2024-12-22T18:17:13.867629",
     "exception": false,
     "start_time": "2024-12-22T18:17:13.859598",
     "status": "completed"
    },
    "tags": []
   },
   "source": [
    "### A small comparison between processed signal vs raw signal"
   ]
  },
  {
   "cell_type": "code",
   "execution_count": 18,
   "id": "2a2df220",
   "metadata": {
    "execution": {
     "iopub.execute_input": "2024-12-22T18:17:13.885422Z",
     "iopub.status.busy": "2024-12-22T18:17:13.885099Z",
     "iopub.status.idle": "2024-12-22T18:17:13.897336Z",
     "shell.execute_reply": "2024-12-22T18:17:13.896431Z"
    },
    "papermill": {
     "duration": 0.023021,
     "end_time": "2024-12-22T18:17:13.898974",
     "exception": false,
     "start_time": "2024-12-22T18:17:13.875953",
     "status": "completed"
    },
    "tags": []
   },
   "outputs": [
    {
     "data": {
      "text/html": [
       "<html>\n",
       "<head><meta charset=\"utf-8\" /></head>\n",
       "<body>\n",
       "    <div>            <script src=\"https://cdnjs.cloudflare.com/ajax/libs/mathjax/2.7.5/MathJax.js?config=TeX-AMS-MML_SVG\"></script><script type=\"text/javascript\">if (window.MathJax && window.MathJax.Hub && window.MathJax.Hub.Config) {window.MathJax.Hub.Config({SVG: {font: \"STIX-Web\"}});}</script>                <script type=\"text/javascript\">window.PlotlyConfig = {MathJaxConfig: 'local'};</script>\n",
       "        <script charset=\"utf-8\" src=\"https://cdn.plot.ly/plotly-2.35.2.min.js\"></script>                <div id=\"74b5e5a6-d2c0-4ba1-84d5-50b43d95c241\" class=\"plotly-graph-div\" style=\"height:500px; width:1000px;\"></div>            <script type=\"text/javascript\">                                    window.PLOTLYENV=window.PLOTLYENV || {};                                    if (document.getElementById(\"74b5e5a6-d2c0-4ba1-84d5-50b43d95c241\")) {                    Plotly.newPlot(                        \"74b5e5a6-d2c0-4ba1-84d5-50b43d95c241\",                        [{\"mode\":\"lines\",\"name\":\"Continuous Signal\",\"y\":[0.031147,0.026147,0.0061474,0.0011474,0.011147,0.021147,0.031147,0.031147,0.0011474,0.0011474,-0.013853,0.0011474,0.011147,0.021147,0.021147,-0.0038526,-0.018853,-0.028853,-0.0088526,0.0061474,0.0011474,-0.013853,-0.048853,-0.028853,-0.018853,0.0011474,-0.0088526,-0.023853,-0.018853,-0.0038526,-0.0038526,0.0061474,-0.023853,-0.028853,-0.028853,-0.013853,-0.0038526,-0.0038526,-0.023853,-0.033853,-0.033853,-0.0038526,0.016147,0.016147,0.011147,-0.023853,-0.033853,-0.023853,-0.018853,-0.0088526,0.0061474,-0.0088526,-0.018853,-0.018853,0.0011474,0.016147,0.0011474,-0.0038526,-0.018853,-0.0088526,-0.018853,0.0011474,-0.013853,-0.013853,-0.0038526,0.0061474,0.011147,0.031147,0.021147,0.011147,0.031147,0.051147,0.056147,0.071147,0.086147,0.10115,0.11115,0.13615,0.17115,0.21615,0.24615,0.26115,0.31115,0.38615,0.49615,0.58615,0.69615,0.74115,0.77115,0.82615,0.90115,0.94615,1.0111,1.0511,1.0911,1.1361,1.1511,1.1661,1.1361,1.0911,1.0061,0.83115,0.48615,0.051147,-0.44885,-0.84885,-1.1339,-1.3039,-1.4389,-1.5139,-1.5589,-1.5489,-1.4989,-1.4639,-1.4139,-1.3689,-1.2889,-1.2189,-1.1739,-1.1539,-1.1189,-1.0689,-1.0239,-1.0039,-0.97385,-0.93385,-0.88885,-0.85885,-0.86885,-0.86885,-0.87385,-0.86385,-0.81885,-0.77385,-0.70885,-0.64885,-0.57385,-0.47885,-0.37385,-0.29885,-0.19885,-0.14385,-0.10385,-0.068853,-0.033853,0.0061474,0.021147,0.046147,0.056147,0.071147,0.10115,0.11115,0.11115,0.13615,0.14115,0.15615,0.19115,0.21615,0.23115,0.23615,0.23615,0.24615,0.26615,0.27115,0.29615,0.32615,0.35115,0.38115,0.40615,0.43115,0.45115,0.47115,0.50115,0.54115,0.57615,0.60115,0.63615,0.64115,0.67615,0.69615,0.73615,0.76115,0.79115,0.81115,0.83615,0.85615,0.91115,0.94615,0.95615,0.96615,0.97115,1.0011,1.0361,1.0511,1.0461,1.0311,1.0161,1.0161,1.0411,1.0511,1.0311,0.99615,0.96115,0.95615,0.95615,0.92615,0.90615,0.86115,0.81615,0.79115,0.78615,0.76615,0.72615,0.67615,0.62615,0.59115,0.56115,0.52615,0.47115,0.42615,0.38115,0.34115,0.31615,0.29115,0.26615,0.23615,0.19115,0.15115,0.17115,0.15115,0.14115,0.12115,0.10115,0.096147,0.096147,0.086147,0.076147,0.056147,0.036147,0.056147,0.066147,0.066147,0.041147,0.031147,0.031147,0.026147,0.056147,0.056147,0.031147,0.016147,-0.0038526,-0.0038526,0.026147,0.021147,0.021147,0.0011474,-0.0088526,-0.013853,0.0011474,0.021147,-0.0038526,0.0011474,-0.013853,-0.018853,0.0061474,0.016147,0.021147,0.0011474,-0.018853,-0.028853,-0.018853,-0.018853,-0.018853,-0.0088526,-0.0088526,-0.0038526,-0.013853,-0.023853,-0.018853,-0.028853,-0.023853,-0.0088526,0.0011474,-0.0088526,-0.018853,-0.043853,-0.028853,-0.0088526,0.0061474,0.0061474,0.0061474,-0.0088526,-0.023853,-0.018853,-0.013853,-0.0038526,-0.013853,-0.028853,-0.038853,-0.043853],\"type\":\"scatter\"}],                        {\"template\":{\"data\":{\"histogram2dcontour\":[{\"type\":\"histogram2dcontour\",\"colorbar\":{\"outlinewidth\":0,\"ticks\":\"\"},\"colorscale\":[[0.0,\"#0d0887\"],[0.1111111111111111,\"#46039f\"],[0.2222222222222222,\"#7201a8\"],[0.3333333333333333,\"#9c179e\"],[0.4444444444444444,\"#bd3786\"],[0.5555555555555556,\"#d8576b\"],[0.6666666666666666,\"#ed7953\"],[0.7777777777777778,\"#fb9f3a\"],[0.8888888888888888,\"#fdca26\"],[1.0,\"#f0f921\"]]}],\"choropleth\":[{\"type\":\"choropleth\",\"colorbar\":{\"outlinewidth\":0,\"ticks\":\"\"}}],\"histogram2d\":[{\"type\":\"histogram2d\",\"colorbar\":{\"outlinewidth\":0,\"ticks\":\"\"},\"colorscale\":[[0.0,\"#0d0887\"],[0.1111111111111111,\"#46039f\"],[0.2222222222222222,\"#7201a8\"],[0.3333333333333333,\"#9c179e\"],[0.4444444444444444,\"#bd3786\"],[0.5555555555555556,\"#d8576b\"],[0.6666666666666666,\"#ed7953\"],[0.7777777777777778,\"#fb9f3a\"],[0.8888888888888888,\"#fdca26\"],[1.0,\"#f0f921\"]]}],\"heatmap\":[{\"type\":\"heatmap\",\"colorbar\":{\"outlinewidth\":0,\"ticks\":\"\"},\"colorscale\":[[0.0,\"#0d0887\"],[0.1111111111111111,\"#46039f\"],[0.2222222222222222,\"#7201a8\"],[0.3333333333333333,\"#9c179e\"],[0.4444444444444444,\"#bd3786\"],[0.5555555555555556,\"#d8576b\"],[0.6666666666666666,\"#ed7953\"],[0.7777777777777778,\"#fb9f3a\"],[0.8888888888888888,\"#fdca26\"],[1.0,\"#f0f921\"]]}],\"heatmapgl\":[{\"type\":\"heatmapgl\",\"colorbar\":{\"outlinewidth\":0,\"ticks\":\"\"},\"colorscale\":[[0.0,\"#0d0887\"],[0.1111111111111111,\"#46039f\"],[0.2222222222222222,\"#7201a8\"],[0.3333333333333333,\"#9c179e\"],[0.4444444444444444,\"#bd3786\"],[0.5555555555555556,\"#d8576b\"],[0.6666666666666666,\"#ed7953\"],[0.7777777777777778,\"#fb9f3a\"],[0.8888888888888888,\"#fdca26\"],[1.0,\"#f0f921\"]]}],\"contourcarpet\":[{\"type\":\"contourcarpet\",\"colorbar\":{\"outlinewidth\":0,\"ticks\":\"\"}}],\"contour\":[{\"type\":\"contour\",\"colorbar\":{\"outlinewidth\":0,\"ticks\":\"\"},\"colorscale\":[[0.0,\"#0d0887\"],[0.1111111111111111,\"#46039f\"],[0.2222222222222222,\"#7201a8\"],[0.3333333333333333,\"#9c179e\"],[0.4444444444444444,\"#bd3786\"],[0.5555555555555556,\"#d8576b\"],[0.6666666666666666,\"#ed7953\"],[0.7777777777777778,\"#fb9f3a\"],[0.8888888888888888,\"#fdca26\"],[1.0,\"#f0f921\"]]}],\"surface\":[{\"type\":\"surface\",\"colorbar\":{\"outlinewidth\":0,\"ticks\":\"\"},\"colorscale\":[[0.0,\"#0d0887\"],[0.1111111111111111,\"#46039f\"],[0.2222222222222222,\"#7201a8\"],[0.3333333333333333,\"#9c179e\"],[0.4444444444444444,\"#bd3786\"],[0.5555555555555556,\"#d8576b\"],[0.6666666666666666,\"#ed7953\"],[0.7777777777777778,\"#fb9f3a\"],[0.8888888888888888,\"#fdca26\"],[1.0,\"#f0f921\"]]}],\"mesh3d\":[{\"type\":\"mesh3d\",\"colorbar\":{\"outlinewidth\":0,\"ticks\":\"\"}}],\"scatter\":[{\"fillpattern\":{\"fillmode\":\"overlay\",\"size\":10,\"solidity\":0.2},\"type\":\"scatter\"}],\"parcoords\":[{\"type\":\"parcoords\",\"line\":{\"colorbar\":{\"outlinewidth\":0,\"ticks\":\"\"}}}],\"scatterpolargl\":[{\"type\":\"scatterpolargl\",\"marker\":{\"colorbar\":{\"outlinewidth\":0,\"ticks\":\"\"}}}],\"bar\":[{\"error_x\":{\"color\":\"#2a3f5f\"},\"error_y\":{\"color\":\"#2a3f5f\"},\"marker\":{\"line\":{\"color\":\"#E5ECF6\",\"width\":0.5},\"pattern\":{\"fillmode\":\"overlay\",\"size\":10,\"solidity\":0.2}},\"type\":\"bar\"}],\"scattergeo\":[{\"type\":\"scattergeo\",\"marker\":{\"colorbar\":{\"outlinewidth\":0,\"ticks\":\"\"}}}],\"scatterpolar\":[{\"type\":\"scatterpolar\",\"marker\":{\"colorbar\":{\"outlinewidth\":0,\"ticks\":\"\"}}}],\"histogram\":[{\"marker\":{\"pattern\":{\"fillmode\":\"overlay\",\"size\":10,\"solidity\":0.2}},\"type\":\"histogram\"}],\"scattergl\":[{\"type\":\"scattergl\",\"marker\":{\"colorbar\":{\"outlinewidth\":0,\"ticks\":\"\"}}}],\"scatter3d\":[{\"type\":\"scatter3d\",\"line\":{\"colorbar\":{\"outlinewidth\":0,\"ticks\":\"\"}},\"marker\":{\"colorbar\":{\"outlinewidth\":0,\"ticks\":\"\"}}}],\"scattermapbox\":[{\"type\":\"scattermapbox\",\"marker\":{\"colorbar\":{\"outlinewidth\":0,\"ticks\":\"\"}}}],\"scatterternary\":[{\"type\":\"scatterternary\",\"marker\":{\"colorbar\":{\"outlinewidth\":0,\"ticks\":\"\"}}}],\"scattercarpet\":[{\"type\":\"scattercarpet\",\"marker\":{\"colorbar\":{\"outlinewidth\":0,\"ticks\":\"\"}}}],\"carpet\":[{\"aaxis\":{\"endlinecolor\":\"#2a3f5f\",\"gridcolor\":\"white\",\"linecolor\":\"white\",\"minorgridcolor\":\"white\",\"startlinecolor\":\"#2a3f5f\"},\"baxis\":{\"endlinecolor\":\"#2a3f5f\",\"gridcolor\":\"white\",\"linecolor\":\"white\",\"minorgridcolor\":\"white\",\"startlinecolor\":\"#2a3f5f\"},\"type\":\"carpet\"}],\"table\":[{\"cells\":{\"fill\":{\"color\":\"#EBF0F8\"},\"line\":{\"color\":\"white\"}},\"header\":{\"fill\":{\"color\":\"#C8D4E3\"},\"line\":{\"color\":\"white\"}},\"type\":\"table\"}],\"barpolar\":[{\"marker\":{\"line\":{\"color\":\"#E5ECF6\",\"width\":0.5},\"pattern\":{\"fillmode\":\"overlay\",\"size\":10,\"solidity\":0.2}},\"type\":\"barpolar\"}],\"pie\":[{\"automargin\":true,\"type\":\"pie\"}]},\"layout\":{\"autotypenumbers\":\"strict\",\"colorway\":[\"#636efa\",\"#EF553B\",\"#00cc96\",\"#ab63fa\",\"#FFA15A\",\"#19d3f3\",\"#FF6692\",\"#B6E880\",\"#FF97FF\",\"#FECB52\"],\"font\":{\"color\":\"#2a3f5f\"},\"hovermode\":\"closest\",\"hoverlabel\":{\"align\":\"left\"},\"paper_bgcolor\":\"white\",\"plot_bgcolor\":\"#E5ECF6\",\"polar\":{\"bgcolor\":\"#E5ECF6\",\"angularaxis\":{\"gridcolor\":\"white\",\"linecolor\":\"white\",\"ticks\":\"\"},\"radialaxis\":{\"gridcolor\":\"white\",\"linecolor\":\"white\",\"ticks\":\"\"}},\"ternary\":{\"bgcolor\":\"#E5ECF6\",\"aaxis\":{\"gridcolor\":\"white\",\"linecolor\":\"white\",\"ticks\":\"\"},\"baxis\":{\"gridcolor\":\"white\",\"linecolor\":\"white\",\"ticks\":\"\"},\"caxis\":{\"gridcolor\":\"white\",\"linecolor\":\"white\",\"ticks\":\"\"}},\"coloraxis\":{\"colorbar\":{\"outlinewidth\":0,\"ticks\":\"\"}},\"colorscale\":{\"sequential\":[[0.0,\"#0d0887\"],[0.1111111111111111,\"#46039f\"],[0.2222222222222222,\"#7201a8\"],[0.3333333333333333,\"#9c179e\"],[0.4444444444444444,\"#bd3786\"],[0.5555555555555556,\"#d8576b\"],[0.6666666666666666,\"#ed7953\"],[0.7777777777777778,\"#fb9f3a\"],[0.8888888888888888,\"#fdca26\"],[1.0,\"#f0f921\"]],\"sequentialminus\":[[0.0,\"#0d0887\"],[0.1111111111111111,\"#46039f\"],[0.2222222222222222,\"#7201a8\"],[0.3333333333333333,\"#9c179e\"],[0.4444444444444444,\"#bd3786\"],[0.5555555555555556,\"#d8576b\"],[0.6666666666666666,\"#ed7953\"],[0.7777777777777778,\"#fb9f3a\"],[0.8888888888888888,\"#fdca26\"],[1.0,\"#f0f921\"]],\"diverging\":[[0,\"#8e0152\"],[0.1,\"#c51b7d\"],[0.2,\"#de77ae\"],[0.3,\"#f1b6da\"],[0.4,\"#fde0ef\"],[0.5,\"#f7f7f7\"],[0.6,\"#e6f5d0\"],[0.7,\"#b8e186\"],[0.8,\"#7fbc41\"],[0.9,\"#4d9221\"],[1,\"#276419\"]]},\"xaxis\":{\"gridcolor\":\"white\",\"linecolor\":\"white\",\"ticks\":\"\",\"title\":{\"standoff\":15},\"zerolinecolor\":\"white\",\"automargin\":true,\"zerolinewidth\":2},\"yaxis\":{\"gridcolor\":\"white\",\"linecolor\":\"white\",\"ticks\":\"\",\"title\":{\"standoff\":15},\"zerolinecolor\":\"white\",\"automargin\":true,\"zerolinewidth\":2},\"scene\":{\"xaxis\":{\"backgroundcolor\":\"#E5ECF6\",\"gridcolor\":\"white\",\"linecolor\":\"white\",\"showbackground\":true,\"ticks\":\"\",\"zerolinecolor\":\"white\",\"gridwidth\":2},\"yaxis\":{\"backgroundcolor\":\"#E5ECF6\",\"gridcolor\":\"white\",\"linecolor\":\"white\",\"showbackground\":true,\"ticks\":\"\",\"zerolinecolor\":\"white\",\"gridwidth\":2},\"zaxis\":{\"backgroundcolor\":\"#E5ECF6\",\"gridcolor\":\"white\",\"linecolor\":\"white\",\"showbackground\":true,\"ticks\":\"\",\"zerolinecolor\":\"white\",\"gridwidth\":2}},\"shapedefaults\":{\"line\":{\"color\":\"#2a3f5f\"}},\"annotationdefaults\":{\"arrowcolor\":\"#2a3f5f\",\"arrowhead\":0,\"arrowwidth\":1},\"geo\":{\"bgcolor\":\"white\",\"landcolor\":\"#E5ECF6\",\"subunitcolor\":\"white\",\"showland\":true,\"showlakes\":true,\"lakecolor\":\"white\"},\"title\":{\"x\":0.05},\"mapbox\":{\"style\":\"light\"}}},\"title\":{\"text\":\"Continuous Signal\"},\"xaxis\":{\"title\":{\"text\":\"Index\"}},\"yaxis\":{\"title\":{\"text\":\"Amplitude\"}},\"width\":1000,\"height\":500},                        {\"responsive\": true}                    ).then(function(){\n",
       "                            \n",
       "var gd = document.getElementById('74b5e5a6-d2c0-4ba1-84d5-50b43d95c241');\n",
       "var x = new MutationObserver(function (mutations, observer) {{\n",
       "        var display = window.getComputedStyle(gd).display;\n",
       "        if (!display || display === 'none') {{\n",
       "            console.log([gd, 'removed!']);\n",
       "            Plotly.purge(gd);\n",
       "            observer.disconnect();\n",
       "        }}\n",
       "}});\n",
       "\n",
       "// Listen for the removal of the full notebook cells\n",
       "var notebookContainer = gd.closest('#notebook-container');\n",
       "if (notebookContainer) {{\n",
       "    x.observe(notebookContainer, {childList: true});\n",
       "}}\n",
       "\n",
       "// Listen for the clearing of the current output cell\n",
       "var outputEl = gd.closest('.output');\n",
       "if (outputEl) {{\n",
       "    x.observe(outputEl, {childList: true});\n",
       "}}\n",
       "\n",
       "                        })                };                            </script>        </div>\n",
       "</body>\n",
       "</html>"
      ]
     },
     "metadata": {},
     "output_type": "display_data"
    }
   ],
   "source": [
    "draw(PVCSignals[0])"
   ]
  },
  {
   "cell_type": "code",
   "execution_count": 19,
   "id": "01cd2bdb",
   "metadata": {
    "execution": {
     "iopub.execute_input": "2024-12-22T18:17:13.917757Z",
     "iopub.status.busy": "2024-12-22T18:17:13.917347Z",
     "iopub.status.idle": "2024-12-22T18:17:13.929016Z",
     "shell.execute_reply": "2024-12-22T18:17:13.928084Z"
    },
    "papermill": {
     "duration": 0.022791,
     "end_time": "2024-12-22T18:17:13.930674",
     "exception": false,
     "start_time": "2024-12-22T18:17:13.907883",
     "status": "completed"
    },
    "tags": []
   },
   "outputs": [
    {
     "data": {
      "text/html": [
       "<html>\n",
       "<head><meta charset=\"utf-8\" /></head>\n",
       "<body>\n",
       "    <div>            <script src=\"https://cdnjs.cloudflare.com/ajax/libs/mathjax/2.7.5/MathJax.js?config=TeX-AMS-MML_SVG\"></script><script type=\"text/javascript\">if (window.MathJax && window.MathJax.Hub && window.MathJax.Hub.Config) {window.MathJax.Hub.Config({SVG: {font: \"STIX-Web\"}});}</script>                <script type=\"text/javascript\">window.PlotlyConfig = {MathJaxConfig: 'local'};</script>\n",
       "        <script charset=\"utf-8\" src=\"https://cdn.plot.ly/plotly-2.35.2.min.js\"></script>                <div id=\"0e79ab71-056c-43e6-b395-0011cba08bb1\" class=\"plotly-graph-div\" style=\"height:500px; width:1000px;\"></div>            <script type=\"text/javascript\">                                    window.PLOTLYENV=window.PLOTLYENV || {};                                    if (document.getElementById(\"0e79ab71-056c-43e6-b395-0011cba08bb1\")) {                    Plotly.newPlot(                        \"0e79ab71-056c-43e6-b395-0011cba08bb1\",                        [{\"mode\":\"lines\",\"name\":\"Continuous Signal\",\"y\":[0.47983336225313866,0.4737074039783967,0.4891844439848902,0.4289289151636638,0.48624079389849684,0.4986249613501645,0.42401506316032467,0.4644508900813595,0.532967369543646,0.4493264642863141,0.41282530736388706,0.5269292247557579,0.47042625012963263,0.427544214472578,0.5127445741528344,0.4635332278277189,0.4649168604167292,0.4814989627070706,0.43170262667753634,0.48952475644901294,0.5052170112880643,0.41750344373134685,0.4849494667299407,0.5325423233747538,0.4112164733218571,0.424243316783007,0.5323780478075592,0.4896472287199833,0.43019950611743896,0.49244593122990277,0.4622461830254968,0.44867096759923863,0.4864829016465479,0.4713131231036122,0.4773318238053587,0.4829566848239612,0.4373188989783128,0.4739808292217069,0.49001604044100744,0.4612611175756353,0.45320006538231633,0.49918862157565685,0.4303129358759313,0.4585795240786222,0.5943369993193908,0.47959452217826537,0.34090394059876244,0.4604440102810356,0.5307261908922059,0.5088821343447392,0.4867644514228883,0.5493932652296992,0.5527600844573602,0.0663273544179937,0.0,0.7707482221915278,1.0,0.5935660306926304,0.31547338682309856,0.3196932260344477,0.48716303984744175,0.46115053971858877,0.4455991231716937,0.4670826291213532,0.4925661034765359,0.509051901026721,0.40077602242700394,0.40136436546809384,0.5302532479719607,0.5339629528283684,0.4910156576361707,0.4893863593451472,0.44884273171030165,0.394517929911877,0.456700912692273,0.4931077691576966,0.48559585704004543,0.47787094784891954,0.45383115619976433,0.46681340601377397,0.513245724055503,0.4620789036829764,0.4262668872554657,0.46478467655120237,0.5044796384184981,0.49575388547956695,0.455465023513931,0.434761791621643,0.4853247919778813,0.5022368544827872,0.44759978681056345,0.44933254204528145,0.4922094854301867,0.4694935188054159,0.4594618694465102,0.5094757228727749,0.4383558462599732,0.45059939833587775,0.5228484294158051,0.43455459061779245,0.4320006571386168,0.545237891116969,0.44987618791252887,0.4270330577724328,0.5125307603982722,0.45921961358535596,0.44158257251912025,0.5253721773003089,0.4584889040250359,0.4320450949793036,0.4921637840919893,0.4664407580106468,0.45462761099674204,0.5025808316103705,0.4762735646891758,0.4279353395328421,0.5039502024850224,0.4804149311449926,0.4517819384752983,0.48049163901324027,0.4443750408450121,0.4787513762743179,0.5104617386155901,0.42847773678806,0.46214230153817787,0.5238497542676146,0.4272747954419832,0.43912399729000196,0.5333958741687659,0.46218111403983014,0.4284793217229502,0.5057844230945798,0.46771015603985877,0.44050038018586457,0.5167351608727696,0.4678703985450656,0.4149843550220583,0.48258533344375426,0.5112627463656904,0.47757967944411706,0.4351531083698554,0.44952604540922086,0.5105262542677155,0.48999563027657994,0.4074183105886591,0.48767840869416595,0.5271163703778078,0.4359765092024179,0.42976559235367734,0.5103902967717385,0.4642664665374127,0.4507735072027201,0.5190386828271333],\"type\":\"scatter\"}],                        {\"template\":{\"data\":{\"histogram2dcontour\":[{\"type\":\"histogram2dcontour\",\"colorbar\":{\"outlinewidth\":0,\"ticks\":\"\"},\"colorscale\":[[0.0,\"#0d0887\"],[0.1111111111111111,\"#46039f\"],[0.2222222222222222,\"#7201a8\"],[0.3333333333333333,\"#9c179e\"],[0.4444444444444444,\"#bd3786\"],[0.5555555555555556,\"#d8576b\"],[0.6666666666666666,\"#ed7953\"],[0.7777777777777778,\"#fb9f3a\"],[0.8888888888888888,\"#fdca26\"],[1.0,\"#f0f921\"]]}],\"choropleth\":[{\"type\":\"choropleth\",\"colorbar\":{\"outlinewidth\":0,\"ticks\":\"\"}}],\"histogram2d\":[{\"type\":\"histogram2d\",\"colorbar\":{\"outlinewidth\":0,\"ticks\":\"\"},\"colorscale\":[[0.0,\"#0d0887\"],[0.1111111111111111,\"#46039f\"],[0.2222222222222222,\"#7201a8\"],[0.3333333333333333,\"#9c179e\"],[0.4444444444444444,\"#bd3786\"],[0.5555555555555556,\"#d8576b\"],[0.6666666666666666,\"#ed7953\"],[0.7777777777777778,\"#fb9f3a\"],[0.8888888888888888,\"#fdca26\"],[1.0,\"#f0f921\"]]}],\"heatmap\":[{\"type\":\"heatmap\",\"colorbar\":{\"outlinewidth\":0,\"ticks\":\"\"},\"colorscale\":[[0.0,\"#0d0887\"],[0.1111111111111111,\"#46039f\"],[0.2222222222222222,\"#7201a8\"],[0.3333333333333333,\"#9c179e\"],[0.4444444444444444,\"#bd3786\"],[0.5555555555555556,\"#d8576b\"],[0.6666666666666666,\"#ed7953\"],[0.7777777777777778,\"#fb9f3a\"],[0.8888888888888888,\"#fdca26\"],[1.0,\"#f0f921\"]]}],\"heatmapgl\":[{\"type\":\"heatmapgl\",\"colorbar\":{\"outlinewidth\":0,\"ticks\":\"\"},\"colorscale\":[[0.0,\"#0d0887\"],[0.1111111111111111,\"#46039f\"],[0.2222222222222222,\"#7201a8\"],[0.3333333333333333,\"#9c179e\"],[0.4444444444444444,\"#bd3786\"],[0.5555555555555556,\"#d8576b\"],[0.6666666666666666,\"#ed7953\"],[0.7777777777777778,\"#fb9f3a\"],[0.8888888888888888,\"#fdca26\"],[1.0,\"#f0f921\"]]}],\"contourcarpet\":[{\"type\":\"contourcarpet\",\"colorbar\":{\"outlinewidth\":0,\"ticks\":\"\"}}],\"contour\":[{\"type\":\"contour\",\"colorbar\":{\"outlinewidth\":0,\"ticks\":\"\"},\"colorscale\":[[0.0,\"#0d0887\"],[0.1111111111111111,\"#46039f\"],[0.2222222222222222,\"#7201a8\"],[0.3333333333333333,\"#9c179e\"],[0.4444444444444444,\"#bd3786\"],[0.5555555555555556,\"#d8576b\"],[0.6666666666666666,\"#ed7953\"],[0.7777777777777778,\"#fb9f3a\"],[0.8888888888888888,\"#fdca26\"],[1.0,\"#f0f921\"]]}],\"surface\":[{\"type\":\"surface\",\"colorbar\":{\"outlinewidth\":0,\"ticks\":\"\"},\"colorscale\":[[0.0,\"#0d0887\"],[0.1111111111111111,\"#46039f\"],[0.2222222222222222,\"#7201a8\"],[0.3333333333333333,\"#9c179e\"],[0.4444444444444444,\"#bd3786\"],[0.5555555555555556,\"#d8576b\"],[0.6666666666666666,\"#ed7953\"],[0.7777777777777778,\"#fb9f3a\"],[0.8888888888888888,\"#fdca26\"],[1.0,\"#f0f921\"]]}],\"mesh3d\":[{\"type\":\"mesh3d\",\"colorbar\":{\"outlinewidth\":0,\"ticks\":\"\"}}],\"scatter\":[{\"fillpattern\":{\"fillmode\":\"overlay\",\"size\":10,\"solidity\":0.2},\"type\":\"scatter\"}],\"parcoords\":[{\"type\":\"parcoords\",\"line\":{\"colorbar\":{\"outlinewidth\":0,\"ticks\":\"\"}}}],\"scatterpolargl\":[{\"type\":\"scatterpolargl\",\"marker\":{\"colorbar\":{\"outlinewidth\":0,\"ticks\":\"\"}}}],\"bar\":[{\"error_x\":{\"color\":\"#2a3f5f\"},\"error_y\":{\"color\":\"#2a3f5f\"},\"marker\":{\"line\":{\"color\":\"#E5ECF6\",\"width\":0.5},\"pattern\":{\"fillmode\":\"overlay\",\"size\":10,\"solidity\":0.2}},\"type\":\"bar\"}],\"scattergeo\":[{\"type\":\"scattergeo\",\"marker\":{\"colorbar\":{\"outlinewidth\":0,\"ticks\":\"\"}}}],\"scatterpolar\":[{\"type\":\"scatterpolar\",\"marker\":{\"colorbar\":{\"outlinewidth\":0,\"ticks\":\"\"}}}],\"histogram\":[{\"marker\":{\"pattern\":{\"fillmode\":\"overlay\",\"size\":10,\"solidity\":0.2}},\"type\":\"histogram\"}],\"scattergl\":[{\"type\":\"scattergl\",\"marker\":{\"colorbar\":{\"outlinewidth\":0,\"ticks\":\"\"}}}],\"scatter3d\":[{\"type\":\"scatter3d\",\"line\":{\"colorbar\":{\"outlinewidth\":0,\"ticks\":\"\"}},\"marker\":{\"colorbar\":{\"outlinewidth\":0,\"ticks\":\"\"}}}],\"scattermapbox\":[{\"type\":\"scattermapbox\",\"marker\":{\"colorbar\":{\"outlinewidth\":0,\"ticks\":\"\"}}}],\"scatterternary\":[{\"type\":\"scatterternary\",\"marker\":{\"colorbar\":{\"outlinewidth\":0,\"ticks\":\"\"}}}],\"scattercarpet\":[{\"type\":\"scattercarpet\",\"marker\":{\"colorbar\":{\"outlinewidth\":0,\"ticks\":\"\"}}}],\"carpet\":[{\"aaxis\":{\"endlinecolor\":\"#2a3f5f\",\"gridcolor\":\"white\",\"linecolor\":\"white\",\"minorgridcolor\":\"white\",\"startlinecolor\":\"#2a3f5f\"},\"baxis\":{\"endlinecolor\":\"#2a3f5f\",\"gridcolor\":\"white\",\"linecolor\":\"white\",\"minorgridcolor\":\"white\",\"startlinecolor\":\"#2a3f5f\"},\"type\":\"carpet\"}],\"table\":[{\"cells\":{\"fill\":{\"color\":\"#EBF0F8\"},\"line\":{\"color\":\"white\"}},\"header\":{\"fill\":{\"color\":\"#C8D4E3\"},\"line\":{\"color\":\"white\"}},\"type\":\"table\"}],\"barpolar\":[{\"marker\":{\"line\":{\"color\":\"#E5ECF6\",\"width\":0.5},\"pattern\":{\"fillmode\":\"overlay\",\"size\":10,\"solidity\":0.2}},\"type\":\"barpolar\"}],\"pie\":[{\"automargin\":true,\"type\":\"pie\"}]},\"layout\":{\"autotypenumbers\":\"strict\",\"colorway\":[\"#636efa\",\"#EF553B\",\"#00cc96\",\"#ab63fa\",\"#FFA15A\",\"#19d3f3\",\"#FF6692\",\"#B6E880\",\"#FF97FF\",\"#FECB52\"],\"font\":{\"color\":\"#2a3f5f\"},\"hovermode\":\"closest\",\"hoverlabel\":{\"align\":\"left\"},\"paper_bgcolor\":\"white\",\"plot_bgcolor\":\"#E5ECF6\",\"polar\":{\"bgcolor\":\"#E5ECF6\",\"angularaxis\":{\"gridcolor\":\"white\",\"linecolor\":\"white\",\"ticks\":\"\"},\"radialaxis\":{\"gridcolor\":\"white\",\"linecolor\":\"white\",\"ticks\":\"\"}},\"ternary\":{\"bgcolor\":\"#E5ECF6\",\"aaxis\":{\"gridcolor\":\"white\",\"linecolor\":\"white\",\"ticks\":\"\"},\"baxis\":{\"gridcolor\":\"white\",\"linecolor\":\"white\",\"ticks\":\"\"},\"caxis\":{\"gridcolor\":\"white\",\"linecolor\":\"white\",\"ticks\":\"\"}},\"coloraxis\":{\"colorbar\":{\"outlinewidth\":0,\"ticks\":\"\"}},\"colorscale\":{\"sequential\":[[0.0,\"#0d0887\"],[0.1111111111111111,\"#46039f\"],[0.2222222222222222,\"#7201a8\"],[0.3333333333333333,\"#9c179e\"],[0.4444444444444444,\"#bd3786\"],[0.5555555555555556,\"#d8576b\"],[0.6666666666666666,\"#ed7953\"],[0.7777777777777778,\"#fb9f3a\"],[0.8888888888888888,\"#fdca26\"],[1.0,\"#f0f921\"]],\"sequentialminus\":[[0.0,\"#0d0887\"],[0.1111111111111111,\"#46039f\"],[0.2222222222222222,\"#7201a8\"],[0.3333333333333333,\"#9c179e\"],[0.4444444444444444,\"#bd3786\"],[0.5555555555555556,\"#d8576b\"],[0.6666666666666666,\"#ed7953\"],[0.7777777777777778,\"#fb9f3a\"],[0.8888888888888888,\"#fdca26\"],[1.0,\"#f0f921\"]],\"diverging\":[[0,\"#8e0152\"],[0.1,\"#c51b7d\"],[0.2,\"#de77ae\"],[0.3,\"#f1b6da\"],[0.4,\"#fde0ef\"],[0.5,\"#f7f7f7\"],[0.6,\"#e6f5d0\"],[0.7,\"#b8e186\"],[0.8,\"#7fbc41\"],[0.9,\"#4d9221\"],[1,\"#276419\"]]},\"xaxis\":{\"gridcolor\":\"white\",\"linecolor\":\"white\",\"ticks\":\"\",\"title\":{\"standoff\":15},\"zerolinecolor\":\"white\",\"automargin\":true,\"zerolinewidth\":2},\"yaxis\":{\"gridcolor\":\"white\",\"linecolor\":\"white\",\"ticks\":\"\",\"title\":{\"standoff\":15},\"zerolinecolor\":\"white\",\"automargin\":true,\"zerolinewidth\":2},\"scene\":{\"xaxis\":{\"backgroundcolor\":\"#E5ECF6\",\"gridcolor\":\"white\",\"linecolor\":\"white\",\"showbackground\":true,\"ticks\":\"\",\"zerolinecolor\":\"white\",\"gridwidth\":2},\"yaxis\":{\"backgroundcolor\":\"#E5ECF6\",\"gridcolor\":\"white\",\"linecolor\":\"white\",\"showbackground\":true,\"ticks\":\"\",\"zerolinecolor\":\"white\",\"gridwidth\":2},\"zaxis\":{\"backgroundcolor\":\"#E5ECF6\",\"gridcolor\":\"white\",\"linecolor\":\"white\",\"showbackground\":true,\"ticks\":\"\",\"zerolinecolor\":\"white\",\"gridwidth\":2}},\"shapedefaults\":{\"line\":{\"color\":\"#2a3f5f\"}},\"annotationdefaults\":{\"arrowcolor\":\"#2a3f5f\",\"arrowhead\":0,\"arrowwidth\":1},\"geo\":{\"bgcolor\":\"white\",\"landcolor\":\"#E5ECF6\",\"subunitcolor\":\"white\",\"showland\":true,\"showlakes\":true,\"lakecolor\":\"white\"},\"title\":{\"x\":0.05},\"mapbox\":{\"style\":\"light\"}}},\"title\":{\"text\":\"Continuous Signal\"},\"xaxis\":{\"title\":{\"text\":\"Index\"}},\"yaxis\":{\"title\":{\"text\":\"Amplitude\"}},\"width\":1000,\"height\":500},                        {\"responsive\": true}                    ).then(function(){\n",
       "                            \n",
       "var gd = document.getElementById('0e79ab71-056c-43e6-b395-0011cba08bb1');\n",
       "var x = new MutationObserver(function (mutations, observer) {{\n",
       "        var display = window.getComputedStyle(gd).display;\n",
       "        if (!display || display === 'none') {{\n",
       "            console.log([gd, 'removed!']);\n",
       "            Plotly.purge(gd);\n",
       "            observer.disconnect();\n",
       "        }}\n",
       "}});\n",
       "\n",
       "// Listen for the removal of the full notebook cells\n",
       "var notebookContainer = gd.closest('#notebook-container');\n",
       "if (notebookContainer) {{\n",
       "    x.observe(notebookContainer, {childList: true});\n",
       "}}\n",
       "\n",
       "// Listen for the clearing of the current output cell\n",
       "var outputEl = gd.closest('.output');\n",
       "if (outputEl) {{\n",
       "    x.observe(outputEl, {childList: true});\n",
       "}}\n",
       "\n",
       "                        })                };                            </script>        </div>\n",
       "</body>\n",
       "</html>"
      ]
     },
     "metadata": {},
     "output_type": "display_data"
    }
   ],
   "source": [
    "draw(normalizedPVC[0])"
   ]
  },
  {
   "cell_type": "markdown",
   "id": "69931e7f",
   "metadata": {
    "papermill": {
     "duration": 0.008313,
     "end_time": "2024-12-22T18:17:13.948164",
     "exception": false,
     "start_time": "2024-12-22T18:17:13.939851",
     "status": "completed"
    },
    "tags": []
   },
   "source": [
    "* PVC : 1\n",
    "* Healthy : 0"
   ]
  },
  {
   "cell_type": "code",
   "execution_count": 20,
   "id": "f37772ef",
   "metadata": {
    "execution": {
     "iopub.execute_input": "2024-12-22T18:17:13.967235Z",
     "iopub.status.busy": "2024-12-22T18:17:13.966848Z",
     "iopub.status.idle": "2024-12-22T18:17:13.970886Z",
     "shell.execute_reply": "2024-12-22T18:17:13.969888Z"
    },
    "papermill": {
     "duration": 0.015514,
     "end_time": "2024-12-22T18:17:13.972512",
     "exception": false,
     "start_time": "2024-12-22T18:17:13.956998",
     "status": "completed"
    },
    "tags": []
   },
   "outputs": [],
   "source": [
    "### Creating the DF and shuffling so its ready for training"
   ]
  },
  {
   "cell_type": "code",
   "execution_count": 21,
   "id": "7d51b17d",
   "metadata": {
    "execution": {
     "iopub.execute_input": "2024-12-22T18:17:13.992309Z",
     "iopub.status.busy": "2024-12-22T18:17:13.991922Z",
     "iopub.status.idle": "2024-12-22T18:17:14.012076Z",
     "shell.execute_reply": "2024-12-22T18:17:14.010856Z"
    },
    "papermill": {
     "duration": 0.031991,
     "end_time": "2024-12-22T18:17:14.013805",
     "exception": false,
     "start_time": "2024-12-22T18:17:13.981814",
     "status": "completed"
    },
    "tags": []
   },
   "outputs": [],
   "source": [
    "data = normalizedHealthy + normalizedPVC\n",
    "labels = list(np.zeros(200)) + list(np.ones(200))\n",
    "\n",
    "df = pd.DataFrame({\"x\": data, \"y\": labels})\n",
    "df = shuffle(df).reset_index(drop=True)"
   ]
  },
  {
   "cell_type": "code",
   "execution_count": 22,
   "id": "623d00f8",
   "metadata": {
    "execution": {
     "iopub.execute_input": "2024-12-22T18:17:14.033369Z",
     "iopub.status.busy": "2024-12-22T18:17:14.032983Z",
     "iopub.status.idle": "2024-12-22T18:17:14.064996Z",
     "shell.execute_reply": "2024-12-22T18:17:14.063584Z"
    },
    "papermill": {
     "duration": 0.044203,
     "end_time": "2024-12-22T18:17:14.067120",
     "exception": false,
     "start_time": "2024-12-22T18:17:14.022917",
     "status": "completed"
    },
    "tags": []
   },
   "outputs": [
    {
     "data": {
      "text/html": [
       "<div>\n",
       "<style scoped>\n",
       "    .dataframe tbody tr th:only-of-type {\n",
       "        vertical-align: middle;\n",
       "    }\n",
       "\n",
       "    .dataframe tbody tr th {\n",
       "        vertical-align: top;\n",
       "    }\n",
       "\n",
       "    .dataframe thead th {\n",
       "        text-align: right;\n",
       "    }\n",
       "</style>\n",
       "<table border=\"1\" class=\"dataframe\">\n",
       "  <thead>\n",
       "    <tr style=\"text-align: right;\">\n",
       "      <th></th>\n",
       "      <th>x</th>\n",
       "      <th>y</th>\n",
       "    </tr>\n",
       "  </thead>\n",
       "  <tbody>\n",
       "    <tr>\n",
       "      <th>0</th>\n",
       "      <td>[0.5711671189355647, 0.5733331637514854, 0.571...</td>\n",
       "      <td>0.0</td>\n",
       "    </tr>\n",
       "    <tr>\n",
       "      <th>1</th>\n",
       "      <td>[0.5468809245436146, 0.6457410851840105, 0.216...</td>\n",
       "      <td>1.0</td>\n",
       "    </tr>\n",
       "    <tr>\n",
       "      <th>2</th>\n",
       "      <td>[0.4694308689854131, 0.3157035122797163, 1.0, ...</td>\n",
       "      <td>1.0</td>\n",
       "    </tr>\n",
       "    <tr>\n",
       "      <th>3</th>\n",
       "      <td>[0.576817773449838, 0.5515553436457983, 0.6638...</td>\n",
       "      <td>0.0</td>\n",
       "    </tr>\n",
       "    <tr>\n",
       "      <th>4</th>\n",
       "      <td>[0.5517256102384055, 0.5648281314692918, 0.498...</td>\n",
       "      <td>0.0</td>\n",
       "    </tr>\n",
       "    <tr>\n",
       "      <th>...</th>\n",
       "      <td>...</td>\n",
       "      <td>...</td>\n",
       "    </tr>\n",
       "    <tr>\n",
       "      <th>395</th>\n",
       "      <td>[0.4550954160532016, 0.529602030652474, 0.2005...</td>\n",
       "      <td>1.0</td>\n",
       "    </tr>\n",
       "    <tr>\n",
       "      <th>396</th>\n",
       "      <td>[0.5331833807041677, 0.5348793384344153, 0.534...</td>\n",
       "      <td>0.0</td>\n",
       "    </tr>\n",
       "    <tr>\n",
       "      <th>397</th>\n",
       "      <td>[0.4638379780462974, 0.30198534955047845, 1.0,...</td>\n",
       "      <td>0.0</td>\n",
       "    </tr>\n",
       "    <tr>\n",
       "      <th>398</th>\n",
       "      <td>[0.37333285511192127, 0.48618270022087695, 0.0...</td>\n",
       "      <td>1.0</td>\n",
       "    </tr>\n",
       "    <tr>\n",
       "      <th>399</th>\n",
       "      <td>[0.49767176402290625, 0.504127197378157, 0.477...</td>\n",
       "      <td>0.0</td>\n",
       "    </tr>\n",
       "  </tbody>\n",
       "</table>\n",
       "<p>400 rows × 2 columns</p>\n",
       "</div>"
      ],
      "text/plain": [
       "                                                     x    y\n",
       "0    [0.5711671189355647, 0.5733331637514854, 0.571...  0.0\n",
       "1    [0.5468809245436146, 0.6457410851840105, 0.216...  1.0\n",
       "2    [0.4694308689854131, 0.3157035122797163, 1.0, ...  1.0\n",
       "3    [0.576817773449838, 0.5515553436457983, 0.6638...  0.0\n",
       "4    [0.5517256102384055, 0.5648281314692918, 0.498...  0.0\n",
       "..                                                 ...  ...\n",
       "395  [0.4550954160532016, 0.529602030652474, 0.2005...  1.0\n",
       "396  [0.5331833807041677, 0.5348793384344153, 0.534...  0.0\n",
       "397  [0.4638379780462974, 0.30198534955047845, 1.0,...  0.0\n",
       "398  [0.37333285511192127, 0.48618270022087695, 0.0...  1.0\n",
       "399  [0.49767176402290625, 0.504127197378157, 0.477...  0.0\n",
       "\n",
       "[400 rows x 2 columns]"
      ]
     },
     "execution_count": 22,
     "metadata": {},
     "output_type": "execute_result"
    }
   ],
   "source": [
    "df"
   ]
  },
  {
   "cell_type": "code",
   "execution_count": 23,
   "id": "170702d9",
   "metadata": {
    "execution": {
     "iopub.execute_input": "2024-12-22T18:17:14.087961Z",
     "iopub.status.busy": "2024-12-22T18:17:14.087525Z",
     "iopub.status.idle": "2024-12-22T18:17:14.091876Z",
     "shell.execute_reply": "2024-12-22T18:17:14.090635Z"
    },
    "papermill": {
     "duration": 0.016647,
     "end_time": "2024-12-22T18:17:14.093570",
     "exception": false,
     "start_time": "2024-12-22T18:17:14.076923",
     "status": "completed"
    },
    "tags": []
   },
   "outputs": [],
   "source": [
    "### Creating the TestDF and shuffling so its ready for testing"
   ]
  },
  {
   "cell_type": "code",
   "execution_count": 24,
   "id": "8b605ae5",
   "metadata": {
    "execution": {
     "iopub.execute_input": "2024-12-22T18:17:14.114322Z",
     "iopub.status.busy": "2024-12-22T18:17:14.113983Z",
     "iopub.status.idle": "2024-12-22T18:17:14.120335Z",
     "shell.execute_reply": "2024-12-22T18:17:14.119282Z"
    },
    "papermill": {
     "duration": 0.018948,
     "end_time": "2024-12-22T18:17:14.122086",
     "exception": false,
     "start_time": "2024-12-22T18:17:14.103138",
     "status": "completed"
    },
    "tags": []
   },
   "outputs": [],
   "source": [
    "testData = normalizedHealthyTest + normalizedPVCTest\n",
    "testLabels = list(np.zeros(200)) + list(np.ones(200))\n",
    "\n",
    "testDF = pd.DataFrame({\"x\": data, \"y\": labels})\n",
    "testDF = shuffle(df).reset_index(drop=True)"
   ]
  },
  {
   "cell_type": "markdown",
   "id": "e9b8a7f3",
   "metadata": {
    "papermill": {
     "duration": 0.008854,
     "end_time": "2024-12-22T18:17:14.140263",
     "exception": false,
     "start_time": "2024-12-22T18:17:14.131409",
     "status": "completed"
    },
    "tags": []
   },
   "source": [
    "### Start training"
   ]
  },
  {
   "cell_type": "code",
   "execution_count": 25,
   "id": "d3711360",
   "metadata": {
    "execution": {
     "iopub.execute_input": "2024-12-22T18:17:14.160241Z",
     "iopub.status.busy": "2024-12-22T18:17:14.159833Z",
     "iopub.status.idle": "2024-12-22T18:17:14.175590Z",
     "shell.execute_reply": "2024-12-22T18:17:14.174496Z"
    },
    "papermill": {
     "duration": 0.027935,
     "end_time": "2024-12-22T18:17:14.177575",
     "exception": false,
     "start_time": "2024-12-22T18:17:14.149640",
     "status": "completed"
    },
    "tags": []
   },
   "outputs": [
    {
     "data": {
      "text/html": [
       "<style>#sk-container-id-1 {color: black;background-color: white;}#sk-container-id-1 pre{padding: 0;}#sk-container-id-1 div.sk-toggleable {background-color: white;}#sk-container-id-1 label.sk-toggleable__label {cursor: pointer;display: block;width: 100%;margin-bottom: 0;padding: 0.3em;box-sizing: border-box;text-align: center;}#sk-container-id-1 label.sk-toggleable__label-arrow:before {content: \"▸\";float: left;margin-right: 0.25em;color: #696969;}#sk-container-id-1 label.sk-toggleable__label-arrow:hover:before {color: black;}#sk-container-id-1 div.sk-estimator:hover label.sk-toggleable__label-arrow:before {color: black;}#sk-container-id-1 div.sk-toggleable__content {max-height: 0;max-width: 0;overflow: hidden;text-align: left;background-color: #f0f8ff;}#sk-container-id-1 div.sk-toggleable__content pre {margin: 0.2em;color: black;border-radius: 0.25em;background-color: #f0f8ff;}#sk-container-id-1 input.sk-toggleable__control:checked~div.sk-toggleable__content {max-height: 200px;max-width: 100%;overflow: auto;}#sk-container-id-1 input.sk-toggleable__control:checked~label.sk-toggleable__label-arrow:before {content: \"▾\";}#sk-container-id-1 div.sk-estimator input.sk-toggleable__control:checked~label.sk-toggleable__label {background-color: #d4ebff;}#sk-container-id-1 div.sk-label input.sk-toggleable__control:checked~label.sk-toggleable__label {background-color: #d4ebff;}#sk-container-id-1 input.sk-hidden--visually {border: 0;clip: rect(1px 1px 1px 1px);clip: rect(1px, 1px, 1px, 1px);height: 1px;margin: -1px;overflow: hidden;padding: 0;position: absolute;width: 1px;}#sk-container-id-1 div.sk-estimator {font-family: monospace;background-color: #f0f8ff;border: 1px dotted black;border-radius: 0.25em;box-sizing: border-box;margin-bottom: 0.5em;}#sk-container-id-1 div.sk-estimator:hover {background-color: #d4ebff;}#sk-container-id-1 div.sk-parallel-item::after {content: \"\";width: 100%;border-bottom: 1px solid gray;flex-grow: 1;}#sk-container-id-1 div.sk-label:hover label.sk-toggleable__label {background-color: #d4ebff;}#sk-container-id-1 div.sk-serial::before {content: \"\";position: absolute;border-left: 1px solid gray;box-sizing: border-box;top: 0;bottom: 0;left: 50%;z-index: 0;}#sk-container-id-1 div.sk-serial {display: flex;flex-direction: column;align-items: center;background-color: white;padding-right: 0.2em;padding-left: 0.2em;position: relative;}#sk-container-id-1 div.sk-item {position: relative;z-index: 1;}#sk-container-id-1 div.sk-parallel {display: flex;align-items: stretch;justify-content: center;background-color: white;position: relative;}#sk-container-id-1 div.sk-item::before, #sk-container-id-1 div.sk-parallel-item::before {content: \"\";position: absolute;border-left: 1px solid gray;box-sizing: border-box;top: 0;bottom: 0;left: 50%;z-index: -1;}#sk-container-id-1 div.sk-parallel-item {display: flex;flex-direction: column;z-index: 1;position: relative;background-color: white;}#sk-container-id-1 div.sk-parallel-item:first-child::after {align-self: flex-end;width: 50%;}#sk-container-id-1 div.sk-parallel-item:last-child::after {align-self: flex-start;width: 50%;}#sk-container-id-1 div.sk-parallel-item:only-child::after {width: 0;}#sk-container-id-1 div.sk-dashed-wrapped {border: 1px dashed gray;margin: 0 0.4em 0.5em 0.4em;box-sizing: border-box;padding-bottom: 0.4em;background-color: white;}#sk-container-id-1 div.sk-label label {font-family: monospace;font-weight: bold;display: inline-block;line-height: 1.2em;}#sk-container-id-1 div.sk-label-container {text-align: center;}#sk-container-id-1 div.sk-container {/* jupyter's `normalize.less` sets `[hidden] { display: none; }` but bootstrap.min.css set `[hidden] { display: none !important; }` so we also need the `!important` here to be able to override the default hidden behavior on the sphinx rendered scikit-learn.org. See: https://github.com/scikit-learn/scikit-learn/issues/21755 */display: inline-block !important;position: relative;}#sk-container-id-1 div.sk-text-repr-fallback {display: none;}</style><div id=\"sk-container-id-1\" class=\"sk-top-container\"><div class=\"sk-text-repr-fallback\"><pre>KNeighborsClassifier(n_neighbors=3)</pre><b>In a Jupyter environment, please rerun this cell to show the HTML representation or trust the notebook. <br />On GitHub, the HTML representation is unable to render, please try loading this page with nbviewer.org.</b></div><div class=\"sk-container\" hidden><div class=\"sk-item\"><div class=\"sk-estimator sk-toggleable\"><input class=\"sk-toggleable__control sk-hidden--visually\" id=\"sk-estimator-id-1\" type=\"checkbox\" checked><label for=\"sk-estimator-id-1\" class=\"sk-toggleable__label sk-toggleable__label-arrow\">KNeighborsClassifier</label><div class=\"sk-toggleable__content\"><pre>KNeighborsClassifier(n_neighbors=3)</pre></div></div></div></div></div>"
      ],
      "text/plain": [
       "KNeighborsClassifier(n_neighbors=3)"
      ]
     },
     "execution_count": 25,
     "metadata": {},
     "output_type": "execute_result"
    }
   ],
   "source": [
    "knn = KNeighborsClassifier(n_neighbors=3)\n",
    "knn.fit(list(df[\"x\"]),list(df[\"y\"]))"
   ]
  },
  {
   "cell_type": "markdown",
   "id": "22997f95",
   "metadata": {
    "papermill": {
     "duration": 0.009271,
     "end_time": "2024-12-22T18:17:14.196827",
     "exception": false,
     "start_time": "2024-12-22T18:17:14.187556",
     "status": "completed"
    },
    "tags": []
   },
   "source": [
    "### Predict data and Measuring accuracy"
   ]
  },
  {
   "cell_type": "code",
   "execution_count": 26,
   "id": "62457bb0",
   "metadata": {
    "execution": {
     "iopub.execute_input": "2024-12-22T18:17:14.217861Z",
     "iopub.status.busy": "2024-12-22T18:17:14.217351Z",
     "iopub.status.idle": "2024-12-22T18:17:14.295765Z",
     "shell.execute_reply": "2024-12-22T18:17:14.294511Z"
    },
    "papermill": {
     "duration": 0.091012,
     "end_time": "2024-12-22T18:17:14.297716",
     "exception": false,
     "start_time": "2024-12-22T18:17:14.206704",
     "status": "completed"
    },
    "tags": []
   },
   "outputs": [
    {
     "data": {
      "text/plain": [
       "array([0., 1., 0., 0., 0., 1., 1., 1., 1., 1., 1., 0., 1., 1., 1., 1., 1.,\n",
       "       0., 0., 0., 1., 1., 0., 0., 1., 0., 0., 1., 1., 0., 0., 0., 1., 0.,\n",
       "       0., 1., 0., 0., 0., 0., 0., 1., 0., 1., 1., 0., 1., 0., 1., 1., 0.,\n",
       "       1., 1., 0., 0., 1., 1., 1., 0., 0., 1., 1., 1., 1., 1., 1., 1., 1.,\n",
       "       0., 0., 1., 1., 0., 1., 1., 1., 1., 0., 0., 0., 0., 0., 0., 1., 0.,\n",
       "       0., 1., 0., 0., 1., 1., 0., 0., 1., 1., 0., 1., 0., 0., 0., 0., 0.,\n",
       "       0., 0., 0., 0., 1., 0., 1., 0., 1., 0., 0., 0., 1., 1., 0., 0., 0.,\n",
       "       1., 1., 1., 0., 1., 1., 0., 1., 1., 0., 1., 1., 1., 1., 1., 0., 0.,\n",
       "       1., 0., 1., 0., 1., 0., 0., 1., 1., 0., 0., 0., 0., 1., 0., 1., 1.,\n",
       "       1., 0., 1., 0., 1., 1., 1., 0., 1., 1., 1., 1., 0., 0., 0., 1., 0.,\n",
       "       0., 0., 1., 1., 1., 0., 1., 0., 1., 0., 1., 1., 1., 1., 0., 0., 0.,\n",
       "       0., 0., 1., 1., 0., 0., 1., 1., 1., 0., 0., 1., 0., 1., 1., 0., 0.,\n",
       "       1., 1., 0., 0., 0., 1., 0., 1., 0., 1., 0., 1., 1., 0., 0., 1., 1.,\n",
       "       0., 0., 0., 0., 1., 0., 1., 0., 1., 0., 1., 0., 1., 0., 0., 1., 1.,\n",
       "       1., 1., 1., 0., 1., 0., 0., 1., 1., 0., 1., 0., 1., 1., 0., 0., 1.,\n",
       "       0., 0., 0., 1., 0., 0., 0., 1., 1., 0., 1., 1., 1., 0., 1., 1., 0.,\n",
       "       0., 0., 0., 0., 1., 1., 1., 0., 1., 1., 0., 0., 1., 0., 1., 0., 1.,\n",
       "       0., 0., 0., 1., 1., 0., 0., 1., 0., 1., 1., 1., 0., 0., 0., 0., 0.,\n",
       "       0., 0., 1., 1., 0., 1., 1., 1., 1., 0., 1., 1., 1., 1., 0., 1., 0.,\n",
       "       1., 1., 0., 0., 1., 0., 0., 0., 0., 0., 0., 0., 1., 0., 0., 1., 0.,\n",
       "       1., 0., 1., 0., 0., 0., 1., 0., 1., 1., 0., 0., 1., 0., 0., 1., 1.,\n",
       "       1., 0., 0., 0., 1., 0., 1., 0., 0., 1., 1., 1., 1., 0., 0., 1., 0.,\n",
       "       1., 0., 0., 0., 1., 1., 0., 0., 1., 1., 1., 0., 1., 0., 0., 1., 0.,\n",
       "       1., 0., 1., 1., 1., 1., 0., 1., 0.])"
      ]
     },
     "execution_count": 26,
     "metadata": {},
     "output_type": "execute_result"
    }
   ],
   "source": [
    "yPredict = knn.predict(list(testDF['x']))\n",
    "yPredict"
   ]
  },
  {
   "cell_type": "code",
   "execution_count": 27,
   "id": "ee24ee9e",
   "metadata": {
    "execution": {
     "iopub.execute_input": "2024-12-22T18:17:14.318251Z",
     "iopub.status.busy": "2024-12-22T18:17:14.317920Z",
     "iopub.status.idle": "2024-12-22T18:17:14.325638Z",
     "shell.execute_reply": "2024-12-22T18:17:14.324484Z"
    },
    "papermill": {
     "duration": 0.019802,
     "end_time": "2024-12-22T18:17:14.327285",
     "exception": false,
     "start_time": "2024-12-22T18:17:14.307483",
     "status": "completed"
    },
    "tags": []
   },
   "outputs": [
    {
     "data": {
      "text/plain": [
       "0.9925"
      ]
     },
     "execution_count": 27,
     "metadata": {},
     "output_type": "execute_result"
    }
   ],
   "source": [
    "yTest = list(testDF['y'])\n",
    "accuracy_score(yTest, yPredict)"
   ]
  },
  {
   "cell_type": "code",
   "execution_count": 28,
   "id": "290988b8",
   "metadata": {
    "execution": {
     "iopub.execute_input": "2024-12-22T18:17:14.348141Z",
     "iopub.status.busy": "2024-12-22T18:17:14.347788Z",
     "iopub.status.idle": "2024-12-22T18:17:14.360827Z",
     "shell.execute_reply": "2024-12-22T18:17:14.359503Z"
    },
    "papermill": {
     "duration": 0.025716,
     "end_time": "2024-12-22T18:17:14.362780",
     "exception": false,
     "start_time": "2024-12-22T18:17:14.337064",
     "status": "completed"
    },
    "tags": []
   },
   "outputs": [
    {
     "name": "stdout",
     "output_type": "stream",
     "text": [
      "              precision    recall  f1-score   support\n",
      "\n",
      "         0.0       0.99      1.00      0.99       200\n",
      "         1.0       1.00      0.98      0.99       200\n",
      "\n",
      "    accuracy                           0.99       400\n",
      "   macro avg       0.99      0.99      0.99       400\n",
      "weighted avg       0.99      0.99      0.99       400\n",
      "\n"
     ]
    }
   ],
   "source": [
    "print(classification_report(yTest, yPredict))\n"
   ]
  }
 ],
 "metadata": {
  "kaggle": {
   "accelerator": "none",
   "dataSources": [
    {
     "datasetId": 6354975,
     "sourceId": 10271132,
     "sourceType": "datasetVersion"
    }
   ],
   "dockerImageVersionId": 30822,
   "isGpuEnabled": false,
   "isInternetEnabled": false,
   "language": "python",
   "sourceType": "notebook"
  },
  "kernelspec": {
   "display_name": "Python 3",
   "language": "python",
   "name": "python3"
  },
  "language_info": {
   "codemirror_mode": {
    "name": "ipython",
    "version": 3
   },
   "file_extension": ".py",
   "mimetype": "text/x-python",
   "name": "python",
   "nbconvert_exporter": "python",
   "pygments_lexer": "ipython3",
   "version": "3.10.12"
  },
  "papermill": {
   "default_parameters": {},
   "duration": 6.84012,
   "end_time": "2024-12-22T18:17:15.094832",
   "environment_variables": {},
   "exception": null,
   "input_path": "__notebook__.ipynb",
   "output_path": "__notebook__.ipynb",
   "parameters": {},
   "start_time": "2024-12-22T18:17:08.254712",
   "version": "2.6.0"
  }
 },
 "nbformat": 4,
 "nbformat_minor": 5
}
