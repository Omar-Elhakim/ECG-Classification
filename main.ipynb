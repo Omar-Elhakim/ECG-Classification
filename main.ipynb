{
 "cells": [
  {
   "cell_type": "markdown",
   "id": "33e80f5f",
   "metadata": {
    "papermill": {
     "duration": 0.007629,
     "end_time": "2024-12-22T18:17:10.479897",
     "exception": false,
     "start_time": "2024-12-22T18:17:10.472268",
     "status": "completed"
    },
    "tags": []
   },
   "source": [
    "* Imports and definitions"
   ]
  },
  {
   "cell_type": "code",
   "execution_count": 289,
   "id": "867fbf6d",
   "metadata": {
    "execution": {
     "iopub.execute_input": "2024-12-22T18:17:10.495240Z",
     "iopub.status.busy": "2024-12-22T18:17:10.494899Z",
     "iopub.status.idle": "2024-12-22T18:17:12.881695Z",
     "shell.execute_reply": "2024-12-22T18:17:12.880657Z"
    },
    "papermill": {
     "duration": 2.396494,
     "end_time": "2024-12-22T18:17:12.883672",
     "exception": false,
     "start_time": "2024-12-22T18:17:10.487178",
     "status": "completed"
    },
    "tags": []
   },
   "outputs": [],
   "source": [
    "import plotly.graph_objects as go\n",
    "from scipy import *\n",
    "import numpy as np\n",
    "import pywt\n",
    "import pandas as pd\n",
    "from sklearn.utils import shuffle\n",
    "from sklearn.neighbors import KNeighborsClassifier\n",
    "from sklearn.metrics import accuracy_score, classification_report, confusion_matrix, ConfusionMatrixDisplay\n",
    "\n",
    "\n",
    "samplingRate = 360  # Hz (given in the doc)"
   ]
  },
  {
   "cell_type": "code",
   "execution_count": 290,
   "id": "a31ee98f",
   "metadata": {
    "execution": {
     "iopub.execute_input": "2024-12-22T18:17:12.899724Z",
     "iopub.status.busy": "2024-12-22T18:17:12.899204Z",
     "iopub.status.idle": "2024-12-22T18:17:12.904887Z",
     "shell.execute_reply": "2024-12-22T18:17:12.903973Z"
    },
    "papermill": {
     "duration": 0.015638,
     "end_time": "2024-12-22T18:17:12.906496",
     "exception": false,
     "start_time": "2024-12-22T18:17:12.890858",
     "status": "completed"
    },
    "tags": []
   },
   "outputs": [],
   "source": [
    "def draw(amplitudes, indices=None):\n",
    "    if type(indices) == \"list\":  # if we have certain indices or not\n",
    "        fig_cont = go.Figure()\n",
    "        fig_cont.add_trace(\n",
    "            go.Scatter(x=indices, y=amplitudes, mode=\"lines\", name=\"Continuous Signal\")\n",
    "        )\n",
    "    else:\n",
    "        fig_cont = go.Figure()\n",
    "        fig_cont.add_trace(\n",
    "            go.Scatter(y=amplitudes, mode=\"lines\", name=\"Continuous Signal\")\n",
    "        )\n",
    "    fig_cont.update_layout(\n",
    "        title=\"Continuous Signal\",\n",
    "        xaxis_title=\"Index\",\n",
    "        yaxis_title=\"Amplitude\",\n",
    "        width=1000,\n",
    "        height=500,\n",
    "    )\n",
    "\n",
    "    fig_cont.show()  # For notebooks"
   ]
  },
  {
   "cell_type": "code",
   "execution_count": 291,
   "id": "fc48770e",
   "metadata": {
    "execution": {
     "iopub.execute_input": "2024-12-22T18:17:12.921866Z",
     "iopub.status.busy": "2024-12-22T18:17:12.921450Z",
     "iopub.status.idle": "2024-12-22T18:17:12.926485Z",
     "shell.execute_reply": "2024-12-22T18:17:12.925565Z"
    },
    "papermill": {
     "duration": 0.014618,
     "end_time": "2024-12-22T18:17:12.928372",
     "exception": false,
     "start_time": "2024-12-22T18:17:12.913754",
     "status": "completed"
    },
    "tags": []
   },
   "outputs": [],
   "source": [
    "# HB means HeartBeat\n",
    "def readHB(fileName):\n",
    "    signals = []\n",
    "    with open(fileName) as l:\n",
    "        line = l.readline()\n",
    "        while line:\n",
    "            signal = line.split(\"|\")\n",
    "            signals.append([float(value) for value in signal[:-1]])\n",
    "            line = l.readline()\n",
    "    return signals"
   ]
  },
  {
   "cell_type": "code",
   "execution_count": 292,
   "id": "fdb07080",
   "metadata": {
    "execution": {
     "iopub.execute_input": "2024-12-22T18:17:12.943946Z",
     "iopub.status.busy": "2024-12-22T18:17:12.943505Z",
     "iopub.status.idle": "2024-12-22T18:17:12.947597Z",
     "shell.execute_reply": "2024-12-22T18:17:12.946639Z"
    },
    "papermill": {
     "duration": 0.014034,
     "end_time": "2024-12-22T18:17:12.949398",
     "exception": false,
     "start_time": "2024-12-22T18:17:12.935364",
     "status": "completed"
    },
    "tags": []
   },
   "outputs": [],
   "source": [
    "dirPath = \"C:/Users/omart/Desktop/level 2/python/ECG-Classification/Data\""
   ]
  },
  {
   "cell_type": "code",
   "execution_count": 293,
   "id": "7c448fab",
   "metadata": {
    "execution": {
     "iopub.execute_input": "2024-12-22T18:17:12.965231Z",
     "iopub.status.busy": "2024-12-22T18:17:12.964808Z",
     "iopub.status.idle": "2024-12-22T18:17:13.003214Z",
     "shell.execute_reply": "2024-12-22T18:17:13.001661Z"
    },
    "papermill": {
     "duration": 0.048669,
     "end_time": "2024-12-22T18:17:13.005434",
     "exception": false,
     "start_time": "2024-12-22T18:17:12.956765",
     "status": "completed"
    },
    "tags": []
   },
   "outputs": [],
   "source": [
    "healthySignals = readHB(f\"{dirPath}/Normal_Train.txt\")"
   ]
  },
  {
   "cell_type": "code",
   "execution_count": 294,
   "id": "c0334386",
   "metadata": {
    "execution": {
     "iopub.execute_input": "2024-12-22T18:17:13.021634Z",
     "iopub.status.busy": "2024-12-22T18:17:13.021214Z",
     "iopub.status.idle": "2024-12-22T18:17:13.053256Z",
     "shell.execute_reply": "2024-12-22T18:17:13.052129Z"
    },
    "papermill": {
     "duration": 0.042926,
     "end_time": "2024-12-22T18:17:13.055384",
     "exception": false,
     "start_time": "2024-12-22T18:17:13.012458",
     "status": "completed"
    },
    "tags": []
   },
   "outputs": [],
   "source": [
    "PVCSignals = readHB(f\"{dirPath}/PVC_Train.txt\")"
   ]
  },
  {
   "cell_type": "markdown",
   "id": "cec77857",
   "metadata": {
    "papermill": {
     "duration": 0.006517,
     "end_time": "2024-12-22T18:17:13.069156",
     "exception": false,
     "start_time": "2024-12-22T18:17:13.062639",
     "status": "completed"
    },
    "tags": []
   },
   "source": [
    "## After some investigating , I noticed the following:\n",
    "* healthySignals and PVCSignals each contain 200 signals\n",
    "* Each signal has 300 points\n",
    "* Max amplitude is 1.6692\n",
    "* Min amplitude is -2.1939"
   ]
  },
  {
   "cell_type": "code",
   "execution_count": 295,
   "id": "4c9d6548",
   "metadata": {
    "execution": {
     "iopub.execute_input": "2024-12-22T18:17:13.084032Z",
     "iopub.status.busy": "2024-12-22T18:17:13.083601Z",
     "iopub.status.idle": "2024-12-22T18:17:13.368133Z",
     "shell.execute_reply": "2024-12-22T18:17:13.367119Z"
    },
    "papermill": {
     "duration": 0.293763,
     "end_time": "2024-12-22T18:17:13.369718",
     "exception": false,
     "start_time": "2024-12-22T18:17:13.075955",
     "status": "completed"
    },
    "tags": []
   },
   "outputs": [
    {
     "data": {
      "application/vnd.plotly.v1+json": {
       "config": {
        "plotlyServerURL": "https://plot.ly"
       },
       "data": [
        {
         "mode": "lines",
         "name": "Continuous Signal",
         "type": "scatter",
         "y": [
          -0.28578,
          -0.28078,
          -0.27578,
          -0.27078,
          -0.28578,
          -0.29578,
          -0.28578,
          -0.28078,
          -0.28578,
          -0.27578,
          -0.29078,
          -0.30078,
          -0.29078,
          -0.27578,
          -0.26578,
          -0.26078,
          -0.27578,
          -0.28078,
          -0.28578,
          -0.28078,
          -0.27578,
          -0.27578,
          -0.27078,
          -0.28078,
          -0.27578,
          -0.26578,
          -0.26078,
          -0.27078,
          -0.28078,
          -0.28578,
          -0.27578,
          -0.26078,
          -0.25078,
          -0.24078,
          -0.24578,
          -0.25578,
          -0.24078,
          -0.25078,
          -0.23078,
          -0.25078,
          -0.24578,
          -0.23578,
          -0.20078,
          -0.16578,
          -0.14078,
          -0.10578,
          -0.10078,
          -0.10078,
          -0.11078,
          -0.11078,
          -0.11578,
          -0.12078,
          -0.13078,
          -0.13578,
          -0.14078,
          -0.14078,
          -0.15578,
          -0.16578,
          -0.17578,
          -0.20578,
          -0.22078,
          -0.23078,
          -0.24578,
          -0.26578,
          -0.28078,
          -0.29578,
          -0.30078,
          -0.28578,
          -0.28578,
          -0.28078,
          -0.29078,
          -0.30078,
          -0.30578,
          -0.29078,
          -0.30578,
          -0.32078,
          -0.33078,
          -0.34078,
          -0.32578,
          -0.32078,
          -0.32078,
          -0.31578,
          -0.32078,
          -0.32578,
          -0.32578,
          -0.34078,
          -0.35578,
          -0.37078,
          -0.37078,
          -0.35578,
          -0.25578,
          -0.065778,
          0.17922,
          0.44922,
          0.74922,
          1.0592,
          1.2242,
          1.1542,
          0.84922,
          0.49422,
          0.17922,
          -0.025778,
          -0.10578,
          -0.15578,
          -0.22078,
          -0.25578,
          -0.27578,
          -0.29078,
          -0.30578,
          -0.31078,
          -0.33078,
          -0.36578,
          -0.38578,
          -0.38578,
          -0.37578,
          -0.38078,
          -0.37078,
          -0.37578,
          -0.38078,
          -0.39078,
          -0.39078,
          -0.38578,
          -0.37078,
          -0.38578,
          -0.38578,
          -0.39078,
          -0.39578,
          -0.38578,
          -0.39078,
          -0.38578,
          -0.39078,
          -0.40078,
          -0.39078,
          -0.37078,
          -0.36578,
          -0.37578,
          -0.39578,
          -0.41578,
          -0.40578,
          -0.39078,
          -0.37078,
          -0.37578,
          -0.36578,
          -0.37578,
          -0.37578,
          -0.38078,
          -0.36078,
          -0.36078,
          -0.36578,
          -0.38078,
          -0.38078,
          -0.37078,
          -0.34578,
          -0.34578,
          -0.35578,
          -0.36578,
          -0.36078,
          -0.35078,
          -0.34578,
          -0.34078,
          -0.33578,
          -0.34578,
          -0.34078,
          -0.33078,
          -0.32078,
          -0.32078,
          -0.32578,
          -0.32078,
          -0.29578,
          -0.28078,
          -0.28078,
          -0.28578,
          -0.28078,
          -0.27078,
          -0.26578,
          -0.25078,
          -0.24578,
          -0.23578,
          -0.23578,
          -0.23078,
          -0.22078,
          -0.20078,
          -0.18078,
          -0.17078,
          -0.16578,
          -0.17078,
          -0.16078,
          -0.14578,
          -0.12078,
          -0.11078,
          -0.10578,
          -0.11578,
          -0.090778,
          -0.075778,
          -0.060778,
          -0.055778,
          -0.060778,
          -0.065778,
          -0.050778,
          -0.045778,
          -0.035778,
          -0.035778,
          -0.045778,
          -0.055778,
          -0.065778,
          -0.060778,
          -0.065778,
          -0.075778,
          -0.085778,
          -0.10578,
          -0.10578,
          -0.11078,
          -0.11578,
          -0.13578,
          -0.15078,
          -0.16578,
          -0.18078,
          -0.19078,
          -0.18078,
          -0.19078,
          -0.22578,
          -0.23078,
          -0.22078,
          -0.21078,
          -0.20078,
          -0.23078,
          -0.23578,
          -0.24578,
          -0.23578,
          -0.23078,
          -0.23078,
          -0.24078,
          -0.24578,
          -0.26078,
          -0.25078,
          -0.23078,
          -0.23578,
          -0.23578,
          -0.24078,
          -0.24578,
          -0.24078,
          -0.22578,
          -0.23078,
          -0.23078,
          -0.25078,
          -0.25578,
          -0.25578,
          -0.24578,
          -0.23078,
          -0.23578,
          -0.24578,
          -0.24578,
          -0.25078,
          -0.23078,
          -0.22078,
          -0.22078,
          -0.22578,
          -0.24078,
          -0.22578,
          -0.22578,
          -0.22078,
          -0.22078,
          -0.23078,
          -0.22578,
          -0.22578,
          -0.21078,
          -0.20578,
          -0.20078,
          -0.21078,
          -0.22078,
          -0.22078,
          -0.22078,
          -0.19578,
          -0.19578,
          -0.20078,
          -0.22078,
          -0.21578,
          -0.20578,
          -0.21078,
          -0.21078,
          -0.21578,
          -0.22578,
          -0.21578,
          -0.20578,
          -0.19578,
          -0.19578,
          -0.20078,
          -0.22578,
          -0.21078,
          -0.19078,
          -0.18578,
          -0.20078,
          -0.21578,
          -0.21078,
          -0.20578,
          -0.20078,
          -0.18578,
          -0.18578,
          -0.19578,
          -0.19578
         ]
        }
       ],
       "layout": {
        "height": 500,
        "template": {
         "data": {
          "bar": [
           {
            "error_x": {
             "color": "#2a3f5f"
            },
            "error_y": {
             "color": "#2a3f5f"
            },
            "marker": {
             "line": {
              "color": "#E5ECF6",
              "width": 0.5
             },
             "pattern": {
              "fillmode": "overlay",
              "size": 10,
              "solidity": 0.2
             }
            },
            "type": "bar"
           }
          ],
          "barpolar": [
           {
            "marker": {
             "line": {
              "color": "#E5ECF6",
              "width": 0.5
             },
             "pattern": {
              "fillmode": "overlay",
              "size": 10,
              "solidity": 0.2
             }
            },
            "type": "barpolar"
           }
          ],
          "carpet": [
           {
            "aaxis": {
             "endlinecolor": "#2a3f5f",
             "gridcolor": "white",
             "linecolor": "white",
             "minorgridcolor": "white",
             "startlinecolor": "#2a3f5f"
            },
            "baxis": {
             "endlinecolor": "#2a3f5f",
             "gridcolor": "white",
             "linecolor": "white",
             "minorgridcolor": "white",
             "startlinecolor": "#2a3f5f"
            },
            "type": "carpet"
           }
          ],
          "choropleth": [
           {
            "colorbar": {
             "outlinewidth": 0,
             "ticks": ""
            },
            "type": "choropleth"
           }
          ],
          "contour": [
           {
            "colorbar": {
             "outlinewidth": 0,
             "ticks": ""
            },
            "colorscale": [
             [
              0,
              "#0d0887"
             ],
             [
              0.1111111111111111,
              "#46039f"
             ],
             [
              0.2222222222222222,
              "#7201a8"
             ],
             [
              0.3333333333333333,
              "#9c179e"
             ],
             [
              0.4444444444444444,
              "#bd3786"
             ],
             [
              0.5555555555555556,
              "#d8576b"
             ],
             [
              0.6666666666666666,
              "#ed7953"
             ],
             [
              0.7777777777777778,
              "#fb9f3a"
             ],
             [
              0.8888888888888888,
              "#fdca26"
             ],
             [
              1,
              "#f0f921"
             ]
            ],
            "type": "contour"
           }
          ],
          "contourcarpet": [
           {
            "colorbar": {
             "outlinewidth": 0,
             "ticks": ""
            },
            "type": "contourcarpet"
           }
          ],
          "heatmap": [
           {
            "colorbar": {
             "outlinewidth": 0,
             "ticks": ""
            },
            "colorscale": [
             [
              0,
              "#0d0887"
             ],
             [
              0.1111111111111111,
              "#46039f"
             ],
             [
              0.2222222222222222,
              "#7201a8"
             ],
             [
              0.3333333333333333,
              "#9c179e"
             ],
             [
              0.4444444444444444,
              "#bd3786"
             ],
             [
              0.5555555555555556,
              "#d8576b"
             ],
             [
              0.6666666666666666,
              "#ed7953"
             ],
             [
              0.7777777777777778,
              "#fb9f3a"
             ],
             [
              0.8888888888888888,
              "#fdca26"
             ],
             [
              1,
              "#f0f921"
             ]
            ],
            "type": "heatmap"
           }
          ],
          "heatmapgl": [
           {
            "colorbar": {
             "outlinewidth": 0,
             "ticks": ""
            },
            "colorscale": [
             [
              0,
              "#0d0887"
             ],
             [
              0.1111111111111111,
              "#46039f"
             ],
             [
              0.2222222222222222,
              "#7201a8"
             ],
             [
              0.3333333333333333,
              "#9c179e"
             ],
             [
              0.4444444444444444,
              "#bd3786"
             ],
             [
              0.5555555555555556,
              "#d8576b"
             ],
             [
              0.6666666666666666,
              "#ed7953"
             ],
             [
              0.7777777777777778,
              "#fb9f3a"
             ],
             [
              0.8888888888888888,
              "#fdca26"
             ],
             [
              1,
              "#f0f921"
             ]
            ],
            "type": "heatmapgl"
           }
          ],
          "histogram": [
           {
            "marker": {
             "pattern": {
              "fillmode": "overlay",
              "size": 10,
              "solidity": 0.2
             }
            },
            "type": "histogram"
           }
          ],
          "histogram2d": [
           {
            "colorbar": {
             "outlinewidth": 0,
             "ticks": ""
            },
            "colorscale": [
             [
              0,
              "#0d0887"
             ],
             [
              0.1111111111111111,
              "#46039f"
             ],
             [
              0.2222222222222222,
              "#7201a8"
             ],
             [
              0.3333333333333333,
              "#9c179e"
             ],
             [
              0.4444444444444444,
              "#bd3786"
             ],
             [
              0.5555555555555556,
              "#d8576b"
             ],
             [
              0.6666666666666666,
              "#ed7953"
             ],
             [
              0.7777777777777778,
              "#fb9f3a"
             ],
             [
              0.8888888888888888,
              "#fdca26"
             ],
             [
              1,
              "#f0f921"
             ]
            ],
            "type": "histogram2d"
           }
          ],
          "histogram2dcontour": [
           {
            "colorbar": {
             "outlinewidth": 0,
             "ticks": ""
            },
            "colorscale": [
             [
              0,
              "#0d0887"
             ],
             [
              0.1111111111111111,
              "#46039f"
             ],
             [
              0.2222222222222222,
              "#7201a8"
             ],
             [
              0.3333333333333333,
              "#9c179e"
             ],
             [
              0.4444444444444444,
              "#bd3786"
             ],
             [
              0.5555555555555556,
              "#d8576b"
             ],
             [
              0.6666666666666666,
              "#ed7953"
             ],
             [
              0.7777777777777778,
              "#fb9f3a"
             ],
             [
              0.8888888888888888,
              "#fdca26"
             ],
             [
              1,
              "#f0f921"
             ]
            ],
            "type": "histogram2dcontour"
           }
          ],
          "mesh3d": [
           {
            "colorbar": {
             "outlinewidth": 0,
             "ticks": ""
            },
            "type": "mesh3d"
           }
          ],
          "parcoords": [
           {
            "line": {
             "colorbar": {
              "outlinewidth": 0,
              "ticks": ""
             }
            },
            "type": "parcoords"
           }
          ],
          "pie": [
           {
            "automargin": true,
            "type": "pie"
           }
          ],
          "scatter": [
           {
            "fillpattern": {
             "fillmode": "overlay",
             "size": 10,
             "solidity": 0.2
            },
            "type": "scatter"
           }
          ],
          "scatter3d": [
           {
            "line": {
             "colorbar": {
              "outlinewidth": 0,
              "ticks": ""
             }
            },
            "marker": {
             "colorbar": {
              "outlinewidth": 0,
              "ticks": ""
             }
            },
            "type": "scatter3d"
           }
          ],
          "scattercarpet": [
           {
            "marker": {
             "colorbar": {
              "outlinewidth": 0,
              "ticks": ""
             }
            },
            "type": "scattercarpet"
           }
          ],
          "scattergeo": [
           {
            "marker": {
             "colorbar": {
              "outlinewidth": 0,
              "ticks": ""
             }
            },
            "type": "scattergeo"
           }
          ],
          "scattergl": [
           {
            "marker": {
             "colorbar": {
              "outlinewidth": 0,
              "ticks": ""
             }
            },
            "type": "scattergl"
           }
          ],
          "scattermapbox": [
           {
            "marker": {
             "colorbar": {
              "outlinewidth": 0,
              "ticks": ""
             }
            },
            "type": "scattermapbox"
           }
          ],
          "scatterpolar": [
           {
            "marker": {
             "colorbar": {
              "outlinewidth": 0,
              "ticks": ""
             }
            },
            "type": "scatterpolar"
           }
          ],
          "scatterpolargl": [
           {
            "marker": {
             "colorbar": {
              "outlinewidth": 0,
              "ticks": ""
             }
            },
            "type": "scatterpolargl"
           }
          ],
          "scatterternary": [
           {
            "marker": {
             "colorbar": {
              "outlinewidth": 0,
              "ticks": ""
             }
            },
            "type": "scatterternary"
           }
          ],
          "surface": [
           {
            "colorbar": {
             "outlinewidth": 0,
             "ticks": ""
            },
            "colorscale": [
             [
              0,
              "#0d0887"
             ],
             [
              0.1111111111111111,
              "#46039f"
             ],
             [
              0.2222222222222222,
              "#7201a8"
             ],
             [
              0.3333333333333333,
              "#9c179e"
             ],
             [
              0.4444444444444444,
              "#bd3786"
             ],
             [
              0.5555555555555556,
              "#d8576b"
             ],
             [
              0.6666666666666666,
              "#ed7953"
             ],
             [
              0.7777777777777778,
              "#fb9f3a"
             ],
             [
              0.8888888888888888,
              "#fdca26"
             ],
             [
              1,
              "#f0f921"
             ]
            ],
            "type": "surface"
           }
          ],
          "table": [
           {
            "cells": {
             "fill": {
              "color": "#EBF0F8"
             },
             "line": {
              "color": "white"
             }
            },
            "header": {
             "fill": {
              "color": "#C8D4E3"
             },
             "line": {
              "color": "white"
             }
            },
            "type": "table"
           }
          ]
         },
         "layout": {
          "annotationdefaults": {
           "arrowcolor": "#2a3f5f",
           "arrowhead": 0,
           "arrowwidth": 1
          },
          "autotypenumbers": "strict",
          "coloraxis": {
           "colorbar": {
            "outlinewidth": 0,
            "ticks": ""
           }
          },
          "colorscale": {
           "diverging": [
            [
             0,
             "#8e0152"
            ],
            [
             0.1,
             "#c51b7d"
            ],
            [
             0.2,
             "#de77ae"
            ],
            [
             0.3,
             "#f1b6da"
            ],
            [
             0.4,
             "#fde0ef"
            ],
            [
             0.5,
             "#f7f7f7"
            ],
            [
             0.6,
             "#e6f5d0"
            ],
            [
             0.7,
             "#b8e186"
            ],
            [
             0.8,
             "#7fbc41"
            ],
            [
             0.9,
             "#4d9221"
            ],
            [
             1,
             "#276419"
            ]
           ],
           "sequential": [
            [
             0,
             "#0d0887"
            ],
            [
             0.1111111111111111,
             "#46039f"
            ],
            [
             0.2222222222222222,
             "#7201a8"
            ],
            [
             0.3333333333333333,
             "#9c179e"
            ],
            [
             0.4444444444444444,
             "#bd3786"
            ],
            [
             0.5555555555555556,
             "#d8576b"
            ],
            [
             0.6666666666666666,
             "#ed7953"
            ],
            [
             0.7777777777777778,
             "#fb9f3a"
            ],
            [
             0.8888888888888888,
             "#fdca26"
            ],
            [
             1,
             "#f0f921"
            ]
           ],
           "sequentialminus": [
            [
             0,
             "#0d0887"
            ],
            [
             0.1111111111111111,
             "#46039f"
            ],
            [
             0.2222222222222222,
             "#7201a8"
            ],
            [
             0.3333333333333333,
             "#9c179e"
            ],
            [
             0.4444444444444444,
             "#bd3786"
            ],
            [
             0.5555555555555556,
             "#d8576b"
            ],
            [
             0.6666666666666666,
             "#ed7953"
            ],
            [
             0.7777777777777778,
             "#fb9f3a"
            ],
            [
             0.8888888888888888,
             "#fdca26"
            ],
            [
             1,
             "#f0f921"
            ]
           ]
          },
          "colorway": [
           "#636efa",
           "#EF553B",
           "#00cc96",
           "#ab63fa",
           "#FFA15A",
           "#19d3f3",
           "#FF6692",
           "#B6E880",
           "#FF97FF",
           "#FECB52"
          ],
          "font": {
           "color": "#2a3f5f"
          },
          "geo": {
           "bgcolor": "white",
           "lakecolor": "white",
           "landcolor": "#E5ECF6",
           "showlakes": true,
           "showland": true,
           "subunitcolor": "white"
          },
          "hoverlabel": {
           "align": "left"
          },
          "hovermode": "closest",
          "mapbox": {
           "style": "light"
          },
          "paper_bgcolor": "white",
          "plot_bgcolor": "#E5ECF6",
          "polar": {
           "angularaxis": {
            "gridcolor": "white",
            "linecolor": "white",
            "ticks": ""
           },
           "bgcolor": "#E5ECF6",
           "radialaxis": {
            "gridcolor": "white",
            "linecolor": "white",
            "ticks": ""
           }
          },
          "scene": {
           "xaxis": {
            "backgroundcolor": "#E5ECF6",
            "gridcolor": "white",
            "gridwidth": 2,
            "linecolor": "white",
            "showbackground": true,
            "ticks": "",
            "zerolinecolor": "white"
           },
           "yaxis": {
            "backgroundcolor": "#E5ECF6",
            "gridcolor": "white",
            "gridwidth": 2,
            "linecolor": "white",
            "showbackground": true,
            "ticks": "",
            "zerolinecolor": "white"
           },
           "zaxis": {
            "backgroundcolor": "#E5ECF6",
            "gridcolor": "white",
            "gridwidth": 2,
            "linecolor": "white",
            "showbackground": true,
            "ticks": "",
            "zerolinecolor": "white"
           }
          },
          "shapedefaults": {
           "line": {
            "color": "#2a3f5f"
           }
          },
          "ternary": {
           "aaxis": {
            "gridcolor": "white",
            "linecolor": "white",
            "ticks": ""
           },
           "baxis": {
            "gridcolor": "white",
            "linecolor": "white",
            "ticks": ""
           },
           "bgcolor": "#E5ECF6",
           "caxis": {
            "gridcolor": "white",
            "linecolor": "white",
            "ticks": ""
           }
          },
          "title": {
           "x": 0.05
          },
          "xaxis": {
           "automargin": true,
           "gridcolor": "white",
           "linecolor": "white",
           "ticks": "",
           "title": {
            "standoff": 15
           },
           "zerolinecolor": "white",
           "zerolinewidth": 2
          },
          "yaxis": {
           "automargin": true,
           "gridcolor": "white",
           "linecolor": "white",
           "ticks": "",
           "title": {
            "standoff": 15
           },
           "zerolinecolor": "white",
           "zerolinewidth": 2
          }
         }
        },
        "title": {
         "text": "Continuous Signal"
        },
        "width": 1000,
        "xaxis": {
         "title": {
          "text": "Index"
         }
        },
        "yaxis": {
         "title": {
          "text": "Amplitude"
         }
        }
       }
      }
     },
     "metadata": {},
     "output_type": "display_data"
    }
   ],
   "source": [
    "draw(healthySignals[104])  # drawing a random signal to see what we are working with"
   ]
  },
  {
   "cell_type": "code",
   "execution_count": 296,
   "id": "de1b5cf9",
   "metadata": {
    "execution": {
     "iopub.execute_input": "2024-12-22T18:17:13.386650Z",
     "iopub.status.busy": "2024-12-22T18:17:13.386254Z",
     "iopub.status.idle": "2024-12-22T18:17:13.399769Z",
     "shell.execute_reply": "2024-12-22T18:17:13.398630Z"
    },
    "papermill": {
     "duration": 0.023984,
     "end_time": "2024-12-22T18:17:13.401811",
     "exception": false,
     "start_time": "2024-12-22T18:17:13.377827",
     "status": "completed"
    },
    "tags": []
   },
   "outputs": [
    {
     "data": {
      "application/vnd.plotly.v1+json": {
       "config": {
        "plotlyServerURL": "https://plot.ly"
       },
       "data": [
        {
         "mode": "lines",
         "name": "Continuous Signal",
         "type": "scatter",
         "y": [
          -0.37385,
          -0.37385,
          -0.36885,
          -0.35385,
          -0.35885,
          -0.38385,
          -0.39885,
          -0.41385,
          -0.41385,
          -0.40385,
          -0.40385,
          -0.41885,
          -0.42885,
          -0.44385,
          -0.44885,
          -0.43885,
          -0.43885,
          -0.44385,
          -0.45885,
          -0.46885,
          -0.46885,
          -0.46885,
          -0.46885,
          -0.47885,
          -0.49885,
          -0.49885,
          -0.49385,
          -0.47885,
          -0.46385,
          -0.49385,
          -0.51385,
          -0.50385,
          -0.47385,
          -0.45385,
          -0.42385,
          -0.41885,
          -0.41385,
          -0.40885,
          -0.41385,
          -0.38885,
          -0.37385,
          -0.36385,
          -0.34885,
          -0.32885,
          -0.31385,
          -0.26885,
          -0.25885,
          -0.26385,
          -0.25385,
          -0.21385,
          -0.19885,
          -0.16885,
          -0.15885,
          -0.17385,
          -0.18885,
          -0.18385,
          -0.15885,
          -0.13385,
          -0.11385,
          -0.11885,
          -0.10385,
          -0.11885,
          -0.098853,
          -0.073853,
          -0.068853,
          -0.068853,
          -0.093853,
          -0.093853,
          -0.083853,
          -0.053853,
          -0.058853,
          -0.073853,
          -0.098853,
          -0.11385,
          -0.11385,
          -0.098853,
          -0.063853,
          -0.043853,
          -0.018853,
          0.011147,
          0.076147,
          0.17115,
          0.25115,
          0.36615,
          0.47615,
          0.58615,
          0.71615,
          0.86115,
          0.98115,
          1.0761,
          1.1761,
          1.2811,
          1.3911,
          1.5011,
          1.5911,
          1.6361,
          1.6311,
          1.5961,
          1.5411,
          1.4011,
          1.1711,
          0.87115,
          0.49615,
          0.13615,
          -0.21885,
          -0.54885,
          -0.79885,
          -0.98385,
          -1.1439,
          -1.2589,
          -1.3389,
          -1.4189,
          -1.5039,
          -1.5889,
          -1.6539,
          -1.7189,
          -1.7589,
          -1.7889,
          -1.8189,
          -1.8539,
          -1.8839,
          -1.9039,
          -1.9189,
          -1.9139,
          -1.9039,
          -1.8989,
          -1.8639,
          -1.8039,
          -1.7089,
          -1.5739,
          -1.4239,
          -1.2989,
          -1.1739,
          -1.0639,
          -0.95885,
          -0.85385,
          -0.78885,
          -0.74385,
          -0.73885,
          -0.71885,
          -0.70885,
          -0.66385,
          -0.64885,
          -0.62885,
          -0.62385,
          -0.60885,
          -0.57885,
          -0.49885,
          -0.43885,
          -0.40385,
          -0.36385,
          -0.28885,
          -0.22385,
          -0.16385,
          -0.10885,
          -0.098853,
          -0.098853,
          -0.093853,
          -0.043853,
          0.011147,
          0.051147,
          0.056147,
          0.036147,
          0.011147,
          0.026147,
          0.071147,
          0.081147,
          0.096147,
          0.11615,
          0.14115,
          0.18615,
          0.22115,
          0.24115,
          0.23615,
          0.25615,
          0.29115,
          0.33115,
          0.37615,
          0.39615,
          0.39115,
          0.40115,
          0.41115,
          0.41115,
          0.43615,
          0.46615,
          0.47115,
          0.47615,
          0.50115,
          0.52615,
          0.57615,
          0.61115,
          0.62615,
          0.64615,
          0.67115,
          0.70615,
          0.75115,
          0.78615,
          0.80115,
          0.82615,
          0.84115,
          0.89615,
          0.94615,
          0.95115,
          0.95115,
          0.95615,
          0.96115,
          0.97615,
          1.0111,
          1.0411,
          1.0661,
          1.0761,
          1.0711,
          1.0911,
          1.1211,
          1.1361,
          1.1461,
          1.1511,
          1.1311,
          1.1311,
          1.1311,
          1.1311,
          1.1111,
          1.0961,
          1.0661,
          1.0461,
          1.0361,
          1.0311,
          1.0011,
          0.95115,
          0.91115,
          0.88615,
          0.85115,
          0.83615,
          0.81615,
          0.76115,
          0.70615,
          0.63115,
          0.60115,
          0.58115,
          0.54615,
          0.51615,
          0.48615,
          0.46615,
          0.44115,
          0.40115,
          0.36115,
          0.31115,
          0.25615,
          0.23615,
          0.21615,
          0.19115,
          0.15615,
          0.12615,
          0.10115,
          0.091147,
          0.076147,
          0.061147,
          0.036147,
          0.0061474,
          -0.028853,
          -0.038853,
          -0.023853,
          -0.018853,
          -0.018853,
          -0.033853,
          -0.043853,
          -0.038853,
          -0.043853,
          -0.048853,
          -0.068853,
          -0.063853,
          -0.078853,
          -0.093853,
          -0.073853,
          -0.058853,
          -0.073853,
          -0.083853,
          -0.10385,
          -0.10385,
          -0.073853,
          -0.048853,
          -0.068853,
          -0.093853,
          -0.10885,
          -0.10385,
          -0.093853,
          -0.073853,
          -0.093853,
          -0.11885,
          -0.13385,
          -0.12385,
          -0.11385,
          -0.098853,
          -0.10385,
          -0.12385,
          -0.15885,
          -0.15885,
          -0.15385,
          -0.13385,
          -0.12885
         ]
        }
       ],
       "layout": {
        "height": 500,
        "template": {
         "data": {
          "bar": [
           {
            "error_x": {
             "color": "#2a3f5f"
            },
            "error_y": {
             "color": "#2a3f5f"
            },
            "marker": {
             "line": {
              "color": "#E5ECF6",
              "width": 0.5
             },
             "pattern": {
              "fillmode": "overlay",
              "size": 10,
              "solidity": 0.2
             }
            },
            "type": "bar"
           }
          ],
          "barpolar": [
           {
            "marker": {
             "line": {
              "color": "#E5ECF6",
              "width": 0.5
             },
             "pattern": {
              "fillmode": "overlay",
              "size": 10,
              "solidity": 0.2
             }
            },
            "type": "barpolar"
           }
          ],
          "carpet": [
           {
            "aaxis": {
             "endlinecolor": "#2a3f5f",
             "gridcolor": "white",
             "linecolor": "white",
             "minorgridcolor": "white",
             "startlinecolor": "#2a3f5f"
            },
            "baxis": {
             "endlinecolor": "#2a3f5f",
             "gridcolor": "white",
             "linecolor": "white",
             "minorgridcolor": "white",
             "startlinecolor": "#2a3f5f"
            },
            "type": "carpet"
           }
          ],
          "choropleth": [
           {
            "colorbar": {
             "outlinewidth": 0,
             "ticks": ""
            },
            "type": "choropleth"
           }
          ],
          "contour": [
           {
            "colorbar": {
             "outlinewidth": 0,
             "ticks": ""
            },
            "colorscale": [
             [
              0,
              "#0d0887"
             ],
             [
              0.1111111111111111,
              "#46039f"
             ],
             [
              0.2222222222222222,
              "#7201a8"
             ],
             [
              0.3333333333333333,
              "#9c179e"
             ],
             [
              0.4444444444444444,
              "#bd3786"
             ],
             [
              0.5555555555555556,
              "#d8576b"
             ],
             [
              0.6666666666666666,
              "#ed7953"
             ],
             [
              0.7777777777777778,
              "#fb9f3a"
             ],
             [
              0.8888888888888888,
              "#fdca26"
             ],
             [
              1,
              "#f0f921"
             ]
            ],
            "type": "contour"
           }
          ],
          "contourcarpet": [
           {
            "colorbar": {
             "outlinewidth": 0,
             "ticks": ""
            },
            "type": "contourcarpet"
           }
          ],
          "heatmap": [
           {
            "colorbar": {
             "outlinewidth": 0,
             "ticks": ""
            },
            "colorscale": [
             [
              0,
              "#0d0887"
             ],
             [
              0.1111111111111111,
              "#46039f"
             ],
             [
              0.2222222222222222,
              "#7201a8"
             ],
             [
              0.3333333333333333,
              "#9c179e"
             ],
             [
              0.4444444444444444,
              "#bd3786"
             ],
             [
              0.5555555555555556,
              "#d8576b"
             ],
             [
              0.6666666666666666,
              "#ed7953"
             ],
             [
              0.7777777777777778,
              "#fb9f3a"
             ],
             [
              0.8888888888888888,
              "#fdca26"
             ],
             [
              1,
              "#f0f921"
             ]
            ],
            "type": "heatmap"
           }
          ],
          "heatmapgl": [
           {
            "colorbar": {
             "outlinewidth": 0,
             "ticks": ""
            },
            "colorscale": [
             [
              0,
              "#0d0887"
             ],
             [
              0.1111111111111111,
              "#46039f"
             ],
             [
              0.2222222222222222,
              "#7201a8"
             ],
             [
              0.3333333333333333,
              "#9c179e"
             ],
             [
              0.4444444444444444,
              "#bd3786"
             ],
             [
              0.5555555555555556,
              "#d8576b"
             ],
             [
              0.6666666666666666,
              "#ed7953"
             ],
             [
              0.7777777777777778,
              "#fb9f3a"
             ],
             [
              0.8888888888888888,
              "#fdca26"
             ],
             [
              1,
              "#f0f921"
             ]
            ],
            "type": "heatmapgl"
           }
          ],
          "histogram": [
           {
            "marker": {
             "pattern": {
              "fillmode": "overlay",
              "size": 10,
              "solidity": 0.2
             }
            },
            "type": "histogram"
           }
          ],
          "histogram2d": [
           {
            "colorbar": {
             "outlinewidth": 0,
             "ticks": ""
            },
            "colorscale": [
             [
              0,
              "#0d0887"
             ],
             [
              0.1111111111111111,
              "#46039f"
             ],
             [
              0.2222222222222222,
              "#7201a8"
             ],
             [
              0.3333333333333333,
              "#9c179e"
             ],
             [
              0.4444444444444444,
              "#bd3786"
             ],
             [
              0.5555555555555556,
              "#d8576b"
             ],
             [
              0.6666666666666666,
              "#ed7953"
             ],
             [
              0.7777777777777778,
              "#fb9f3a"
             ],
             [
              0.8888888888888888,
              "#fdca26"
             ],
             [
              1,
              "#f0f921"
             ]
            ],
            "type": "histogram2d"
           }
          ],
          "histogram2dcontour": [
           {
            "colorbar": {
             "outlinewidth": 0,
             "ticks": ""
            },
            "colorscale": [
             [
              0,
              "#0d0887"
             ],
             [
              0.1111111111111111,
              "#46039f"
             ],
             [
              0.2222222222222222,
              "#7201a8"
             ],
             [
              0.3333333333333333,
              "#9c179e"
             ],
             [
              0.4444444444444444,
              "#bd3786"
             ],
             [
              0.5555555555555556,
              "#d8576b"
             ],
             [
              0.6666666666666666,
              "#ed7953"
             ],
             [
              0.7777777777777778,
              "#fb9f3a"
             ],
             [
              0.8888888888888888,
              "#fdca26"
             ],
             [
              1,
              "#f0f921"
             ]
            ],
            "type": "histogram2dcontour"
           }
          ],
          "mesh3d": [
           {
            "colorbar": {
             "outlinewidth": 0,
             "ticks": ""
            },
            "type": "mesh3d"
           }
          ],
          "parcoords": [
           {
            "line": {
             "colorbar": {
              "outlinewidth": 0,
              "ticks": ""
             }
            },
            "type": "parcoords"
           }
          ],
          "pie": [
           {
            "automargin": true,
            "type": "pie"
           }
          ],
          "scatter": [
           {
            "fillpattern": {
             "fillmode": "overlay",
             "size": 10,
             "solidity": 0.2
            },
            "type": "scatter"
           }
          ],
          "scatter3d": [
           {
            "line": {
             "colorbar": {
              "outlinewidth": 0,
              "ticks": ""
             }
            },
            "marker": {
             "colorbar": {
              "outlinewidth": 0,
              "ticks": ""
             }
            },
            "type": "scatter3d"
           }
          ],
          "scattercarpet": [
           {
            "marker": {
             "colorbar": {
              "outlinewidth": 0,
              "ticks": ""
             }
            },
            "type": "scattercarpet"
           }
          ],
          "scattergeo": [
           {
            "marker": {
             "colorbar": {
              "outlinewidth": 0,
              "ticks": ""
             }
            },
            "type": "scattergeo"
           }
          ],
          "scattergl": [
           {
            "marker": {
             "colorbar": {
              "outlinewidth": 0,
              "ticks": ""
             }
            },
            "type": "scattergl"
           }
          ],
          "scattermapbox": [
           {
            "marker": {
             "colorbar": {
              "outlinewidth": 0,
              "ticks": ""
             }
            },
            "type": "scattermapbox"
           }
          ],
          "scatterpolar": [
           {
            "marker": {
             "colorbar": {
              "outlinewidth": 0,
              "ticks": ""
             }
            },
            "type": "scatterpolar"
           }
          ],
          "scatterpolargl": [
           {
            "marker": {
             "colorbar": {
              "outlinewidth": 0,
              "ticks": ""
             }
            },
            "type": "scatterpolargl"
           }
          ],
          "scatterternary": [
           {
            "marker": {
             "colorbar": {
              "outlinewidth": 0,
              "ticks": ""
             }
            },
            "type": "scatterternary"
           }
          ],
          "surface": [
           {
            "colorbar": {
             "outlinewidth": 0,
             "ticks": ""
            },
            "colorscale": [
             [
              0,
              "#0d0887"
             ],
             [
              0.1111111111111111,
              "#46039f"
             ],
             [
              0.2222222222222222,
              "#7201a8"
             ],
             [
              0.3333333333333333,
              "#9c179e"
             ],
             [
              0.4444444444444444,
              "#bd3786"
             ],
             [
              0.5555555555555556,
              "#d8576b"
             ],
             [
              0.6666666666666666,
              "#ed7953"
             ],
             [
              0.7777777777777778,
              "#fb9f3a"
             ],
             [
              0.8888888888888888,
              "#fdca26"
             ],
             [
              1,
              "#f0f921"
             ]
            ],
            "type": "surface"
           }
          ],
          "table": [
           {
            "cells": {
             "fill": {
              "color": "#EBF0F8"
             },
             "line": {
              "color": "white"
             }
            },
            "header": {
             "fill": {
              "color": "#C8D4E3"
             },
             "line": {
              "color": "white"
             }
            },
            "type": "table"
           }
          ]
         },
         "layout": {
          "annotationdefaults": {
           "arrowcolor": "#2a3f5f",
           "arrowhead": 0,
           "arrowwidth": 1
          },
          "autotypenumbers": "strict",
          "coloraxis": {
           "colorbar": {
            "outlinewidth": 0,
            "ticks": ""
           }
          },
          "colorscale": {
           "diverging": [
            [
             0,
             "#8e0152"
            ],
            [
             0.1,
             "#c51b7d"
            ],
            [
             0.2,
             "#de77ae"
            ],
            [
             0.3,
             "#f1b6da"
            ],
            [
             0.4,
             "#fde0ef"
            ],
            [
             0.5,
             "#f7f7f7"
            ],
            [
             0.6,
             "#e6f5d0"
            ],
            [
             0.7,
             "#b8e186"
            ],
            [
             0.8,
             "#7fbc41"
            ],
            [
             0.9,
             "#4d9221"
            ],
            [
             1,
             "#276419"
            ]
           ],
           "sequential": [
            [
             0,
             "#0d0887"
            ],
            [
             0.1111111111111111,
             "#46039f"
            ],
            [
             0.2222222222222222,
             "#7201a8"
            ],
            [
             0.3333333333333333,
             "#9c179e"
            ],
            [
             0.4444444444444444,
             "#bd3786"
            ],
            [
             0.5555555555555556,
             "#d8576b"
            ],
            [
             0.6666666666666666,
             "#ed7953"
            ],
            [
             0.7777777777777778,
             "#fb9f3a"
            ],
            [
             0.8888888888888888,
             "#fdca26"
            ],
            [
             1,
             "#f0f921"
            ]
           ],
           "sequentialminus": [
            [
             0,
             "#0d0887"
            ],
            [
             0.1111111111111111,
             "#46039f"
            ],
            [
             0.2222222222222222,
             "#7201a8"
            ],
            [
             0.3333333333333333,
             "#9c179e"
            ],
            [
             0.4444444444444444,
             "#bd3786"
            ],
            [
             0.5555555555555556,
             "#d8576b"
            ],
            [
             0.6666666666666666,
             "#ed7953"
            ],
            [
             0.7777777777777778,
             "#fb9f3a"
            ],
            [
             0.8888888888888888,
             "#fdca26"
            ],
            [
             1,
             "#f0f921"
            ]
           ]
          },
          "colorway": [
           "#636efa",
           "#EF553B",
           "#00cc96",
           "#ab63fa",
           "#FFA15A",
           "#19d3f3",
           "#FF6692",
           "#B6E880",
           "#FF97FF",
           "#FECB52"
          ],
          "font": {
           "color": "#2a3f5f"
          },
          "geo": {
           "bgcolor": "white",
           "lakecolor": "white",
           "landcolor": "#E5ECF6",
           "showlakes": true,
           "showland": true,
           "subunitcolor": "white"
          },
          "hoverlabel": {
           "align": "left"
          },
          "hovermode": "closest",
          "mapbox": {
           "style": "light"
          },
          "paper_bgcolor": "white",
          "plot_bgcolor": "#E5ECF6",
          "polar": {
           "angularaxis": {
            "gridcolor": "white",
            "linecolor": "white",
            "ticks": ""
           },
           "bgcolor": "#E5ECF6",
           "radialaxis": {
            "gridcolor": "white",
            "linecolor": "white",
            "ticks": ""
           }
          },
          "scene": {
           "xaxis": {
            "backgroundcolor": "#E5ECF6",
            "gridcolor": "white",
            "gridwidth": 2,
            "linecolor": "white",
            "showbackground": true,
            "ticks": "",
            "zerolinecolor": "white"
           },
           "yaxis": {
            "backgroundcolor": "#E5ECF6",
            "gridcolor": "white",
            "gridwidth": 2,
            "linecolor": "white",
            "showbackground": true,
            "ticks": "",
            "zerolinecolor": "white"
           },
           "zaxis": {
            "backgroundcolor": "#E5ECF6",
            "gridcolor": "white",
            "gridwidth": 2,
            "linecolor": "white",
            "showbackground": true,
            "ticks": "",
            "zerolinecolor": "white"
           }
          },
          "shapedefaults": {
           "line": {
            "color": "#2a3f5f"
           }
          },
          "ternary": {
           "aaxis": {
            "gridcolor": "white",
            "linecolor": "white",
            "ticks": ""
           },
           "baxis": {
            "gridcolor": "white",
            "linecolor": "white",
            "ticks": ""
           },
           "bgcolor": "#E5ECF6",
           "caxis": {
            "gridcolor": "white",
            "linecolor": "white",
            "ticks": ""
           }
          },
          "title": {
           "x": 0.05
          },
          "xaxis": {
           "automargin": true,
           "gridcolor": "white",
           "linecolor": "white",
           "ticks": "",
           "title": {
            "standoff": 15
           },
           "zerolinecolor": "white",
           "zerolinewidth": 2
          },
          "yaxis": {
           "automargin": true,
           "gridcolor": "white",
           "linecolor": "white",
           "ticks": "",
           "title": {
            "standoff": 15
           },
           "zerolinecolor": "white",
           "zerolinewidth": 2
          }
         }
        },
        "title": {
         "text": "Continuous Signal"
        },
        "width": 1000,
        "xaxis": {
         "title": {
          "text": "Index"
         }
        },
        "yaxis": {
         "title": {
          "text": "Amplitude"
         }
        }
       }
      }
     },
     "metadata": {},
     "output_type": "display_data"
    }
   ],
   "source": [
    "draw(PVCSignals[180])"
   ]
  },
  {
   "cell_type": "markdown",
   "id": "065948b7",
   "metadata": {
    "papermill": {
     "duration": 0.00704,
     "end_time": "2024-12-22T18:17:13.416759",
     "exception": false,
     "start_time": "2024-12-22T18:17:13.409719",
     "status": "completed"
    },
    "tags": []
   },
   "source": [
    "### There's a huge difference between the healthy and the PVC , hopefully the classification won't be hard"
   ]
  },
  {
   "cell_type": "markdown",
   "id": "7255f759",
   "metadata": {
    "papermill": {
     "duration": 0.007429,
     "end_time": "2024-12-22T18:17:13.432405",
     "exception": false,
     "start_time": "2024-12-22T18:17:13.424976",
     "status": "completed"
    },
    "tags": []
   },
   "source": [
    "### Applying the Band Pass filter with cutoffs = [0.5,40]"
   ]
  },
  {
   "cell_type": "code",
   "execution_count": 297,
   "id": "33b2d136",
   "metadata": {
    "execution": {
     "iopub.execute_input": "2024-12-22T18:17:13.449177Z",
     "iopub.status.busy": "2024-12-22T18:17:13.448770Z",
     "iopub.status.idle": "2024-12-22T18:17:13.459241Z",
     "shell.execute_reply": "2024-12-22T18:17:13.458014Z"
    },
    "papermill": {
     "duration": 0.020941,
     "end_time": "2024-12-22T18:17:13.461242",
     "exception": false,
     "start_time": "2024-12-22T18:17:13.440301",
     "status": "completed"
    },
    "tags": []
   },
   "outputs": [],
   "source": [
    "b, a = signal.butter(\n",
    "    N=4, Wn=[0.5, 40], btype=\"bandpass\", fs=samplingRate\n",
    ")  # getting the filter coofecients"
   ]
  },
  {
   "cell_type": "code",
   "execution_count": 298,
   "id": "e29a4255",
   "metadata": {
    "execution": {
     "iopub.execute_input": "2024-12-22T18:17:13.477479Z",
     "iopub.status.busy": "2024-12-22T18:17:13.477094Z",
     "iopub.status.idle": "2024-12-22T18:17:13.561442Z",
     "shell.execute_reply": "2024-12-22T18:17:13.560227Z"
    },
    "papermill": {
     "duration": 0.094521,
     "end_time": "2024-12-22T18:17:13.563430",
     "exception": false,
     "start_time": "2024-12-22T18:17:13.468909",
     "status": "completed"
    },
    "tags": []
   },
   "outputs": [],
   "source": [
    "filteredHealthy = [signal.lfilter(b, a, s) for s in healthySignals]\n",
    "filteredPVC = [signal.lfilter(b, a, s) for s in PVCSignals]\n",
    "filteredHealtyTest = [signal.lfilter(b, a, s) for s in readHB(f\"{dirPath}/Normal_Test.txt\")]\n",
    "filteredPVCTest = [signal.lfilter(b, a, s) for s in readHB(f\"{dirPath}/PVC_Test.txt\")]"
   ]
  },
  {
   "cell_type": "markdown",
   "id": "e00da58f",
   "metadata": {
    "papermill": {
     "duration": 0.007105,
     "end_time": "2024-12-22T18:17:13.578136",
     "exception": false,
     "start_time": "2024-12-22T18:17:13.571031",
     "status": "completed"
    },
    "tags": []
   },
   "source": [
    "### The effect of filtering is very clear. Removed all unneeded noise"
   ]
  },
  {
   "cell_type": "code",
   "execution_count": 299,
   "id": "2987574c",
   "metadata": {
    "execution": {
     "iopub.execute_input": "2024-12-22T18:17:13.594077Z",
     "iopub.status.busy": "2024-12-22T18:17:13.593635Z",
     "iopub.status.idle": "2024-12-22T18:17:13.608597Z",
     "shell.execute_reply": "2024-12-22T18:17:13.607420Z"
    },
    "papermill": {
     "duration": 0.024707,
     "end_time": "2024-12-22T18:17:13.610142",
     "exception": false,
     "start_time": "2024-12-22T18:17:13.585435",
     "status": "completed"
    },
    "tags": []
   },
   "outputs": [
    {
     "data": {
      "application/vnd.plotly.v1+json": {
       "config": {
        "plotlyServerURL": "https://plot.ly"
       },
       "data": [
        {
         "mode": "lines",
         "name": "Continuous Signal",
         "type": "scatter",
         "y": [
          -0.0018875413693472817,
          -0.013544929770749212,
          -0.046386280941783285,
          -0.10330306282479854,
          -0.17227316807772244,
          -0.23428090719238653,
          -0.27509991144821483,
          -0.2905924413162513,
          -0.28519545345812175,
          -0.2676894761102558,
          -0.24710729617630112,
          -0.2300765952869952,
          -0.21990168315829772,
          -0.21641190911939842,
          -0.21635263807927327,
          -0.21513952903176065,
          -0.20952080532069414,
          -0.199430238956994,
          -0.18770653649043975,
          -0.17789850617226047,
          -0.1719117654180121,
          -0.16917674394798907,
          -0.16755454958822993,
          -0.1649529084590631,
          -0.16049423491686263,
          -0.15454223755164206,
          -0.14774532046930094,
          -0.14038025432171122,
          -0.13281888717552384,
          -0.12613800868772782,
          -0.12162177939317739,
          -0.11943688372792764,
          -0.11792389189697566,
          -0.11442136842700808,
          -0.10701450651999789,
          -0.09591253568143042,
          -0.08343379967068594,
          -0.07242736007800793,
          -0.06447227736938622,
          -0.05937236971906901,
          -0.05602703084754679,
          -0.053469806546496204,
          -0.05071988542649524,
          -0.04581773236017687,
          -0.03581251139421183,
          -0.01825716630166384,
          0.0070963322252918706,
          0.0375812486905301,
          0.06808003917535939,
          0.09274603058153481,
          0.10744881078449883,
          0.11140561767216475,
          0.10691791918045539,
          0.09770909294594286,
          0.08723901433875753,
          0.0778608161188819,
          0.07067347262454284,
          0.06553504002887091,
          0.06126134217286581,
          0.056202036081353386,
          0.04877005158307282,
          0.037894441133906255,
          0.02368051712770974,
          0.007522324084876483,
          -0.008816149440009085,
          -0.024163003517401183,
          -0.03806200178197455,
          -0.050146615262985736,
          -0.05940526309264106,
          -0.06431312478750119,
          -0.06401335341017385,
          -0.05940873095400667,
          -0.05309564821551382,
          -0.047955267394236785,
          -0.04539665726837382,
          -0.04509353482569192,
          -0.04635924635881369,
          -0.04911272997415889,
          -0.05337240308359467,
          -0.05820770874818318,
          -0.061570543655301596,
          -0.0614726677816799,
          -0.05731854586854876,
          -0.05022034337955114,
          -0.0423698057238501,
          -0.036000345112951866,
          -0.032673965862595265,
          -0.033232052510902256,
          -0.0377838854219923,
          -0.045234356651751455,
          -0.05230842621633835,
          -0.05175603614188361,
          -0.030627631346578945,
          0.028271740450321724,
          0.14047977248220272,
          0.3131427418248026,
          0.541031033059673,
          0.8036693639990986,
          1.061787193380892,
          1.258830028555162,
          1.3358559727227626,
          1.257217707726308,
          1.0315141329797288,
          0.7128581212059757,
          0.3797702760697913,
          0.10302593408757,
          -0.07893998209612316,
          -0.16527065474720493,
          -0.18148815258154954,
          -0.1623867410539669,
          -0.13770141298132774,
          -0.12494139027426197,
          -0.12949334034196977,
          -0.1484104192456772,
          -0.17422633744553603,
          -0.1981588680664136,
          -0.2132887994772568,
          -0.21682153408257096,
          -0.21031551661259842,
          -0.19826566568932535,
          -0.1859363002793195,
          -0.17713422022638756,
          -0.17275480695167048,
          -0.17096146974039747,
          -0.16909479872209995,
          -0.16573574813965353,
          -0.16116925428956236,
          -0.15645395287475158,
          -0.15229410441723712,
          -0.14857283301865318,
          -0.14473163462535954,
          -0.14045587586513986,
          -0.13602054558478793,
          -0.1317589597857858,
          -0.12707776088170872,
          -0.12065215738965415,
          -0.11211465996757236,
          -0.10332617615764021,
          -0.0975245317576175,
          -0.09670290283100393,
          -0.09948722270651036,
          -0.10172868949590716,
          -0.09943602996678001,
          -0.09135739932675077,
          -0.07935149375762526,
          -0.06694878520309158,
          -0.05724140572038504,
          -0.0511732888642729,
          -0.04745987054042631,
          -0.044311252251762044,
          -0.041171386713685997,
          -0.038657283734971605,
          -0.03698411544213759,
          -0.03483297085350351,
          -0.030241246141507604,
          -0.0227410548370872,
          -0.014184108223546781,
          -0.007168316544046633,
          -0.002842107454488523,
          -0.0002971602446344068,
          0.0023307239369927133,
          0.0064014920046892385,
          0.0119368177582732,
          0.017898071622308186,
          0.023395454541475635,
          0.028517056618475114,
          0.033845263063695896,
          0.03946917601948349,
          0.04496913086521953,
          0.05048229993785306,
          0.057162213806359254,
          0.06596947003662122,
          0.07626392948059656,
          0.08611533117566009,
          0.09392117551312297,
          0.09950463795591141,
          0.10396186845751565,
          0.10878290889104801,
          0.11491062231566739,
          0.12223812305113861,
          0.1298344684807379,
          0.1368261173196833,
          0.1433288160799042,
          0.1505329801859757,
          0.15967037558407884,
          0.1707061684547345,
          0.18198880154669825,
          0.19135599885971122,
          0.19789652942554217,
          0.20276804605939827,
          0.2081920703235885,
          0.2154502585594875,
          0.223812115463015,
          0.23159595425604193,
          0.2380874684817631,
          0.24398469130548966,
          0.2501519927891027,
          0.25630354226255553,
          0.26097833455931874,
          0.2628954832230184,
          0.26222214000896565,
          0.26038749117284826,
          0.2587932503409039,
          0.2576001659762183,
          0.25551543610658395,
          0.25081600072594523,
          0.24280480835894344,
          0.23233769700463844,
          0.22094361657461134,
          0.20956309706629167,
          0.1981026725429183,
          0.1860729398544773,
          0.17353673932784439,
          0.1611759472203549,
          0.1494000496561559,
          0.13770635347167484,
          0.125055494748016,
          0.11073078160459936,
          0.09501118377865124,
          0.07941991531269098,
          0.06587754427913647,
          0.054904651583835874,
          0.04522486998952521,
          0.03575402789995165,
          0.027336427059898836,
          0.021920656246552518,
          0.020134612199890975,
          0.020112148710063,
          0.018988170930812925,
          0.015336102034058741,
          0.010096754269286823,
          0.005405101087279879,
          0.002640087708271022,
          0.0014464570131862177,
          0.00029174900390713525,
          -0.0019479474834212722,
          -0.0046630530644294396,
          -0.006033081744070221,
          -0.004922895404879988,
          -0.0019263774926013963,
          0.0012333460790404222,
          0.003134223426259467,
          0.003747274276752607,
          0.004135671903930769,
          0.00504662803648392,
          0.005899177124713309,
          0.005181241186489606,
          0.0019433245152542635,
          -0.0029656609610343894,
          -0.007138082286565702,
          -0.008352942920938005,
          -0.006367344214430827,
          -0.002973768517910186,
          -0.00034620258050234616,
          0.0007637235315292544,
          0.00148203999671241,
          0.003475909888069501,
          0.007119036999049334,
          0.011038621673699237,
          0.013481110099887717,
          0.013929685405857912,
          0.013258660825706021,
          0.012648073076720482,
          0.012565297148285474,
          0.01268165727373637,
          0.01264381853088388,
          0.01278902697283243,
          0.01404675005797543,
          0.017062794440066337,
          0.021271349295641808,
          0.024856421707747402,
          0.0258982975020377,
          0.02390252590462352,
          0.020477188477040217,
          0.018320508144573287,
          0.018974908463396844,
          0.021444784024064086,
          0.023290193916546863,
          0.02297135979807953,
          0.020786250166609274,
          0.017907539848376834,
          0.015153025908071178,
          0.012584565863103962,
          0.010069847988107348,
          0.008145231566026248,
          0.007988229516762866,
          0.010352097785533091,
          0.014474702585876135,
          0.018047393172222148,
          0.018894123467772007,
          0.01713960726095981,
          0.015101652401835367,
          0.01468027145839116,
          0.015434451017257017,
          0.015494734151907214,
          0.01378523619950205,
          0.01102744192420363,
          0.00909557132857701,
          0.00957303472215428,
          0.012437785233357817
         ]
        }
       ],
       "layout": {
        "height": 500,
        "template": {
         "data": {
          "bar": [
           {
            "error_x": {
             "color": "#2a3f5f"
            },
            "error_y": {
             "color": "#2a3f5f"
            },
            "marker": {
             "line": {
              "color": "#E5ECF6",
              "width": 0.5
             },
             "pattern": {
              "fillmode": "overlay",
              "size": 10,
              "solidity": 0.2
             }
            },
            "type": "bar"
           }
          ],
          "barpolar": [
           {
            "marker": {
             "line": {
              "color": "#E5ECF6",
              "width": 0.5
             },
             "pattern": {
              "fillmode": "overlay",
              "size": 10,
              "solidity": 0.2
             }
            },
            "type": "barpolar"
           }
          ],
          "carpet": [
           {
            "aaxis": {
             "endlinecolor": "#2a3f5f",
             "gridcolor": "white",
             "linecolor": "white",
             "minorgridcolor": "white",
             "startlinecolor": "#2a3f5f"
            },
            "baxis": {
             "endlinecolor": "#2a3f5f",
             "gridcolor": "white",
             "linecolor": "white",
             "minorgridcolor": "white",
             "startlinecolor": "#2a3f5f"
            },
            "type": "carpet"
           }
          ],
          "choropleth": [
           {
            "colorbar": {
             "outlinewidth": 0,
             "ticks": ""
            },
            "type": "choropleth"
           }
          ],
          "contour": [
           {
            "colorbar": {
             "outlinewidth": 0,
             "ticks": ""
            },
            "colorscale": [
             [
              0,
              "#0d0887"
             ],
             [
              0.1111111111111111,
              "#46039f"
             ],
             [
              0.2222222222222222,
              "#7201a8"
             ],
             [
              0.3333333333333333,
              "#9c179e"
             ],
             [
              0.4444444444444444,
              "#bd3786"
             ],
             [
              0.5555555555555556,
              "#d8576b"
             ],
             [
              0.6666666666666666,
              "#ed7953"
             ],
             [
              0.7777777777777778,
              "#fb9f3a"
             ],
             [
              0.8888888888888888,
              "#fdca26"
             ],
             [
              1,
              "#f0f921"
             ]
            ],
            "type": "contour"
           }
          ],
          "contourcarpet": [
           {
            "colorbar": {
             "outlinewidth": 0,
             "ticks": ""
            },
            "type": "contourcarpet"
           }
          ],
          "heatmap": [
           {
            "colorbar": {
             "outlinewidth": 0,
             "ticks": ""
            },
            "colorscale": [
             [
              0,
              "#0d0887"
             ],
             [
              0.1111111111111111,
              "#46039f"
             ],
             [
              0.2222222222222222,
              "#7201a8"
             ],
             [
              0.3333333333333333,
              "#9c179e"
             ],
             [
              0.4444444444444444,
              "#bd3786"
             ],
             [
              0.5555555555555556,
              "#d8576b"
             ],
             [
              0.6666666666666666,
              "#ed7953"
             ],
             [
              0.7777777777777778,
              "#fb9f3a"
             ],
             [
              0.8888888888888888,
              "#fdca26"
             ],
             [
              1,
              "#f0f921"
             ]
            ],
            "type": "heatmap"
           }
          ],
          "heatmapgl": [
           {
            "colorbar": {
             "outlinewidth": 0,
             "ticks": ""
            },
            "colorscale": [
             [
              0,
              "#0d0887"
             ],
             [
              0.1111111111111111,
              "#46039f"
             ],
             [
              0.2222222222222222,
              "#7201a8"
             ],
             [
              0.3333333333333333,
              "#9c179e"
             ],
             [
              0.4444444444444444,
              "#bd3786"
             ],
             [
              0.5555555555555556,
              "#d8576b"
             ],
             [
              0.6666666666666666,
              "#ed7953"
             ],
             [
              0.7777777777777778,
              "#fb9f3a"
             ],
             [
              0.8888888888888888,
              "#fdca26"
             ],
             [
              1,
              "#f0f921"
             ]
            ],
            "type": "heatmapgl"
           }
          ],
          "histogram": [
           {
            "marker": {
             "pattern": {
              "fillmode": "overlay",
              "size": 10,
              "solidity": 0.2
             }
            },
            "type": "histogram"
           }
          ],
          "histogram2d": [
           {
            "colorbar": {
             "outlinewidth": 0,
             "ticks": ""
            },
            "colorscale": [
             [
              0,
              "#0d0887"
             ],
             [
              0.1111111111111111,
              "#46039f"
             ],
             [
              0.2222222222222222,
              "#7201a8"
             ],
             [
              0.3333333333333333,
              "#9c179e"
             ],
             [
              0.4444444444444444,
              "#bd3786"
             ],
             [
              0.5555555555555556,
              "#d8576b"
             ],
             [
              0.6666666666666666,
              "#ed7953"
             ],
             [
              0.7777777777777778,
              "#fb9f3a"
             ],
             [
              0.8888888888888888,
              "#fdca26"
             ],
             [
              1,
              "#f0f921"
             ]
            ],
            "type": "histogram2d"
           }
          ],
          "histogram2dcontour": [
           {
            "colorbar": {
             "outlinewidth": 0,
             "ticks": ""
            },
            "colorscale": [
             [
              0,
              "#0d0887"
             ],
             [
              0.1111111111111111,
              "#46039f"
             ],
             [
              0.2222222222222222,
              "#7201a8"
             ],
             [
              0.3333333333333333,
              "#9c179e"
             ],
             [
              0.4444444444444444,
              "#bd3786"
             ],
             [
              0.5555555555555556,
              "#d8576b"
             ],
             [
              0.6666666666666666,
              "#ed7953"
             ],
             [
              0.7777777777777778,
              "#fb9f3a"
             ],
             [
              0.8888888888888888,
              "#fdca26"
             ],
             [
              1,
              "#f0f921"
             ]
            ],
            "type": "histogram2dcontour"
           }
          ],
          "mesh3d": [
           {
            "colorbar": {
             "outlinewidth": 0,
             "ticks": ""
            },
            "type": "mesh3d"
           }
          ],
          "parcoords": [
           {
            "line": {
             "colorbar": {
              "outlinewidth": 0,
              "ticks": ""
             }
            },
            "type": "parcoords"
           }
          ],
          "pie": [
           {
            "automargin": true,
            "type": "pie"
           }
          ],
          "scatter": [
           {
            "fillpattern": {
             "fillmode": "overlay",
             "size": 10,
             "solidity": 0.2
            },
            "type": "scatter"
           }
          ],
          "scatter3d": [
           {
            "line": {
             "colorbar": {
              "outlinewidth": 0,
              "ticks": ""
             }
            },
            "marker": {
             "colorbar": {
              "outlinewidth": 0,
              "ticks": ""
             }
            },
            "type": "scatter3d"
           }
          ],
          "scattercarpet": [
           {
            "marker": {
             "colorbar": {
              "outlinewidth": 0,
              "ticks": ""
             }
            },
            "type": "scattercarpet"
           }
          ],
          "scattergeo": [
           {
            "marker": {
             "colorbar": {
              "outlinewidth": 0,
              "ticks": ""
             }
            },
            "type": "scattergeo"
           }
          ],
          "scattergl": [
           {
            "marker": {
             "colorbar": {
              "outlinewidth": 0,
              "ticks": ""
             }
            },
            "type": "scattergl"
           }
          ],
          "scattermapbox": [
           {
            "marker": {
             "colorbar": {
              "outlinewidth": 0,
              "ticks": ""
             }
            },
            "type": "scattermapbox"
           }
          ],
          "scatterpolar": [
           {
            "marker": {
             "colorbar": {
              "outlinewidth": 0,
              "ticks": ""
             }
            },
            "type": "scatterpolar"
           }
          ],
          "scatterpolargl": [
           {
            "marker": {
             "colorbar": {
              "outlinewidth": 0,
              "ticks": ""
             }
            },
            "type": "scatterpolargl"
           }
          ],
          "scatterternary": [
           {
            "marker": {
             "colorbar": {
              "outlinewidth": 0,
              "ticks": ""
             }
            },
            "type": "scatterternary"
           }
          ],
          "surface": [
           {
            "colorbar": {
             "outlinewidth": 0,
             "ticks": ""
            },
            "colorscale": [
             [
              0,
              "#0d0887"
             ],
             [
              0.1111111111111111,
              "#46039f"
             ],
             [
              0.2222222222222222,
              "#7201a8"
             ],
             [
              0.3333333333333333,
              "#9c179e"
             ],
             [
              0.4444444444444444,
              "#bd3786"
             ],
             [
              0.5555555555555556,
              "#d8576b"
             ],
             [
              0.6666666666666666,
              "#ed7953"
             ],
             [
              0.7777777777777778,
              "#fb9f3a"
             ],
             [
              0.8888888888888888,
              "#fdca26"
             ],
             [
              1,
              "#f0f921"
             ]
            ],
            "type": "surface"
           }
          ],
          "table": [
           {
            "cells": {
             "fill": {
              "color": "#EBF0F8"
             },
             "line": {
              "color": "white"
             }
            },
            "header": {
             "fill": {
              "color": "#C8D4E3"
             },
             "line": {
              "color": "white"
             }
            },
            "type": "table"
           }
          ]
         },
         "layout": {
          "annotationdefaults": {
           "arrowcolor": "#2a3f5f",
           "arrowhead": 0,
           "arrowwidth": 1
          },
          "autotypenumbers": "strict",
          "coloraxis": {
           "colorbar": {
            "outlinewidth": 0,
            "ticks": ""
           }
          },
          "colorscale": {
           "diverging": [
            [
             0,
             "#8e0152"
            ],
            [
             0.1,
             "#c51b7d"
            ],
            [
             0.2,
             "#de77ae"
            ],
            [
             0.3,
             "#f1b6da"
            ],
            [
             0.4,
             "#fde0ef"
            ],
            [
             0.5,
             "#f7f7f7"
            ],
            [
             0.6,
             "#e6f5d0"
            ],
            [
             0.7,
             "#b8e186"
            ],
            [
             0.8,
             "#7fbc41"
            ],
            [
             0.9,
             "#4d9221"
            ],
            [
             1,
             "#276419"
            ]
           ],
           "sequential": [
            [
             0,
             "#0d0887"
            ],
            [
             0.1111111111111111,
             "#46039f"
            ],
            [
             0.2222222222222222,
             "#7201a8"
            ],
            [
             0.3333333333333333,
             "#9c179e"
            ],
            [
             0.4444444444444444,
             "#bd3786"
            ],
            [
             0.5555555555555556,
             "#d8576b"
            ],
            [
             0.6666666666666666,
             "#ed7953"
            ],
            [
             0.7777777777777778,
             "#fb9f3a"
            ],
            [
             0.8888888888888888,
             "#fdca26"
            ],
            [
             1,
             "#f0f921"
            ]
           ],
           "sequentialminus": [
            [
             0,
             "#0d0887"
            ],
            [
             0.1111111111111111,
             "#46039f"
            ],
            [
             0.2222222222222222,
             "#7201a8"
            ],
            [
             0.3333333333333333,
             "#9c179e"
            ],
            [
             0.4444444444444444,
             "#bd3786"
            ],
            [
             0.5555555555555556,
             "#d8576b"
            ],
            [
             0.6666666666666666,
             "#ed7953"
            ],
            [
             0.7777777777777778,
             "#fb9f3a"
            ],
            [
             0.8888888888888888,
             "#fdca26"
            ],
            [
             1,
             "#f0f921"
            ]
           ]
          },
          "colorway": [
           "#636efa",
           "#EF553B",
           "#00cc96",
           "#ab63fa",
           "#FFA15A",
           "#19d3f3",
           "#FF6692",
           "#B6E880",
           "#FF97FF",
           "#FECB52"
          ],
          "font": {
           "color": "#2a3f5f"
          },
          "geo": {
           "bgcolor": "white",
           "lakecolor": "white",
           "landcolor": "#E5ECF6",
           "showlakes": true,
           "showland": true,
           "subunitcolor": "white"
          },
          "hoverlabel": {
           "align": "left"
          },
          "hovermode": "closest",
          "mapbox": {
           "style": "light"
          },
          "paper_bgcolor": "white",
          "plot_bgcolor": "#E5ECF6",
          "polar": {
           "angularaxis": {
            "gridcolor": "white",
            "linecolor": "white",
            "ticks": ""
           },
           "bgcolor": "#E5ECF6",
           "radialaxis": {
            "gridcolor": "white",
            "linecolor": "white",
            "ticks": ""
           }
          },
          "scene": {
           "xaxis": {
            "backgroundcolor": "#E5ECF6",
            "gridcolor": "white",
            "gridwidth": 2,
            "linecolor": "white",
            "showbackground": true,
            "ticks": "",
            "zerolinecolor": "white"
           },
           "yaxis": {
            "backgroundcolor": "#E5ECF6",
            "gridcolor": "white",
            "gridwidth": 2,
            "linecolor": "white",
            "showbackground": true,
            "ticks": "",
            "zerolinecolor": "white"
           },
           "zaxis": {
            "backgroundcolor": "#E5ECF6",
            "gridcolor": "white",
            "gridwidth": 2,
            "linecolor": "white",
            "showbackground": true,
            "ticks": "",
            "zerolinecolor": "white"
           }
          },
          "shapedefaults": {
           "line": {
            "color": "#2a3f5f"
           }
          },
          "ternary": {
           "aaxis": {
            "gridcolor": "white",
            "linecolor": "white",
            "ticks": ""
           },
           "baxis": {
            "gridcolor": "white",
            "linecolor": "white",
            "ticks": ""
           },
           "bgcolor": "#E5ECF6",
           "caxis": {
            "gridcolor": "white",
            "linecolor": "white",
            "ticks": ""
           }
          },
          "title": {
           "x": 0.05
          },
          "xaxis": {
           "automargin": true,
           "gridcolor": "white",
           "linecolor": "white",
           "ticks": "",
           "title": {
            "standoff": 15
           },
           "zerolinecolor": "white",
           "zerolinewidth": 2
          },
          "yaxis": {
           "automargin": true,
           "gridcolor": "white",
           "linecolor": "white",
           "ticks": "",
           "title": {
            "standoff": 15
           },
           "zerolinecolor": "white",
           "zerolinewidth": 2
          }
         }
        },
        "title": {
         "text": "Continuous Signal"
        },
        "width": 1000,
        "xaxis": {
         "title": {
          "text": "Index"
         }
        },
        "yaxis": {
         "title": {
          "text": "Amplitude"
         }
        }
       }
      }
     },
     "metadata": {},
     "output_type": "display_data"
    }
   ],
   "source": [
    "draw(filteredHealthy[104])"
   ]
  },
  {
   "cell_type": "markdown",
   "id": "eb1d11c0",
   "metadata": {
    "papermill": {
     "duration": 0.007056,
     "end_time": "2024-12-22T18:17:13.624972",
     "exception": false,
     "start_time": "2024-12-22T18:17:13.617916",
     "status": "completed"
    },
    "tags": []
   },
   "source": [
    "### Now will apply DWT and take the details coefficients because they contain the difference between normal and PVC signals"
   ]
  },
  {
   "cell_type": "code",
   "execution_count": 300,
   "id": "28619615",
   "metadata": {
    "execution": {
     "iopub.execute_input": "2024-12-22T18:17:13.641018Z",
     "iopub.status.busy": "2024-12-22T18:17:13.640664Z",
     "iopub.status.idle": "2024-12-22T18:17:13.656995Z",
     "shell.execute_reply": "2024-12-22T18:17:13.655900Z"
    },
    "papermill": {
     "duration": 0.026724,
     "end_time": "2024-12-22T18:17:13.659021",
     "exception": false,
     "start_time": "2024-12-22T18:17:13.632297",
     "status": "completed"
    },
    "tags": []
   },
   "outputs": [],
   "source": [
    "level = 2\n",
    "healthyDetails = [pywt.wavedec(signal, \"db4\", level = level)[0] for signal in filteredHealthy]\n",
    "PVCDetails = [pywt.wavedec(signal, \"db4\", level = level)[0] for signal in filteredPVC]\n",
    "healthyTestDetails = [pywt.wavedec(signal, \"db4\", level = level)[0] for signal in filteredHealtyTest]\n",
    "PVCTestDetails = [pywt.wavedec(signal, \"db4\", level = level)[0] for signal in filteredPVCTest]\n",
    "#draw(pywt.wavedec(filteredHealthy[0], \"db4\", level = level)[0])"
   ]
  },
  {
   "cell_type": "code",
   "execution_count": 301,
   "id": "07c1361d",
   "metadata": {
    "execution": {
     "iopub.execute_input": "2024-12-22T18:17:13.676280Z",
     "iopub.status.busy": "2024-12-22T18:17:13.675949Z",
     "iopub.status.idle": "2024-12-22T18:17:13.687788Z",
     "shell.execute_reply": "2024-12-22T18:17:13.686637Z"
    },
    "papermill": {
     "duration": 0.022716,
     "end_time": "2024-12-22T18:17:13.689631",
     "exception": false,
     "start_time": "2024-12-22T18:17:13.666915",
     "status": "completed"
    },
    "tags": []
   },
   "outputs": [
    {
     "data": {
      "application/vnd.plotly.v1+json": {
       "config": {
        "plotlyServerURL": "https://plot.ly"
       },
       "data": [
        {
         "mode": "lines",
         "name": "Continuous Signal",
         "type": "scatter",
         "y": [
          -0.03371144161445026,
          -0.0000634308089566038,
          -0.0571874826029621,
          -0.016085563977522248,
          -0.008686391802208426,
          -0.07640744807735099,
          -0.0920709720394277,
          -0.07479369552760373,
          -0.05607169676106803,
          -0.035482499516862,
          -0.04079947021263476,
          -0.021059989243641424,
          0.0037882800393984244,
          0.03511670980842719,
          0.05917142596100895,
          0.19780579101070905,
          0.26396926346926963,
          0.14803652399287484,
          0.09145383764536173,
          0.04394449560554212,
          -0.031821184347063006,
          -0.09340873911246134,
          -0.08031604775886841,
          -0.12396185695723563,
          -0.09715066890559744,
          -0.060755213077558344,
          -0.13531177334216044,
          -0.024215367004029015,
          1.6209456576354062,
          1.8966542153217052,
          0.0831783382328885,
          -0.2823132295917024,
          -0.37711534830214555,
          -0.5033460136317602,
          -0.4385629826248781,
          -0.4624838476732792,
          -0.4143289561364447,
          -0.38434801942606245,
          -0.37264651265855286,
          -0.3179383644116803,
          -0.2828920851701953,
          -0.2709856699967025,
          -0.2478838813273771,
          -0.20117577241812695,
          -0.16005064997844368,
          -0.12776966613246757,
          -0.07544455307081145,
          -0.023560801881760032,
          -0.005824680770625288,
          0.09033861852259621,
          0.16582381614857403,
          0.19607873029154982,
          0.2693547396720367,
          0.3222485043940306,
          0.30641767917383234,
          0.2779308985050444,
          0.23681067078071463,
          0.13102171179089808,
          0.062247883292519124,
          -0.007114578882158856,
          -0.0650277078323961,
          -0.10688047517144636,
          -0.13318037493637294,
          -0.12510925008470342,
          -0.12262415061014187,
          -0.11195547631453605,
          -0.09230158445576293,
          -0.08186008453478961,
          -0.04563169150577979,
          -0.026690019410038165,
          -0.03030277777175341,
          -0.02638436983152699,
          0.008185781188356892,
          0.006792005356399392,
          -0.007698369052835168,
          -0.0072422928346495274,
          0.0072770135014406205,
          0.014952657647115989,
          -0.005849586166535117,
          -0.012800847414167767
         ]
        }
       ],
       "layout": {
        "height": 500,
        "template": {
         "data": {
          "bar": [
           {
            "error_x": {
             "color": "#2a3f5f"
            },
            "error_y": {
             "color": "#2a3f5f"
            },
            "marker": {
             "line": {
              "color": "#E5ECF6",
              "width": 0.5
             },
             "pattern": {
              "fillmode": "overlay",
              "size": 10,
              "solidity": 0.2
             }
            },
            "type": "bar"
           }
          ],
          "barpolar": [
           {
            "marker": {
             "line": {
              "color": "#E5ECF6",
              "width": 0.5
             },
             "pattern": {
              "fillmode": "overlay",
              "size": 10,
              "solidity": 0.2
             }
            },
            "type": "barpolar"
           }
          ],
          "carpet": [
           {
            "aaxis": {
             "endlinecolor": "#2a3f5f",
             "gridcolor": "white",
             "linecolor": "white",
             "minorgridcolor": "white",
             "startlinecolor": "#2a3f5f"
            },
            "baxis": {
             "endlinecolor": "#2a3f5f",
             "gridcolor": "white",
             "linecolor": "white",
             "minorgridcolor": "white",
             "startlinecolor": "#2a3f5f"
            },
            "type": "carpet"
           }
          ],
          "choropleth": [
           {
            "colorbar": {
             "outlinewidth": 0,
             "ticks": ""
            },
            "type": "choropleth"
           }
          ],
          "contour": [
           {
            "colorbar": {
             "outlinewidth": 0,
             "ticks": ""
            },
            "colorscale": [
             [
              0,
              "#0d0887"
             ],
             [
              0.1111111111111111,
              "#46039f"
             ],
             [
              0.2222222222222222,
              "#7201a8"
             ],
             [
              0.3333333333333333,
              "#9c179e"
             ],
             [
              0.4444444444444444,
              "#bd3786"
             ],
             [
              0.5555555555555556,
              "#d8576b"
             ],
             [
              0.6666666666666666,
              "#ed7953"
             ],
             [
              0.7777777777777778,
              "#fb9f3a"
             ],
             [
              0.8888888888888888,
              "#fdca26"
             ],
             [
              1,
              "#f0f921"
             ]
            ],
            "type": "contour"
           }
          ],
          "contourcarpet": [
           {
            "colorbar": {
             "outlinewidth": 0,
             "ticks": ""
            },
            "type": "contourcarpet"
           }
          ],
          "heatmap": [
           {
            "colorbar": {
             "outlinewidth": 0,
             "ticks": ""
            },
            "colorscale": [
             [
              0,
              "#0d0887"
             ],
             [
              0.1111111111111111,
              "#46039f"
             ],
             [
              0.2222222222222222,
              "#7201a8"
             ],
             [
              0.3333333333333333,
              "#9c179e"
             ],
             [
              0.4444444444444444,
              "#bd3786"
             ],
             [
              0.5555555555555556,
              "#d8576b"
             ],
             [
              0.6666666666666666,
              "#ed7953"
             ],
             [
              0.7777777777777778,
              "#fb9f3a"
             ],
             [
              0.8888888888888888,
              "#fdca26"
             ],
             [
              1,
              "#f0f921"
             ]
            ],
            "type": "heatmap"
           }
          ],
          "heatmapgl": [
           {
            "colorbar": {
             "outlinewidth": 0,
             "ticks": ""
            },
            "colorscale": [
             [
              0,
              "#0d0887"
             ],
             [
              0.1111111111111111,
              "#46039f"
             ],
             [
              0.2222222222222222,
              "#7201a8"
             ],
             [
              0.3333333333333333,
              "#9c179e"
             ],
             [
              0.4444444444444444,
              "#bd3786"
             ],
             [
              0.5555555555555556,
              "#d8576b"
             ],
             [
              0.6666666666666666,
              "#ed7953"
             ],
             [
              0.7777777777777778,
              "#fb9f3a"
             ],
             [
              0.8888888888888888,
              "#fdca26"
             ],
             [
              1,
              "#f0f921"
             ]
            ],
            "type": "heatmapgl"
           }
          ],
          "histogram": [
           {
            "marker": {
             "pattern": {
              "fillmode": "overlay",
              "size": 10,
              "solidity": 0.2
             }
            },
            "type": "histogram"
           }
          ],
          "histogram2d": [
           {
            "colorbar": {
             "outlinewidth": 0,
             "ticks": ""
            },
            "colorscale": [
             [
              0,
              "#0d0887"
             ],
             [
              0.1111111111111111,
              "#46039f"
             ],
             [
              0.2222222222222222,
              "#7201a8"
             ],
             [
              0.3333333333333333,
              "#9c179e"
             ],
             [
              0.4444444444444444,
              "#bd3786"
             ],
             [
              0.5555555555555556,
              "#d8576b"
             ],
             [
              0.6666666666666666,
              "#ed7953"
             ],
             [
              0.7777777777777778,
              "#fb9f3a"
             ],
             [
              0.8888888888888888,
              "#fdca26"
             ],
             [
              1,
              "#f0f921"
             ]
            ],
            "type": "histogram2d"
           }
          ],
          "histogram2dcontour": [
           {
            "colorbar": {
             "outlinewidth": 0,
             "ticks": ""
            },
            "colorscale": [
             [
              0,
              "#0d0887"
             ],
             [
              0.1111111111111111,
              "#46039f"
             ],
             [
              0.2222222222222222,
              "#7201a8"
             ],
             [
              0.3333333333333333,
              "#9c179e"
             ],
             [
              0.4444444444444444,
              "#bd3786"
             ],
             [
              0.5555555555555556,
              "#d8576b"
             ],
             [
              0.6666666666666666,
              "#ed7953"
             ],
             [
              0.7777777777777778,
              "#fb9f3a"
             ],
             [
              0.8888888888888888,
              "#fdca26"
             ],
             [
              1,
              "#f0f921"
             ]
            ],
            "type": "histogram2dcontour"
           }
          ],
          "mesh3d": [
           {
            "colorbar": {
             "outlinewidth": 0,
             "ticks": ""
            },
            "type": "mesh3d"
           }
          ],
          "parcoords": [
           {
            "line": {
             "colorbar": {
              "outlinewidth": 0,
              "ticks": ""
             }
            },
            "type": "parcoords"
           }
          ],
          "pie": [
           {
            "automargin": true,
            "type": "pie"
           }
          ],
          "scatter": [
           {
            "fillpattern": {
             "fillmode": "overlay",
             "size": 10,
             "solidity": 0.2
            },
            "type": "scatter"
           }
          ],
          "scatter3d": [
           {
            "line": {
             "colorbar": {
              "outlinewidth": 0,
              "ticks": ""
             }
            },
            "marker": {
             "colorbar": {
              "outlinewidth": 0,
              "ticks": ""
             }
            },
            "type": "scatter3d"
           }
          ],
          "scattercarpet": [
           {
            "marker": {
             "colorbar": {
              "outlinewidth": 0,
              "ticks": ""
             }
            },
            "type": "scattercarpet"
           }
          ],
          "scattergeo": [
           {
            "marker": {
             "colorbar": {
              "outlinewidth": 0,
              "ticks": ""
             }
            },
            "type": "scattergeo"
           }
          ],
          "scattergl": [
           {
            "marker": {
             "colorbar": {
              "outlinewidth": 0,
              "ticks": ""
             }
            },
            "type": "scattergl"
           }
          ],
          "scattermapbox": [
           {
            "marker": {
             "colorbar": {
              "outlinewidth": 0,
              "ticks": ""
             }
            },
            "type": "scattermapbox"
           }
          ],
          "scatterpolar": [
           {
            "marker": {
             "colorbar": {
              "outlinewidth": 0,
              "ticks": ""
             }
            },
            "type": "scatterpolar"
           }
          ],
          "scatterpolargl": [
           {
            "marker": {
             "colorbar": {
              "outlinewidth": 0,
              "ticks": ""
             }
            },
            "type": "scatterpolargl"
           }
          ],
          "scatterternary": [
           {
            "marker": {
             "colorbar": {
              "outlinewidth": 0,
              "ticks": ""
             }
            },
            "type": "scatterternary"
           }
          ],
          "surface": [
           {
            "colorbar": {
             "outlinewidth": 0,
             "ticks": ""
            },
            "colorscale": [
             [
              0,
              "#0d0887"
             ],
             [
              0.1111111111111111,
              "#46039f"
             ],
             [
              0.2222222222222222,
              "#7201a8"
             ],
             [
              0.3333333333333333,
              "#9c179e"
             ],
             [
              0.4444444444444444,
              "#bd3786"
             ],
             [
              0.5555555555555556,
              "#d8576b"
             ],
             [
              0.6666666666666666,
              "#ed7953"
             ],
             [
              0.7777777777777778,
              "#fb9f3a"
             ],
             [
              0.8888888888888888,
              "#fdca26"
             ],
             [
              1,
              "#f0f921"
             ]
            ],
            "type": "surface"
           }
          ],
          "table": [
           {
            "cells": {
             "fill": {
              "color": "#EBF0F8"
             },
             "line": {
              "color": "white"
             }
            },
            "header": {
             "fill": {
              "color": "#C8D4E3"
             },
             "line": {
              "color": "white"
             }
            },
            "type": "table"
           }
          ]
         },
         "layout": {
          "annotationdefaults": {
           "arrowcolor": "#2a3f5f",
           "arrowhead": 0,
           "arrowwidth": 1
          },
          "autotypenumbers": "strict",
          "coloraxis": {
           "colorbar": {
            "outlinewidth": 0,
            "ticks": ""
           }
          },
          "colorscale": {
           "diverging": [
            [
             0,
             "#8e0152"
            ],
            [
             0.1,
             "#c51b7d"
            ],
            [
             0.2,
             "#de77ae"
            ],
            [
             0.3,
             "#f1b6da"
            ],
            [
             0.4,
             "#fde0ef"
            ],
            [
             0.5,
             "#f7f7f7"
            ],
            [
             0.6,
             "#e6f5d0"
            ],
            [
             0.7,
             "#b8e186"
            ],
            [
             0.8,
             "#7fbc41"
            ],
            [
             0.9,
             "#4d9221"
            ],
            [
             1,
             "#276419"
            ]
           ],
           "sequential": [
            [
             0,
             "#0d0887"
            ],
            [
             0.1111111111111111,
             "#46039f"
            ],
            [
             0.2222222222222222,
             "#7201a8"
            ],
            [
             0.3333333333333333,
             "#9c179e"
            ],
            [
             0.4444444444444444,
             "#bd3786"
            ],
            [
             0.5555555555555556,
             "#d8576b"
            ],
            [
             0.6666666666666666,
             "#ed7953"
            ],
            [
             0.7777777777777778,
             "#fb9f3a"
            ],
            [
             0.8888888888888888,
             "#fdca26"
            ],
            [
             1,
             "#f0f921"
            ]
           ],
           "sequentialminus": [
            [
             0,
             "#0d0887"
            ],
            [
             0.1111111111111111,
             "#46039f"
            ],
            [
             0.2222222222222222,
             "#7201a8"
            ],
            [
             0.3333333333333333,
             "#9c179e"
            ],
            [
             0.4444444444444444,
             "#bd3786"
            ],
            [
             0.5555555555555556,
             "#d8576b"
            ],
            [
             0.6666666666666666,
             "#ed7953"
            ],
            [
             0.7777777777777778,
             "#fb9f3a"
            ],
            [
             0.8888888888888888,
             "#fdca26"
            ],
            [
             1,
             "#f0f921"
            ]
           ]
          },
          "colorway": [
           "#636efa",
           "#EF553B",
           "#00cc96",
           "#ab63fa",
           "#FFA15A",
           "#19d3f3",
           "#FF6692",
           "#B6E880",
           "#FF97FF",
           "#FECB52"
          ],
          "font": {
           "color": "#2a3f5f"
          },
          "geo": {
           "bgcolor": "white",
           "lakecolor": "white",
           "landcolor": "#E5ECF6",
           "showlakes": true,
           "showland": true,
           "subunitcolor": "white"
          },
          "hoverlabel": {
           "align": "left"
          },
          "hovermode": "closest",
          "mapbox": {
           "style": "light"
          },
          "paper_bgcolor": "white",
          "plot_bgcolor": "#E5ECF6",
          "polar": {
           "angularaxis": {
            "gridcolor": "white",
            "linecolor": "white",
            "ticks": ""
           },
           "bgcolor": "#E5ECF6",
           "radialaxis": {
            "gridcolor": "white",
            "linecolor": "white",
            "ticks": ""
           }
          },
          "scene": {
           "xaxis": {
            "backgroundcolor": "#E5ECF6",
            "gridcolor": "white",
            "gridwidth": 2,
            "linecolor": "white",
            "showbackground": true,
            "ticks": "",
            "zerolinecolor": "white"
           },
           "yaxis": {
            "backgroundcolor": "#E5ECF6",
            "gridcolor": "white",
            "gridwidth": 2,
            "linecolor": "white",
            "showbackground": true,
            "ticks": "",
            "zerolinecolor": "white"
           },
           "zaxis": {
            "backgroundcolor": "#E5ECF6",
            "gridcolor": "white",
            "gridwidth": 2,
            "linecolor": "white",
            "showbackground": true,
            "ticks": "",
            "zerolinecolor": "white"
           }
          },
          "shapedefaults": {
           "line": {
            "color": "#2a3f5f"
           }
          },
          "ternary": {
           "aaxis": {
            "gridcolor": "white",
            "linecolor": "white",
            "ticks": ""
           },
           "baxis": {
            "gridcolor": "white",
            "linecolor": "white",
            "ticks": ""
           },
           "bgcolor": "#E5ECF6",
           "caxis": {
            "gridcolor": "white",
            "linecolor": "white",
            "ticks": ""
           }
          },
          "title": {
           "x": 0.05
          },
          "xaxis": {
           "automargin": true,
           "gridcolor": "white",
           "linecolor": "white",
           "ticks": "",
           "title": {
            "standoff": 15
           },
           "zerolinecolor": "white",
           "zerolinewidth": 2
          },
          "yaxis": {
           "automargin": true,
           "gridcolor": "white",
           "linecolor": "white",
           "ticks": "",
           "title": {
            "standoff": 15
           },
           "zerolinecolor": "white",
           "zerolinewidth": 2
          }
         }
        },
        "title": {
         "text": "Continuous Signal"
        },
        "width": 1000,
        "xaxis": {
         "title": {
          "text": "Index"
         }
        },
        "yaxis": {
         "title": {
          "text": "Amplitude"
         }
        }
       }
      }
     },
     "metadata": {},
     "output_type": "display_data"
    }
   ],
   "source": [
    "draw(healthyDetails[0])"
   ]
  },
  {
   "cell_type": "code",
   "execution_count": 302,
   "id": "508ec238",
   "metadata": {
    "execution": {
     "iopub.execute_input": "2024-12-22T18:17:13.708386Z",
     "iopub.status.busy": "2024-12-22T18:17:13.708012Z",
     "iopub.status.idle": "2024-12-22T18:17:13.719490Z",
     "shell.execute_reply": "2024-12-22T18:17:13.718503Z"
    },
    "papermill": {
     "duration": 0.02283,
     "end_time": "2024-12-22T18:17:13.721266",
     "exception": false,
     "start_time": "2024-12-22T18:17:13.698436",
     "status": "completed"
    },
    "tags": []
   },
   "outputs": [
    {
     "data": {
      "application/vnd.plotly.v1+json": {
       "config": {
        "plotlyServerURL": "https://plot.ly"
       },
       "data": [
        {
         "mode": "lines",
         "name": "Continuous Signal",
         "type": "scatter",
         "y": [
          0.016246706359587474,
          0.0008787548035019848,
          0.027236471361577017,
          0.007570101215793956,
          0.00766727594179515,
          0.02598659009913482,
          0.033127382503576074,
          0.003084264708197045,
          0.0037228661027056647,
          -0.02344234324237255,
          -0.04307810474841893,
          -0.033899089606340985,
          -0.014301784689296408,
          -0.029334182111906325,
          -0.03414990132825706,
          0.0036426538648327055,
          -0.013049351788434803,
          -0.019262367098890436,
          0.009206477734834883,
          0.002336686959125263,
          -0.011512167376049263,
          0.029097568179793906,
          0.07075434839176399,
          0.14827836778758482,
          0.28758739254575594,
          0.5360457749240801,
          1.0850389730591623,
          1.476134472484157,
          1.6971226333653582,
          1.7597911925852932,
          0.4973954258026358,
          -2.5052646239025713,
          -3.5548806899047616,
          -3.0006018870631737,
          -2.3216375338791666,
          -1.796271997196837,
          -1.349305523225902,
          -1.1101082509548625,
          -0.7748016619135157,
          -0.05269093624230707,
          0.5737973408895459,
          0.8184574692588513,
          0.9216667864645072,
          0.976935357315962,
          1.0612051604487482,
          1.0720544991613763,
          1.147028257462584,
          1.2615256159267165,
          1.3766931654481047,
          1.4753362388899072,
          1.544670942555325,
          1.6253777666756783,
          1.6522523231249653,
          1.5862663381409567,
          1.4195630284980256,
          1.1854109420648435,
          0.8704942816001842,
          0.5351193017163092,
          0.1869357167377379,
          -0.20366535147804393,
          -0.5399046912095073,
          -0.7749474017367752,
          -0.9007708113104805,
          -0.9503822515431619,
          -0.9791736919166805,
          -0.9608033060967163,
          -0.9264909748373121,
          -0.9214030825042736,
          -0.8927876880722443,
          -0.8584227677607821,
          -0.8184811317177364,
          -0.7537427927172283,
          -0.7521526288914833,
          -0.6945842001163613,
          -0.6601313207629147,
          -0.6104764160534173,
          -0.5744087255831516,
          -0.5022527245083281,
          -0.48213468943998683,
          -0.48137818112076863
         ]
        }
       ],
       "layout": {
        "height": 500,
        "template": {
         "data": {
          "bar": [
           {
            "error_x": {
             "color": "#2a3f5f"
            },
            "error_y": {
             "color": "#2a3f5f"
            },
            "marker": {
             "line": {
              "color": "#E5ECF6",
              "width": 0.5
             },
             "pattern": {
              "fillmode": "overlay",
              "size": 10,
              "solidity": 0.2
             }
            },
            "type": "bar"
           }
          ],
          "barpolar": [
           {
            "marker": {
             "line": {
              "color": "#E5ECF6",
              "width": 0.5
             },
             "pattern": {
              "fillmode": "overlay",
              "size": 10,
              "solidity": 0.2
             }
            },
            "type": "barpolar"
           }
          ],
          "carpet": [
           {
            "aaxis": {
             "endlinecolor": "#2a3f5f",
             "gridcolor": "white",
             "linecolor": "white",
             "minorgridcolor": "white",
             "startlinecolor": "#2a3f5f"
            },
            "baxis": {
             "endlinecolor": "#2a3f5f",
             "gridcolor": "white",
             "linecolor": "white",
             "minorgridcolor": "white",
             "startlinecolor": "#2a3f5f"
            },
            "type": "carpet"
           }
          ],
          "choropleth": [
           {
            "colorbar": {
             "outlinewidth": 0,
             "ticks": ""
            },
            "type": "choropleth"
           }
          ],
          "contour": [
           {
            "colorbar": {
             "outlinewidth": 0,
             "ticks": ""
            },
            "colorscale": [
             [
              0,
              "#0d0887"
             ],
             [
              0.1111111111111111,
              "#46039f"
             ],
             [
              0.2222222222222222,
              "#7201a8"
             ],
             [
              0.3333333333333333,
              "#9c179e"
             ],
             [
              0.4444444444444444,
              "#bd3786"
             ],
             [
              0.5555555555555556,
              "#d8576b"
             ],
             [
              0.6666666666666666,
              "#ed7953"
             ],
             [
              0.7777777777777778,
              "#fb9f3a"
             ],
             [
              0.8888888888888888,
              "#fdca26"
             ],
             [
              1,
              "#f0f921"
             ]
            ],
            "type": "contour"
           }
          ],
          "contourcarpet": [
           {
            "colorbar": {
             "outlinewidth": 0,
             "ticks": ""
            },
            "type": "contourcarpet"
           }
          ],
          "heatmap": [
           {
            "colorbar": {
             "outlinewidth": 0,
             "ticks": ""
            },
            "colorscale": [
             [
              0,
              "#0d0887"
             ],
             [
              0.1111111111111111,
              "#46039f"
             ],
             [
              0.2222222222222222,
              "#7201a8"
             ],
             [
              0.3333333333333333,
              "#9c179e"
             ],
             [
              0.4444444444444444,
              "#bd3786"
             ],
             [
              0.5555555555555556,
              "#d8576b"
             ],
             [
              0.6666666666666666,
              "#ed7953"
             ],
             [
              0.7777777777777778,
              "#fb9f3a"
             ],
             [
              0.8888888888888888,
              "#fdca26"
             ],
             [
              1,
              "#f0f921"
             ]
            ],
            "type": "heatmap"
           }
          ],
          "heatmapgl": [
           {
            "colorbar": {
             "outlinewidth": 0,
             "ticks": ""
            },
            "colorscale": [
             [
              0,
              "#0d0887"
             ],
             [
              0.1111111111111111,
              "#46039f"
             ],
             [
              0.2222222222222222,
              "#7201a8"
             ],
             [
              0.3333333333333333,
              "#9c179e"
             ],
             [
              0.4444444444444444,
              "#bd3786"
             ],
             [
              0.5555555555555556,
              "#d8576b"
             ],
             [
              0.6666666666666666,
              "#ed7953"
             ],
             [
              0.7777777777777778,
              "#fb9f3a"
             ],
             [
              0.8888888888888888,
              "#fdca26"
             ],
             [
              1,
              "#f0f921"
             ]
            ],
            "type": "heatmapgl"
           }
          ],
          "histogram": [
           {
            "marker": {
             "pattern": {
              "fillmode": "overlay",
              "size": 10,
              "solidity": 0.2
             }
            },
            "type": "histogram"
           }
          ],
          "histogram2d": [
           {
            "colorbar": {
             "outlinewidth": 0,
             "ticks": ""
            },
            "colorscale": [
             [
              0,
              "#0d0887"
             ],
             [
              0.1111111111111111,
              "#46039f"
             ],
             [
              0.2222222222222222,
              "#7201a8"
             ],
             [
              0.3333333333333333,
              "#9c179e"
             ],
             [
              0.4444444444444444,
              "#bd3786"
             ],
             [
              0.5555555555555556,
              "#d8576b"
             ],
             [
              0.6666666666666666,
              "#ed7953"
             ],
             [
              0.7777777777777778,
              "#fb9f3a"
             ],
             [
              0.8888888888888888,
              "#fdca26"
             ],
             [
              1,
              "#f0f921"
             ]
            ],
            "type": "histogram2d"
           }
          ],
          "histogram2dcontour": [
           {
            "colorbar": {
             "outlinewidth": 0,
             "ticks": ""
            },
            "colorscale": [
             [
              0,
              "#0d0887"
             ],
             [
              0.1111111111111111,
              "#46039f"
             ],
             [
              0.2222222222222222,
              "#7201a8"
             ],
             [
              0.3333333333333333,
              "#9c179e"
             ],
             [
              0.4444444444444444,
              "#bd3786"
             ],
             [
              0.5555555555555556,
              "#d8576b"
             ],
             [
              0.6666666666666666,
              "#ed7953"
             ],
             [
              0.7777777777777778,
              "#fb9f3a"
             ],
             [
              0.8888888888888888,
              "#fdca26"
             ],
             [
              1,
              "#f0f921"
             ]
            ],
            "type": "histogram2dcontour"
           }
          ],
          "mesh3d": [
           {
            "colorbar": {
             "outlinewidth": 0,
             "ticks": ""
            },
            "type": "mesh3d"
           }
          ],
          "parcoords": [
           {
            "line": {
             "colorbar": {
              "outlinewidth": 0,
              "ticks": ""
             }
            },
            "type": "parcoords"
           }
          ],
          "pie": [
           {
            "automargin": true,
            "type": "pie"
           }
          ],
          "scatter": [
           {
            "fillpattern": {
             "fillmode": "overlay",
             "size": 10,
             "solidity": 0.2
            },
            "type": "scatter"
           }
          ],
          "scatter3d": [
           {
            "line": {
             "colorbar": {
              "outlinewidth": 0,
              "ticks": ""
             }
            },
            "marker": {
             "colorbar": {
              "outlinewidth": 0,
              "ticks": ""
             }
            },
            "type": "scatter3d"
           }
          ],
          "scattercarpet": [
           {
            "marker": {
             "colorbar": {
              "outlinewidth": 0,
              "ticks": ""
             }
            },
            "type": "scattercarpet"
           }
          ],
          "scattergeo": [
           {
            "marker": {
             "colorbar": {
              "outlinewidth": 0,
              "ticks": ""
             }
            },
            "type": "scattergeo"
           }
          ],
          "scattergl": [
           {
            "marker": {
             "colorbar": {
              "outlinewidth": 0,
              "ticks": ""
             }
            },
            "type": "scattergl"
           }
          ],
          "scattermapbox": [
           {
            "marker": {
             "colorbar": {
              "outlinewidth": 0,
              "ticks": ""
             }
            },
            "type": "scattermapbox"
           }
          ],
          "scatterpolar": [
           {
            "marker": {
             "colorbar": {
              "outlinewidth": 0,
              "ticks": ""
             }
            },
            "type": "scatterpolar"
           }
          ],
          "scatterpolargl": [
           {
            "marker": {
             "colorbar": {
              "outlinewidth": 0,
              "ticks": ""
             }
            },
            "type": "scatterpolargl"
           }
          ],
          "scatterternary": [
           {
            "marker": {
             "colorbar": {
              "outlinewidth": 0,
              "ticks": ""
             }
            },
            "type": "scatterternary"
           }
          ],
          "surface": [
           {
            "colorbar": {
             "outlinewidth": 0,
             "ticks": ""
            },
            "colorscale": [
             [
              0,
              "#0d0887"
             ],
             [
              0.1111111111111111,
              "#46039f"
             ],
             [
              0.2222222222222222,
              "#7201a8"
             ],
             [
              0.3333333333333333,
              "#9c179e"
             ],
             [
              0.4444444444444444,
              "#bd3786"
             ],
             [
              0.5555555555555556,
              "#d8576b"
             ],
             [
              0.6666666666666666,
              "#ed7953"
             ],
             [
              0.7777777777777778,
              "#fb9f3a"
             ],
             [
              0.8888888888888888,
              "#fdca26"
             ],
             [
              1,
              "#f0f921"
             ]
            ],
            "type": "surface"
           }
          ],
          "table": [
           {
            "cells": {
             "fill": {
              "color": "#EBF0F8"
             },
             "line": {
              "color": "white"
             }
            },
            "header": {
             "fill": {
              "color": "#C8D4E3"
             },
             "line": {
              "color": "white"
             }
            },
            "type": "table"
           }
          ]
         },
         "layout": {
          "annotationdefaults": {
           "arrowcolor": "#2a3f5f",
           "arrowhead": 0,
           "arrowwidth": 1
          },
          "autotypenumbers": "strict",
          "coloraxis": {
           "colorbar": {
            "outlinewidth": 0,
            "ticks": ""
           }
          },
          "colorscale": {
           "diverging": [
            [
             0,
             "#8e0152"
            ],
            [
             0.1,
             "#c51b7d"
            ],
            [
             0.2,
             "#de77ae"
            ],
            [
             0.3,
             "#f1b6da"
            ],
            [
             0.4,
             "#fde0ef"
            ],
            [
             0.5,
             "#f7f7f7"
            ],
            [
             0.6,
             "#e6f5d0"
            ],
            [
             0.7,
             "#b8e186"
            ],
            [
             0.8,
             "#7fbc41"
            ],
            [
             0.9,
             "#4d9221"
            ],
            [
             1,
             "#276419"
            ]
           ],
           "sequential": [
            [
             0,
             "#0d0887"
            ],
            [
             0.1111111111111111,
             "#46039f"
            ],
            [
             0.2222222222222222,
             "#7201a8"
            ],
            [
             0.3333333333333333,
             "#9c179e"
            ],
            [
             0.4444444444444444,
             "#bd3786"
            ],
            [
             0.5555555555555556,
             "#d8576b"
            ],
            [
             0.6666666666666666,
             "#ed7953"
            ],
            [
             0.7777777777777778,
             "#fb9f3a"
            ],
            [
             0.8888888888888888,
             "#fdca26"
            ],
            [
             1,
             "#f0f921"
            ]
           ],
           "sequentialminus": [
            [
             0,
             "#0d0887"
            ],
            [
             0.1111111111111111,
             "#46039f"
            ],
            [
             0.2222222222222222,
             "#7201a8"
            ],
            [
             0.3333333333333333,
             "#9c179e"
            ],
            [
             0.4444444444444444,
             "#bd3786"
            ],
            [
             0.5555555555555556,
             "#d8576b"
            ],
            [
             0.6666666666666666,
             "#ed7953"
            ],
            [
             0.7777777777777778,
             "#fb9f3a"
            ],
            [
             0.8888888888888888,
             "#fdca26"
            ],
            [
             1,
             "#f0f921"
            ]
           ]
          },
          "colorway": [
           "#636efa",
           "#EF553B",
           "#00cc96",
           "#ab63fa",
           "#FFA15A",
           "#19d3f3",
           "#FF6692",
           "#B6E880",
           "#FF97FF",
           "#FECB52"
          ],
          "font": {
           "color": "#2a3f5f"
          },
          "geo": {
           "bgcolor": "white",
           "lakecolor": "white",
           "landcolor": "#E5ECF6",
           "showlakes": true,
           "showland": true,
           "subunitcolor": "white"
          },
          "hoverlabel": {
           "align": "left"
          },
          "hovermode": "closest",
          "mapbox": {
           "style": "light"
          },
          "paper_bgcolor": "white",
          "plot_bgcolor": "#E5ECF6",
          "polar": {
           "angularaxis": {
            "gridcolor": "white",
            "linecolor": "white",
            "ticks": ""
           },
           "bgcolor": "#E5ECF6",
           "radialaxis": {
            "gridcolor": "white",
            "linecolor": "white",
            "ticks": ""
           }
          },
          "scene": {
           "xaxis": {
            "backgroundcolor": "#E5ECF6",
            "gridcolor": "white",
            "gridwidth": 2,
            "linecolor": "white",
            "showbackground": true,
            "ticks": "",
            "zerolinecolor": "white"
           },
           "yaxis": {
            "backgroundcolor": "#E5ECF6",
            "gridcolor": "white",
            "gridwidth": 2,
            "linecolor": "white",
            "showbackground": true,
            "ticks": "",
            "zerolinecolor": "white"
           },
           "zaxis": {
            "backgroundcolor": "#E5ECF6",
            "gridcolor": "white",
            "gridwidth": 2,
            "linecolor": "white",
            "showbackground": true,
            "ticks": "",
            "zerolinecolor": "white"
           }
          },
          "shapedefaults": {
           "line": {
            "color": "#2a3f5f"
           }
          },
          "ternary": {
           "aaxis": {
            "gridcolor": "white",
            "linecolor": "white",
            "ticks": ""
           },
           "baxis": {
            "gridcolor": "white",
            "linecolor": "white",
            "ticks": ""
           },
           "bgcolor": "#E5ECF6",
           "caxis": {
            "gridcolor": "white",
            "linecolor": "white",
            "ticks": ""
           }
          },
          "title": {
           "x": 0.05
          },
          "xaxis": {
           "automargin": true,
           "gridcolor": "white",
           "linecolor": "white",
           "ticks": "",
           "title": {
            "standoff": 15
           },
           "zerolinecolor": "white",
           "zerolinewidth": 2
          },
          "yaxis": {
           "automargin": true,
           "gridcolor": "white",
           "linecolor": "white",
           "ticks": "",
           "title": {
            "standoff": 15
           },
           "zerolinecolor": "white",
           "zerolinewidth": 2
          }
         }
        },
        "title": {
         "text": "Continuous Signal"
        },
        "width": 1000,
        "xaxis": {
         "title": {
          "text": "Index"
         }
        },
        "yaxis": {
         "title": {
          "text": "Amplitude"
         }
        }
       }
      }
     },
     "metadata": {},
     "output_type": "display_data"
    }
   ],
   "source": [
    "draw(PVCDetails[0])"
   ]
  },
  {
   "cell_type": "code",
   "execution_count": 303,
   "id": "26946b40",
   "metadata": {
    "execution": {
     "iopub.execute_input": "2024-12-22T18:17:13.739582Z",
     "iopub.status.busy": "2024-12-22T18:17:13.739214Z",
     "iopub.status.idle": "2024-12-22T18:17:13.750600Z",
     "shell.execute_reply": "2024-12-22T18:17:13.749353Z"
    },
    "papermill": {
     "duration": 0.022362,
     "end_time": "2024-12-22T18:17:13.752437",
     "exception": false,
     "start_time": "2024-12-22T18:17:13.730075",
     "status": "completed"
    },
    "tags": []
   },
   "outputs": [
    {
     "data": {
      "application/vnd.plotly.v1+json": {
       "config": {
        "plotlyServerURL": "https://plot.ly"
       },
       "data": [
        {
         "mode": "lines",
         "name": "Continuous Signal",
         "type": "scatter",
         "y": [
          -0.011975893272618353,
          0.00029709022746645167,
          -0.020578222382611592,
          -0.005544685423764933,
          -0.003059313405722283,
          -0.026789510789127582,
          -0.0012090995993095563,
          0.014841149230390215,
          0.019663762270802528,
          0.012713541415103594,
          0.020682502097811983,
          0.06378511186675995,
          0.10383191823140432,
          0.16733656890181478,
          0.13266321190083297,
          0.09036167699948605,
          0.10144624185556501,
          0.03405546383646896,
          -0.10516859310403802,
          -0.09991288902854627,
          -0.11859813530449673,
          -0.13596765117802317,
          -0.10033450777252602,
          -0.09879817182435882,
          -0.0926793437625188,
          -0.20304614565525783,
          -0.4054005486728328,
          0.11214488954977098,
          1.7399112712265425,
          2.0103696516711764,
          -0.00433436917363611,
          -0.6836724770169779,
          -0.4223101467212209,
          -0.4171310204588529,
          -0.3878522580808626,
          -0.388094087686037,
          -0.3547661270701665,
          -0.3109360595011965,
          -0.3131783248166197,
          -0.2854430280228294,
          -0.28008019922162103,
          -0.24739830149289804,
          -0.2101033365763441,
          -0.1829916143207306,
          -0.16463820400178267,
          -0.14408594071938494,
          -0.1328159941669971,
          -0.1314333867224372,
          -0.12546296237673946,
          -0.12531383949344416,
          -0.12208415049869868,
          -0.12699093877637888,
          -0.1268878337399201,
          -0.12190935556169714,
          -0.11195330844639197,
          -0.07584484038896863,
          0.01153285120294159,
          0.12397045756636368,
          0.19168306276830427,
          0.20807802765963612,
          0.2143644623536154,
          0.2061203483488661,
          0.19562551873126077,
          0.18796451917200507,
          0.17388776014978521,
          0.18029202416169812,
          0.17373652702206288,
          0.14743389737586057,
          0.13296112886879485,
          0.10673662119557223,
          0.08903293582685362,
          0.07874351628073939,
          0.07945898638932478,
          0.08141240248711268,
          0.07646327827429772,
          0.05907439100254105,
          0.04487984947390008,
          0.06839785515870253,
          0.06295880173779193,
          0.05806261917001384
         ]
        }
       ],
       "layout": {
        "height": 500,
        "template": {
         "data": {
          "bar": [
           {
            "error_x": {
             "color": "#2a3f5f"
            },
            "error_y": {
             "color": "#2a3f5f"
            },
            "marker": {
             "line": {
              "color": "#E5ECF6",
              "width": 0.5
             },
             "pattern": {
              "fillmode": "overlay",
              "size": 10,
              "solidity": 0.2
             }
            },
            "type": "bar"
           }
          ],
          "barpolar": [
           {
            "marker": {
             "line": {
              "color": "#E5ECF6",
              "width": 0.5
             },
             "pattern": {
              "fillmode": "overlay",
              "size": 10,
              "solidity": 0.2
             }
            },
            "type": "barpolar"
           }
          ],
          "carpet": [
           {
            "aaxis": {
             "endlinecolor": "#2a3f5f",
             "gridcolor": "white",
             "linecolor": "white",
             "minorgridcolor": "white",
             "startlinecolor": "#2a3f5f"
            },
            "baxis": {
             "endlinecolor": "#2a3f5f",
             "gridcolor": "white",
             "linecolor": "white",
             "minorgridcolor": "white",
             "startlinecolor": "#2a3f5f"
            },
            "type": "carpet"
           }
          ],
          "choropleth": [
           {
            "colorbar": {
             "outlinewidth": 0,
             "ticks": ""
            },
            "type": "choropleth"
           }
          ],
          "contour": [
           {
            "colorbar": {
             "outlinewidth": 0,
             "ticks": ""
            },
            "colorscale": [
             [
              0,
              "#0d0887"
             ],
             [
              0.1111111111111111,
              "#46039f"
             ],
             [
              0.2222222222222222,
              "#7201a8"
             ],
             [
              0.3333333333333333,
              "#9c179e"
             ],
             [
              0.4444444444444444,
              "#bd3786"
             ],
             [
              0.5555555555555556,
              "#d8576b"
             ],
             [
              0.6666666666666666,
              "#ed7953"
             ],
             [
              0.7777777777777778,
              "#fb9f3a"
             ],
             [
              0.8888888888888888,
              "#fdca26"
             ],
             [
              1,
              "#f0f921"
             ]
            ],
            "type": "contour"
           }
          ],
          "contourcarpet": [
           {
            "colorbar": {
             "outlinewidth": 0,
             "ticks": ""
            },
            "type": "contourcarpet"
           }
          ],
          "heatmap": [
           {
            "colorbar": {
             "outlinewidth": 0,
             "ticks": ""
            },
            "colorscale": [
             [
              0,
              "#0d0887"
             ],
             [
              0.1111111111111111,
              "#46039f"
             ],
             [
              0.2222222222222222,
              "#7201a8"
             ],
             [
              0.3333333333333333,
              "#9c179e"
             ],
             [
              0.4444444444444444,
              "#bd3786"
             ],
             [
              0.5555555555555556,
              "#d8576b"
             ],
             [
              0.6666666666666666,
              "#ed7953"
             ],
             [
              0.7777777777777778,
              "#fb9f3a"
             ],
             [
              0.8888888888888888,
              "#fdca26"
             ],
             [
              1,
              "#f0f921"
             ]
            ],
            "type": "heatmap"
           }
          ],
          "heatmapgl": [
           {
            "colorbar": {
             "outlinewidth": 0,
             "ticks": ""
            },
            "colorscale": [
             [
              0,
              "#0d0887"
             ],
             [
              0.1111111111111111,
              "#46039f"
             ],
             [
              0.2222222222222222,
              "#7201a8"
             ],
             [
              0.3333333333333333,
              "#9c179e"
             ],
             [
              0.4444444444444444,
              "#bd3786"
             ],
             [
              0.5555555555555556,
              "#d8576b"
             ],
             [
              0.6666666666666666,
              "#ed7953"
             ],
             [
              0.7777777777777778,
              "#fb9f3a"
             ],
             [
              0.8888888888888888,
              "#fdca26"
             ],
             [
              1,
              "#f0f921"
             ]
            ],
            "type": "heatmapgl"
           }
          ],
          "histogram": [
           {
            "marker": {
             "pattern": {
              "fillmode": "overlay",
              "size": 10,
              "solidity": 0.2
             }
            },
            "type": "histogram"
           }
          ],
          "histogram2d": [
           {
            "colorbar": {
             "outlinewidth": 0,
             "ticks": ""
            },
            "colorscale": [
             [
              0,
              "#0d0887"
             ],
             [
              0.1111111111111111,
              "#46039f"
             ],
             [
              0.2222222222222222,
              "#7201a8"
             ],
             [
              0.3333333333333333,
              "#9c179e"
             ],
             [
              0.4444444444444444,
              "#bd3786"
             ],
             [
              0.5555555555555556,
              "#d8576b"
             ],
             [
              0.6666666666666666,
              "#ed7953"
             ],
             [
              0.7777777777777778,
              "#fb9f3a"
             ],
             [
              0.8888888888888888,
              "#fdca26"
             ],
             [
              1,
              "#f0f921"
             ]
            ],
            "type": "histogram2d"
           }
          ],
          "histogram2dcontour": [
           {
            "colorbar": {
             "outlinewidth": 0,
             "ticks": ""
            },
            "colorscale": [
             [
              0,
              "#0d0887"
             ],
             [
              0.1111111111111111,
              "#46039f"
             ],
             [
              0.2222222222222222,
              "#7201a8"
             ],
             [
              0.3333333333333333,
              "#9c179e"
             ],
             [
              0.4444444444444444,
              "#bd3786"
             ],
             [
              0.5555555555555556,
              "#d8576b"
             ],
             [
              0.6666666666666666,
              "#ed7953"
             ],
             [
              0.7777777777777778,
              "#fb9f3a"
             ],
             [
              0.8888888888888888,
              "#fdca26"
             ],
             [
              1,
              "#f0f921"
             ]
            ],
            "type": "histogram2dcontour"
           }
          ],
          "mesh3d": [
           {
            "colorbar": {
             "outlinewidth": 0,
             "ticks": ""
            },
            "type": "mesh3d"
           }
          ],
          "parcoords": [
           {
            "line": {
             "colorbar": {
              "outlinewidth": 0,
              "ticks": ""
             }
            },
            "type": "parcoords"
           }
          ],
          "pie": [
           {
            "automargin": true,
            "type": "pie"
           }
          ],
          "scatter": [
           {
            "fillpattern": {
             "fillmode": "overlay",
             "size": 10,
             "solidity": 0.2
            },
            "type": "scatter"
           }
          ],
          "scatter3d": [
           {
            "line": {
             "colorbar": {
              "outlinewidth": 0,
              "ticks": ""
             }
            },
            "marker": {
             "colorbar": {
              "outlinewidth": 0,
              "ticks": ""
             }
            },
            "type": "scatter3d"
           }
          ],
          "scattercarpet": [
           {
            "marker": {
             "colorbar": {
              "outlinewidth": 0,
              "ticks": ""
             }
            },
            "type": "scattercarpet"
           }
          ],
          "scattergeo": [
           {
            "marker": {
             "colorbar": {
              "outlinewidth": 0,
              "ticks": ""
             }
            },
            "type": "scattergeo"
           }
          ],
          "scattergl": [
           {
            "marker": {
             "colorbar": {
              "outlinewidth": 0,
              "ticks": ""
             }
            },
            "type": "scattergl"
           }
          ],
          "scattermapbox": [
           {
            "marker": {
             "colorbar": {
              "outlinewidth": 0,
              "ticks": ""
             }
            },
            "type": "scattermapbox"
           }
          ],
          "scatterpolar": [
           {
            "marker": {
             "colorbar": {
              "outlinewidth": 0,
              "ticks": ""
             }
            },
            "type": "scatterpolar"
           }
          ],
          "scatterpolargl": [
           {
            "marker": {
             "colorbar": {
              "outlinewidth": 0,
              "ticks": ""
             }
            },
            "type": "scatterpolargl"
           }
          ],
          "scatterternary": [
           {
            "marker": {
             "colorbar": {
              "outlinewidth": 0,
              "ticks": ""
             }
            },
            "type": "scatterternary"
           }
          ],
          "surface": [
           {
            "colorbar": {
             "outlinewidth": 0,
             "ticks": ""
            },
            "colorscale": [
             [
              0,
              "#0d0887"
             ],
             [
              0.1111111111111111,
              "#46039f"
             ],
             [
              0.2222222222222222,
              "#7201a8"
             ],
             [
              0.3333333333333333,
              "#9c179e"
             ],
             [
              0.4444444444444444,
              "#bd3786"
             ],
             [
              0.5555555555555556,
              "#d8576b"
             ],
             [
              0.6666666666666666,
              "#ed7953"
             ],
             [
              0.7777777777777778,
              "#fb9f3a"
             ],
             [
              0.8888888888888888,
              "#fdca26"
             ],
             [
              1,
              "#f0f921"
             ]
            ],
            "type": "surface"
           }
          ],
          "table": [
           {
            "cells": {
             "fill": {
              "color": "#EBF0F8"
             },
             "line": {
              "color": "white"
             }
            },
            "header": {
             "fill": {
              "color": "#C8D4E3"
             },
             "line": {
              "color": "white"
             }
            },
            "type": "table"
           }
          ]
         },
         "layout": {
          "annotationdefaults": {
           "arrowcolor": "#2a3f5f",
           "arrowhead": 0,
           "arrowwidth": 1
          },
          "autotypenumbers": "strict",
          "coloraxis": {
           "colorbar": {
            "outlinewidth": 0,
            "ticks": ""
           }
          },
          "colorscale": {
           "diverging": [
            [
             0,
             "#8e0152"
            ],
            [
             0.1,
             "#c51b7d"
            ],
            [
             0.2,
             "#de77ae"
            ],
            [
             0.3,
             "#f1b6da"
            ],
            [
             0.4,
             "#fde0ef"
            ],
            [
             0.5,
             "#f7f7f7"
            ],
            [
             0.6,
             "#e6f5d0"
            ],
            [
             0.7,
             "#b8e186"
            ],
            [
             0.8,
             "#7fbc41"
            ],
            [
             0.9,
             "#4d9221"
            ],
            [
             1,
             "#276419"
            ]
           ],
           "sequential": [
            [
             0,
             "#0d0887"
            ],
            [
             0.1111111111111111,
             "#46039f"
            ],
            [
             0.2222222222222222,
             "#7201a8"
            ],
            [
             0.3333333333333333,
             "#9c179e"
            ],
            [
             0.4444444444444444,
             "#bd3786"
            ],
            [
             0.5555555555555556,
             "#d8576b"
            ],
            [
             0.6666666666666666,
             "#ed7953"
            ],
            [
             0.7777777777777778,
             "#fb9f3a"
            ],
            [
             0.8888888888888888,
             "#fdca26"
            ],
            [
             1,
             "#f0f921"
            ]
           ],
           "sequentialminus": [
            [
             0,
             "#0d0887"
            ],
            [
             0.1111111111111111,
             "#46039f"
            ],
            [
             0.2222222222222222,
             "#7201a8"
            ],
            [
             0.3333333333333333,
             "#9c179e"
            ],
            [
             0.4444444444444444,
             "#bd3786"
            ],
            [
             0.5555555555555556,
             "#d8576b"
            ],
            [
             0.6666666666666666,
             "#ed7953"
            ],
            [
             0.7777777777777778,
             "#fb9f3a"
            ],
            [
             0.8888888888888888,
             "#fdca26"
            ],
            [
             1,
             "#f0f921"
            ]
           ]
          },
          "colorway": [
           "#636efa",
           "#EF553B",
           "#00cc96",
           "#ab63fa",
           "#FFA15A",
           "#19d3f3",
           "#FF6692",
           "#B6E880",
           "#FF97FF",
           "#FECB52"
          ],
          "font": {
           "color": "#2a3f5f"
          },
          "geo": {
           "bgcolor": "white",
           "lakecolor": "white",
           "landcolor": "#E5ECF6",
           "showlakes": true,
           "showland": true,
           "subunitcolor": "white"
          },
          "hoverlabel": {
           "align": "left"
          },
          "hovermode": "closest",
          "mapbox": {
           "style": "light"
          },
          "paper_bgcolor": "white",
          "plot_bgcolor": "#E5ECF6",
          "polar": {
           "angularaxis": {
            "gridcolor": "white",
            "linecolor": "white",
            "ticks": ""
           },
           "bgcolor": "#E5ECF6",
           "radialaxis": {
            "gridcolor": "white",
            "linecolor": "white",
            "ticks": ""
           }
          },
          "scene": {
           "xaxis": {
            "backgroundcolor": "#E5ECF6",
            "gridcolor": "white",
            "gridwidth": 2,
            "linecolor": "white",
            "showbackground": true,
            "ticks": "",
            "zerolinecolor": "white"
           },
           "yaxis": {
            "backgroundcolor": "#E5ECF6",
            "gridcolor": "white",
            "gridwidth": 2,
            "linecolor": "white",
            "showbackground": true,
            "ticks": "",
            "zerolinecolor": "white"
           },
           "zaxis": {
            "backgroundcolor": "#E5ECF6",
            "gridcolor": "white",
            "gridwidth": 2,
            "linecolor": "white",
            "showbackground": true,
            "ticks": "",
            "zerolinecolor": "white"
           }
          },
          "shapedefaults": {
           "line": {
            "color": "#2a3f5f"
           }
          },
          "ternary": {
           "aaxis": {
            "gridcolor": "white",
            "linecolor": "white",
            "ticks": ""
           },
           "baxis": {
            "gridcolor": "white",
            "linecolor": "white",
            "ticks": ""
           },
           "bgcolor": "#E5ECF6",
           "caxis": {
            "gridcolor": "white",
            "linecolor": "white",
            "ticks": ""
           }
          },
          "title": {
           "x": 0.05
          },
          "xaxis": {
           "automargin": true,
           "gridcolor": "white",
           "linecolor": "white",
           "ticks": "",
           "title": {
            "standoff": 15
           },
           "zerolinecolor": "white",
           "zerolinewidth": 2
          },
          "yaxis": {
           "automargin": true,
           "gridcolor": "white",
           "linecolor": "white",
           "ticks": "",
           "title": {
            "standoff": 15
           },
           "zerolinecolor": "white",
           "zerolinewidth": 2
          }
         }
        },
        "title": {
         "text": "Continuous Signal"
        },
        "width": 1000,
        "xaxis": {
         "title": {
          "text": "Index"
         }
        },
        "yaxis": {
         "title": {
          "text": "Amplitude"
         }
        }
       }
      }
     },
     "metadata": {},
     "output_type": "display_data"
    }
   ],
   "source": [
    "draw(healthyTestDetails[0])"
   ]
  },
  {
   "cell_type": "markdown",
   "id": "325f6265",
   "metadata": {
    "papermill": {
     "duration": 0.007912,
     "end_time": "2024-12-22T18:17:13.768894",
     "exception": false,
     "start_time": "2024-12-22T18:17:13.760982",
     "status": "completed"
    },
    "tags": []
   },
   "source": [
    "### We can see that the difference between them is noticeable "
   ]
  },
  {
   "cell_type": "markdown",
   "id": "5de1dc57",
   "metadata": {
    "papermill": {
     "duration": 0.007888,
     "end_time": "2024-12-22T18:17:13.784999",
     "exception": false,
     "start_time": "2024-12-22T18:17:13.777111",
     "status": "completed"
    },
    "tags": []
   },
   "source": [
    "### We will use min-max scaling so the signal would range from [0,1]"
   ]
  },
  {
   "cell_type": "code",
   "execution_count": 304,
   "id": "d1756398",
   "metadata": {
    "execution": {
     "iopub.execute_input": "2024-12-22T18:17:13.802672Z",
     "iopub.status.busy": "2024-12-22T18:17:13.802245Z",
     "iopub.status.idle": "2024-12-22T18:17:13.807356Z",
     "shell.execute_reply": "2024-12-22T18:17:13.806144Z"
    },
    "papermill": {
     "duration": 0.015897,
     "end_time": "2024-12-22T18:17:13.809030",
     "exception": false,
     "start_time": "2024-12-22T18:17:13.793133",
     "status": "completed"
    },
    "tags": []
   },
   "outputs": [],
   "source": [
    "def normalize(signal):\n",
    "    return (signal - np.min(signal)) / (np.max(signal) - np.min(signal))"
   ]
  },
  {
   "cell_type": "code",
   "execution_count": 305,
   "id": "52ea9ed7",
   "metadata": {
    "execution": {
     "iopub.execute_input": "2024-12-22T18:17:13.827433Z",
     "iopub.status.busy": "2024-12-22T18:17:13.827099Z",
     "iopub.status.idle": "2024-12-22T18:17:13.848576Z",
     "shell.execute_reply": "2024-12-22T18:17:13.847712Z"
    },
    "papermill": {
     "duration": 0.032776,
     "end_time": "2024-12-22T18:17:13.850666",
     "exception": false,
     "start_time": "2024-12-22T18:17:13.817890",
     "status": "completed"
    },
    "tags": []
   },
   "outputs": [],
   "source": [
    "normalizedHealthy = [normalize(signal) for signal in healthyDetails]\n",
    "normalizedPVC = [normalize(signal) for signal in PVCDetails]\n",
    "normalizedHealthyTest = [normalize(signal) for signal in healthyTestDetails]\n",
    "normalizedPVCTest = [normalize(signal) for signal in PVCTestDetails]"
   ]
  },
  {
   "cell_type": "markdown",
   "id": "1468000b",
   "metadata": {
    "papermill": {
     "duration": 0.008031,
     "end_time": "2024-12-22T18:17:13.867629",
     "exception": false,
     "start_time": "2024-12-22T18:17:13.859598",
     "status": "completed"
    },
    "tags": []
   },
   "source": [
    "### A small comparison between processed signal vs raw signal"
   ]
  },
  {
   "cell_type": "code",
   "execution_count": 306,
   "id": "2a2df220",
   "metadata": {
    "execution": {
     "iopub.execute_input": "2024-12-22T18:17:13.885422Z",
     "iopub.status.busy": "2024-12-22T18:17:13.885099Z",
     "iopub.status.idle": "2024-12-22T18:17:13.897336Z",
     "shell.execute_reply": "2024-12-22T18:17:13.896431Z"
    },
    "papermill": {
     "duration": 0.023021,
     "end_time": "2024-12-22T18:17:13.898974",
     "exception": false,
     "start_time": "2024-12-22T18:17:13.875953",
     "status": "completed"
    },
    "tags": []
   },
   "outputs": [
    {
     "data": {
      "application/vnd.plotly.v1+json": {
       "config": {
        "plotlyServerURL": "https://plot.ly"
       },
       "data": [
        {
         "mode": "lines",
         "name": "Continuous Signal",
         "type": "scatter",
         "y": [
          0.031147,
          0.026147,
          0.0061474,
          0.0011474,
          0.011147,
          0.021147,
          0.031147,
          0.031147,
          0.0011474,
          0.0011474,
          -0.013853,
          0.0011474,
          0.011147,
          0.021147,
          0.021147,
          -0.0038526,
          -0.018853,
          -0.028853,
          -0.0088526,
          0.0061474,
          0.0011474,
          -0.013853,
          -0.048853,
          -0.028853,
          -0.018853,
          0.0011474,
          -0.0088526,
          -0.023853,
          -0.018853,
          -0.0038526,
          -0.0038526,
          0.0061474,
          -0.023853,
          -0.028853,
          -0.028853,
          -0.013853,
          -0.0038526,
          -0.0038526,
          -0.023853,
          -0.033853,
          -0.033853,
          -0.0038526,
          0.016147,
          0.016147,
          0.011147,
          -0.023853,
          -0.033853,
          -0.023853,
          -0.018853,
          -0.0088526,
          0.0061474,
          -0.0088526,
          -0.018853,
          -0.018853,
          0.0011474,
          0.016147,
          0.0011474,
          -0.0038526,
          -0.018853,
          -0.0088526,
          -0.018853,
          0.0011474,
          -0.013853,
          -0.013853,
          -0.0038526,
          0.0061474,
          0.011147,
          0.031147,
          0.021147,
          0.011147,
          0.031147,
          0.051147,
          0.056147,
          0.071147,
          0.086147,
          0.10115,
          0.11115,
          0.13615,
          0.17115,
          0.21615,
          0.24615,
          0.26115,
          0.31115,
          0.38615,
          0.49615,
          0.58615,
          0.69615,
          0.74115,
          0.77115,
          0.82615,
          0.90115,
          0.94615,
          1.0111,
          1.0511,
          1.0911,
          1.1361,
          1.1511,
          1.1661,
          1.1361,
          1.0911,
          1.0061,
          0.83115,
          0.48615,
          0.051147,
          -0.44885,
          -0.84885,
          -1.1339,
          -1.3039,
          -1.4389,
          -1.5139,
          -1.5589,
          -1.5489,
          -1.4989,
          -1.4639,
          -1.4139,
          -1.3689,
          -1.2889,
          -1.2189,
          -1.1739,
          -1.1539,
          -1.1189,
          -1.0689,
          -1.0239,
          -1.0039,
          -0.97385,
          -0.93385,
          -0.88885,
          -0.85885,
          -0.86885,
          -0.86885,
          -0.87385,
          -0.86385,
          -0.81885,
          -0.77385,
          -0.70885,
          -0.64885,
          -0.57385,
          -0.47885,
          -0.37385,
          -0.29885,
          -0.19885,
          -0.14385,
          -0.10385,
          -0.068853,
          -0.033853,
          0.0061474,
          0.021147,
          0.046147,
          0.056147,
          0.071147,
          0.10115,
          0.11115,
          0.11115,
          0.13615,
          0.14115,
          0.15615,
          0.19115,
          0.21615,
          0.23115,
          0.23615,
          0.23615,
          0.24615,
          0.26615,
          0.27115,
          0.29615,
          0.32615,
          0.35115,
          0.38115,
          0.40615,
          0.43115,
          0.45115,
          0.47115,
          0.50115,
          0.54115,
          0.57615,
          0.60115,
          0.63615,
          0.64115,
          0.67615,
          0.69615,
          0.73615,
          0.76115,
          0.79115,
          0.81115,
          0.83615,
          0.85615,
          0.91115,
          0.94615,
          0.95615,
          0.96615,
          0.97115,
          1.0011,
          1.0361,
          1.0511,
          1.0461,
          1.0311,
          1.0161,
          1.0161,
          1.0411,
          1.0511,
          1.0311,
          0.99615,
          0.96115,
          0.95615,
          0.95615,
          0.92615,
          0.90615,
          0.86115,
          0.81615,
          0.79115,
          0.78615,
          0.76615,
          0.72615,
          0.67615,
          0.62615,
          0.59115,
          0.56115,
          0.52615,
          0.47115,
          0.42615,
          0.38115,
          0.34115,
          0.31615,
          0.29115,
          0.26615,
          0.23615,
          0.19115,
          0.15115,
          0.17115,
          0.15115,
          0.14115,
          0.12115,
          0.10115,
          0.096147,
          0.096147,
          0.086147,
          0.076147,
          0.056147,
          0.036147,
          0.056147,
          0.066147,
          0.066147,
          0.041147,
          0.031147,
          0.031147,
          0.026147,
          0.056147,
          0.056147,
          0.031147,
          0.016147,
          -0.0038526,
          -0.0038526,
          0.026147,
          0.021147,
          0.021147,
          0.0011474,
          -0.0088526,
          -0.013853,
          0.0011474,
          0.021147,
          -0.0038526,
          0.0011474,
          -0.013853,
          -0.018853,
          0.0061474,
          0.016147,
          0.021147,
          0.0011474,
          -0.018853,
          -0.028853,
          -0.018853,
          -0.018853,
          -0.018853,
          -0.0088526,
          -0.0088526,
          -0.0038526,
          -0.013853,
          -0.023853,
          -0.018853,
          -0.028853,
          -0.023853,
          -0.0088526,
          0.0011474,
          -0.0088526,
          -0.018853,
          -0.043853,
          -0.028853,
          -0.0088526,
          0.0061474,
          0.0061474,
          0.0061474,
          -0.0088526,
          -0.023853,
          -0.018853,
          -0.013853,
          -0.0038526,
          -0.013853,
          -0.028853,
          -0.038853,
          -0.043853
         ]
        }
       ],
       "layout": {
        "height": 500,
        "template": {
         "data": {
          "bar": [
           {
            "error_x": {
             "color": "#2a3f5f"
            },
            "error_y": {
             "color": "#2a3f5f"
            },
            "marker": {
             "line": {
              "color": "#E5ECF6",
              "width": 0.5
             },
             "pattern": {
              "fillmode": "overlay",
              "size": 10,
              "solidity": 0.2
             }
            },
            "type": "bar"
           }
          ],
          "barpolar": [
           {
            "marker": {
             "line": {
              "color": "#E5ECF6",
              "width": 0.5
             },
             "pattern": {
              "fillmode": "overlay",
              "size": 10,
              "solidity": 0.2
             }
            },
            "type": "barpolar"
           }
          ],
          "carpet": [
           {
            "aaxis": {
             "endlinecolor": "#2a3f5f",
             "gridcolor": "white",
             "linecolor": "white",
             "minorgridcolor": "white",
             "startlinecolor": "#2a3f5f"
            },
            "baxis": {
             "endlinecolor": "#2a3f5f",
             "gridcolor": "white",
             "linecolor": "white",
             "minorgridcolor": "white",
             "startlinecolor": "#2a3f5f"
            },
            "type": "carpet"
           }
          ],
          "choropleth": [
           {
            "colorbar": {
             "outlinewidth": 0,
             "ticks": ""
            },
            "type": "choropleth"
           }
          ],
          "contour": [
           {
            "colorbar": {
             "outlinewidth": 0,
             "ticks": ""
            },
            "colorscale": [
             [
              0,
              "#0d0887"
             ],
             [
              0.1111111111111111,
              "#46039f"
             ],
             [
              0.2222222222222222,
              "#7201a8"
             ],
             [
              0.3333333333333333,
              "#9c179e"
             ],
             [
              0.4444444444444444,
              "#bd3786"
             ],
             [
              0.5555555555555556,
              "#d8576b"
             ],
             [
              0.6666666666666666,
              "#ed7953"
             ],
             [
              0.7777777777777778,
              "#fb9f3a"
             ],
             [
              0.8888888888888888,
              "#fdca26"
             ],
             [
              1,
              "#f0f921"
             ]
            ],
            "type": "contour"
           }
          ],
          "contourcarpet": [
           {
            "colorbar": {
             "outlinewidth": 0,
             "ticks": ""
            },
            "type": "contourcarpet"
           }
          ],
          "heatmap": [
           {
            "colorbar": {
             "outlinewidth": 0,
             "ticks": ""
            },
            "colorscale": [
             [
              0,
              "#0d0887"
             ],
             [
              0.1111111111111111,
              "#46039f"
             ],
             [
              0.2222222222222222,
              "#7201a8"
             ],
             [
              0.3333333333333333,
              "#9c179e"
             ],
             [
              0.4444444444444444,
              "#bd3786"
             ],
             [
              0.5555555555555556,
              "#d8576b"
             ],
             [
              0.6666666666666666,
              "#ed7953"
             ],
             [
              0.7777777777777778,
              "#fb9f3a"
             ],
             [
              0.8888888888888888,
              "#fdca26"
             ],
             [
              1,
              "#f0f921"
             ]
            ],
            "type": "heatmap"
           }
          ],
          "heatmapgl": [
           {
            "colorbar": {
             "outlinewidth": 0,
             "ticks": ""
            },
            "colorscale": [
             [
              0,
              "#0d0887"
             ],
             [
              0.1111111111111111,
              "#46039f"
             ],
             [
              0.2222222222222222,
              "#7201a8"
             ],
             [
              0.3333333333333333,
              "#9c179e"
             ],
             [
              0.4444444444444444,
              "#bd3786"
             ],
             [
              0.5555555555555556,
              "#d8576b"
             ],
             [
              0.6666666666666666,
              "#ed7953"
             ],
             [
              0.7777777777777778,
              "#fb9f3a"
             ],
             [
              0.8888888888888888,
              "#fdca26"
             ],
             [
              1,
              "#f0f921"
             ]
            ],
            "type": "heatmapgl"
           }
          ],
          "histogram": [
           {
            "marker": {
             "pattern": {
              "fillmode": "overlay",
              "size": 10,
              "solidity": 0.2
             }
            },
            "type": "histogram"
           }
          ],
          "histogram2d": [
           {
            "colorbar": {
             "outlinewidth": 0,
             "ticks": ""
            },
            "colorscale": [
             [
              0,
              "#0d0887"
             ],
             [
              0.1111111111111111,
              "#46039f"
             ],
             [
              0.2222222222222222,
              "#7201a8"
             ],
             [
              0.3333333333333333,
              "#9c179e"
             ],
             [
              0.4444444444444444,
              "#bd3786"
             ],
             [
              0.5555555555555556,
              "#d8576b"
             ],
             [
              0.6666666666666666,
              "#ed7953"
             ],
             [
              0.7777777777777778,
              "#fb9f3a"
             ],
             [
              0.8888888888888888,
              "#fdca26"
             ],
             [
              1,
              "#f0f921"
             ]
            ],
            "type": "histogram2d"
           }
          ],
          "histogram2dcontour": [
           {
            "colorbar": {
             "outlinewidth": 0,
             "ticks": ""
            },
            "colorscale": [
             [
              0,
              "#0d0887"
             ],
             [
              0.1111111111111111,
              "#46039f"
             ],
             [
              0.2222222222222222,
              "#7201a8"
             ],
             [
              0.3333333333333333,
              "#9c179e"
             ],
             [
              0.4444444444444444,
              "#bd3786"
             ],
             [
              0.5555555555555556,
              "#d8576b"
             ],
             [
              0.6666666666666666,
              "#ed7953"
             ],
             [
              0.7777777777777778,
              "#fb9f3a"
             ],
             [
              0.8888888888888888,
              "#fdca26"
             ],
             [
              1,
              "#f0f921"
             ]
            ],
            "type": "histogram2dcontour"
           }
          ],
          "mesh3d": [
           {
            "colorbar": {
             "outlinewidth": 0,
             "ticks": ""
            },
            "type": "mesh3d"
           }
          ],
          "parcoords": [
           {
            "line": {
             "colorbar": {
              "outlinewidth": 0,
              "ticks": ""
             }
            },
            "type": "parcoords"
           }
          ],
          "pie": [
           {
            "automargin": true,
            "type": "pie"
           }
          ],
          "scatter": [
           {
            "fillpattern": {
             "fillmode": "overlay",
             "size": 10,
             "solidity": 0.2
            },
            "type": "scatter"
           }
          ],
          "scatter3d": [
           {
            "line": {
             "colorbar": {
              "outlinewidth": 0,
              "ticks": ""
             }
            },
            "marker": {
             "colorbar": {
              "outlinewidth": 0,
              "ticks": ""
             }
            },
            "type": "scatter3d"
           }
          ],
          "scattercarpet": [
           {
            "marker": {
             "colorbar": {
              "outlinewidth": 0,
              "ticks": ""
             }
            },
            "type": "scattercarpet"
           }
          ],
          "scattergeo": [
           {
            "marker": {
             "colorbar": {
              "outlinewidth": 0,
              "ticks": ""
             }
            },
            "type": "scattergeo"
           }
          ],
          "scattergl": [
           {
            "marker": {
             "colorbar": {
              "outlinewidth": 0,
              "ticks": ""
             }
            },
            "type": "scattergl"
           }
          ],
          "scattermapbox": [
           {
            "marker": {
             "colorbar": {
              "outlinewidth": 0,
              "ticks": ""
             }
            },
            "type": "scattermapbox"
           }
          ],
          "scatterpolar": [
           {
            "marker": {
             "colorbar": {
              "outlinewidth": 0,
              "ticks": ""
             }
            },
            "type": "scatterpolar"
           }
          ],
          "scatterpolargl": [
           {
            "marker": {
             "colorbar": {
              "outlinewidth": 0,
              "ticks": ""
             }
            },
            "type": "scatterpolargl"
           }
          ],
          "scatterternary": [
           {
            "marker": {
             "colorbar": {
              "outlinewidth": 0,
              "ticks": ""
             }
            },
            "type": "scatterternary"
           }
          ],
          "surface": [
           {
            "colorbar": {
             "outlinewidth": 0,
             "ticks": ""
            },
            "colorscale": [
             [
              0,
              "#0d0887"
             ],
             [
              0.1111111111111111,
              "#46039f"
             ],
             [
              0.2222222222222222,
              "#7201a8"
             ],
             [
              0.3333333333333333,
              "#9c179e"
             ],
             [
              0.4444444444444444,
              "#bd3786"
             ],
             [
              0.5555555555555556,
              "#d8576b"
             ],
             [
              0.6666666666666666,
              "#ed7953"
             ],
             [
              0.7777777777777778,
              "#fb9f3a"
             ],
             [
              0.8888888888888888,
              "#fdca26"
             ],
             [
              1,
              "#f0f921"
             ]
            ],
            "type": "surface"
           }
          ],
          "table": [
           {
            "cells": {
             "fill": {
              "color": "#EBF0F8"
             },
             "line": {
              "color": "white"
             }
            },
            "header": {
             "fill": {
              "color": "#C8D4E3"
             },
             "line": {
              "color": "white"
             }
            },
            "type": "table"
           }
          ]
         },
         "layout": {
          "annotationdefaults": {
           "arrowcolor": "#2a3f5f",
           "arrowhead": 0,
           "arrowwidth": 1
          },
          "autotypenumbers": "strict",
          "coloraxis": {
           "colorbar": {
            "outlinewidth": 0,
            "ticks": ""
           }
          },
          "colorscale": {
           "diverging": [
            [
             0,
             "#8e0152"
            ],
            [
             0.1,
             "#c51b7d"
            ],
            [
             0.2,
             "#de77ae"
            ],
            [
             0.3,
             "#f1b6da"
            ],
            [
             0.4,
             "#fde0ef"
            ],
            [
             0.5,
             "#f7f7f7"
            ],
            [
             0.6,
             "#e6f5d0"
            ],
            [
             0.7,
             "#b8e186"
            ],
            [
             0.8,
             "#7fbc41"
            ],
            [
             0.9,
             "#4d9221"
            ],
            [
             1,
             "#276419"
            ]
           ],
           "sequential": [
            [
             0,
             "#0d0887"
            ],
            [
             0.1111111111111111,
             "#46039f"
            ],
            [
             0.2222222222222222,
             "#7201a8"
            ],
            [
             0.3333333333333333,
             "#9c179e"
            ],
            [
             0.4444444444444444,
             "#bd3786"
            ],
            [
             0.5555555555555556,
             "#d8576b"
            ],
            [
             0.6666666666666666,
             "#ed7953"
            ],
            [
             0.7777777777777778,
             "#fb9f3a"
            ],
            [
             0.8888888888888888,
             "#fdca26"
            ],
            [
             1,
             "#f0f921"
            ]
           ],
           "sequentialminus": [
            [
             0,
             "#0d0887"
            ],
            [
             0.1111111111111111,
             "#46039f"
            ],
            [
             0.2222222222222222,
             "#7201a8"
            ],
            [
             0.3333333333333333,
             "#9c179e"
            ],
            [
             0.4444444444444444,
             "#bd3786"
            ],
            [
             0.5555555555555556,
             "#d8576b"
            ],
            [
             0.6666666666666666,
             "#ed7953"
            ],
            [
             0.7777777777777778,
             "#fb9f3a"
            ],
            [
             0.8888888888888888,
             "#fdca26"
            ],
            [
             1,
             "#f0f921"
            ]
           ]
          },
          "colorway": [
           "#636efa",
           "#EF553B",
           "#00cc96",
           "#ab63fa",
           "#FFA15A",
           "#19d3f3",
           "#FF6692",
           "#B6E880",
           "#FF97FF",
           "#FECB52"
          ],
          "font": {
           "color": "#2a3f5f"
          },
          "geo": {
           "bgcolor": "white",
           "lakecolor": "white",
           "landcolor": "#E5ECF6",
           "showlakes": true,
           "showland": true,
           "subunitcolor": "white"
          },
          "hoverlabel": {
           "align": "left"
          },
          "hovermode": "closest",
          "mapbox": {
           "style": "light"
          },
          "paper_bgcolor": "white",
          "plot_bgcolor": "#E5ECF6",
          "polar": {
           "angularaxis": {
            "gridcolor": "white",
            "linecolor": "white",
            "ticks": ""
           },
           "bgcolor": "#E5ECF6",
           "radialaxis": {
            "gridcolor": "white",
            "linecolor": "white",
            "ticks": ""
           }
          },
          "scene": {
           "xaxis": {
            "backgroundcolor": "#E5ECF6",
            "gridcolor": "white",
            "gridwidth": 2,
            "linecolor": "white",
            "showbackground": true,
            "ticks": "",
            "zerolinecolor": "white"
           },
           "yaxis": {
            "backgroundcolor": "#E5ECF6",
            "gridcolor": "white",
            "gridwidth": 2,
            "linecolor": "white",
            "showbackground": true,
            "ticks": "",
            "zerolinecolor": "white"
           },
           "zaxis": {
            "backgroundcolor": "#E5ECF6",
            "gridcolor": "white",
            "gridwidth": 2,
            "linecolor": "white",
            "showbackground": true,
            "ticks": "",
            "zerolinecolor": "white"
           }
          },
          "shapedefaults": {
           "line": {
            "color": "#2a3f5f"
           }
          },
          "ternary": {
           "aaxis": {
            "gridcolor": "white",
            "linecolor": "white",
            "ticks": ""
           },
           "baxis": {
            "gridcolor": "white",
            "linecolor": "white",
            "ticks": ""
           },
           "bgcolor": "#E5ECF6",
           "caxis": {
            "gridcolor": "white",
            "linecolor": "white",
            "ticks": ""
           }
          },
          "title": {
           "x": 0.05
          },
          "xaxis": {
           "automargin": true,
           "gridcolor": "white",
           "linecolor": "white",
           "ticks": "",
           "title": {
            "standoff": 15
           },
           "zerolinecolor": "white",
           "zerolinewidth": 2
          },
          "yaxis": {
           "automargin": true,
           "gridcolor": "white",
           "linecolor": "white",
           "ticks": "",
           "title": {
            "standoff": 15
           },
           "zerolinecolor": "white",
           "zerolinewidth": 2
          }
         }
        },
        "title": {
         "text": "Continuous Signal"
        },
        "width": 1000,
        "xaxis": {
         "title": {
          "text": "Index"
         }
        },
        "yaxis": {
         "title": {
          "text": "Amplitude"
         }
        }
       }
      }
     },
     "metadata": {},
     "output_type": "display_data"
    }
   ],
   "source": [
    "draw(PVCSignals[0])"
   ]
  },
  {
   "cell_type": "code",
   "execution_count": 307,
   "id": "01cd2bdb",
   "metadata": {
    "execution": {
     "iopub.execute_input": "2024-12-22T18:17:13.917757Z",
     "iopub.status.busy": "2024-12-22T18:17:13.917347Z",
     "iopub.status.idle": "2024-12-22T18:17:13.929016Z",
     "shell.execute_reply": "2024-12-22T18:17:13.928084Z"
    },
    "papermill": {
     "duration": 0.022791,
     "end_time": "2024-12-22T18:17:13.930674",
     "exception": false,
     "start_time": "2024-12-22T18:17:13.907883",
     "status": "completed"
    },
    "tags": []
   },
   "outputs": [
    {
     "data": {
      "application/vnd.plotly.v1+json": {
       "config": {
        "plotlyServerURL": "https://plot.ly"
       },
       "data": [
        {
         "mode": "lines",
         "name": "Continuous Signal",
         "type": "scatter",
         "y": [
          0.6719375109552742,
          0.6690459022358879,
          0.6740053272278455,
          0.670304935071826,
          0.6703232193099031,
          0.6737701516064566,
          0.6751137514678079,
          0.669460887385199,
          0.6695810455828505,
          0.6644696840640749,
          0.6607750511798249,
          0.6625021597097644,
          0.6661895566649011,
          0.6633610852644114,
          0.6624549673849207,
          0.6695659529788955,
          0.6664252123984165,
          0.6652561815630558,
          0.6706128330108186,
          0.6693202243742736,
          0.6667144465122758,
          0.6743555081721007,
          0.682193580048036,
          0.6967803731953675,
          0.7229925322596259,
          0.7697420565711653,
          0.8730397220288991,
          0.9466276138258536,
          0.9882083860291723,
          1,
          0.7624696698695924,
          0.1974940484021789,
          0,
          0.10429219622527189,
          0.23204502240085423,
          0.3308969455860317,
          0.41499742889969216,
          0.46000439782643043,
          0.5230951391657146,
          0.6589663164721267,
          0.7768453296988712,
          0.8228801807261515,
          0.8422998776496237,
          0.8526991218689226,
          0.8685551906904854,
          0.8705965845813053,
          0.8847035247572773,
          0.9062471611276354,
          0.9279168995551051,
          0.9464774194936543,
          0.9595233243394173,
          0.9747089888366468,
          0.9797656615802323,
          0.9673498461841006,
          0.9359832231208481,
          0.8919255481391376,
          0.8326713425310366,
          0.7695677328822799,
          0.7040540769733025,
          0.6305592165468906,
          0.5672929703578734,
          0.5230677169980847,
          0.4993929893092036,
          0.49005818156761316,
          0.484640831068822,
          0.4880973729261826,
          0.4945535252565741,
          0.4955108547861357,
          0.5008950807674811,
          0.5073611281682027,
          0.5148764813125123,
          0.527057541673698,
          0.5273567443076337,
          0.538188726045733,
          0.5446713236764459,
          0.5540143096231593,
          0.5608007474819283,
          0.5743775030503298,
          0.5781628797420919,
          0.5783052231145418
         ]
        }
       ],
       "layout": {
        "height": 500,
        "template": {
         "data": {
          "bar": [
           {
            "error_x": {
             "color": "#2a3f5f"
            },
            "error_y": {
             "color": "#2a3f5f"
            },
            "marker": {
             "line": {
              "color": "#E5ECF6",
              "width": 0.5
             },
             "pattern": {
              "fillmode": "overlay",
              "size": 10,
              "solidity": 0.2
             }
            },
            "type": "bar"
           }
          ],
          "barpolar": [
           {
            "marker": {
             "line": {
              "color": "#E5ECF6",
              "width": 0.5
             },
             "pattern": {
              "fillmode": "overlay",
              "size": 10,
              "solidity": 0.2
             }
            },
            "type": "barpolar"
           }
          ],
          "carpet": [
           {
            "aaxis": {
             "endlinecolor": "#2a3f5f",
             "gridcolor": "white",
             "linecolor": "white",
             "minorgridcolor": "white",
             "startlinecolor": "#2a3f5f"
            },
            "baxis": {
             "endlinecolor": "#2a3f5f",
             "gridcolor": "white",
             "linecolor": "white",
             "minorgridcolor": "white",
             "startlinecolor": "#2a3f5f"
            },
            "type": "carpet"
           }
          ],
          "choropleth": [
           {
            "colorbar": {
             "outlinewidth": 0,
             "ticks": ""
            },
            "type": "choropleth"
           }
          ],
          "contour": [
           {
            "colorbar": {
             "outlinewidth": 0,
             "ticks": ""
            },
            "colorscale": [
             [
              0,
              "#0d0887"
             ],
             [
              0.1111111111111111,
              "#46039f"
             ],
             [
              0.2222222222222222,
              "#7201a8"
             ],
             [
              0.3333333333333333,
              "#9c179e"
             ],
             [
              0.4444444444444444,
              "#bd3786"
             ],
             [
              0.5555555555555556,
              "#d8576b"
             ],
             [
              0.6666666666666666,
              "#ed7953"
             ],
             [
              0.7777777777777778,
              "#fb9f3a"
             ],
             [
              0.8888888888888888,
              "#fdca26"
             ],
             [
              1,
              "#f0f921"
             ]
            ],
            "type": "contour"
           }
          ],
          "contourcarpet": [
           {
            "colorbar": {
             "outlinewidth": 0,
             "ticks": ""
            },
            "type": "contourcarpet"
           }
          ],
          "heatmap": [
           {
            "colorbar": {
             "outlinewidth": 0,
             "ticks": ""
            },
            "colorscale": [
             [
              0,
              "#0d0887"
             ],
             [
              0.1111111111111111,
              "#46039f"
             ],
             [
              0.2222222222222222,
              "#7201a8"
             ],
             [
              0.3333333333333333,
              "#9c179e"
             ],
             [
              0.4444444444444444,
              "#bd3786"
             ],
             [
              0.5555555555555556,
              "#d8576b"
             ],
             [
              0.6666666666666666,
              "#ed7953"
             ],
             [
              0.7777777777777778,
              "#fb9f3a"
             ],
             [
              0.8888888888888888,
              "#fdca26"
             ],
             [
              1,
              "#f0f921"
             ]
            ],
            "type": "heatmap"
           }
          ],
          "heatmapgl": [
           {
            "colorbar": {
             "outlinewidth": 0,
             "ticks": ""
            },
            "colorscale": [
             [
              0,
              "#0d0887"
             ],
             [
              0.1111111111111111,
              "#46039f"
             ],
             [
              0.2222222222222222,
              "#7201a8"
             ],
             [
              0.3333333333333333,
              "#9c179e"
             ],
             [
              0.4444444444444444,
              "#bd3786"
             ],
             [
              0.5555555555555556,
              "#d8576b"
             ],
             [
              0.6666666666666666,
              "#ed7953"
             ],
             [
              0.7777777777777778,
              "#fb9f3a"
             ],
             [
              0.8888888888888888,
              "#fdca26"
             ],
             [
              1,
              "#f0f921"
             ]
            ],
            "type": "heatmapgl"
           }
          ],
          "histogram": [
           {
            "marker": {
             "pattern": {
              "fillmode": "overlay",
              "size": 10,
              "solidity": 0.2
             }
            },
            "type": "histogram"
           }
          ],
          "histogram2d": [
           {
            "colorbar": {
             "outlinewidth": 0,
             "ticks": ""
            },
            "colorscale": [
             [
              0,
              "#0d0887"
             ],
             [
              0.1111111111111111,
              "#46039f"
             ],
             [
              0.2222222222222222,
              "#7201a8"
             ],
             [
              0.3333333333333333,
              "#9c179e"
             ],
             [
              0.4444444444444444,
              "#bd3786"
             ],
             [
              0.5555555555555556,
              "#d8576b"
             ],
             [
              0.6666666666666666,
              "#ed7953"
             ],
             [
              0.7777777777777778,
              "#fb9f3a"
             ],
             [
              0.8888888888888888,
              "#fdca26"
             ],
             [
              1,
              "#f0f921"
             ]
            ],
            "type": "histogram2d"
           }
          ],
          "histogram2dcontour": [
           {
            "colorbar": {
             "outlinewidth": 0,
             "ticks": ""
            },
            "colorscale": [
             [
              0,
              "#0d0887"
             ],
             [
              0.1111111111111111,
              "#46039f"
             ],
             [
              0.2222222222222222,
              "#7201a8"
             ],
             [
              0.3333333333333333,
              "#9c179e"
             ],
             [
              0.4444444444444444,
              "#bd3786"
             ],
             [
              0.5555555555555556,
              "#d8576b"
             ],
             [
              0.6666666666666666,
              "#ed7953"
             ],
             [
              0.7777777777777778,
              "#fb9f3a"
             ],
             [
              0.8888888888888888,
              "#fdca26"
             ],
             [
              1,
              "#f0f921"
             ]
            ],
            "type": "histogram2dcontour"
           }
          ],
          "mesh3d": [
           {
            "colorbar": {
             "outlinewidth": 0,
             "ticks": ""
            },
            "type": "mesh3d"
           }
          ],
          "parcoords": [
           {
            "line": {
             "colorbar": {
              "outlinewidth": 0,
              "ticks": ""
             }
            },
            "type": "parcoords"
           }
          ],
          "pie": [
           {
            "automargin": true,
            "type": "pie"
           }
          ],
          "scatter": [
           {
            "fillpattern": {
             "fillmode": "overlay",
             "size": 10,
             "solidity": 0.2
            },
            "type": "scatter"
           }
          ],
          "scatter3d": [
           {
            "line": {
             "colorbar": {
              "outlinewidth": 0,
              "ticks": ""
             }
            },
            "marker": {
             "colorbar": {
              "outlinewidth": 0,
              "ticks": ""
             }
            },
            "type": "scatter3d"
           }
          ],
          "scattercarpet": [
           {
            "marker": {
             "colorbar": {
              "outlinewidth": 0,
              "ticks": ""
             }
            },
            "type": "scattercarpet"
           }
          ],
          "scattergeo": [
           {
            "marker": {
             "colorbar": {
              "outlinewidth": 0,
              "ticks": ""
             }
            },
            "type": "scattergeo"
           }
          ],
          "scattergl": [
           {
            "marker": {
             "colorbar": {
              "outlinewidth": 0,
              "ticks": ""
             }
            },
            "type": "scattergl"
           }
          ],
          "scattermapbox": [
           {
            "marker": {
             "colorbar": {
              "outlinewidth": 0,
              "ticks": ""
             }
            },
            "type": "scattermapbox"
           }
          ],
          "scatterpolar": [
           {
            "marker": {
             "colorbar": {
              "outlinewidth": 0,
              "ticks": ""
             }
            },
            "type": "scatterpolar"
           }
          ],
          "scatterpolargl": [
           {
            "marker": {
             "colorbar": {
              "outlinewidth": 0,
              "ticks": ""
             }
            },
            "type": "scatterpolargl"
           }
          ],
          "scatterternary": [
           {
            "marker": {
             "colorbar": {
              "outlinewidth": 0,
              "ticks": ""
             }
            },
            "type": "scatterternary"
           }
          ],
          "surface": [
           {
            "colorbar": {
             "outlinewidth": 0,
             "ticks": ""
            },
            "colorscale": [
             [
              0,
              "#0d0887"
             ],
             [
              0.1111111111111111,
              "#46039f"
             ],
             [
              0.2222222222222222,
              "#7201a8"
             ],
             [
              0.3333333333333333,
              "#9c179e"
             ],
             [
              0.4444444444444444,
              "#bd3786"
             ],
             [
              0.5555555555555556,
              "#d8576b"
             ],
             [
              0.6666666666666666,
              "#ed7953"
             ],
             [
              0.7777777777777778,
              "#fb9f3a"
             ],
             [
              0.8888888888888888,
              "#fdca26"
             ],
             [
              1,
              "#f0f921"
             ]
            ],
            "type": "surface"
           }
          ],
          "table": [
           {
            "cells": {
             "fill": {
              "color": "#EBF0F8"
             },
             "line": {
              "color": "white"
             }
            },
            "header": {
             "fill": {
              "color": "#C8D4E3"
             },
             "line": {
              "color": "white"
             }
            },
            "type": "table"
           }
          ]
         },
         "layout": {
          "annotationdefaults": {
           "arrowcolor": "#2a3f5f",
           "arrowhead": 0,
           "arrowwidth": 1
          },
          "autotypenumbers": "strict",
          "coloraxis": {
           "colorbar": {
            "outlinewidth": 0,
            "ticks": ""
           }
          },
          "colorscale": {
           "diverging": [
            [
             0,
             "#8e0152"
            ],
            [
             0.1,
             "#c51b7d"
            ],
            [
             0.2,
             "#de77ae"
            ],
            [
             0.3,
             "#f1b6da"
            ],
            [
             0.4,
             "#fde0ef"
            ],
            [
             0.5,
             "#f7f7f7"
            ],
            [
             0.6,
             "#e6f5d0"
            ],
            [
             0.7,
             "#b8e186"
            ],
            [
             0.8,
             "#7fbc41"
            ],
            [
             0.9,
             "#4d9221"
            ],
            [
             1,
             "#276419"
            ]
           ],
           "sequential": [
            [
             0,
             "#0d0887"
            ],
            [
             0.1111111111111111,
             "#46039f"
            ],
            [
             0.2222222222222222,
             "#7201a8"
            ],
            [
             0.3333333333333333,
             "#9c179e"
            ],
            [
             0.4444444444444444,
             "#bd3786"
            ],
            [
             0.5555555555555556,
             "#d8576b"
            ],
            [
             0.6666666666666666,
             "#ed7953"
            ],
            [
             0.7777777777777778,
             "#fb9f3a"
            ],
            [
             0.8888888888888888,
             "#fdca26"
            ],
            [
             1,
             "#f0f921"
            ]
           ],
           "sequentialminus": [
            [
             0,
             "#0d0887"
            ],
            [
             0.1111111111111111,
             "#46039f"
            ],
            [
             0.2222222222222222,
             "#7201a8"
            ],
            [
             0.3333333333333333,
             "#9c179e"
            ],
            [
             0.4444444444444444,
             "#bd3786"
            ],
            [
             0.5555555555555556,
             "#d8576b"
            ],
            [
             0.6666666666666666,
             "#ed7953"
            ],
            [
             0.7777777777777778,
             "#fb9f3a"
            ],
            [
             0.8888888888888888,
             "#fdca26"
            ],
            [
             1,
             "#f0f921"
            ]
           ]
          },
          "colorway": [
           "#636efa",
           "#EF553B",
           "#00cc96",
           "#ab63fa",
           "#FFA15A",
           "#19d3f3",
           "#FF6692",
           "#B6E880",
           "#FF97FF",
           "#FECB52"
          ],
          "font": {
           "color": "#2a3f5f"
          },
          "geo": {
           "bgcolor": "white",
           "lakecolor": "white",
           "landcolor": "#E5ECF6",
           "showlakes": true,
           "showland": true,
           "subunitcolor": "white"
          },
          "hoverlabel": {
           "align": "left"
          },
          "hovermode": "closest",
          "mapbox": {
           "style": "light"
          },
          "paper_bgcolor": "white",
          "plot_bgcolor": "#E5ECF6",
          "polar": {
           "angularaxis": {
            "gridcolor": "white",
            "linecolor": "white",
            "ticks": ""
           },
           "bgcolor": "#E5ECF6",
           "radialaxis": {
            "gridcolor": "white",
            "linecolor": "white",
            "ticks": ""
           }
          },
          "scene": {
           "xaxis": {
            "backgroundcolor": "#E5ECF6",
            "gridcolor": "white",
            "gridwidth": 2,
            "linecolor": "white",
            "showbackground": true,
            "ticks": "",
            "zerolinecolor": "white"
           },
           "yaxis": {
            "backgroundcolor": "#E5ECF6",
            "gridcolor": "white",
            "gridwidth": 2,
            "linecolor": "white",
            "showbackground": true,
            "ticks": "",
            "zerolinecolor": "white"
           },
           "zaxis": {
            "backgroundcolor": "#E5ECF6",
            "gridcolor": "white",
            "gridwidth": 2,
            "linecolor": "white",
            "showbackground": true,
            "ticks": "",
            "zerolinecolor": "white"
           }
          },
          "shapedefaults": {
           "line": {
            "color": "#2a3f5f"
           }
          },
          "ternary": {
           "aaxis": {
            "gridcolor": "white",
            "linecolor": "white",
            "ticks": ""
           },
           "baxis": {
            "gridcolor": "white",
            "linecolor": "white",
            "ticks": ""
           },
           "bgcolor": "#E5ECF6",
           "caxis": {
            "gridcolor": "white",
            "linecolor": "white",
            "ticks": ""
           }
          },
          "title": {
           "x": 0.05
          },
          "xaxis": {
           "automargin": true,
           "gridcolor": "white",
           "linecolor": "white",
           "ticks": "",
           "title": {
            "standoff": 15
           },
           "zerolinecolor": "white",
           "zerolinewidth": 2
          },
          "yaxis": {
           "automargin": true,
           "gridcolor": "white",
           "linecolor": "white",
           "ticks": "",
           "title": {
            "standoff": 15
           },
           "zerolinecolor": "white",
           "zerolinewidth": 2
          }
         }
        },
        "title": {
         "text": "Continuous Signal"
        },
        "width": 1000,
        "xaxis": {
         "title": {
          "text": "Index"
         }
        },
        "yaxis": {
         "title": {
          "text": "Amplitude"
         }
        }
       }
      }
     },
     "metadata": {},
     "output_type": "display_data"
    }
   ],
   "source": [
    "draw(normalizedPVC[0])"
   ]
  },
  {
   "cell_type": "markdown",
   "id": "69931e7f",
   "metadata": {
    "papermill": {
     "duration": 0.008313,
     "end_time": "2024-12-22T18:17:13.948164",
     "exception": false,
     "start_time": "2024-12-22T18:17:13.939851",
     "status": "completed"
    },
    "tags": []
   },
   "source": [
    "* PVC : 1\n",
    "* Healthy : 0"
   ]
  },
  {
   "cell_type": "code",
   "execution_count": 308,
   "id": "f37772ef",
   "metadata": {
    "execution": {
     "iopub.execute_input": "2024-12-22T18:17:13.967235Z",
     "iopub.status.busy": "2024-12-22T18:17:13.966848Z",
     "iopub.status.idle": "2024-12-22T18:17:13.970886Z",
     "shell.execute_reply": "2024-12-22T18:17:13.969888Z"
    },
    "papermill": {
     "duration": 0.015514,
     "end_time": "2024-12-22T18:17:13.972512",
     "exception": false,
     "start_time": "2024-12-22T18:17:13.956998",
     "status": "completed"
    },
    "tags": []
   },
   "outputs": [],
   "source": [
    "### Creating the DF and shuffling so its ready for training"
   ]
  },
  {
   "cell_type": "code",
   "execution_count": 309,
   "id": "7d51b17d",
   "metadata": {
    "execution": {
     "iopub.execute_input": "2024-12-22T18:17:13.992309Z",
     "iopub.status.busy": "2024-12-22T18:17:13.991922Z",
     "iopub.status.idle": "2024-12-22T18:17:14.012076Z",
     "shell.execute_reply": "2024-12-22T18:17:14.010856Z"
    },
    "papermill": {
     "duration": 0.031991,
     "end_time": "2024-12-22T18:17:14.013805",
     "exception": false,
     "start_time": "2024-12-22T18:17:13.981814",
     "status": "completed"
    },
    "tags": []
   },
   "outputs": [],
   "source": [
    "data = normalizedHealthy + normalizedPVC\n",
    "labels = list(np.zeros(200)) + list(np.ones(200))\n",
    "\n",
    "df = pd.DataFrame({\"x\": data, \"y\": labels})\n",
    "df = shuffle(df).reset_index(drop=True)"
   ]
  },
  {
   "cell_type": "code",
   "execution_count": 310,
   "id": "623d00f8",
   "metadata": {
    "execution": {
     "iopub.execute_input": "2024-12-22T18:17:14.033369Z",
     "iopub.status.busy": "2024-12-22T18:17:14.032983Z",
     "iopub.status.idle": "2024-12-22T18:17:14.064996Z",
     "shell.execute_reply": "2024-12-22T18:17:14.063584Z"
    },
    "papermill": {
     "duration": 0.044203,
     "end_time": "2024-12-22T18:17:14.067120",
     "exception": false,
     "start_time": "2024-12-22T18:17:14.022917",
     "status": "completed"
    },
    "tags": []
   },
   "outputs": [
    {
     "data": {
      "text/html": [
       "<div>\n",
       "<style scoped>\n",
       "    .dataframe tbody tr th:only-of-type {\n",
       "        vertical-align: middle;\n",
       "    }\n",
       "\n",
       "    .dataframe tbody tr th {\n",
       "        vertical-align: top;\n",
       "    }\n",
       "\n",
       "    .dataframe thead th {\n",
       "        text-align: right;\n",
       "    }\n",
       "</style>\n",
       "<table border=\"1\" class=\"dataframe\">\n",
       "  <thead>\n",
       "    <tr style=\"text-align: right;\">\n",
       "      <th></th>\n",
       "      <th>x</th>\n",
       "      <th>y</th>\n",
       "    </tr>\n",
       "  </thead>\n",
       "  <tbody>\n",
       "    <tr>\n",
       "      <th>0</th>\n",
       "      <td>[0.22958304123918333, 0.2259102537110092, 0.23...</td>\n",
       "      <td>0.0</td>\n",
       "    </tr>\n",
       "    <tr>\n",
       "      <th>1</th>\n",
       "      <td>[0.17908302574376475, 0.2078341665526546, 0.15...</td>\n",
       "      <td>0.0</td>\n",
       "    </tr>\n",
       "    <tr>\n",
       "      <th>2</th>\n",
       "      <td>[0.5119925187487299, 0.5457954856016585, 0.488...</td>\n",
       "      <td>1.0</td>\n",
       "    </tr>\n",
       "    <tr>\n",
       "      <th>3</th>\n",
       "      <td>[0.16911641046305448, 0.2707793782714757, 0.09...</td>\n",
       "      <td>1.0</td>\n",
       "    </tr>\n",
       "    <tr>\n",
       "      <th>4</th>\n",
       "      <td>[0.22391676347262224, 0.2202542989147631, 0.22...</td>\n",
       "      <td>0.0</td>\n",
       "    </tr>\n",
       "    <tr>\n",
       "      <th>...</th>\n",
       "      <td>...</td>\n",
       "      <td>...</td>\n",
       "    </tr>\n",
       "    <tr>\n",
       "      <th>395</th>\n",
       "      <td>[0.5255772321777898, 0.5778606513483424, 0.489...</td>\n",
       "      <td>1.0</td>\n",
       "    </tr>\n",
       "    <tr>\n",
       "      <th>396</th>\n",
       "      <td>[0.1831807166588089, 0.1974372096408312, 0.173...</td>\n",
       "      <td>0.0</td>\n",
       "    </tr>\n",
       "    <tr>\n",
       "      <th>397</th>\n",
       "      <td>[0.10883185594091244, 0.15561426092102643, 0.0...</td>\n",
       "      <td>0.0</td>\n",
       "    </tr>\n",
       "    <tr>\n",
       "      <th>398</th>\n",
       "      <td>[0.5135985851485878, 0.544875238454359, 0.4919...</td>\n",
       "      <td>1.0</td>\n",
       "    </tr>\n",
       "    <tr>\n",
       "      <th>399</th>\n",
       "      <td>[0.4962787073960862, 0.573163205956316, 0.4429...</td>\n",
       "      <td>1.0</td>\n",
       "    </tr>\n",
       "  </tbody>\n",
       "</table>\n",
       "<p>400 rows × 2 columns</p>\n",
       "</div>"
      ],
      "text/plain": [
       "                                                     x    y\n",
       "0    [0.22958304123918333, 0.2259102537110092, 0.23...  0.0\n",
       "1    [0.17908302574376475, 0.2078341665526546, 0.15...  0.0\n",
       "2    [0.5119925187487299, 0.5457954856016585, 0.488...  1.0\n",
       "3    [0.16911641046305448, 0.2707793782714757, 0.09...  1.0\n",
       "4    [0.22391676347262224, 0.2202542989147631, 0.22...  0.0\n",
       "..                                                 ...  ...\n",
       "395  [0.5255772321777898, 0.5778606513483424, 0.489...  1.0\n",
       "396  [0.1831807166588089, 0.1974372096408312, 0.173...  0.0\n",
       "397  [0.10883185594091244, 0.15561426092102643, 0.0...  0.0\n",
       "398  [0.5135985851485878, 0.544875238454359, 0.4919...  1.0\n",
       "399  [0.4962787073960862, 0.573163205956316, 0.4429...  1.0\n",
       "\n",
       "[400 rows x 2 columns]"
      ]
     },
     "execution_count": 310,
     "metadata": {},
     "output_type": "execute_result"
    }
   ],
   "source": [
    "df"
   ]
  },
  {
   "cell_type": "code",
   "execution_count": 311,
   "id": "170702d9",
   "metadata": {
    "execution": {
     "iopub.execute_input": "2024-12-22T18:17:14.087961Z",
     "iopub.status.busy": "2024-12-22T18:17:14.087525Z",
     "iopub.status.idle": "2024-12-22T18:17:14.091876Z",
     "shell.execute_reply": "2024-12-22T18:17:14.090635Z"
    },
    "papermill": {
     "duration": 0.016647,
     "end_time": "2024-12-22T18:17:14.093570",
     "exception": false,
     "start_time": "2024-12-22T18:17:14.076923",
     "status": "completed"
    },
    "tags": []
   },
   "outputs": [],
   "source": [
    "### Creating the TestDF and shuffling so its ready for testing"
   ]
  },
  {
   "cell_type": "code",
   "execution_count": 312,
   "id": "8b605ae5",
   "metadata": {
    "execution": {
     "iopub.execute_input": "2024-12-22T18:17:14.114322Z",
     "iopub.status.busy": "2024-12-22T18:17:14.113983Z",
     "iopub.status.idle": "2024-12-22T18:17:14.120335Z",
     "shell.execute_reply": "2024-12-22T18:17:14.119282Z"
    },
    "papermill": {
     "duration": 0.018948,
     "end_time": "2024-12-22T18:17:14.122086",
     "exception": false,
     "start_time": "2024-12-22T18:17:14.103138",
     "status": "completed"
    },
    "tags": []
   },
   "outputs": [],
   "source": [
    "testData = normalizedHealthyTest + normalizedPVCTest\n",
    "testLabels = list(np.zeros(200)) + list(np.ones(200))\n",
    "\n",
    "testDF = pd.DataFrame({\"x\": testData, \"y\": testLabels})\n",
    "testDF = shuffle(df).reset_index(drop=True)"
   ]
  },
  {
   "cell_type": "markdown",
   "id": "e9b8a7f3",
   "metadata": {
    "papermill": {
     "duration": 0.008854,
     "end_time": "2024-12-22T18:17:14.140263",
     "exception": false,
     "start_time": "2024-12-22T18:17:14.131409",
     "status": "completed"
    },
    "tags": []
   },
   "source": [
    "### Start training"
   ]
  },
  {
   "cell_type": "code",
   "execution_count": 313,
   "id": "d3711360",
   "metadata": {
    "execution": {
     "iopub.execute_input": "2024-12-22T18:17:14.160241Z",
     "iopub.status.busy": "2024-12-22T18:17:14.159833Z",
     "iopub.status.idle": "2024-12-22T18:17:14.175590Z",
     "shell.execute_reply": "2024-12-22T18:17:14.174496Z"
    },
    "papermill": {
     "duration": 0.027935,
     "end_time": "2024-12-22T18:17:14.177575",
     "exception": false,
     "start_time": "2024-12-22T18:17:14.149640",
     "status": "completed"
    },
    "tags": []
   },
   "outputs": [
    {
     "data": {
      "text/html": [
       "<style>#sk-container-id-10 {color: black;background-color: white;}#sk-container-id-10 pre{padding: 0;}#sk-container-id-10 div.sk-toggleable {background-color: white;}#sk-container-id-10 label.sk-toggleable__label {cursor: pointer;display: block;width: 100%;margin-bottom: 0;padding: 0.3em;box-sizing: border-box;text-align: center;}#sk-container-id-10 label.sk-toggleable__label-arrow:before {content: \"▸\";float: left;margin-right: 0.25em;color: #696969;}#sk-container-id-10 label.sk-toggleable__label-arrow:hover:before {color: black;}#sk-container-id-10 div.sk-estimator:hover label.sk-toggleable__label-arrow:before {color: black;}#sk-container-id-10 div.sk-toggleable__content {max-height: 0;max-width: 0;overflow: hidden;text-align: left;background-color: #f0f8ff;}#sk-container-id-10 div.sk-toggleable__content pre {margin: 0.2em;color: black;border-radius: 0.25em;background-color: #f0f8ff;}#sk-container-id-10 input.sk-toggleable__control:checked~div.sk-toggleable__content {max-height: 200px;max-width: 100%;overflow: auto;}#sk-container-id-10 input.sk-toggleable__control:checked~label.sk-toggleable__label-arrow:before {content: \"▾\";}#sk-container-id-10 div.sk-estimator input.sk-toggleable__control:checked~label.sk-toggleable__label {background-color: #d4ebff;}#sk-container-id-10 div.sk-label input.sk-toggleable__control:checked~label.sk-toggleable__label {background-color: #d4ebff;}#sk-container-id-10 input.sk-hidden--visually {border: 0;clip: rect(1px 1px 1px 1px);clip: rect(1px, 1px, 1px, 1px);height: 1px;margin: -1px;overflow: hidden;padding: 0;position: absolute;width: 1px;}#sk-container-id-10 div.sk-estimator {font-family: monospace;background-color: #f0f8ff;border: 1px dotted black;border-radius: 0.25em;box-sizing: border-box;margin-bottom: 0.5em;}#sk-container-id-10 div.sk-estimator:hover {background-color: #d4ebff;}#sk-container-id-10 div.sk-parallel-item::after {content: \"\";width: 100%;border-bottom: 1px solid gray;flex-grow: 1;}#sk-container-id-10 div.sk-label:hover label.sk-toggleable__label {background-color: #d4ebff;}#sk-container-id-10 div.sk-serial::before {content: \"\";position: absolute;border-left: 1px solid gray;box-sizing: border-box;top: 0;bottom: 0;left: 50%;z-index: 0;}#sk-container-id-10 div.sk-serial {display: flex;flex-direction: column;align-items: center;background-color: white;padding-right: 0.2em;padding-left: 0.2em;position: relative;}#sk-container-id-10 div.sk-item {position: relative;z-index: 1;}#sk-container-id-10 div.sk-parallel {display: flex;align-items: stretch;justify-content: center;background-color: white;position: relative;}#sk-container-id-10 div.sk-item::before, #sk-container-id-10 div.sk-parallel-item::before {content: \"\";position: absolute;border-left: 1px solid gray;box-sizing: border-box;top: 0;bottom: 0;left: 50%;z-index: -1;}#sk-container-id-10 div.sk-parallel-item {display: flex;flex-direction: column;z-index: 1;position: relative;background-color: white;}#sk-container-id-10 div.sk-parallel-item:first-child::after {align-self: flex-end;width: 50%;}#sk-container-id-10 div.sk-parallel-item:last-child::after {align-self: flex-start;width: 50%;}#sk-container-id-10 div.sk-parallel-item:only-child::after {width: 0;}#sk-container-id-10 div.sk-dashed-wrapped {border: 1px dashed gray;margin: 0 0.4em 0.5em 0.4em;box-sizing: border-box;padding-bottom: 0.4em;background-color: white;}#sk-container-id-10 div.sk-label label {font-family: monospace;font-weight: bold;display: inline-block;line-height: 1.2em;}#sk-container-id-10 div.sk-label-container {text-align: center;}#sk-container-id-10 div.sk-container {/* jupyter's `normalize.less` sets `[hidden] { display: none; }` but bootstrap.min.css set `[hidden] { display: none !important; }` so we also need the `!important` here to be able to override the default hidden behavior on the sphinx rendered scikit-learn.org. See: https://github.com/scikit-learn/scikit-learn/issues/21755 */display: inline-block !important;position: relative;}#sk-container-id-10 div.sk-text-repr-fallback {display: none;}</style><div id=\"sk-container-id-10\" class=\"sk-top-container\"><div class=\"sk-text-repr-fallback\"><pre>KNeighborsClassifier()</pre><b>In a Jupyter environment, please rerun this cell to show the HTML representation or trust the notebook. <br />On GitHub, the HTML representation is unable to render, please try loading this page with nbviewer.org.</b></div><div class=\"sk-container\" hidden><div class=\"sk-item\"><div class=\"sk-estimator sk-toggleable\"><input class=\"sk-toggleable__control sk-hidden--visually\" id=\"sk-estimator-id-10\" type=\"checkbox\" checked><label for=\"sk-estimator-id-10\" class=\"sk-toggleable__label sk-toggleable__label-arrow\">KNeighborsClassifier</label><div class=\"sk-toggleable__content\"><pre>KNeighborsClassifier()</pre></div></div></div></div></div>"
      ],
      "text/plain": [
       "KNeighborsClassifier()"
      ]
     },
     "execution_count": 313,
     "metadata": {},
     "output_type": "execute_result"
    }
   ],
   "source": [
    "knn = KNeighborsClassifier(n_neighbors=5)\n",
    "knn.fit(list(df[\"x\"]),list(df[\"y\"]))"
   ]
  },
  {
   "cell_type": "markdown",
   "id": "22997f95",
   "metadata": {
    "papermill": {
     "duration": 0.009271,
     "end_time": "2024-12-22T18:17:14.196827",
     "exception": false,
     "start_time": "2024-12-22T18:17:14.187556",
     "status": "completed"
    },
    "tags": []
   },
   "source": [
    "### Predict data and Measuring accuracy"
   ]
  },
  {
   "cell_type": "code",
   "execution_count": 314,
   "id": "62457bb0",
   "metadata": {
    "execution": {
     "iopub.execute_input": "2024-12-22T18:17:14.217861Z",
     "iopub.status.busy": "2024-12-22T18:17:14.217351Z",
     "iopub.status.idle": "2024-12-22T18:17:14.295765Z",
     "shell.execute_reply": "2024-12-22T18:17:14.294511Z"
    },
    "papermill": {
     "duration": 0.091012,
     "end_time": "2024-12-22T18:17:14.297716",
     "exception": false,
     "start_time": "2024-12-22T18:17:14.206704",
     "status": "completed"
    },
    "tags": []
   },
   "outputs": [
    {
     "data": {
      "text/plain": [
       "array([1., 0., 1., 0., 1., 1., 0., 1., 1., 0., 0., 0., 1., 0., 0., 0., 0.,\n",
       "       1., 0., 1., 1., 0., 1., 0., 0., 1., 0., 0., 0., 1., 1., 0., 0., 0.,\n",
       "       1., 0., 0., 1., 0., 1., 1., 1., 0., 1., 1., 0., 1., 0., 1., 0., 1.,\n",
       "       0., 0., 0., 1., 0., 0., 0., 0., 1., 0., 0., 1., 0., 1., 1., 0., 0.,\n",
       "       0., 0., 1., 1., 1., 1., 1., 0., 1., 1., 1., 0., 1., 0., 1., 1., 0.,\n",
       "       1., 0., 1., 1., 0., 1., 0., 0., 1., 0., 1., 0., 1., 1., 1., 1., 1.,\n",
       "       1., 1., 1., 0., 1., 0., 1., 1., 0., 0., 0., 0., 0., 1., 1., 0., 0.,\n",
       "       0., 0., 1., 1., 1., 1., 1., 0., 0., 1., 0., 0., 1., 1., 1., 0., 1.,\n",
       "       0., 0., 1., 0., 1., 0., 1., 1., 0., 1., 0., 1., 1., 0., 1., 0., 1.,\n",
       "       0., 1., 0., 0., 1., 0., 1., 1., 1., 1., 1., 1., 1., 1., 1., 0., 0.,\n",
       "       1., 1., 0., 1., 1., 0., 0., 1., 0., 0., 0., 0., 0., 1., 1., 0., 0.,\n",
       "       1., 1., 1., 1., 0., 0., 1., 1., 1., 0., 1., 1., 1., 1., 0., 1., 0.,\n",
       "       1., 0., 1., 1., 1., 0., 0., 1., 1., 1., 1., 0., 0., 0., 0., 0., 1.,\n",
       "       1., 0., 1., 0., 0., 0., 0., 0., 0., 1., 0., 0., 1., 0., 1., 0., 0.,\n",
       "       1., 0., 1., 1., 1., 1., 1., 1., 1., 0., 0., 0., 0., 1., 1., 1., 0.,\n",
       "       0., 0., 1., 0., 0., 0., 0., 0., 0., 0., 1., 0., 0., 1., 0., 0., 1.,\n",
       "       0., 1., 0., 0., 0., 1., 1., 0., 1., 0., 0., 0., 1., 1., 0., 1., 0.,\n",
       "       1., 0., 0., 0., 1., 1., 1., 1., 0., 0., 1., 1., 0., 0., 1., 0., 0.,\n",
       "       1., 1., 1., 1., 0., 1., 1., 0., 0., 0., 0., 0., 0., 1., 0., 1., 1.,\n",
       "       1., 0., 1., 1., 1., 1., 0., 1., 0., 0., 1., 1., 0., 0., 1., 0., 1.,\n",
       "       1., 0., 1., 0., 0., 1., 0., 1., 0., 1., 1., 1., 1., 0., 0., 1., 0.,\n",
       "       0., 1., 0., 1., 0., 1., 1., 0., 1., 1., 0., 1., 1., 0., 1., 0., 0.,\n",
       "       1., 0., 1., 0., 0., 0., 1., 0., 0., 0., 0., 1., 1., 1., 1., 0., 0.,\n",
       "       0., 1., 1., 0., 0., 0., 0., 1., 1.])"
      ]
     },
     "execution_count": 314,
     "metadata": {},
     "output_type": "execute_result"
    }
   ],
   "source": [
    "yPredict = knn.predict(list(testDF['x']))\n",
    "yPredict"
   ]
  },
  {
   "cell_type": "code",
   "execution_count": 315,
   "id": "ee24ee9e",
   "metadata": {
    "execution": {
     "iopub.execute_input": "2024-12-22T18:17:14.318251Z",
     "iopub.status.busy": "2024-12-22T18:17:14.317920Z",
     "iopub.status.idle": "2024-12-22T18:17:14.325638Z",
     "shell.execute_reply": "2024-12-22T18:17:14.324484Z"
    },
    "papermill": {
     "duration": 0.019802,
     "end_time": "2024-12-22T18:17:14.327285",
     "exception": false,
     "start_time": "2024-12-22T18:17:14.307483",
     "status": "completed"
    },
    "tags": []
   },
   "outputs": [
    {
     "data": {
      "text/plain": [
       "1.0"
      ]
     },
     "execution_count": 315,
     "metadata": {},
     "output_type": "execute_result"
    }
   ],
   "source": [
    "yTest = list(testDF['y'])\n",
    "accuracy_score(yTest, yPredict)"
   ]
  },
  {
   "cell_type": "code",
   "execution_count": 316,
   "id": "f3e33469",
   "metadata": {},
   "outputs": [
    {
     "name": "stdout",
     "output_type": "stream",
     "text": [
      "              precision    recall  f1-score   support\n",
      "\n",
      "         0.0       1.00      1.00      1.00       200\n",
      "         1.0       1.00      1.00      1.00       200\n",
      "\n",
      "    accuracy                           1.00       400\n",
      "   macro avg       1.00      1.00      1.00       400\n",
      "weighted avg       1.00      1.00      1.00       400\n",
      "\n"
     ]
    }
   ],
   "source": [
    "print(classification_report(yTest, yPredict))"
   ]
  },
  {
   "cell_type": "code",
   "execution_count": 317,
   "id": "c348b44b",
   "metadata": {},
   "outputs": [],
   "source": [
    "def predict_signal_from_file(file_path, knn_model):\n",
    "\n",
    "        input_signal = readHB(file_path)\n",
    "        filtered_signal = signal.lfilter(b, a, input_signal)\n",
    "        print(\"before normalization\")\n",
    "        draw(filtered_signal[0])\n",
    "        detail_coeffs = pywt.wavedec(filtered_signal, \"db4\",level=level)[0]\n",
    "        normalized_signal = normalize(detail_coeffs)\n",
    "        print(\"after normalization\")\n",
    "        draw(normalized_signal[0])\n",
    "        prediction = knn_model.predict(normalized_signal)[0]\n",
    "\n",
    "        return \"Normal Heartbeat\" if prediction == 0 else \"PVC\"\n",
    "    \n"
   ]
  },
  {
   "cell_type": "code",
   "execution_count": 318,
   "id": "295b8ef1",
   "metadata": {},
   "outputs": [
    {
     "name": "stdout",
     "output_type": "stream",
     "text": [
      "before normalization\n"
     ]
    },
    {
     "data": {
      "application/vnd.plotly.v1+json": {
       "config": {
        "plotlyServerURL": "https://plot.ly"
       },
       "data": [
        {
         "mode": "lines",
         "name": "Continuous Signal",
         "type": "scatter",
         "y": [
          -0.001507496823220042,
          -0.010877143123516819,
          -0.03753338343336407,
          -0.08439253804586903,
          -0.1421804014131754,
          -0.19491299798713752,
          -0.22948473252569412,
          -0.24135861109025586,
          -0.23459883734255912,
          -0.21809365426419058,
          -0.2002767687676489,
          -0.1852980432825718,
          -0.1733695572832593,
          -0.16386015045046998,
          -0.15701740399519432,
          -0.15309143952266957,
          -0.15107844338872609,
          -0.14881063488661808,
          -0.14421140292982018,
          -0.13673061035172704,
          -0.12769496117024445,
          -0.11924583471228486,
          -0.11291835720358459,
          -0.10883283741409437,
          -0.1057927640611133,
          -0.1023076673817139,
          -0.0979299068369541,
          -0.09360621631578421,
          -0.09060966554351833,
          -0.0890518086406371,
          -0.08748568591419713,
          -0.08433740830730471,
          -0.07965985931970866,
          -0.07514867643863161,
          -0.07258899814207978,
          -0.07220843226896027,
          -0.07239391510824503,
          -0.07121452035516387,
          -0.0679415859815005,
          -0.06295611193760307,
          -0.05693328484353964,
          -0.050415534410028884,
          -0.04370052992316025,
          -0.03697897591478111,
          -0.030443638563707676,
          -0.023814586908511504,
          -0.015876901105090692,
          -0.005050469276841339,
          0.009218550157543241,
          0.02541764444595374,
          0.04055583876712063,
          0.052258855358166115,
          0.06031059606610232,
          0.06622215734558659,
          0.07174609771131636,
          0.07776811394026277,
          0.08380187927208281,
          0.08824475488792746,
          0.08993558013458665,
          0.08983960788522914,
          0.09062812767544304,
          0.09422079153857145,
          0.0999277466020564,
          0.10521446364107478,
          0.10805080581175075,
          0.10840170451914491,
          0.1080139936853539,
          0.1089566973373735,
          0.11177092829115993,
          0.11481086527712603,
          0.11581133032409899,
          0.11431225829077832,
          0.11202600359820834,
          0.1106408899548787,
          0.11001428673598242,
          0.10861352864420017,
          0.10516065998526901,
          0.10004115593971734,
          0.09529888514671302,
          0.0928501396487292,
          0.09281469900049504,
          0.09406272907732896,
          0.09620685311997705,
          0.10095434299620246,
          0.11193110342451784,
          0.13296783257405032,
          0.1652159414532256,
          0.20294997944565127,
          0.22877186925939566,
          0.2141514125888862,
          0.13197200501822096,
          -0.024230500863269343,
          -0.23066211091383104,
          -0.44243865118426856,
          -0.6141041006916892,
          -0.7175265691625936,
          -0.7489830681497129,
          -0.7256269099853327,
          -0.6752971140941088,
          -0.6241677308084811,
          -0.5874244513985838,
          -0.5663534353624605,
          -0.551420586965952,
          -0.5289910743906022,
          -0.4885207667148575,
          -0.42714547097832406,
          -0.35023234130400877,
          -0.26853521511527917,
          -0.19393331091951496,
          -0.13546872823048461,
          -0.0964173801562507,
          -0.07309657683386037,
          -0.05651879835791149,
          -0.03655339735656347,
          -0.006087050077567771,
          0.036884494364259855,
          0.08941819863231196,
          0.1453699597869848,
          0.19785887398176363,
          0.2416641561451643,
          0.2749425079384299,
          0.2993621873746845,
          0.3182806812167662,
          0.3345696099377674,
          0.3498690446867178,
          0.3647935618294594,
          0.3790015182322235,
          0.39118595981748555,
          0.3993187395975195,
          0.4015347634426359,
          0.3977169923978006,
          0.3904188162940163,
          0.3836599569141206,
          0.3802098195649273,
          0.3798132546434492,
          0.38008117842387534,
          0.37893200800924287,
          0.37604462262964705,
          0.3723749716887538,
          0.3687743338999935,
          0.3650498657102216,
          0.3603426574357078,
          0.3546141890653376,
          0.3495703253180648,
          0.34775611511828297,
          0.3506163777048088,
          0.3574005672031596,
          0.365818350186974,
          0.37372061525458866,
          0.3805546105906595,
          0.38736994724913526,
          0.3950596411188265,
          0.4028634060147885,
          0.40907442642170283,
          0.41305018101116037,
          0.4162631975417847,
          0.4211132313289577,
          0.42859680671825406,
          0.43719919425712656,
          0.44401725434504313,
          0.4470828794445305,
          0.44685315686291344,
          0.4456271671981943,
          0.44552495447626483,
          0.44683153049264673,
          0.4480552668411899,
          0.4473270966598903,
          0.4436728360724024,
          0.43727360287282296,
          0.42874529380960763,
          0.4182188670949286,
          0.405368522191639,
          0.3902418889394714,
          0.37364163362449376,
          0.3566884197725389,
          0.3399903533675133,
          0.32303438603413104,
          0.3044344088187524,
          0.28297870524492524,
          0.2587661479693908,
          0.2334349901186955,
          0.20887300856402116,
          0.18557330707250516,
          0.16263439145148928,
          0.13934416157267016,
          0.11627732836144818,
          0.09450445145571701,
          0.07399296109950411,
          0.053530062414591545,
          0.03216172058624905,
          0.00996044080909338,
          -0.012475231050522588,
          -0.034621349677807105,
          -0.05614426737879069,
          -0.0768247663578187,
          -0.09642182518054847,
          -0.11437474525961441,
          -0.12973919540106213,
          -0.14181304189143593,
          -0.15093013352091028,
          -0.15824153933504043,
          -0.16460794179176838,
          -0.17009941127324296,
          -0.1742923580959012,
          -0.17658375910685503,
          -0.17671749622664487,
          -0.17554262428651177,
          -0.17477461066780026,
          -0.1753372518389426,
          -0.1762738771647645,
          -0.17576634786205964,
          -0.17295718151211353,
          -0.16872784997653503,
          -0.16504961907949442,
          -0.16358092158587126,
          -0.1646403907579975,
          -0.16716121191664585,
          -0.16937017829445597,
          -0.1698279668555353,
          -0.16813904779385996,
          -0.16466162281519134,
          -0.1598075777695259,
          -0.15397906135361952,
          -0.1479655269269062,
          -0.1428593399414622,
          -0.1394689266630121,
          -0.13800461692126664,
          -0.1381281201043754,
          -0.13902381471791375,
          -0.13985633684005613,
          -0.1404592214093921,
          -0.14126736331793166,
          -0.1425841407171975,
          -0.14409422988424636,
          -0.14516614520581422,
          -0.14569935851560853,
          -0.1465383681060309,
          -0.14882332191419675,
          -0.15296170821780655,
          -0.15834701658827746,
          -0.16387354050729477,
          -0.16874901507049633,
          -0.17322493489236482,
          -0.1785425203806519,
          -0.18576789290749388,
          -0.19440950548636082,
          -0.20234482978312232,
          -0.20752427748290062,
          -0.20980041395919777,
          -0.21092533065408858,
          -0.21263364056362136,
          -0.21465708149430615,
          -0.2149804787929738,
          -0.21219027718021347,
          -0.20701696988665114,
          -0.2015627486562968,
          -0.19764505651945702,
          -0.1957797920449171,
          -0.19511721306914312,
          -0.19424455370623664,
          -0.19225435273017247,
          -0.18911079117086424,
          -0.18512540489004228,
          -0.1802254850323573,
          -0.17388865289743505,
          -0.16600435061081767,
          -0.15765667351772836,
          -0.15066156249528018,
          -0.14616044734216743,
          -0.14362268657042784,
          -0.1411737624156169,
          -0.1371999902123514,
          -0.13198364900774498,
          -0.12748516625329415,
          -0.12526587743088008,
          -0.12492917063269932,
          -0.12468527255791989,
          -0.12295837513469383,
          -0.11933436185156902,
          -0.11468622303006382,
          -0.11040521513946654,
          -0.10676331436914868,
          -0.10248445718491804,
          -0.09652390466478374,
          -0.08970721118206577,
          -0.08426815485976398,
          -0.0820346399758999,
          -0.08306756136397674,
          -0.08556496665308108,
          -0.0870794343975091,
          -0.08637376878035948,
          -0.08419137028445373,
          -0.08234521487261372,
          -0.08225109541623649,
          -0.08415429001002687,
          -0.08756870142700787,
          -0.09208373759995407,
          -0.09733199072264025,
          -0.10247268675356118,
          -0.10635044579939243
         ]
        }
       ],
       "layout": {
        "height": 500,
        "template": {
         "data": {
          "bar": [
           {
            "error_x": {
             "color": "#2a3f5f"
            },
            "error_y": {
             "color": "#2a3f5f"
            },
            "marker": {
             "line": {
              "color": "#E5ECF6",
              "width": 0.5
             },
             "pattern": {
              "fillmode": "overlay",
              "size": 10,
              "solidity": 0.2
             }
            },
            "type": "bar"
           }
          ],
          "barpolar": [
           {
            "marker": {
             "line": {
              "color": "#E5ECF6",
              "width": 0.5
             },
             "pattern": {
              "fillmode": "overlay",
              "size": 10,
              "solidity": 0.2
             }
            },
            "type": "barpolar"
           }
          ],
          "carpet": [
           {
            "aaxis": {
             "endlinecolor": "#2a3f5f",
             "gridcolor": "white",
             "linecolor": "white",
             "minorgridcolor": "white",
             "startlinecolor": "#2a3f5f"
            },
            "baxis": {
             "endlinecolor": "#2a3f5f",
             "gridcolor": "white",
             "linecolor": "white",
             "minorgridcolor": "white",
             "startlinecolor": "#2a3f5f"
            },
            "type": "carpet"
           }
          ],
          "choropleth": [
           {
            "colorbar": {
             "outlinewidth": 0,
             "ticks": ""
            },
            "type": "choropleth"
           }
          ],
          "contour": [
           {
            "colorbar": {
             "outlinewidth": 0,
             "ticks": ""
            },
            "colorscale": [
             [
              0,
              "#0d0887"
             ],
             [
              0.1111111111111111,
              "#46039f"
             ],
             [
              0.2222222222222222,
              "#7201a8"
             ],
             [
              0.3333333333333333,
              "#9c179e"
             ],
             [
              0.4444444444444444,
              "#bd3786"
             ],
             [
              0.5555555555555556,
              "#d8576b"
             ],
             [
              0.6666666666666666,
              "#ed7953"
             ],
             [
              0.7777777777777778,
              "#fb9f3a"
             ],
             [
              0.8888888888888888,
              "#fdca26"
             ],
             [
              1,
              "#f0f921"
             ]
            ],
            "type": "contour"
           }
          ],
          "contourcarpet": [
           {
            "colorbar": {
             "outlinewidth": 0,
             "ticks": ""
            },
            "type": "contourcarpet"
           }
          ],
          "heatmap": [
           {
            "colorbar": {
             "outlinewidth": 0,
             "ticks": ""
            },
            "colorscale": [
             [
              0,
              "#0d0887"
             ],
             [
              0.1111111111111111,
              "#46039f"
             ],
             [
              0.2222222222222222,
              "#7201a8"
             ],
             [
              0.3333333333333333,
              "#9c179e"
             ],
             [
              0.4444444444444444,
              "#bd3786"
             ],
             [
              0.5555555555555556,
              "#d8576b"
             ],
             [
              0.6666666666666666,
              "#ed7953"
             ],
             [
              0.7777777777777778,
              "#fb9f3a"
             ],
             [
              0.8888888888888888,
              "#fdca26"
             ],
             [
              1,
              "#f0f921"
             ]
            ],
            "type": "heatmap"
           }
          ],
          "heatmapgl": [
           {
            "colorbar": {
             "outlinewidth": 0,
             "ticks": ""
            },
            "colorscale": [
             [
              0,
              "#0d0887"
             ],
             [
              0.1111111111111111,
              "#46039f"
             ],
             [
              0.2222222222222222,
              "#7201a8"
             ],
             [
              0.3333333333333333,
              "#9c179e"
             ],
             [
              0.4444444444444444,
              "#bd3786"
             ],
             [
              0.5555555555555556,
              "#d8576b"
             ],
             [
              0.6666666666666666,
              "#ed7953"
             ],
             [
              0.7777777777777778,
              "#fb9f3a"
             ],
             [
              0.8888888888888888,
              "#fdca26"
             ],
             [
              1,
              "#f0f921"
             ]
            ],
            "type": "heatmapgl"
           }
          ],
          "histogram": [
           {
            "marker": {
             "pattern": {
              "fillmode": "overlay",
              "size": 10,
              "solidity": 0.2
             }
            },
            "type": "histogram"
           }
          ],
          "histogram2d": [
           {
            "colorbar": {
             "outlinewidth": 0,
             "ticks": ""
            },
            "colorscale": [
             [
              0,
              "#0d0887"
             ],
             [
              0.1111111111111111,
              "#46039f"
             ],
             [
              0.2222222222222222,
              "#7201a8"
             ],
             [
              0.3333333333333333,
              "#9c179e"
             ],
             [
              0.4444444444444444,
              "#bd3786"
             ],
             [
              0.5555555555555556,
              "#d8576b"
             ],
             [
              0.6666666666666666,
              "#ed7953"
             ],
             [
              0.7777777777777778,
              "#fb9f3a"
             ],
             [
              0.8888888888888888,
              "#fdca26"
             ],
             [
              1,
              "#f0f921"
             ]
            ],
            "type": "histogram2d"
           }
          ],
          "histogram2dcontour": [
           {
            "colorbar": {
             "outlinewidth": 0,
             "ticks": ""
            },
            "colorscale": [
             [
              0,
              "#0d0887"
             ],
             [
              0.1111111111111111,
              "#46039f"
             ],
             [
              0.2222222222222222,
              "#7201a8"
             ],
             [
              0.3333333333333333,
              "#9c179e"
             ],
             [
              0.4444444444444444,
              "#bd3786"
             ],
             [
              0.5555555555555556,
              "#d8576b"
             ],
             [
              0.6666666666666666,
              "#ed7953"
             ],
             [
              0.7777777777777778,
              "#fb9f3a"
             ],
             [
              0.8888888888888888,
              "#fdca26"
             ],
             [
              1,
              "#f0f921"
             ]
            ],
            "type": "histogram2dcontour"
           }
          ],
          "mesh3d": [
           {
            "colorbar": {
             "outlinewidth": 0,
             "ticks": ""
            },
            "type": "mesh3d"
           }
          ],
          "parcoords": [
           {
            "line": {
             "colorbar": {
              "outlinewidth": 0,
              "ticks": ""
             }
            },
            "type": "parcoords"
           }
          ],
          "pie": [
           {
            "automargin": true,
            "type": "pie"
           }
          ],
          "scatter": [
           {
            "fillpattern": {
             "fillmode": "overlay",
             "size": 10,
             "solidity": 0.2
            },
            "type": "scatter"
           }
          ],
          "scatter3d": [
           {
            "line": {
             "colorbar": {
              "outlinewidth": 0,
              "ticks": ""
             }
            },
            "marker": {
             "colorbar": {
              "outlinewidth": 0,
              "ticks": ""
             }
            },
            "type": "scatter3d"
           }
          ],
          "scattercarpet": [
           {
            "marker": {
             "colorbar": {
              "outlinewidth": 0,
              "ticks": ""
             }
            },
            "type": "scattercarpet"
           }
          ],
          "scattergeo": [
           {
            "marker": {
             "colorbar": {
              "outlinewidth": 0,
              "ticks": ""
             }
            },
            "type": "scattergeo"
           }
          ],
          "scattergl": [
           {
            "marker": {
             "colorbar": {
              "outlinewidth": 0,
              "ticks": ""
             }
            },
            "type": "scattergl"
           }
          ],
          "scattermapbox": [
           {
            "marker": {
             "colorbar": {
              "outlinewidth": 0,
              "ticks": ""
             }
            },
            "type": "scattermapbox"
           }
          ],
          "scatterpolar": [
           {
            "marker": {
             "colorbar": {
              "outlinewidth": 0,
              "ticks": ""
             }
            },
            "type": "scatterpolar"
           }
          ],
          "scatterpolargl": [
           {
            "marker": {
             "colorbar": {
              "outlinewidth": 0,
              "ticks": ""
             }
            },
            "type": "scatterpolargl"
           }
          ],
          "scatterternary": [
           {
            "marker": {
             "colorbar": {
              "outlinewidth": 0,
              "ticks": ""
             }
            },
            "type": "scatterternary"
           }
          ],
          "surface": [
           {
            "colorbar": {
             "outlinewidth": 0,
             "ticks": ""
            },
            "colorscale": [
             [
              0,
              "#0d0887"
             ],
             [
              0.1111111111111111,
              "#46039f"
             ],
             [
              0.2222222222222222,
              "#7201a8"
             ],
             [
              0.3333333333333333,
              "#9c179e"
             ],
             [
              0.4444444444444444,
              "#bd3786"
             ],
             [
              0.5555555555555556,
              "#d8576b"
             ],
             [
              0.6666666666666666,
              "#ed7953"
             ],
             [
              0.7777777777777778,
              "#fb9f3a"
             ],
             [
              0.8888888888888888,
              "#fdca26"
             ],
             [
              1,
              "#f0f921"
             ]
            ],
            "type": "surface"
           }
          ],
          "table": [
           {
            "cells": {
             "fill": {
              "color": "#EBF0F8"
             },
             "line": {
              "color": "white"
             }
            },
            "header": {
             "fill": {
              "color": "#C8D4E3"
             },
             "line": {
              "color": "white"
             }
            },
            "type": "table"
           }
          ]
         },
         "layout": {
          "annotationdefaults": {
           "arrowcolor": "#2a3f5f",
           "arrowhead": 0,
           "arrowwidth": 1
          },
          "autotypenumbers": "strict",
          "coloraxis": {
           "colorbar": {
            "outlinewidth": 0,
            "ticks": ""
           }
          },
          "colorscale": {
           "diverging": [
            [
             0,
             "#8e0152"
            ],
            [
             0.1,
             "#c51b7d"
            ],
            [
             0.2,
             "#de77ae"
            ],
            [
             0.3,
             "#f1b6da"
            ],
            [
             0.4,
             "#fde0ef"
            ],
            [
             0.5,
             "#f7f7f7"
            ],
            [
             0.6,
             "#e6f5d0"
            ],
            [
             0.7,
             "#b8e186"
            ],
            [
             0.8,
             "#7fbc41"
            ],
            [
             0.9,
             "#4d9221"
            ],
            [
             1,
             "#276419"
            ]
           ],
           "sequential": [
            [
             0,
             "#0d0887"
            ],
            [
             0.1111111111111111,
             "#46039f"
            ],
            [
             0.2222222222222222,
             "#7201a8"
            ],
            [
             0.3333333333333333,
             "#9c179e"
            ],
            [
             0.4444444444444444,
             "#bd3786"
            ],
            [
             0.5555555555555556,
             "#d8576b"
            ],
            [
             0.6666666666666666,
             "#ed7953"
            ],
            [
             0.7777777777777778,
             "#fb9f3a"
            ],
            [
             0.8888888888888888,
             "#fdca26"
            ],
            [
             1,
             "#f0f921"
            ]
           ],
           "sequentialminus": [
            [
             0,
             "#0d0887"
            ],
            [
             0.1111111111111111,
             "#46039f"
            ],
            [
             0.2222222222222222,
             "#7201a8"
            ],
            [
             0.3333333333333333,
             "#9c179e"
            ],
            [
             0.4444444444444444,
             "#bd3786"
            ],
            [
             0.5555555555555556,
             "#d8576b"
            ],
            [
             0.6666666666666666,
             "#ed7953"
            ],
            [
             0.7777777777777778,
             "#fb9f3a"
            ],
            [
             0.8888888888888888,
             "#fdca26"
            ],
            [
             1,
             "#f0f921"
            ]
           ]
          },
          "colorway": [
           "#636efa",
           "#EF553B",
           "#00cc96",
           "#ab63fa",
           "#FFA15A",
           "#19d3f3",
           "#FF6692",
           "#B6E880",
           "#FF97FF",
           "#FECB52"
          ],
          "font": {
           "color": "#2a3f5f"
          },
          "geo": {
           "bgcolor": "white",
           "lakecolor": "white",
           "landcolor": "#E5ECF6",
           "showlakes": true,
           "showland": true,
           "subunitcolor": "white"
          },
          "hoverlabel": {
           "align": "left"
          },
          "hovermode": "closest",
          "mapbox": {
           "style": "light"
          },
          "paper_bgcolor": "white",
          "plot_bgcolor": "#E5ECF6",
          "polar": {
           "angularaxis": {
            "gridcolor": "white",
            "linecolor": "white",
            "ticks": ""
           },
           "bgcolor": "#E5ECF6",
           "radialaxis": {
            "gridcolor": "white",
            "linecolor": "white",
            "ticks": ""
           }
          },
          "scene": {
           "xaxis": {
            "backgroundcolor": "#E5ECF6",
            "gridcolor": "white",
            "gridwidth": 2,
            "linecolor": "white",
            "showbackground": true,
            "ticks": "",
            "zerolinecolor": "white"
           },
           "yaxis": {
            "backgroundcolor": "#E5ECF6",
            "gridcolor": "white",
            "gridwidth": 2,
            "linecolor": "white",
            "showbackground": true,
            "ticks": "",
            "zerolinecolor": "white"
           },
           "zaxis": {
            "backgroundcolor": "#E5ECF6",
            "gridcolor": "white",
            "gridwidth": 2,
            "linecolor": "white",
            "showbackground": true,
            "ticks": "",
            "zerolinecolor": "white"
           }
          },
          "shapedefaults": {
           "line": {
            "color": "#2a3f5f"
           }
          },
          "ternary": {
           "aaxis": {
            "gridcolor": "white",
            "linecolor": "white",
            "ticks": ""
           },
           "baxis": {
            "gridcolor": "white",
            "linecolor": "white",
            "ticks": ""
           },
           "bgcolor": "#E5ECF6",
           "caxis": {
            "gridcolor": "white",
            "linecolor": "white",
            "ticks": ""
           }
          },
          "title": {
           "x": 0.05
          },
          "xaxis": {
           "automargin": true,
           "gridcolor": "white",
           "linecolor": "white",
           "ticks": "",
           "title": {
            "standoff": 15
           },
           "zerolinecolor": "white",
           "zerolinewidth": 2
          },
          "yaxis": {
           "automargin": true,
           "gridcolor": "white",
           "linecolor": "white",
           "ticks": "",
           "title": {
            "standoff": 15
           },
           "zerolinecolor": "white",
           "zerolinewidth": 2
          }
         }
        },
        "title": {
         "text": "Continuous Signal"
        },
        "width": 1000,
        "xaxis": {
         "title": {
          "text": "Index"
         }
        },
        "yaxis": {
         "title": {
          "text": "Amplitude"
         }
        }
       }
      }
     },
     "metadata": {},
     "output_type": "display_data"
    },
    {
     "name": "stdout",
     "output_type": "stream",
     "text": [
      "after normalization\n"
     ]
    },
    {
     "data": {
      "application/vnd.plotly.v1+json": {
       "config": {
        "plotlyServerURL": "https://plot.ly"
       },
       "data": [
        {
         "mode": "lines",
         "name": "Continuous Signal",
         "type": "scatter",
         "y": [
          0.5354946453423576,
          0.6076405192423182,
          0.48555410661363996,
          0.5725144898330695,
          0.5924966695839647,
          0.43348685615862986,
          0.41953292732961384,
          0.46236683652538674,
          0.4769913003077358,
          0.5015422453878041,
          0.5182242611695503,
          0.5283438293104278,
          0.5401241799913402,
          0.544718281888845,
          0.5631478287257009,
          0.5846935263856424,
          0.6306150242081647,
          0.6653199998729216,
          0.6816022890961029,
          0.6918840976913121,
          0.7007919814634529,
          0.7064885370928395,
          0.705056974634577,
          0.6948621376241546,
          0.6810097402004572,
          0.7423594885030332,
          0.7881896280330717,
          0.18935714638793597,
          0,
          0.09334762002856445,
          0.24857722609754931,
          0.4816002147692387,
          0.5741167712035302,
          0.7399579024786682,
          0.865881030066411,
          0.9297055606378479,
          0.95446566169477,
          0.9420194193779869,
          0.9366975590771007,
          0.9195934546737622,
          0.9162110346127895,
          0.9410943256645777,
          0.9627254539440594,
          0.985217791114702,
          0.9969745735503434,
          1,
          0.982221404634621,
          0.9342860149430684,
          0.8721832987321858,
          0.789783413448867,
          0.7090424254621219,
          0.6342416091702533,
          0.5564085094005471,
          0.4937839342032236,
          0.4615887091183413,
          0.45300908628197,
          0.4524621317989505,
          0.461848860193755,
          0.4577574979288048,
          0.46807864118130077,
          0.48386129891535407,
          0.4842350005125001,
          0.48120931510963366,
          0.47508211369407394,
          0.46001781223829846,
          0.43561819531393425,
          0.42023988891318276,
          0.4231909001312009,
          0.4341201433906595,
          0.44039753886786803,
          0.4629176666890012,
          0.4807161333136503,
          0.4937490130487707,
          0.49994011989806003,
          0.5137079062889355,
          0.5316291473650168,
          0.5317112845598708,
          0.5346285399454079,
          0.519780554620752,
          0.514515812021564
         ]
        }
       ],
       "layout": {
        "height": 500,
        "template": {
         "data": {
          "bar": [
           {
            "error_x": {
             "color": "#2a3f5f"
            },
            "error_y": {
             "color": "#2a3f5f"
            },
            "marker": {
             "line": {
              "color": "#E5ECF6",
              "width": 0.5
             },
             "pattern": {
              "fillmode": "overlay",
              "size": 10,
              "solidity": 0.2
             }
            },
            "type": "bar"
           }
          ],
          "barpolar": [
           {
            "marker": {
             "line": {
              "color": "#E5ECF6",
              "width": 0.5
             },
             "pattern": {
              "fillmode": "overlay",
              "size": 10,
              "solidity": 0.2
             }
            },
            "type": "barpolar"
           }
          ],
          "carpet": [
           {
            "aaxis": {
             "endlinecolor": "#2a3f5f",
             "gridcolor": "white",
             "linecolor": "white",
             "minorgridcolor": "white",
             "startlinecolor": "#2a3f5f"
            },
            "baxis": {
             "endlinecolor": "#2a3f5f",
             "gridcolor": "white",
             "linecolor": "white",
             "minorgridcolor": "white",
             "startlinecolor": "#2a3f5f"
            },
            "type": "carpet"
           }
          ],
          "choropleth": [
           {
            "colorbar": {
             "outlinewidth": 0,
             "ticks": ""
            },
            "type": "choropleth"
           }
          ],
          "contour": [
           {
            "colorbar": {
             "outlinewidth": 0,
             "ticks": ""
            },
            "colorscale": [
             [
              0,
              "#0d0887"
             ],
             [
              0.1111111111111111,
              "#46039f"
             ],
             [
              0.2222222222222222,
              "#7201a8"
             ],
             [
              0.3333333333333333,
              "#9c179e"
             ],
             [
              0.4444444444444444,
              "#bd3786"
             ],
             [
              0.5555555555555556,
              "#d8576b"
             ],
             [
              0.6666666666666666,
              "#ed7953"
             ],
             [
              0.7777777777777778,
              "#fb9f3a"
             ],
             [
              0.8888888888888888,
              "#fdca26"
             ],
             [
              1,
              "#f0f921"
             ]
            ],
            "type": "contour"
           }
          ],
          "contourcarpet": [
           {
            "colorbar": {
             "outlinewidth": 0,
             "ticks": ""
            },
            "type": "contourcarpet"
           }
          ],
          "heatmap": [
           {
            "colorbar": {
             "outlinewidth": 0,
             "ticks": ""
            },
            "colorscale": [
             [
              0,
              "#0d0887"
             ],
             [
              0.1111111111111111,
              "#46039f"
             ],
             [
              0.2222222222222222,
              "#7201a8"
             ],
             [
              0.3333333333333333,
              "#9c179e"
             ],
             [
              0.4444444444444444,
              "#bd3786"
             ],
             [
              0.5555555555555556,
              "#d8576b"
             ],
             [
              0.6666666666666666,
              "#ed7953"
             ],
             [
              0.7777777777777778,
              "#fb9f3a"
             ],
             [
              0.8888888888888888,
              "#fdca26"
             ],
             [
              1,
              "#f0f921"
             ]
            ],
            "type": "heatmap"
           }
          ],
          "heatmapgl": [
           {
            "colorbar": {
             "outlinewidth": 0,
             "ticks": ""
            },
            "colorscale": [
             [
              0,
              "#0d0887"
             ],
             [
              0.1111111111111111,
              "#46039f"
             ],
             [
              0.2222222222222222,
              "#7201a8"
             ],
             [
              0.3333333333333333,
              "#9c179e"
             ],
             [
              0.4444444444444444,
              "#bd3786"
             ],
             [
              0.5555555555555556,
              "#d8576b"
             ],
             [
              0.6666666666666666,
              "#ed7953"
             ],
             [
              0.7777777777777778,
              "#fb9f3a"
             ],
             [
              0.8888888888888888,
              "#fdca26"
             ],
             [
              1,
              "#f0f921"
             ]
            ],
            "type": "heatmapgl"
           }
          ],
          "histogram": [
           {
            "marker": {
             "pattern": {
              "fillmode": "overlay",
              "size": 10,
              "solidity": 0.2
             }
            },
            "type": "histogram"
           }
          ],
          "histogram2d": [
           {
            "colorbar": {
             "outlinewidth": 0,
             "ticks": ""
            },
            "colorscale": [
             [
              0,
              "#0d0887"
             ],
             [
              0.1111111111111111,
              "#46039f"
             ],
             [
              0.2222222222222222,
              "#7201a8"
             ],
             [
              0.3333333333333333,
              "#9c179e"
             ],
             [
              0.4444444444444444,
              "#bd3786"
             ],
             [
              0.5555555555555556,
              "#d8576b"
             ],
             [
              0.6666666666666666,
              "#ed7953"
             ],
             [
              0.7777777777777778,
              "#fb9f3a"
             ],
             [
              0.8888888888888888,
              "#fdca26"
             ],
             [
              1,
              "#f0f921"
             ]
            ],
            "type": "histogram2d"
           }
          ],
          "histogram2dcontour": [
           {
            "colorbar": {
             "outlinewidth": 0,
             "ticks": ""
            },
            "colorscale": [
             [
              0,
              "#0d0887"
             ],
             [
              0.1111111111111111,
              "#46039f"
             ],
             [
              0.2222222222222222,
              "#7201a8"
             ],
             [
              0.3333333333333333,
              "#9c179e"
             ],
             [
              0.4444444444444444,
              "#bd3786"
             ],
             [
              0.5555555555555556,
              "#d8576b"
             ],
             [
              0.6666666666666666,
              "#ed7953"
             ],
             [
              0.7777777777777778,
              "#fb9f3a"
             ],
             [
              0.8888888888888888,
              "#fdca26"
             ],
             [
              1,
              "#f0f921"
             ]
            ],
            "type": "histogram2dcontour"
           }
          ],
          "mesh3d": [
           {
            "colorbar": {
             "outlinewidth": 0,
             "ticks": ""
            },
            "type": "mesh3d"
           }
          ],
          "parcoords": [
           {
            "line": {
             "colorbar": {
              "outlinewidth": 0,
              "ticks": ""
             }
            },
            "type": "parcoords"
           }
          ],
          "pie": [
           {
            "automargin": true,
            "type": "pie"
           }
          ],
          "scatter": [
           {
            "fillpattern": {
             "fillmode": "overlay",
             "size": 10,
             "solidity": 0.2
            },
            "type": "scatter"
           }
          ],
          "scatter3d": [
           {
            "line": {
             "colorbar": {
              "outlinewidth": 0,
              "ticks": ""
             }
            },
            "marker": {
             "colorbar": {
              "outlinewidth": 0,
              "ticks": ""
             }
            },
            "type": "scatter3d"
           }
          ],
          "scattercarpet": [
           {
            "marker": {
             "colorbar": {
              "outlinewidth": 0,
              "ticks": ""
             }
            },
            "type": "scattercarpet"
           }
          ],
          "scattergeo": [
           {
            "marker": {
             "colorbar": {
              "outlinewidth": 0,
              "ticks": ""
             }
            },
            "type": "scattergeo"
           }
          ],
          "scattergl": [
           {
            "marker": {
             "colorbar": {
              "outlinewidth": 0,
              "ticks": ""
             }
            },
            "type": "scattergl"
           }
          ],
          "scattermapbox": [
           {
            "marker": {
             "colorbar": {
              "outlinewidth": 0,
              "ticks": ""
             }
            },
            "type": "scattermapbox"
           }
          ],
          "scatterpolar": [
           {
            "marker": {
             "colorbar": {
              "outlinewidth": 0,
              "ticks": ""
             }
            },
            "type": "scatterpolar"
           }
          ],
          "scatterpolargl": [
           {
            "marker": {
             "colorbar": {
              "outlinewidth": 0,
              "ticks": ""
             }
            },
            "type": "scatterpolargl"
           }
          ],
          "scatterternary": [
           {
            "marker": {
             "colorbar": {
              "outlinewidth": 0,
              "ticks": ""
             }
            },
            "type": "scatterternary"
           }
          ],
          "surface": [
           {
            "colorbar": {
             "outlinewidth": 0,
             "ticks": ""
            },
            "colorscale": [
             [
              0,
              "#0d0887"
             ],
             [
              0.1111111111111111,
              "#46039f"
             ],
             [
              0.2222222222222222,
              "#7201a8"
             ],
             [
              0.3333333333333333,
              "#9c179e"
             ],
             [
              0.4444444444444444,
              "#bd3786"
             ],
             [
              0.5555555555555556,
              "#d8576b"
             ],
             [
              0.6666666666666666,
              "#ed7953"
             ],
             [
              0.7777777777777778,
              "#fb9f3a"
             ],
             [
              0.8888888888888888,
              "#fdca26"
             ],
             [
              1,
              "#f0f921"
             ]
            ],
            "type": "surface"
           }
          ],
          "table": [
           {
            "cells": {
             "fill": {
              "color": "#EBF0F8"
             },
             "line": {
              "color": "white"
             }
            },
            "header": {
             "fill": {
              "color": "#C8D4E3"
             },
             "line": {
              "color": "white"
             }
            },
            "type": "table"
           }
          ]
         },
         "layout": {
          "annotationdefaults": {
           "arrowcolor": "#2a3f5f",
           "arrowhead": 0,
           "arrowwidth": 1
          },
          "autotypenumbers": "strict",
          "coloraxis": {
           "colorbar": {
            "outlinewidth": 0,
            "ticks": ""
           }
          },
          "colorscale": {
           "diverging": [
            [
             0,
             "#8e0152"
            ],
            [
             0.1,
             "#c51b7d"
            ],
            [
             0.2,
             "#de77ae"
            ],
            [
             0.3,
             "#f1b6da"
            ],
            [
             0.4,
             "#fde0ef"
            ],
            [
             0.5,
             "#f7f7f7"
            ],
            [
             0.6,
             "#e6f5d0"
            ],
            [
             0.7,
             "#b8e186"
            ],
            [
             0.8,
             "#7fbc41"
            ],
            [
             0.9,
             "#4d9221"
            ],
            [
             1,
             "#276419"
            ]
           ],
           "sequential": [
            [
             0,
             "#0d0887"
            ],
            [
             0.1111111111111111,
             "#46039f"
            ],
            [
             0.2222222222222222,
             "#7201a8"
            ],
            [
             0.3333333333333333,
             "#9c179e"
            ],
            [
             0.4444444444444444,
             "#bd3786"
            ],
            [
             0.5555555555555556,
             "#d8576b"
            ],
            [
             0.6666666666666666,
             "#ed7953"
            ],
            [
             0.7777777777777778,
             "#fb9f3a"
            ],
            [
             0.8888888888888888,
             "#fdca26"
            ],
            [
             1,
             "#f0f921"
            ]
           ],
           "sequentialminus": [
            [
             0,
             "#0d0887"
            ],
            [
             0.1111111111111111,
             "#46039f"
            ],
            [
             0.2222222222222222,
             "#7201a8"
            ],
            [
             0.3333333333333333,
             "#9c179e"
            ],
            [
             0.4444444444444444,
             "#bd3786"
            ],
            [
             0.5555555555555556,
             "#d8576b"
            ],
            [
             0.6666666666666666,
             "#ed7953"
            ],
            [
             0.7777777777777778,
             "#fb9f3a"
            ],
            [
             0.8888888888888888,
             "#fdca26"
            ],
            [
             1,
             "#f0f921"
            ]
           ]
          },
          "colorway": [
           "#636efa",
           "#EF553B",
           "#00cc96",
           "#ab63fa",
           "#FFA15A",
           "#19d3f3",
           "#FF6692",
           "#B6E880",
           "#FF97FF",
           "#FECB52"
          ],
          "font": {
           "color": "#2a3f5f"
          },
          "geo": {
           "bgcolor": "white",
           "lakecolor": "white",
           "landcolor": "#E5ECF6",
           "showlakes": true,
           "showland": true,
           "subunitcolor": "white"
          },
          "hoverlabel": {
           "align": "left"
          },
          "hovermode": "closest",
          "mapbox": {
           "style": "light"
          },
          "paper_bgcolor": "white",
          "plot_bgcolor": "#E5ECF6",
          "polar": {
           "angularaxis": {
            "gridcolor": "white",
            "linecolor": "white",
            "ticks": ""
           },
           "bgcolor": "#E5ECF6",
           "radialaxis": {
            "gridcolor": "white",
            "linecolor": "white",
            "ticks": ""
           }
          },
          "scene": {
           "xaxis": {
            "backgroundcolor": "#E5ECF6",
            "gridcolor": "white",
            "gridwidth": 2,
            "linecolor": "white",
            "showbackground": true,
            "ticks": "",
            "zerolinecolor": "white"
           },
           "yaxis": {
            "backgroundcolor": "#E5ECF6",
            "gridcolor": "white",
            "gridwidth": 2,
            "linecolor": "white",
            "showbackground": true,
            "ticks": "",
            "zerolinecolor": "white"
           },
           "zaxis": {
            "backgroundcolor": "#E5ECF6",
            "gridcolor": "white",
            "gridwidth": 2,
            "linecolor": "white",
            "showbackground": true,
            "ticks": "",
            "zerolinecolor": "white"
           }
          },
          "shapedefaults": {
           "line": {
            "color": "#2a3f5f"
           }
          },
          "ternary": {
           "aaxis": {
            "gridcolor": "white",
            "linecolor": "white",
            "ticks": ""
           },
           "baxis": {
            "gridcolor": "white",
            "linecolor": "white",
            "ticks": ""
           },
           "bgcolor": "#E5ECF6",
           "caxis": {
            "gridcolor": "white",
            "linecolor": "white",
            "ticks": ""
           }
          },
          "title": {
           "x": 0.05
          },
          "xaxis": {
           "automargin": true,
           "gridcolor": "white",
           "linecolor": "white",
           "ticks": "",
           "title": {
            "standoff": 15
           },
           "zerolinecolor": "white",
           "zerolinewidth": 2
          },
          "yaxis": {
           "automargin": true,
           "gridcolor": "white",
           "linecolor": "white",
           "ticks": "",
           "title": {
            "standoff": 15
           },
           "zerolinecolor": "white",
           "zerolinewidth": 2
          }
         }
        },
        "title": {
         "text": "Continuous Signal"
        },
        "width": 1000,
        "xaxis": {
         "title": {
          "text": "Index"
         }
        },
        "yaxis": {
         "title": {
          "text": "Amplitude"
         }
        }
       }
      }
     },
     "metadata": {},
     "output_type": "display_data"
    },
    {
     "name": "stdout",
     "output_type": "stream",
     "text": [
      "The signal in this file is classified as: PVC\n"
     ]
    }
   ],
   "source": [
    "test_file_path = f\"{dirPath}/PVCECGSig_150.txt\"\n",
    "result = predict_signal_from_file(test_file_path, knn)\n",
    "print(f\"The signal in this file is classified as: {result}\")"
   ]
  }
 ],
 "metadata": {
  "kaggle": {
   "accelerator": "none",
   "dataSources": [
    {
     "datasetId": 6354975,
     "sourceId": 10271132,
     "sourceType": "datasetVersion"
    }
   ],
   "dockerImageVersionId": 30822,
   "isGpuEnabled": false,
   "isInternetEnabled": false,
   "language": "python",
   "sourceType": "notebook"
  },
  "kernelspec": {
   "display_name": "Python 3",
   "language": "python",
   "name": "python3"
  },
  "language_info": {
   "codemirror_mode": {
    "name": "ipython",
    "version": 3
   },
   "file_extension": ".py",
   "mimetype": "text/x-python",
   "name": "python",
   "nbconvert_exporter": "python",
   "pygments_lexer": "ipython3",
   "version": "3.10.12"
  },
  "papermill": {
   "default_parameters": {},
   "duration": 6.84012,
   "end_time": "2024-12-22T18:17:15.094832",
   "environment_variables": {},
   "exception": null,
   "input_path": "__notebook__.ipynb",
   "output_path": "__notebook__.ipynb",
   "parameters": {},
   "start_time": "2024-12-22T18:17:08.254712",
   "version": "2.6.0"
  }
 },
 "nbformat": 4,
 "nbformat_minor": 5
}
